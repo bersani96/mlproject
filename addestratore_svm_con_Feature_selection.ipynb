{
  "nbformat": 4,
  "nbformat_minor": 0,
  "metadata": {
    "colab": {
      "name": "addestratore_svm con Feature selection.ipynb",
      "provenance": [],
      "collapsed_sections": []
    },
    "kernelspec": {
      "name": "python3",
      "display_name": "Python 3"
    },
    "accelerator": "GPU"
  },
  "cells": [
    {
      "cell_type": "markdown",
      "metadata": {
        "id": "tOw3296UUMhg",
        "colab_type": "text"
      },
      "source": [
        "Parte addestramento della svm"
      ]
    },
    {
      "cell_type": "code",
      "metadata": {
        "id": "r_gTGpi5RoQJ",
        "colab_type": "code",
        "outputId": "015bd5d6-f141-42b0-cf3f-612df2ea7460",
        "colab": {
          "base_uri": "https://localhost:8080/",
          "height": 128
        }
      },
      "source": [
        "from google.colab import drive\n",
        "drive.mount('/content/drive')"
      ],
      "execution_count": 1,
      "outputs": [
        {
          "output_type": "stream",
          "text": [
            "Go to this URL in a browser: https://accounts.google.com/o/oauth2/auth?client_id=947318989803-6bn6qk8qdgf4n4g3pfee6491hc0brc4i.apps.googleusercontent.com&redirect_uri=urn%3aietf%3awg%3aoauth%3a2.0%3aoob&response_type=code&scope=email%20https%3a%2f%2fwww.googleapis.com%2fauth%2fdocs.test%20https%3a%2f%2fwww.googleapis.com%2fauth%2fdrive%20https%3a%2f%2fwww.googleapis.com%2fauth%2fdrive.photos.readonly%20https%3a%2f%2fwww.googleapis.com%2fauth%2fpeopleapi.readonly\n",
            "\n",
            "Enter your authorization code:\n",
            "··········\n",
            "Mounted at /content/drive\n"
          ],
          "name": "stdout"
        }
      ]
    },
    {
      "cell_type": "code",
      "metadata": {
        "id": "_Tp-DyKIUITp",
        "colab_type": "code",
        "colab": {}
      },
      "source": [
        "from sklearn.model_selection import train_test_split\n",
        "from sklearn import svm\n",
        "from sklearn import metrics\n",
        "import numpy as np\n",
        "import scipy\n",
        "from scipy import optimize\n",
        "from sklearn.model_selection import GridSearchCV\n",
        "from sklearn.metrics import classification_report\n",
        "from sklearn.svm import SVC"
      ],
      "execution_count": 0,
      "outputs": []
    },
    {
      "cell_type": "code",
      "metadata": {
        "id": "1GLF2MuYCJL7",
        "colab_type": "code",
        "outputId": "609bfc84-777a-45cf-c34a-c14701ac7d48",
        "colab": {
          "base_uri": "https://localhost:8080/",
          "height": 35
        }
      },
      "source": [
        "#da cambiare con nuova destinazione su drive Davide\n",
        "%cd \"/content/drive/My Drive/universita/progetto ml/\"\n",
        "filein = \"vettori.csv\"\n",
        "\n",
        "df = np.genfromtxt(filein, delimiter=',', skip_header=1, filling_values=-999, dtype='float', usecols=[0,1,2,3,4,5,6,7,8,9,10,11,12,13,14,15,16,17,18,19])\n",
        "X = df[:,0:18]\n",
        "Y = df[:,19]\n"
      ],
      "execution_count": 3,
      "outputs": [
        {
          "output_type": "stream",
          "text": [
            "/content/drive/My Drive/universita/progetto ml\n"
          ],
          "name": "stdout"
        }
      ]
    },
    {
      "cell_type": "markdown",
      "metadata": {
        "id": "c4fDOPzIbs4P",
        "colab_type": "text"
      },
      "source": [
        "# Feature Selection"
      ]
    },
    {
      "cell_type": "code",
      "metadata": {
        "id": "y7XgKeGdbvyl",
        "colab_type": "code",
        "colab": {
          "base_uri": "https://localhost:8080/",
          "height": 335
        },
        "outputId": "ad244ac4-4e32-489a-92b9-86052d1a8363"
      },
      "source": [
        "# Recursive Feature Elimination\n",
        "from sklearn.model_selection import StratifiedKFold\n",
        "from sklearn.feature_selection import RFECV\n",
        "from sklearn import svm\n",
        "from sklearn.svm import SVC\n",
        "import matplotlib.pyplot as plt\n",
        "from sklearn.ensemble import RandomForestClassifier\n",
        "\n",
        "class RandomForestClassifierWithCoef(RandomForestClassifier):\n",
        "    def fit(self, *args, **kwargs):\n",
        "        super(RandomForestClassifierWithCoef, self).fit(*args, **kwargs)\n",
        "        self.coef_ = self.feature_importances_\n",
        "\n",
        "feature_names=[\"Pag. taggate nella didascalia\",\"Pag. taggate nella foto\",\"Business account\",\"Geolocalizzazione\",\"Score persona\",\"X1 persona\",\"Y1 persona\",\"X2 persona\",\"Y2 persona\",\"Score borsa\",\"X1 borsa\",\"Y1 borsa\",\"X2 borsa\",\"Y2 borsa\",\"Score orologio\",\"X1 orologio\",\"Y1 orologio\",\"X2 orologio\",\"Y2 orologio\",\"Pubblicitario\"]\n",
        "# create a base classifier used to evaluate a subset of attributes\n",
        "#model = svm.SVC(kernel='linear')\n",
        "model = RandomForestClassifierWithCoef(n_estimators=500, min_samples_leaf=5, n_jobs=-1)\n",
        "# The \"accuracy\" scoring is proportional to the number of correct\n",
        "# classifications\n",
        "rfecv = RFECV(estimator=model, step=1, cv=StratifiedKFold(2),scoring='accuracy')\n",
        "rfecv.fit(X,Y)\n",
        "\n",
        "print(\"Optimal number of features : %d\" % rfecv.n_features_)\n",
        "plt.figure()\n",
        "plt.xlabel(\"Number of features selected\")\n",
        "plt.ylabel(\"Cross validation score (nb of correct classifications)\")\n",
        "plt.plot(range(1, len(rfecv.grid_scores_) + 1), rfecv.grid_scores_)\n",
        "plt.show()\n",
        "result = np.where(rfecv.support_ == True)\n",
        "print(\"Feature selezionate: \" + str(result[0]))"
      ],
      "execution_count": 8,
      "outputs": [
        {
          "output_type": "stream",
          "text": [
            "Optimal number of features : 12\n"
          ],
          "name": "stdout"
        },
        {
          "output_type": "display_data",
          "data": {
            "image/png": "[encoded data removed]",
            "text/plain": [
              "<Figure size 432x288 with 1 Axes>"
            ]
          },
          "metadata": {
            "tags": []
          }
        },
        {
          "output_type": "stream",
          "text": [
            "Feature selezionate: [ 0  1  2  4  5  6  7  8  9 10 11 12]\n"
          ],
          "name": "stdout"
        }
      ]
    },
    {
      "cell_type": "code",
      "metadata": {
        "id": "hdGKgpxPKF9F",
        "colab_type": "code",
        "colab": {
          "base_uri": "https://localhost:8080/",
          "height": 235
        },
        "outputId": "4dfa9bca-ffcb-4dca-e652-7a8e7936dd32"
      },
      "source": [
        "for i in result[0]:\n",
        "  print(feature_names[i])"
      ],
      "execution_count": 9,
      "outputs": [
        {
          "output_type": "stream",
          "text": [
            "Pag. taggate nella didascalia\n",
            "Pag. taggate nella foto\n",
            "Business account\n",
            "Score persona\n",
            "X1 persona\n",
            "Y1 persona\n",
            "X2 persona\n",
            "Y2 persona\n",
            "Score borsa\n",
            "X1 borsa\n",
            "Y1 borsa\n",
            "X2 borsa\n"
          ],
          "name": "stdout"
        }
      ]
    },
    {
      "cell_type": "markdown",
      "metadata": {
        "id": "HHBb4O0bb-Zs",
        "colab_type": "text"
      },
      "source": [
        "#Addestramento"
      ]
    },
    {
      "cell_type": "code",
      "metadata": {
        "id": "HejZ_d3xJY1A",
        "colab_type": "code",
        "outputId": "f5066da8-4b9f-45ac-a2b8-7cfbc74e393b",
        "colab": {
          "base_uri": "https://localhost:8080/",
          "height": 90
        }
      },
      "source": [
        "# Ricarico il dataset mantenendo solo le feature selezionate\n",
        "X=df[:,result[0]]\n",
        "\n",
        "#divido il dataset in training e test set\n",
        "X_train, X_test, y_train, y_test = train_test_split(X, Y, test_size=0.3,random_state=109) # 70% training and 30% test\n",
        "\n",
        "print(X_train.shape)\n",
        "print(X_test.shape)\n",
        "print(y_train.shape)\n",
        "print(y_test.shape)"
      ],
      "execution_count": 13,
      "outputs": [
        {
          "output_type": "stream",
          "text": [
            "(277, 12)\n",
            "(120, 12)\n",
            "(277,)\n",
            "(120,)\n"
          ],
          "name": "stdout"
        }
      ]
    },
    {
      "cell_type": "code",
      "metadata": {
        "id": "p6LdkyqMxEqo",
        "colab_type": "code",
        "outputId": "0caf1dab-c233-4812-f912-8f1a2741da87",
        "colab": {
          "base_uri": "https://localhost:8080/",
          "height": 1000
        }
      },
      "source": [
        "tuned_parameters = [{'kernel': ['rbf'], 'gamma': [1e-1, 1e-6], 'C': [1, 10, 100, 1000]},\n",
        "                    {'kernel': ['linear'], 'C': [1, 10, 100, 1000]},\n",
        "                    {'kernel': ['poly'], 'gamma': [1e-1, 1e-6], 'C': [1, 10, 100, 1000]},\n",
        "                    {'kernel': ['sigmoid'], 'gamma': [1e-1, 1e-6], 'C': [1, 10, 100, 1000]}]\n",
        "\n",
        "scores = ['precision', 'recall']\n",
        "\n",
        "for score in scores:\n",
        "    print(\"# Tuning hyper-parameters for %s\" % score)\n",
        "    print()\n",
        "\n",
        "    clf = GridSearchCV(\n",
        "        SVC(), tuned_parameters, scoring='%s_macro' % score\n",
        "    )\n",
        "    clf.fit(X_train, y_train)\n",
        "\n",
        "    print(\"Best parameters set found on development set:\")\n",
        "    print()\n",
        "    print(clf.best_params_)\n",
        "    print()\n",
        "    print(\"Grid scores on development set:\")\n",
        "    print()\n",
        "    means = clf.cv_results_['mean_test_score']\n",
        "    stds = clf.cv_results_['std_test_score']\n",
        "    for mean, std, params in zip(means, stds, clf.cv_results_['params']):\n",
        "        print(\"%0.3f (+/-%0.03f) for %r\"\n",
        "              % (mean, std * 2, params))\n",
        "    print()\n",
        "\n",
        "    print(\"Detailed classification report:\")\n",
        "    print()\n",
        "    print(\"The model is trained on the full development set.\")\n",
        "    print(\"The scores are computed on the full evaluation set.\")\n",
        "    print()\n",
        "    y_true, y_pred = y_test, clf.predict(X_test)\n",
        "    print(classification_report(y_true, y_pred))\n",
        "    print()\n",
        "    print()\n",
        "    print(clf.best_params_.get('C'))"
      ],
      "execution_count": 14,
      "outputs": [
        {
          "output_type": "stream",
          "text": [
            "# Tuning hyper-parameters for precision\n",
            "\n"
          ],
          "name": "stdout"
        },
        {
          "output_type": "stream",
          "text": [
            "/usr/local/lib/python3.6/dist-packages/sklearn/metrics/_classification.py:1272: UndefinedMetricWarning: Precision is ill-defined and being set to 0.0 in labels with no predicted samples. Use `zero_division` parameter to control this behavior.\n",
            "  _warn_prf(average, modifier, msg_start, len(result))\n",
            "/usr/local/lib/python3.6/dist-packages/sklearn/metrics/_classification.py:1272: UndefinedMetricWarning: Precision is ill-defined and being set to 0.0 in labels with no predicted samples. Use `zero_division` parameter to control this behavior.\n",
            "  _warn_prf(average, modifier, msg_start, len(result))\n",
            "/usr/local/lib/python3.6/dist-packages/sklearn/metrics/_classification.py:1272: UndefinedMetricWarning: Precision is ill-defined and being set to 0.0 in labels with no predicted samples. Use `zero_division` parameter to control this behavior.\n",
            "  _warn_prf(average, modifier, msg_start, len(result))\n",
            "/usr/local/lib/python3.6/dist-packages/sklearn/metrics/_classification.py:1272: UndefinedMetricWarning: Precision is ill-defined and being set to 0.0 in labels with no predicted samples. Use `zero_division` parameter to control this behavior.\n",
            "  _warn_prf(average, modifier, msg_start, len(result))\n",
            "/usr/local/lib/python3.6/dist-packages/sklearn/metrics/_classification.py:1272: UndefinedMetricWarning: Precision is ill-defined and being set to 0.0 in labels with no predicted samples. Use `zero_division` parameter to control this behavior.\n",
            "  _warn_prf(average, modifier, msg_start, len(result))\n",
            "/usr/local/lib/python3.6/dist-packages/sklearn/metrics/_classification.py:1272: UndefinedMetricWarning: Precision is ill-defined and being set to 0.0 in labels with no predicted samples. Use `zero_division` parameter to control this behavior.\n",
            "  _warn_prf(average, modifier, msg_start, len(result))\n",
            "/usr/local/lib/python3.6/dist-packages/sklearn/metrics/_classification.py:1272: UndefinedMetricWarning: Precision is ill-defined and being set to 0.0 in labels with no predicted samples. Use `zero_division` parameter to control this behavior.\n",
            "  _warn_prf(average, modifier, msg_start, len(result))\n",
            "/usr/local/lib/python3.6/dist-packages/sklearn/metrics/_classification.py:1272: UndefinedMetricWarning: Precision is ill-defined and being set to 0.0 in labels with no predicted samples. Use `zero_division` parameter to control this behavior.\n",
            "  _warn_prf(average, modifier, msg_start, len(result))\n",
            "/usr/local/lib/python3.6/dist-packages/sklearn/metrics/_classification.py:1272: UndefinedMetricWarning: Precision is ill-defined and being set to 0.0 in labels with no predicted samples. Use `zero_division` parameter to control this behavior.\n",
            "  _warn_prf(average, modifier, msg_start, len(result))\n",
            "/usr/local/lib/python3.6/dist-packages/sklearn/metrics/_classification.py:1272: UndefinedMetricWarning: Precision is ill-defined and being set to 0.0 in labels with no predicted samples. Use `zero_division` parameter to control this behavior.\n",
            "  _warn_prf(average, modifier, msg_start, len(result))\n",
            "/usr/local/lib/python3.6/dist-packages/sklearn/metrics/_classification.py:1272: UndefinedMetricWarning: Precision is ill-defined and being set to 0.0 in labels with no predicted samples. Use `zero_division` parameter to control this behavior.\n",
            "  _warn_prf(average, modifier, msg_start, len(result))\n",
            "/usr/local/lib/python3.6/dist-packages/sklearn/metrics/_classification.py:1272: UndefinedMetricWarning: Precision is ill-defined and being set to 0.0 in labels with no predicted samples. Use `zero_division` parameter to control this behavior.\n",
            "  _warn_prf(average, modifier, msg_start, len(result))\n",
            "/usr/local/lib/python3.6/dist-packages/sklearn/metrics/_classification.py:1272: UndefinedMetricWarning: Precision is ill-defined and being set to 0.0 in labels with no predicted samples. Use `zero_division` parameter to control this behavior.\n",
            "  _warn_prf(average, modifier, msg_start, len(result))\n",
            "/usr/local/lib/python3.6/dist-packages/sklearn/metrics/_classification.py:1272: UndefinedMetricWarning: Precision is ill-defined and being set to 0.0 in labels with no predicted samples. Use `zero_division` parameter to control this behavior.\n",
            "  _warn_prf(average, modifier, msg_start, len(result))\n",
            "/usr/local/lib/python3.6/dist-packages/sklearn/metrics/_classification.py:1272: UndefinedMetricWarning: Precision is ill-defined and being set to 0.0 in labels with no predicted samples. Use `zero_division` parameter to control this behavior.\n",
            "  _warn_prf(average, modifier, msg_start, len(result))\n",
            "/usr/local/lib/python3.6/dist-packages/sklearn/metrics/_classification.py:1272: UndefinedMetricWarning: Precision is ill-defined and being set to 0.0 in labels with no predicted samples. Use `zero_division` parameter to control this behavior.\n",
            "  _warn_prf(average, modifier, msg_start, len(result))\n",
            "/usr/local/lib/python3.6/dist-packages/sklearn/metrics/_classification.py:1272: UndefinedMetricWarning: Precision is ill-defined and being set to 0.0 in labels with no predicted samples. Use `zero_division` parameter to control this behavior.\n",
            "  _warn_prf(average, modifier, msg_start, len(result))\n",
            "/usr/local/lib/python3.6/dist-packages/sklearn/metrics/_classification.py:1272: UndefinedMetricWarning: Precision is ill-defined and being set to 0.0 in labels with no predicted samples. Use `zero_division` parameter to control this behavior.\n",
            "  _warn_prf(average, modifier, msg_start, len(result))\n",
            "/usr/local/lib/python3.6/dist-packages/sklearn/metrics/_classification.py:1272: UndefinedMetricWarning: Precision is ill-defined and being set to 0.0 in labels with no predicted samples. Use `zero_division` parameter to control this behavior.\n",
            "  _warn_prf(average, modifier, msg_start, len(result))\n",
            "/usr/local/lib/python3.6/dist-packages/sklearn/metrics/_classification.py:1272: UndefinedMetricWarning: Precision is ill-defined and being set to 0.0 in labels with no predicted samples. Use `zero_division` parameter to control this behavior.\n",
            "  _warn_prf(average, modifier, msg_start, len(result))\n",
            "/usr/local/lib/python3.6/dist-packages/sklearn/metrics/_classification.py:1272: UndefinedMetricWarning: Precision is ill-defined and being set to 0.0 in labels with no predicted samples. Use `zero_division` parameter to control this behavior.\n",
            "  _warn_prf(average, modifier, msg_start, len(result))\n",
            "/usr/local/lib/python3.6/dist-packages/sklearn/metrics/_classification.py:1272: UndefinedMetricWarning: Precision is ill-defined and being set to 0.0 in labels with no predicted samples. Use `zero_division` parameter to control this behavior.\n",
            "  _warn_prf(average, modifier, msg_start, len(result))\n",
            "/usr/local/lib/python3.6/dist-packages/sklearn/metrics/_classification.py:1272: UndefinedMetricWarning: Precision is ill-defined and being set to 0.0 in labels with no predicted samples. Use `zero_division` parameter to control this behavior.\n",
            "  _warn_prf(average, modifier, msg_start, len(result))\n",
            "/usr/local/lib/python3.6/dist-packages/sklearn/metrics/_classification.py:1272: UndefinedMetricWarning: Precision is ill-defined and being set to 0.0 in labels with no predicted samples. Use `zero_division` parameter to control this behavior.\n",
            "  _warn_prf(average, modifier, msg_start, len(result))\n",
            "/usr/local/lib/python3.6/dist-packages/sklearn/metrics/_classification.py:1272: UndefinedMetricWarning: Precision is ill-defined and being set to 0.0 in labels with no predicted samples. Use `zero_division` parameter to control this behavior.\n",
            "  _warn_prf(average, modifier, msg_start, len(result))\n",
            "/usr/local/lib/python3.6/dist-packages/sklearn/metrics/_classification.py:1272: UndefinedMetricWarning: Precision is ill-defined and being set to 0.0 in labels with no predicted samples. Use `zero_division` parameter to control this behavior.\n",
            "  _warn_prf(average, modifier, msg_start, len(result))\n",
            "/usr/local/lib/python3.6/dist-packages/sklearn/metrics/_classification.py:1272: UndefinedMetricWarning: Precision is ill-defined and being set to 0.0 in labels with no predicted samples. Use `zero_division` parameter to control this behavior.\n",
            "  _warn_prf(average, modifier, msg_start, len(result))\n",
            "/usr/local/lib/python3.6/dist-packages/sklearn/metrics/_classification.py:1272: UndefinedMetricWarning: Precision is ill-defined and being set to 0.0 in labels with no predicted samples. Use `zero_division` parameter to control this behavior.\n",
            "  _warn_prf(average, modifier, msg_start, len(result))\n",
            "/usr/local/lib/python3.6/dist-packages/sklearn/metrics/_classification.py:1272: UndefinedMetricWarning: Precision is ill-defined and being set to 0.0 in labels with no predicted samples. Use `zero_division` parameter to control this behavior.\n",
            "  _warn_prf(average, modifier, msg_start, len(result))\n",
            "/usr/local/lib/python3.6/dist-packages/sklearn/metrics/_classification.py:1272: UndefinedMetricWarning: Precision is ill-defined and being set to 0.0 in labels with no predicted samples. Use `zero_division` parameter to control this behavior.\n",
            "  _warn_prf(average, modifier, msg_start, len(result))\n",
            "/usr/local/lib/python3.6/dist-packages/sklearn/metrics/_classification.py:1272: UndefinedMetricWarning: Precision is ill-defined and being set to 0.0 in labels with no predicted samples. Use `zero_division` parameter to control this behavior.\n",
            "  _warn_prf(average, modifier, msg_start, len(result))\n",
            "/usr/local/lib/python3.6/dist-packages/sklearn/metrics/_classification.py:1272: UndefinedMetricWarning: Precision is ill-defined and being set to 0.0 in labels with no predicted samples. Use `zero_division` parameter to control this behavior.\n",
            "  _warn_prf(average, modifier, msg_start, len(result))\n",
            "/usr/local/lib/python3.6/dist-packages/sklearn/metrics/_classification.py:1272: UndefinedMetricWarning: Precision is ill-defined and being set to 0.0 in labels with no predicted samples. Use `zero_division` parameter to control this behavior.\n",
            "  _warn_prf(average, modifier, msg_start, len(result))\n",
            "/usr/local/lib/python3.6/dist-packages/sklearn/metrics/_classification.py:1272: UndefinedMetricWarning: Precision is ill-defined and being set to 0.0 in labels with no predicted samples. Use `zero_division` parameter to control this behavior.\n",
            "  _warn_prf(average, modifier, msg_start, len(result))\n"
          ],
          "name": "stderr"
        },
        {
          "output_type": "stream",
          "text": [
            "Best parameters set found on development set:\n",
            "\n",
            "{'C': 1, 'gamma': 0.1, 'kernel': 'poly'}\n",
            "\n",
            "Grid scores on development set:\n",
            "\n",
            "0.821 (+/-0.110) for {'C': 1, 'gamma': 0.1, 'kernel': 'rbf'}\n",
            "0.447 (+/-0.486) for {'C': 1, 'gamma': 1e-06, 'kernel': 'rbf'}\n",
            "0.827 (+/-0.083) for {'C': 10, 'gamma': 0.1, 'kernel': 'rbf'}\n",
            "0.447 (+/-0.486) for {'C': 10, 'gamma': 1e-06, 'kernel': 'rbf'}\n",
            "0.828 (+/-0.046) for {'C': 100, 'gamma': 0.1, 'kernel': 'rbf'}\n",
            "0.447 (+/-0.486) for {'C': 100, 'gamma': 1e-06, 'kernel': 'rbf'}\n",
            "0.805 (+/-0.087) for {'C': 1000, 'gamma': 0.1, 'kernel': 'rbf'}\n",
            "0.701 (+/-0.095) for {'C': 1000, 'gamma': 1e-06, 'kernel': 'rbf'}\n",
            "0.813 (+/-0.095) for {'C': 1, 'kernel': 'linear'}\n",
            "0.809 (+/-0.094) for {'C': 10, 'kernel': 'linear'}\n",
            "0.805 (+/-0.097) for {'C': 100, 'kernel': 'linear'}\n",
            "0.809 (+/-0.094) for {'C': 1000, 'kernel': 'linear'}\n",
            "0.847 (+/-0.042) for {'C': 1, 'gamma': 0.1, 'kernel': 'poly'}\n",
            "0.350 (+/-0.410) for {'C': 1, 'gamma': 1e-06, 'kernel': 'poly'}\n",
            "0.840 (+/-0.046) for {'C': 10, 'gamma': 0.1, 'kernel': 'poly'}\n",
            "0.350 (+/-0.410) for {'C': 10, 'gamma': 1e-06, 'kernel': 'poly'}\n",
            "0.832 (+/-0.049) for {'C': 100, 'gamma': 0.1, 'kernel': 'poly'}\n",
            "0.350 (+/-0.410) for {'C': 100, 'gamma': 1e-06, 'kernel': 'poly'}\n",
            "0.791 (+/-0.097) for {'C': 1000, 'gamma': 0.1, 'kernel': 'poly'}\n",
            "0.350 (+/-0.410) for {'C': 1000, 'gamma': 1e-06, 'kernel': 'poly'}\n",
            "0.663 (+/-0.245) for {'C': 1, 'gamma': 0.1, 'kernel': 'sigmoid'}\n",
            "0.447 (+/-0.486) for {'C': 1, 'gamma': 1e-06, 'kernel': 'sigmoid'}\n",
            "0.663 (+/-0.218) for {'C': 10, 'gamma': 0.1, 'kernel': 'sigmoid'}\n",
            "0.447 (+/-0.486) for {'C': 10, 'gamma': 1e-06, 'kernel': 'sigmoid'}\n",
            "0.600 (+/-0.223) for {'C': 100, 'gamma': 0.1, 'kernel': 'sigmoid'}\n",
            "0.447 (+/-0.486) for {'C': 100, 'gamma': 1e-06, 'kernel': 'sigmoid'}\n",
            "0.593 (+/-0.212) for {'C': 1000, 'gamma': 0.1, 'kernel': 'sigmoid'}\n",
            "0.705 (+/-0.112) for {'C': 1000, 'gamma': 1e-06, 'kernel': 'sigmoid'}\n",
            "\n",
            "Detailed classification report:\n",
            "\n",
            "The model is trained on the full development set.\n",
            "The scores are computed on the full evaluation set.\n",
            "\n",
            "              precision    recall  f1-score   support\n",
            "\n",
            "         0.0       0.83      0.58      0.69        60\n",
            "         1.0       0.68      0.88      0.77        60\n",
            "\n",
            "    accuracy                           0.73       120\n",
            "   macro avg       0.76      0.73      0.73       120\n",
            "weighted avg       0.76      0.73      0.73       120\n",
            "\n",
            "\n",
            "\n",
            "1\n",
            "# Tuning hyper-parameters for recall\n",
            "\n",
            "Best parameters set found on development set:\n",
            "\n",
            "{'C': 10, 'gamma': 0.1, 'kernel': 'poly'}\n",
            "\n",
            "Grid scores on development set:\n",
            "\n",
            "0.816 (+/-0.106) for {'C': 1, 'gamma': 0.1, 'kernel': 'rbf'}\n",
            "0.532 (+/-0.111) for {'C': 1, 'gamma': 1e-06, 'kernel': 'rbf'}\n",
            "0.820 (+/-0.084) for {'C': 10, 'gamma': 0.1, 'kernel': 'rbf'}\n",
            "0.532 (+/-0.111) for {'C': 10, 'gamma': 1e-06, 'kernel': 'rbf'}\n",
            "0.823 (+/-0.049) for {'C': 100, 'gamma': 0.1, 'kernel': 'rbf'}\n",
            "0.532 (+/-0.111) for {'C': 100, 'gamma': 1e-06, 'kernel': 'rbf'}\n",
            "0.801 (+/-0.087) for {'C': 1000, 'gamma': 0.1, 'kernel': 'rbf'}\n",
            "0.611 (+/-0.067) for {'C': 1000, 'gamma': 1e-06, 'kernel': 'rbf'}\n",
            "0.809 (+/-0.092) for {'C': 1, 'kernel': 'linear'}\n",
            "0.805 (+/-0.091) for {'C': 10, 'kernel': 'linear'}\n",
            "0.802 (+/-0.095) for {'C': 100, 'kernel': 'linear'}\n",
            "0.805 (+/-0.091) for {'C': 1000, 'kernel': 'linear'}\n",
            "0.816 (+/-0.051) for {'C': 1, 'gamma': 0.1, 'kernel': 'poly'}\n",
            "0.511 (+/-0.043) for {'C': 1, 'gamma': 1e-06, 'kernel': 'poly'}\n",
            "0.830 (+/-0.052) for {'C': 10, 'gamma': 0.1, 'kernel': 'poly'}\n",
            "0.511 (+/-0.043) for {'C': 10, 'gamma': 1e-06, 'kernel': 'poly'}\n",
            "0.827 (+/-0.052) for {'C': 100, 'gamma': 0.1, 'kernel': 'poly'}\n",
            "0.511 (+/-0.043) for {'C': 100, 'gamma': 1e-06, 'kernel': 'poly'}\n",
            "0.787 (+/-0.099) for {'C': 1000, 'gamma': 0.1, 'kernel': 'poly'}\n",
            "0.511 (+/-0.043) for {'C': 1000, 'gamma': 1e-06, 'kernel': 'poly'}\n",
            "0.661 (+/-0.242) for {'C': 1, 'gamma': 0.1, 'kernel': 'sigmoid'}\n",
            "0.532 (+/-0.111) for {'C': 1, 'gamma': 1e-06, 'kernel': 'sigmoid'}\n",
            "0.660 (+/-0.215) for {'C': 10, 'gamma': 0.1, 'kernel': 'sigmoid'}\n",
            "0.532 (+/-0.111) for {'C': 10, 'gamma': 1e-06, 'kernel': 'sigmoid'}\n",
            "0.598 (+/-0.221) for {'C': 100, 'gamma': 0.1, 'kernel': 'sigmoid'}\n",
            "0.532 (+/-0.111) for {'C': 100, 'gamma': 1e-06, 'kernel': 'sigmoid'}\n",
            "0.591 (+/-0.209) for {'C': 1000, 'gamma': 0.1, 'kernel': 'sigmoid'}\n",
            "0.596 (+/-0.146) for {'C': 1000, 'gamma': 1e-06, 'kernel': 'sigmoid'}\n",
            "\n",
            "Detailed classification report:\n",
            "\n",
            "The model is trained on the full development set.\n",
            "The scores are computed on the full evaluation set.\n",
            "\n",
            "              precision    recall  f1-score   support\n",
            "\n",
            "         0.0       0.80      0.73      0.77        60\n",
            "         1.0       0.75      0.82      0.78        60\n",
            "\n",
            "    accuracy                           0.78       120\n",
            "   macro avg       0.78      0.77      0.77       120\n",
            "weighted avg       0.78      0.78      0.77       120\n",
            "\n",
            "\n",
            "\n",
            "10\n"
          ],
          "name": "stdout"
        }
      ]
    },
    {
      "cell_type": "code",
      "metadata": {
        "id": "hNlpg3fyJ1CB",
        "colab_type": "code",
        "colab": {}
      },
      "source": [
        "#SVM kernel lineare\n",
        "clf_lineare = svm.SVC(kernel='linear')\n",
        "clf_lineare.fit(X_train, y_train)\n",
        "y_pred_lineare = clf_lineare.predict(X_test)\n",
        "\n",
        "#SVM kernel rbf\n",
        "clf_rbf = svm.SVC(kernel='rbf')\n",
        "clf_rbf.fit(X_train, y_train)\n",
        "y_pred_rbf = clf_rbf.predict(X_test)\n",
        "\n",
        "#SVM kernel rbf auto\n",
        "clf_rbf_auto = svm.SVC(kernel='rbf', gamma='auto')\n",
        "clf_rbf_auto.fit(X_train, y_train)\n",
        "y_pred_rbf_auto = clf_rbf_auto.predict(X_test)\n",
        "\n",
        "#SVM kernel poly\n",
        "clf_poly = svm.SVC(kernel='poly')\n",
        "clf_poly.fit(X_train, y_train)\n",
        "y_pred_poly = clf_poly.predict(X_test)\n",
        "\n",
        "#SVM kernel poly auto\n",
        "clf_poly_auto = svm.SVC(kernel='poly', gamma='auto')\n",
        "clf_poly_auto.fit(X_train, y_train)\n",
        "y_pred_poly_auto = clf_poly_auto.predict(X_test)\n",
        "\n",
        "#SVM kernel sigmoid\n",
        "clf_sigmoid = svm.SVC(kernel='sigmoid')\n",
        "clf_sigmoid.fit(X_train, y_train)\n",
        "y_pred_sigmoid = clf_sigmoid.predict(X_test)\n",
        "\n",
        "#SVM kernel sigmoid auto\n",
        "clf_sigmoid_auto = svm.SVC(kernel='sigmoid', gamma='auto')\n",
        "clf_sigmoid_auto.fit(X_train, y_train)\n",
        "y_pred_sigmoid_auto = clf_sigmoid_auto.predict(X_test)\n",
        "\n",
        "\n",
        "#con grid_search\n",
        "C_use = clf.best_params_.get('C')\n",
        "gamma_use = clf.best_params_.get('gamma')\n",
        "kernel_use = clf.best_params_.get('kernel')\n",
        "\n",
        "clf_grid_search=svm.SVC(C = C_use, kernel = kernel_use, gamma = gamma_use)\n",
        "clf_grid_search.fit(X_train, y_train)\n",
        "y_pred_grid_search = clf_grid_search.predict(X_test)\n"
      ],
      "execution_count": 0,
      "outputs": []
    },
    {
      "cell_type": "code",
      "metadata": {
        "id": "AFK6HCalJ9F-",
        "colab_type": "code",
        "outputId": "ca457b06-67c4-470b-956b-f24c91a9635d",
        "colab": {
          "base_uri": "https://localhost:8080/",
          "height": 1000
        }
      },
      "source": [
        "#Accuracy, Precision, Recall per SVM con kernel lineare\n",
        "print(\"Accuracy, Precision, Recall per SVM con kernel lineare\\n\")\n",
        "print(\"Accuracy:\",metrics.accuracy_score(y_test, y_pred_lineare))\n",
        "print(\"Precision:\",metrics.precision_score(y_test, y_pred_lineare))\n",
        "print(\"Recall:\",metrics.recall_score(y_test, y_pred_lineare), \"\\n\\n\")\n",
        "\n",
        "#Accuracy, Precision, Recall per SVM con kernel rbf\n",
        "print(\"Accuracy, Precision, Recall per SVM con kernel rbf\\n\")\n",
        "print(\"Accuracy:\",metrics.accuracy_score(y_test, y_pred_rbf))\n",
        "print(\"Precision:\",metrics.precision_score(y_test, y_pred_rbf))\n",
        "print(\"Recall:\",metrics.recall_score(y_test, y_pred_rbf), \"\\n\\n\")\n",
        "\n",
        "#Accuracy, Precision, Recall per SVM con kernel rbf auto\n",
        "print(\"Accuracy, Precision, Recall per SVM con kernel rbf auto\\n\")\n",
        "print(\"Accuracy:\",metrics.accuracy_score(y_test, y_pred_rbf_auto))\n",
        "print(\"Precision:\",metrics.precision_score(y_test, y_pred_rbf_auto))\n",
        "print(\"Recall:\",metrics.recall_score(y_test, y_pred_rbf_auto), \"\\n\\n\")\n",
        "\n",
        "#Accuracy, Precision, Recall per SVM con kernel poly\n",
        "print(\"Accuracy, Precision, Recall per SVM con kernel poly \\n\")\n",
        "print(\"Accuracy:\",metrics.accuracy_score(y_test, y_pred_poly))\n",
        "print(\"Precision:\",metrics.precision_score(y_test, y_pred_poly))\n",
        "print(\"Recall:\",metrics.recall_score(y_test, y_pred_poly), \"\\n\\n\")\n",
        "\n",
        "#Accuracy, Precision, Recall per SVM con kernel poly auto\n",
        "print(\"Accuracy, Precision, Recall per SVM con kernel poly auto \\n\")\n",
        "print(\"Accuracy:\",metrics.accuracy_score(y_test, y_pred_poly_auto))\n",
        "print(\"Precision:\",metrics.precision_score(y_test, y_pred_poly_auto))\n",
        "print(\"Recall:\",metrics.recall_score(y_test, y_pred_poly_auto), \"\\n\\n\")\n",
        "\n",
        "#Accuracy, Precision, Recall per SVM con kernel sigmoid\n",
        "print(\"Accuracy, Precision, Recall per SVM con kernel sigmoid\\n\")\n",
        "print(\"Accuracy:\",metrics.accuracy_score(y_test, y_pred_sigmoid))\n",
        "print(\"Precision:\",metrics.precision_score(y_test, y_pred_sigmoid))\n",
        "print(\"Recall:\",metrics.recall_score(y_test, y_pred_sigmoid), \"\\n\\n\")\n",
        "\n",
        "#Accuracy, Precision, Recall per SVM con kernel sigmoid auto\n",
        "print(\"Accuracy, Precision, Recall per SVM con kernel sigmoid\\n\")\n",
        "print(\"Accuracy:\",metrics.accuracy_score(y_test, y_pred_sigmoid_auto))\n",
        "print(\"Precision:\",metrics.precision_score(y_test, y_pred_sigmoid_auto))\n",
        "print(\"Recall:\",metrics.recall_score(y_test, y_pred_sigmoid_auto), \"\\n\\n\")\n",
        "\n",
        "print(\"Accuracy, Precision, Recall per SVM con utilizzo grid search\\n\\n\")\n",
        "print(\"Accuracy:\",metrics.accuracy_score(y_test, y_pred_grid_search))\n",
        "print(\"Precision:\",metrics.precision_score(y_test, y_pred_grid_search))\n",
        "print(\"Recall:\",metrics.recall_score(y_test, y_pred_grid_search), \"\\n\\n\")"
      ],
      "execution_count": 16,
      "outputs": [
        {
          "output_type": "stream",
          "text": [
            "Accuracy, Precision, Recall per SVM con kernel lineare\n",
            "\n",
            "Accuracy: 0.775\n",
            "Precision: 0.7538461538461538\n",
            "Recall: 0.8166666666666667 \n",
            "\n",
            "\n",
            "Accuracy, Precision, Recall per SVM con kernel rbf\n",
            "\n",
            "Accuracy: 0.7916666666666666\n",
            "Precision: 0.7692307692307693\n",
            "Recall: 0.8333333333333334 \n",
            "\n",
            "\n",
            "Accuracy, Precision, Recall per SVM con kernel rbf auto\n",
            "\n",
            "Accuracy: 0.7916666666666666\n",
            "Precision: 0.7692307692307693\n",
            "Recall: 0.8333333333333334 \n",
            "\n",
            "\n",
            "Accuracy, Precision, Recall per SVM con kernel poly \n",
            "\n",
            "Accuracy: 0.7416666666666667\n",
            "Precision: 0.6883116883116883\n",
            "Recall: 0.8833333333333333 \n",
            "\n",
            "\n",
            "Accuracy, Precision, Recall per SVM con kernel poly auto \n",
            "\n",
            "Accuracy: 0.725\n",
            "Precision: 0.6666666666666666\n",
            "Recall: 0.9 \n",
            "\n",
            "\n",
            "Accuracy, Precision, Recall per SVM con kernel sigmoid\n",
            "\n",
            "Accuracy: 0.6416666666666667\n",
            "Precision: 0.6268656716417911\n",
            "Recall: 0.7 \n",
            "\n",
            "\n",
            "Accuracy, Precision, Recall per SVM con kernel sigmoid\n",
            "\n",
            "Accuracy: 0.675\n",
            "Precision: 0.6615384615384615\n",
            "Recall: 0.7166666666666667 \n",
            "\n",
            "\n",
            "Accuracy, Precision, Recall per SVM con utilizzo grid search\n",
            "\n",
            "\n",
            "Accuracy: 0.775\n",
            "Precision: 0.7538461538461538\n",
            "Recall: 0.8166666666666667 \n",
            "\n",
            "\n"
          ],
          "name": "stdout"
        }
      ]
    },
    {
      "cell_type": "code",
      "metadata": {
        "id": "IXZiC7q-JvrY",
        "colab_type": "code",
        "colab": {}
      },
      "source": [
        "#esportazione della SVM addestrata\n",
        "import pickle\n",
        "\n",
        "filename = 'finalized_model_feature_selected.sav'\n",
        "pickle.dump(clf_grid_search, open(filename, 'wb'))"
      ],
      "execution_count": 0,
      "outputs": []
    }
  ]
}