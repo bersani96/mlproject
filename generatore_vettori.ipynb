{
  "nbformat": 4,
  "nbformat_minor": 0,
  "metadata": {
    "colab": {
      "name": "generatore_vettori.ipynb",
      "provenance": [],
      "collapsed_sections": []
    },
    "kernelspec": {
      "name": "python3",
      "display_name": "Python 3"
    },
    "accelerator": "GPU"
  },
  "cells": [
    {
      "cell_type": "markdown",
      "metadata": {
        "id": "Aou1JnutFRpV",
        "colab_type": "text"
      },
      "source": [
        "# Generatore vettori\n",
        "\n",
        "Lo scopo di questo colab è quello di generare, partendo dalle foto di training, i vettori per addestrare il classificatore.\n",
        "\n",
        "Installazione dipendenze"
      ]
    },
    {
      "cell_type": "code",
      "metadata": {
        "id": "nG_cYcF1FmB5",
        "colab_type": "code",
        "colab": {
          "base_uri": "https://localhost:8080/",
          "height": 1000
        },
        "outputId": "89ab6690-7c04-4123-8ec6-907668422a5f"
      },
      "source": [
        "#!git clone https://github.com/zzh8829/yolov3-tf2 -- Scaricare questa o connettere il drive\n",
        "%cd \"/content/drive/My Drive/universita/progetto ml/yolov3-tf2\"\n",
        "%ls\n",
        "!pip install -r requirements-gpu.txt\n",
        "!pip install instaloader\n"
      ],
      "execution_count": 1,
      "outputs": [
        {
          "output_type": "stream",
          "text": [
            "/content/drive/My Drive/universita/progetto ml/yolov3-tf2\n",
            "\u001b[0m\u001b[01;34mcheckpoints\u001b[0m/     \u001b[01;34mdata\u001b[0m/            \u001b[01;34m__pycache__\u001b[0m/          \u001b[01;34mtools\u001b[0m/\n",
            "colab_gpu.ipynb  detect.py        README.md             train.py\n",
            "conda-cpu.yml    detect_video.py  requirements-gpu.txt  \u001b[01;34myolov3_tf2\u001b[0m/\n",
            "conda-gpu.yml    \u001b[01;34mdocs\u001b[0m/            requirements.txt      \u001b[01;34myolov3_tf2.egg-info\u001b[0m/\n",
            "convert.py       LICENSE          setup.py\n",
            "Obtaining file:///content/drive/My%20Drive/universita/progetto%20ml/yolov3-tf2 (from -r requirements-gpu.txt (line 6))\n",
            "Requirement already satisfied: tensorflow-gpu==2.1.0 in /usr/local/lib/python3.6/dist-packages (from -r requirements-gpu.txt (line 1)) (2.1.0)\n",
            "Requirement already satisfied: opencv-python==4.1.1.26 in /usr/local/lib/python3.6/dist-packages (from -r requirements-gpu.txt (line 2)) (4.1.1.26)\n",
            "Requirement already satisfied: lxml in /usr/local/lib/python3.6/dist-packages (from -r requirements-gpu.txt (line 3)) (4.2.6)\n",
            "Requirement already satisfied: tqdm in /usr/local/lib/python3.6/dist-packages (from -r requirements-gpu.txt (line 4)) (4.28.1)\n",
            "Requirement already satisfied: scipy==1.4.1; python_version >= \"3\" in /usr/local/lib/python3.6/dist-packages (from tensorflow-gpu==2.1.0->-r requirements-gpu.txt (line 1)) (1.4.1)\n",
            "Requirement already satisfied: wheel>=0.26; python_version >= \"3\" in /usr/local/lib/python3.6/dist-packages (from tensorflow-gpu==2.1.0->-r requirements-gpu.txt (line 1)) (0.34.2)\n",
            "Requirement already satisfied: keras-applications>=1.0.8 in /usr/local/lib/python3.6/dist-packages (from tensorflow-gpu==2.1.0->-r requirements-gpu.txt (line 1)) (1.0.8)\n",
            "Requirement already satisfied: astor>=0.6.0 in /usr/local/lib/python3.6/dist-packages (from tensorflow-gpu==2.1.0->-r requirements-gpu.txt (line 1)) (0.8.1)\n",
            "Requirement already satisfied: absl-py>=0.7.0 in /usr/local/lib/python3.6/dist-packages (from tensorflow-gpu==2.1.0->-r requirements-gpu.txt (line 1)) (0.9.0)\n",
            "Requirement already satisfied: keras-preprocessing>=1.1.0 in /usr/local/lib/python3.6/dist-packages (from tensorflow-gpu==2.1.0->-r requirements-gpu.txt (line 1)) (1.1.0)\n",
            "Requirement already satisfied: six>=1.12.0 in /usr/local/lib/python3.6/dist-packages (from tensorflow-gpu==2.1.0->-r requirements-gpu.txt (line 1)) (1.12.0)\n",
            "Requirement already satisfied: tensorflow-estimator<2.2.0,>=2.1.0rc0 in /usr/local/lib/python3.6/dist-packages (from tensorflow-gpu==2.1.0->-r requirements-gpu.txt (line 1)) (2.1.0)\n",
            "Requirement already satisfied: protobuf>=3.8.0 in /usr/local/lib/python3.6/dist-packages (from tensorflow-gpu==2.1.0->-r requirements-gpu.txt (line 1)) (3.10.0)\n",
            "Requirement already satisfied: grpcio>=1.8.6 in /usr/local/lib/python3.6/dist-packages (from tensorflow-gpu==2.1.0->-r requirements-gpu.txt (line 1)) (1.27.1)\n",
            "Requirement already satisfied: wrapt>=1.11.1 in /usr/local/lib/python3.6/dist-packages (from tensorflow-gpu==2.1.0->-r requirements-gpu.txt (line 1)) (1.11.2)\n",
            "Requirement already satisfied: gast==0.2.2 in /usr/local/lib/python3.6/dist-packages (from tensorflow-gpu==2.1.0->-r requirements-gpu.txt (line 1)) (0.2.2)\n",
            "Requirement already satisfied: tensorboard<2.2.0,>=2.1.0 in /usr/local/lib/python3.6/dist-packages (from tensorflow-gpu==2.1.0->-r requirements-gpu.txt (line 1)) (2.1.0)\n",
            "Requirement already satisfied: numpy<2.0,>=1.16.0 in /usr/local/lib/python3.6/dist-packages (from tensorflow-gpu==2.1.0->-r requirements-gpu.txt (line 1)) (1.17.5)\n",
            "Requirement already satisfied: opt-einsum>=2.3.2 in /usr/local/lib/python3.6/dist-packages (from tensorflow-gpu==2.1.0->-r requirements-gpu.txt (line 1)) (3.1.0)\n",
            "Requirement already satisfied: termcolor>=1.1.0 in /usr/local/lib/python3.6/dist-packages (from tensorflow-gpu==2.1.0->-r requirements-gpu.txt (line 1)) (1.1.0)\n",
            "Requirement already satisfied: google-pasta>=0.1.6 in /usr/local/lib/python3.6/dist-packages (from tensorflow-gpu==2.1.0->-r requirements-gpu.txt (line 1)) (0.1.8)\n",
            "Requirement already satisfied: h5py in /usr/local/lib/python3.6/dist-packages (from keras-applications>=1.0.8->tensorflow-gpu==2.1.0->-r requirements-gpu.txt (line 1)) (2.8.0)\n",
            "Requirement already satisfied: setuptools in /usr/local/lib/python3.6/dist-packages (from protobuf>=3.8.0->tensorflow-gpu==2.1.0->-r requirements-gpu.txt (line 1)) (45.1.0)\n",
            "Requirement already satisfied: google-auth-oauthlib<0.5,>=0.4.1 in /usr/local/lib/python3.6/dist-packages (from tensorboard<2.2.0,>=2.1.0->tensorflow-gpu==2.1.0->-r requirements-gpu.txt (line 1)) (0.4.1)\n",
            "Requirement already satisfied: markdown>=2.6.8 in /usr/local/lib/python3.6/dist-packages (from tensorboard<2.2.0,>=2.1.0->tensorflow-gpu==2.1.0->-r requirements-gpu.txt (line 1)) (3.2.1)\n",
            "Requirement already satisfied: werkzeug>=0.11.15 in /usr/local/lib/python3.6/dist-packages (from tensorboard<2.2.0,>=2.1.0->tensorflow-gpu==2.1.0->-r requirements-gpu.txt (line 1)) (1.0.0)\n",
            "Requirement already satisfied: google-auth<2,>=1.6.3 in /usr/local/lib/python3.6/dist-packages (from tensorboard<2.2.0,>=2.1.0->tensorflow-gpu==2.1.0->-r requirements-gpu.txt (line 1)) (1.7.2)\n",
            "Requirement already satisfied: requests<3,>=2.21.0 in /usr/local/lib/python3.6/dist-packages (from tensorboard<2.2.0,>=2.1.0->tensorflow-gpu==2.1.0->-r requirements-gpu.txt (line 1)) (2.21.0)\n",
            "Requirement already satisfied: requests-oauthlib>=0.7.0 in /usr/local/lib/python3.6/dist-packages (from google-auth-oauthlib<0.5,>=0.4.1->tensorboard<2.2.0,>=2.1.0->tensorflow-gpu==2.1.0->-r requirements-gpu.txt (line 1)) (1.3.0)\n",
            "Requirement already satisfied: rsa<4.1,>=3.1.4 in /usr/local/lib/python3.6/dist-packages (from google-auth<2,>=1.6.3->tensorboard<2.2.0,>=2.1.0->tensorflow-gpu==2.1.0->-r requirements-gpu.txt (line 1)) (4.0)\n",
            "Requirement already satisfied: cachetools<3.2,>=2.0.0 in /usr/local/lib/python3.6/dist-packages (from google-auth<2,>=1.6.3->tensorboard<2.2.0,>=2.1.0->tensorflow-gpu==2.1.0->-r requirements-gpu.txt (line 1)) (3.1.1)\n",
            "Requirement already satisfied: pyasn1-modules>=0.2.1 in /usr/local/lib/python3.6/dist-packages (from google-auth<2,>=1.6.3->tensorboard<2.2.0,>=2.1.0->tensorflow-gpu==2.1.0->-r requirements-gpu.txt (line 1)) (0.2.8)\n",
            "Requirement already satisfied: certifi>=2017.4.17 in /usr/local/lib/python3.6/dist-packages (from requests<3,>=2.21.0->tensorboard<2.2.0,>=2.1.0->tensorflow-gpu==2.1.0->-r requirements-gpu.txt (line 1)) (2019.11.28)\n",
            "Requirement already satisfied: idna<2.9,>=2.5 in /usr/local/lib/python3.6/dist-packages (from requests<3,>=2.21.0->tensorboard<2.2.0,>=2.1.0->tensorflow-gpu==2.1.0->-r requirements-gpu.txt (line 1)) (2.8)\n",
            "Requirement already satisfied: chardet<3.1.0,>=3.0.2 in /usr/local/lib/python3.6/dist-packages (from requests<3,>=2.21.0->tensorboard<2.2.0,>=2.1.0->tensorflow-gpu==2.1.0->-r requirements-gpu.txt (line 1)) (3.0.4)\n",
            "Requirement already satisfied: urllib3<1.25,>=1.21.1 in /usr/local/lib/python3.6/dist-packages (from requests<3,>=2.21.0->tensorboard<2.2.0,>=2.1.0->tensorflow-gpu==2.1.0->-r requirements-gpu.txt (line 1)) (1.24.3)\n",
            "Requirement already satisfied: oauthlib>=3.0.0 in /usr/local/lib/python3.6/dist-packages (from requests-oauthlib>=0.7.0->google-auth-oauthlib<0.5,>=0.4.1->tensorboard<2.2.0,>=2.1.0->tensorflow-gpu==2.1.0->-r requirements-gpu.txt (line 1)) (3.1.0)\n",
            "Requirement already satisfied: pyasn1>=0.1.3 in /usr/local/lib/python3.6/dist-packages (from rsa<4.1,>=3.1.4->google-auth<2,>=1.6.3->tensorboard<2.2.0,>=2.1.0->tensorflow-gpu==2.1.0->-r requirements-gpu.txt (line 1)) (0.4.8)\n",
            "Installing collected packages: yolov3-tf2\n",
            "  Found existing installation: yolov3-tf2 0.1\n",
            "    Can't uninstall 'yolov3-tf2'. No files were found to uninstall.\n",
            "  Running setup.py develop for yolov3-tf2\n",
            "Successfully installed yolov3-tf2\n",
            "Requirement already satisfied: instaloader in /usr/local/lib/python3.6/dist-packages (4.2.10)\n",
            "Requirement already satisfied: requests>=2.4 in /usr/local/lib/python3.6/dist-packages (from instaloader) (2.21.0)\n",
            "Requirement already satisfied: urllib3<1.25,>=1.21.1 in /usr/local/lib/python3.6/dist-packages (from requests>=2.4->instaloader) (1.24.3)\n",
            "Requirement already satisfied: idna<2.9,>=2.5 in /usr/local/lib/python3.6/dist-packages (from requests>=2.4->instaloader) (2.8)\n",
            "Requirement already satisfied: certifi>=2017.4.17 in /usr/local/lib/python3.6/dist-packages (from requests>=2.4->instaloader) (2019.11.28)\n",
            "Requirement already satisfied: chardet<3.1.0,>=3.0.2 in /usr/local/lib/python3.6/dist-packages (from requests>=2.4->instaloader) (3.0.4)\n"
          ],
          "name": "stdout"
        }
      ]
    },
    {
      "cell_type": "markdown",
      "metadata": {
        "id": "XWSUJkWUGBdE",
        "colab_type": "text"
      },
      "source": [
        "Controllo versione TensorFlow 2:"
      ]
    },
    {
      "cell_type": "code",
      "metadata": {
        "id": "7ofnYZGoGD7Y",
        "colab_type": "code",
        "colab": {
          "base_uri": "https://localhost:8080/",
          "height": 90
        },
        "outputId": "99296ab7-4cee-4cb0-e6d7-1478a8515135"
      },
      "source": [
        "%cd \"/content/drive/My Drive/universita/progetto ml\"\n",
        "!ls\n",
        "\n",
        "import tensorflow as tf\n",
        "tf.__version__"
      ],
      "execution_count": 2,
      "outputs": [
        {
          "output_type": "stream",
          "text": [
            "/content/drive/My Drive/universita/progetto ml\n",
            "foto_prova\t\t  generatore_vettori.py  yolo_model.py\n",
            "generatore_vettori.ipynb  __pycache__\t\t yolov3-tf2\n"
          ],
          "name": "stdout"
        },
        {
          "output_type": "execute_result",
          "data": {
            "text/plain": [
              "'2.1.0'"
            ]
          },
          "metadata": {
            "tags": []
          },
          "execution_count": 2
        }
      ]
    },
    {
      "cell_type": "markdown",
      "metadata": {
        "id": "LrehbS0TGGTn",
        "colab_type": "text"
      },
      "source": [
        "Conversione pesi"
      ]
    },
    {
      "cell_type": "code",
      "metadata": {
        "id": "rD-xH4flGIdF",
        "colab_type": "code",
        "colab": {}
      },
      "source": [
        "#Se uso il drive sono già scaricati e convertiti, altrimenti usare il seguente codice\n",
        "\n",
        "#!wget https://pjreddie.com/media/files/yolov3.weights -O data/yolov3.weights\n",
        "#!python convert.py"
      ],
      "execution_count": 0,
      "outputs": []
    },
    {
      "cell_type": "markdown",
      "metadata": {
        "id": "QBuZIZupJLuN",
        "colab_type": "text"
      },
      "source": [
        "Genero i vettori"
      ]
    },
    {
      "cell_type": "code",
      "metadata": {
        "id": "Z20da-rZJM8X",
        "colab_type": "code",
        "colab": {
          "base_uri": "https://localhost:8080/",
          "height": 108
        },
        "outputId": "09e9e23e-92f8-403c-fbf0-149e49d9ade9"
      },
      "source": [
        "import generatore_vettori\n",
        "\n",
        "generatore_vettori.generaVettori(\"/content/drive/My Drive/universita/progetto ml/foto_prova/\",\n",
        "                                      \"\",\n",
        "                                      \"/content/drive/My Drive/universita/progetto ml/\")"
      ],
      "execution_count": 3,
      "outputs": [
        {
          "output_type": "stream",
          "text": [
            "Immagine 0\n",
            "\t File: /content/drive/My Drive/universita/progetto ml/foto_prova/2019-10-04_15-32-42_UTC.json\n",
            "Immagine 1\n",
            "\t File: /content/drive/My Drive/universita/progetto ml/foto_prova/2019-10-08_15-39-45_UTC.json\n",
            "File scritto.\n"
          ],
          "name": "stdout"
        }
      ]
    }
  ]
}