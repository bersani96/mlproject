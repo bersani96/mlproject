{
  "nbformat": 4,
  "nbformat_minor": 0,
  "metadata": {
    "colab": {
      "name": "generatore_vettori.ipynb",
      "provenance": [],
      "collapsed_sections": []
    },
    "kernelspec": {
      "name": "python3",
      "display_name": "Python 3"
    },
    "accelerator": "GPU"
  },
  "cells": [
    {
      "cell_type": "markdown",
      "metadata": {
        "id": "Aou1JnutFRpV",
        "colab_type": "text"
      },
      "source": [
        "# Generatore vettori\n",
        "\n",
        "Lo scopo di questo colab è quello di generare, partendo dalle foto di training, i vettori per addestrare il classificatore.\n",
        "\n",
        "Installazione dipendenze"
      ]
    },
    {
      "cell_type": "code",
      "metadata": {
        "id": "nG_cYcF1FmB5",
        "colab_type": "code",
        "outputId": "935d4767-c2fd-48f8-ff1a-78a4bb567885",
        "colab": {
          "base_uri": "https://localhost:8080/",
          "height": 1000
        }
      },
      "source": [
        "#!git clone https://github.com/zzh8829/yolov3-tf2 -- Scaricare questa o connettere il drive\n",
        "#%cd yolov3-tf2\n",
        "%cd \"/content/drive/My Drive/universita/progetto ml/yolov3-tf2\"\n",
        "%ls\n",
        "!pip install -r requirements-gpu.txt\n",
        "!pip install instaloader\n",
        "!pip install yolov3-tf2\n"
      ],
      "execution_count": 0,
      "outputs": [
        {
          "output_type": "stream",
          "text": [
            "/content/drive/My Drive/universita/progetto ml/yolov3-tf2\n",
            "\u001b[0m\u001b[01;34mcheckpoints\u001b[0m/     \u001b[01;34mdata\u001b[0m/            \u001b[01;34m__pycache__\u001b[0m/          \u001b[01;34mtools\u001b[0m/\n",
            "colab_gpu.ipynb  detect.py        README.md             train.py\n",
            "conda-cpu.yml    detect_video.py  requirements-gpu.txt  \u001b[01;34myolov3_tf2\u001b[0m/\n",
            "conda-gpu.yml    \u001b[01;34mdocs\u001b[0m/            requirements.txt      \u001b[01;34myolov3_tf2.egg-info\u001b[0m/\n",
            "convert.py       LICENSE          setup.py\n",
            "Obtaining file:///content/drive/My%20Drive/universita/progetto%20ml/yolov3-tf2 (from -r requirements-gpu.txt (line 6))\n",
            "Collecting tensorflow-gpu==2.1.0\n",
            "\u001b[?25l  Downloading https://files.pythonhosted.org/packages/0a/93/c7bca39b23aae45cd2e85ad3871c81eccc63b9c5276e926511e2e5b0879d/tensorflow_gpu-2.1.0-cp36-cp36m-manylinux2010_x86_64.whl (421.8MB)\n",
            "\u001b[K     |████████████████████████████████| 421.8MB 41kB/s \n",
            "\u001b[?25hCollecting opencv-python==4.1.1.26\n",
            "\u001b[?25l  Downloading https://files.pythonhosted.org/packages/5e/7e/bd5425f4dacb73367fddc71388a47c1ea570839197c2bcad86478e565186/opencv_python-4.1.1.26-cp36-cp36m-manylinux1_x86_64.whl (28.7MB)\n",
            "\u001b[K     |████████████████████████████████| 28.7MB 109kB/s \n",
            "\u001b[?25hRequirement already satisfied: lxml in /usr/local/lib/python3.6/dist-packages (from -r requirements-gpu.txt (line 3)) (4.2.6)\n",
            "Requirement already satisfied: tqdm in /usr/local/lib/python3.6/dist-packages (from -r requirements-gpu.txt (line 4)) (4.28.1)\n",
            "Requirement already satisfied: grpcio>=1.8.6 in /usr/local/lib/python3.6/dist-packages (from tensorflow-gpu==2.1.0->-r requirements-gpu.txt (line 1)) (1.27.1)\n",
            "Requirement already satisfied: astor>=0.6.0 in /usr/local/lib/python3.6/dist-packages (from tensorflow-gpu==2.1.0->-r requirements-gpu.txt (line 1)) (0.8.1)\n",
            "Collecting tensorflow-estimator<2.2.0,>=2.1.0rc0\n",
            "\u001b[?25l  Downloading https://files.pythonhosted.org/packages/18/90/b77c328a1304437ab1310b463e533fa7689f4bfc41549593056d812fab8e/tensorflow_estimator-2.1.0-py2.py3-none-any.whl (448kB)\n",
            "\u001b[K     |████████████████████████████████| 450kB 54.1MB/s \n",
            "\u001b[?25hRequirement already satisfied: wrapt>=1.11.1 in /usr/local/lib/python3.6/dist-packages (from tensorflow-gpu==2.1.0->-r requirements-gpu.txt (line 1)) (1.11.2)\n",
            "Requirement already satisfied: six>=1.12.0 in /usr/local/lib/python3.6/dist-packages (from tensorflow-gpu==2.1.0->-r requirements-gpu.txt (line 1)) (1.12.0)\n",
            "Requirement already satisfied: scipy==1.4.1; python_version >= \"3\" in /usr/local/lib/python3.6/dist-packages (from tensorflow-gpu==2.1.0->-r requirements-gpu.txt (line 1)) (1.4.1)\n",
            "Requirement already satisfied: absl-py>=0.7.0 in /usr/local/lib/python3.6/dist-packages (from tensorflow-gpu==2.1.0->-r requirements-gpu.txt (line 1)) (0.9.0)\n",
            "Collecting tensorboard<2.2.0,>=2.1.0\n",
            "\u001b[?25l  Downloading https://files.pythonhosted.org/packages/d9/41/bbf49b61370e4f4d245d4c6051dfb6db80cec672605c91b1652ac8cc3d38/tensorboard-2.1.1-py3-none-any.whl (3.8MB)\n",
            "\u001b[K     |████████████████████████████████| 3.9MB 47.2MB/s \n",
            "\u001b[?25hRequirement already satisfied: numpy<2.0,>=1.16.0 in /usr/local/lib/python3.6/dist-packages (from tensorflow-gpu==2.1.0->-r requirements-gpu.txt (line 1)) (1.17.5)\n",
            "Requirement already satisfied: opt-einsum>=2.3.2 in /usr/local/lib/python3.6/dist-packages (from tensorflow-gpu==2.1.0->-r requirements-gpu.txt (line 1)) (3.1.0)\n",
            "Requirement already satisfied: keras-applications>=1.0.8 in /usr/local/lib/python3.6/dist-packages (from tensorflow-gpu==2.1.0->-r requirements-gpu.txt (line 1)) (1.0.8)\n",
            "Requirement already satisfied: protobuf>=3.8.0 in /usr/local/lib/python3.6/dist-packages (from tensorflow-gpu==2.1.0->-r requirements-gpu.txt (line 1)) (3.10.0)\n",
            "Requirement already satisfied: termcolor>=1.1.0 in /usr/local/lib/python3.6/dist-packages (from tensorflow-gpu==2.1.0->-r requirements-gpu.txt (line 1)) (1.1.0)\n",
            "Requirement already satisfied: google-pasta>=0.1.6 in /usr/local/lib/python3.6/dist-packages (from tensorflow-gpu==2.1.0->-r requirements-gpu.txt (line 1)) (0.1.8)\n",
            "Requirement already satisfied: gast==0.2.2 in /usr/local/lib/python3.6/dist-packages (from tensorflow-gpu==2.1.0->-r requirements-gpu.txt (line 1)) (0.2.2)\n",
            "Requirement already satisfied: keras-preprocessing>=1.1.0 in /usr/local/lib/python3.6/dist-packages (from tensorflow-gpu==2.1.0->-r requirements-gpu.txt (line 1)) (1.1.0)\n",
            "Requirement already satisfied: wheel>=0.26; python_version >= \"3\" in /usr/local/lib/python3.6/dist-packages (from tensorflow-gpu==2.1.0->-r requirements-gpu.txt (line 1)) (0.34.2)\n",
            "Requirement already satisfied: google-auth<2,>=1.6.3 in /usr/local/lib/python3.6/dist-packages (from tensorboard<2.2.0,>=2.1.0->tensorflow-gpu==2.1.0->-r requirements-gpu.txt (line 1)) (1.7.2)\n",
            "Requirement already satisfied: requests<3,>=2.21.0 in /usr/local/lib/python3.6/dist-packages (from tensorboard<2.2.0,>=2.1.0->tensorflow-gpu==2.1.0->-r requirements-gpu.txt (line 1)) (2.21.0)\n",
            "Requirement already satisfied: werkzeug>=0.11.15 in /usr/local/lib/python3.6/dist-packages (from tensorboard<2.2.0,>=2.1.0->tensorflow-gpu==2.1.0->-r requirements-gpu.txt (line 1)) (1.0.0)\n",
            "Requirement already satisfied: setuptools>=41.0.0 in /usr/local/lib/python3.6/dist-packages (from tensorboard<2.2.0,>=2.1.0->tensorflow-gpu==2.1.0->-r requirements-gpu.txt (line 1)) (45.2.0)\n",
            "Requirement already satisfied: markdown>=2.6.8 in /usr/local/lib/python3.6/dist-packages (from tensorboard<2.2.0,>=2.1.0->tensorflow-gpu==2.1.0->-r requirements-gpu.txt (line 1)) (3.2.1)\n",
            "Requirement already satisfied: google-auth-oauthlib<0.5,>=0.4.1 in /usr/local/lib/python3.6/dist-packages (from tensorboard<2.2.0,>=2.1.0->tensorflow-gpu==2.1.0->-r requirements-gpu.txt (line 1)) (0.4.1)\n",
            "Requirement already satisfied: h5py in /usr/local/lib/python3.6/dist-packages (from keras-applications>=1.0.8->tensorflow-gpu==2.1.0->-r requirements-gpu.txt (line 1)) (2.8.0)\n",
            "Requirement already satisfied: rsa<4.1,>=3.1.4 in /usr/local/lib/python3.6/dist-packages (from google-auth<2,>=1.6.3->tensorboard<2.2.0,>=2.1.0->tensorflow-gpu==2.1.0->-r requirements-gpu.txt (line 1)) (4.0)\n",
            "Requirement already satisfied: cachetools<3.2,>=2.0.0 in /usr/local/lib/python3.6/dist-packages (from google-auth<2,>=1.6.3->tensorboard<2.2.0,>=2.1.0->tensorflow-gpu==2.1.0->-r requirements-gpu.txt (line 1)) (3.1.1)\n",
            "Requirement already satisfied: pyasn1-modules>=0.2.1 in /usr/local/lib/python3.6/dist-packages (from google-auth<2,>=1.6.3->tensorboard<2.2.0,>=2.1.0->tensorflow-gpu==2.1.0->-r requirements-gpu.txt (line 1)) (0.2.8)\n",
            "Requirement already satisfied: certifi>=2017.4.17 in /usr/local/lib/python3.6/dist-packages (from requests<3,>=2.21.0->tensorboard<2.2.0,>=2.1.0->tensorflow-gpu==2.1.0->-r requirements-gpu.txt (line 1)) (2019.11.28)\n",
            "Requirement already satisfied: idna<2.9,>=2.5 in /usr/local/lib/python3.6/dist-packages (from requests<3,>=2.21.0->tensorboard<2.2.0,>=2.1.0->tensorflow-gpu==2.1.0->-r requirements-gpu.txt (line 1)) (2.8)\n",
            "Requirement already satisfied: urllib3<1.25,>=1.21.1 in /usr/local/lib/python3.6/dist-packages (from requests<3,>=2.21.0->tensorboard<2.2.0,>=2.1.0->tensorflow-gpu==2.1.0->-r requirements-gpu.txt (line 1)) (1.24.3)\n",
            "Requirement already satisfied: chardet<3.1.0,>=3.0.2 in /usr/local/lib/python3.6/dist-packages (from requests<3,>=2.21.0->tensorboard<2.2.0,>=2.1.0->tensorflow-gpu==2.1.0->-r requirements-gpu.txt (line 1)) (3.0.4)\n",
            "Requirement already satisfied: requests-oauthlib>=0.7.0 in /usr/local/lib/python3.6/dist-packages (from google-auth-oauthlib<0.5,>=0.4.1->tensorboard<2.2.0,>=2.1.0->tensorflow-gpu==2.1.0->-r requirements-gpu.txt (line 1)) (1.3.0)\n",
            "Requirement already satisfied: pyasn1>=0.1.3 in /usr/local/lib/python3.6/dist-packages (from rsa<4.1,>=3.1.4->google-auth<2,>=1.6.3->tensorboard<2.2.0,>=2.1.0->tensorflow-gpu==2.1.0->-r requirements-gpu.txt (line 1)) (0.4.8)\n",
            "Requirement already satisfied: oauthlib>=3.0.0 in /usr/local/lib/python3.6/dist-packages (from requests-oauthlib>=0.7.0->google-auth-oauthlib<0.5,>=0.4.1->tensorboard<2.2.0,>=2.1.0->tensorflow-gpu==2.1.0->-r requirements-gpu.txt (line 1)) (3.1.0)\n",
            "\u001b[31mERROR: tensorflow 1.15.0 has requirement tensorboard<1.16.0,>=1.15.0, but you'll have tensorboard 2.1.1 which is incompatible.\u001b[0m\n",
            "\u001b[31mERROR: tensorflow 1.15.0 has requirement tensorflow-estimator==1.15.1, but you'll have tensorflow-estimator 2.1.0 which is incompatible.\u001b[0m\n",
            "\u001b[31mERROR: albumentations 0.1.12 has requirement imgaug<0.2.7,>=0.2.5, but you'll have imgaug 0.2.9 which is incompatible.\u001b[0m\n",
            "Installing collected packages: tensorflow-estimator, tensorboard, tensorflow-gpu, opencv-python, yolov3-tf2\n",
            "  Found existing installation: tensorflow-estimator 1.15.1\n",
            "    Uninstalling tensorflow-estimator-1.15.1:\n",
            "      Successfully uninstalled tensorflow-estimator-1.15.1\n",
            "  Found existing installation: tensorboard 1.15.0\n",
            "    Uninstalling tensorboard-1.15.0:\n",
            "      Successfully uninstalled tensorboard-1.15.0\n",
            "  Found existing installation: opencv-python 4.1.2.30\n",
            "    Uninstalling opencv-python-4.1.2.30:\n",
            "      Successfully uninstalled opencv-python-4.1.2.30\n",
            "  Running setup.py develop for yolov3-tf2\n",
            "Successfully installed opencv-python-4.1.1.26 tensorboard-2.1.1 tensorflow-estimator-2.1.0 tensorflow-gpu-2.1.0 yolov3-tf2\n",
            "Collecting instaloader\n",
            "  Downloading https://files.pythonhosted.org/packages/99/88/6b7d5df63f48f47be8e8f16e83e0530baa80ce1fc3b753cfcfbb79acdcfe/instaloader-4.2.10.tar.gz\n",
            "Requirement already satisfied: requests>=2.4 in /usr/local/lib/python3.6/dist-packages (from instaloader) (2.21.0)\n",
            "Requirement already satisfied: idna<2.9,>=2.5 in /usr/local/lib/python3.6/dist-packages (from requests>=2.4->instaloader) (2.8)\n",
            "Requirement already satisfied: certifi>=2017.4.17 in /usr/local/lib/python3.6/dist-packages (from requests>=2.4->instaloader) (2019.11.28)\n",
            "Requirement already satisfied: urllib3<1.25,>=1.21.1 in /usr/local/lib/python3.6/dist-packages (from requests>=2.4->instaloader) (1.24.3)\n",
            "Requirement already satisfied: chardet<3.1.0,>=3.0.2 in /usr/local/lib/python3.6/dist-packages (from requests>=2.4->instaloader) (3.0.4)\n",
            "Building wheels for collected packages: instaloader\n",
            "  Building wheel for instaloader (setup.py) ... \u001b[?25l\u001b[?25hdone\n",
            "  Created wheel for instaloader: filename=instaloader-4.2.10-cp36-none-any.whl size=41057 sha256=cb00009081008b50c888fb480711ab321713472c9f3a8f87794b4d3b419ac096\n",
            "  Stored in directory: /root/.cache/pip/wheels/16/78/4d/9693042fa92e1003fc2f87909e07d341c4242023cd9f16999f\n",
            "Successfully built instaloader\n",
            "Installing collected packages: instaloader\n",
            "Successfully installed instaloader-4.2.10\n",
            "Requirement already satisfied: yolov3-tf2 in /content/drive/My Drive/universita/progetto ml/yolov3-tf2 (0.1)\n"
          ],
          "name": "stdout"
        }
      ]
    },
    {
      "cell_type": "markdown",
      "metadata": {
        "id": "XWSUJkWUGBdE",
        "colab_type": "text"
      },
      "source": [
        "Inizializzazione e controllo versione TensorFlow 2:"
      ]
    },
    {
      "cell_type": "code",
      "metadata": {
        "id": "7ofnYZGoGD7Y",
        "colab_type": "code",
        "outputId": "1718c838-e94f-4085-8c8b-6254d6e079bc",
        "colab": {
          "base_uri": "https://localhost:8080/",
          "height": 144
        }
      },
      "source": [
        "%cd \"/content/drive/My Drive/universita/progetto ml\"\n",
        "!ls\n",
        "\n",
        "from generatore_vettori import GeneratoreVettori \n",
        "\n",
        "generatore = GeneratoreVettori(\"/content/drive/My Drive/universita/progetto ml/yolov3-tf2/\")\n",
        "\n",
        "import tensorflow as tf\n",
        "tf.__version__"
      ],
      "execution_count": 0,
      "outputs": [
        {
          "output_type": "stream",
          "text": [
            "/content/drive/My Drive/universita/progetto ml\n",
            "addestratore_svm.ipynb\t  generatore_vettori.py  __pycache__  yolo_model.py\n",
            "finalized_model.sav\t  non_pub\t\t test\t      yolov3-tf2\n",
            "generatore_vettori.ipynb  pub\t\t\t vettori.csv\n"
          ],
          "name": "stdout"
        },
        {
          "output_type": "stream",
          "text": [
            "I0306 16:17:38.239574 139820141197184 yolo_model.py:50] weights loaded\n",
            "I0306 16:17:38.713743 139820141197184 yolo_model.py:52] classes loaded\n"
          ],
          "name": "stderr"
        },
        {
          "output_type": "execute_result",
          "data": {
            "text/plain": [
              "'2.1.0'"
            ]
          },
          "metadata": {
            "tags": []
          },
          "execution_count": 1
        }
      ]
    },
    {
      "cell_type": "markdown",
      "metadata": {
        "id": "LrehbS0TGGTn",
        "colab_type": "text"
      },
      "source": [
        "Conversione pesi. Se uso il drive sono già scaricati e convertiti, altrimenti usare il seguente codice."
      ]
    },
    {
      "cell_type": "code",
      "metadata": {
        "id": "rD-xH4flGIdF",
        "colab_type": "code",
        "colab": {}
      },
      "source": [
        "#%cd yolov3-tf2/\n",
        "#!wget https://pjreddie.com/media/files/yolov3.weights -O data/yolov3.weights\n",
        "#!python convert.py\n",
        "#%cd \"/content/drive/My Drive/universita/progetto ml\""
      ],
      "execution_count": 0,
      "outputs": []
    },
    {
      "cell_type": "markdown",
      "metadata": {
        "id": "QBuZIZupJLuN",
        "colab_type": "text"
      },
      "source": [
        "Genero i vettori"
      ]
    },
    {
      "cell_type": "code",
      "metadata": {
        "id": "Z20da-rZJM8X",
        "colab_type": "code",
        "outputId": "2b968dd7-897c-4455-b8b3-44777ad6ab40",
        "colab": {
          "base_uri": "https://localhost:8080/",
          "height": 1000
        }
      },
      "source": [
        "generatore.generaVettori(\"/content/drive/My Drive/universita/progetto ml/pub/\", # Path della directory con le foto pubblicitarie\n",
        "                                      \"/content/drive/My Drive/universita/progetto ml/non_pub/\", # Path della directory con le foto non pubblicitarie\n",
        "                                      \"/content/drive/My Drive/universita/progetto ml/\") # Path della directory dove scrivere il file di output"
      ],
      "execution_count": 0,
      "outputs": [
        {
          "output_type": "stream",
          "text": [
            "Analizzo le immagini pubblicitarie in /content/drive/My Drive/universita/progetto ml/pub/\n",
            "Immagine 0\n",
            "\t File: /content/drive/My Drive/universita/progetto ml/pub/2019-12-16_17-15-49_UTC.json\n"
          ],
          "name": "stdout"
        },
        {
          "output_type": "stream",
          "text": [
            "I0228 12:26:14.230762 140220390033280 yolo_model.py:59] time: 1.8439373970031738\n"
          ],
          "name": "stderr"
        },
        {
          "output_type": "stream",
          "text": [
            "\tperson, 0.9996694326400757, [0.29747468 0.05964082 0.5802556  0.9886779 ]\n",
            "\thandbag, 0.9472196698188782, [0.28333473 0.45494664 0.42426056 0.58419585]\n",
            "\tcar, 0.9246689677238464, [0.73156255 0.25157267 0.8015577  0.32949692]\n",
            "\tbench, 0.9241204857826233, [0.00135677 0.49751633 0.1688386  0.700962  ]\n",
            "Iter: 0. Controllo persona: \n",
            "Iter: 0. Persona trovata: \n",
            "Score: 0.99966943\n",
            "Iter: 0. Controllo borsa: \n",
            "Iter: 0. Controllo orologio: \n",
            "Iter: 1. Controllo persona: \n",
            "Iter: 1. Controllo borsa: \n",
            "Iter: 1. Borsa trovata: \n",
            "Score: 0.94721967\n",
            "Iter: 1. Controllo orologio: \n",
            "Iter: 2. Controllo persona: \n",
            "Iter: 2. Controllo borsa: \n",
            "Iter: 2. Controllo orologio: \n",
            "Iter: 3. Controllo persona: \n",
            "Iter: 3. Controllo borsa: \n",
            "Iter: 3. Controllo orologio: \n",
            "Immagine 1\n",
            "\t File: /content/drive/My Drive/universita/progetto ml/pub/2019-12-16_22-08-41_UTC.json\n"
          ],
          "name": "stdout"
        },
        {
          "output_type": "stream",
          "text": [
            "I0228 12:26:17.896790 140220390033280 yolo_model.py:59] time: 0.23671364784240723\n"
          ],
          "name": "stderr"
        },
        {
          "output_type": "stream",
          "text": [
            "\tperson, 0.9922304153442383, [0.29297975 0.39594698 0.6593921  0.95956194]\n",
            "\thandbag, 0.8282396197319031, [0.4739016  0.74750835 0.561043   0.91098684]\n",
            "Iter: 0. Controllo persona: \n",
            "Iter: 0. Persona trovata: \n",
            "Score: 0.9922304\n",
            "Iter: 0. Controllo borsa: \n",
            "Iter: 0. Controllo orologio: \n",
            "Iter: 1. Controllo persona: \n",
            "Iter: 1. Controllo borsa: \n",
            "Iter: 1. Borsa trovata: \n",
            "Score: 0.8282396\n",
            "Iter: 1. Controllo orologio: \n",
            "Immagine 2\n",
            "\t File: /content/drive/My Drive/universita/progetto ml/pub/2019-12-16_22-08-41_UTC.json\n"
          ],
          "name": "stdout"
        },
        {
          "output_type": "stream",
          "text": [
            "I0228 12:26:19.606441 140220390033280 yolo_model.py:59] time: 0.26303648948669434\n"
          ],
          "name": "stderr"
        },
        {
          "output_type": "stream",
          "text": [
            "\tperson, 0.9962098598480225, [0.4053104  0.3052112  0.54972684 0.97317755]\n",
            "\thandbag, 0.7650270462036133, [0.36206645 0.7256094  0.45006478 0.838089  ]\n",
            "Iter: 0. Controllo persona: \n",
            "Iter: 0. Persona trovata: \n",
            "Score: 0.99620986\n",
            "Iter: 0. Controllo borsa: \n",
            "Iter: 0. Controllo orologio: \n",
            "Iter: 1. Controllo persona: \n",
            "Iter: 1. Controllo borsa: \n",
            "Iter: 1. Borsa trovata: \n",
            "Score: 0.76502705\n",
            "Iter: 1. Controllo orologio: \n",
            "Immagine 3\n",
            "\t File: /content/drive/My Drive/universita/progetto ml/pub/2019-12-17_14-55-39_UTC.json\n"
          ],
          "name": "stdout"
        },
        {
          "output_type": "stream",
          "text": [
            "I0228 12:26:20.901698 140220390033280 yolo_model.py:59] time: 0.23923468589782715\n"
          ],
          "name": "stderr"
        },
        {
          "output_type": "stream",
          "text": [
            "\tperson, 0.9982935786247253, [0.15027443 0.17747939 0.8268645  1.        ]\n",
            "\tcup, 0.990590512752533, [0.33681482 0.59606117 0.4581566  0.7486957 ]\n",
            "\tchair, 0.977353572845459, [0.4485445 0.6093476 0.8831059 1.       ]\n",
            "\tchair, 0.9428108334541321, [0.19453916 0.49743614 0.38584074 0.618875  ]\n",
            "\tchair, 0.9284744262695312, [0.12522528 0.3351985  0.22272822 0.4880949 ]\n",
            "\tbowl, 0.901679277420044, [0.         0.83627087 0.05461523 0.9532587 ]\n",
            "\tchair, 0.8529282212257385, [0.3294136  0.37276283 0.4911421  0.57767445]\n",
            "\tcup, 0.8495604395866394, [1.03369355e-04 7.21053243e-01 3.00665721e-02 8.34402084e-01]\n",
            "\tcup, 0.8078595399856567, [0.9288503  0.42794484 0.9744005  0.48141217]\n",
            "\tdiningtable, 0.7739735841751099, [0.         0.61810005 0.39750367 0.99695563]\n",
            "\tchair, 0.7623617649078369, [0.10545927 0.45331913 0.8792713  1.        ]\n",
            "\tcup, 0.757474958896637, [0.268981   0.5579956  0.34048286 0.6844054 ]\n",
            "\tcup, 0.7223150730133057, [0.8910859  0.4073354  0.93850523 0.46330827]\n",
            "\tchair, 0.6994219422340393, [0.02613717 0.32185584 0.0989875  0.43430054]\n",
            "Iter: 0. Controllo persona: \n",
            "Iter: 0. Persona trovata: \n",
            "Score: 0.9982936\n",
            "Iter: 0. Controllo borsa: \n",
            "Iter: 0. Controllo orologio: \n",
            "Iter: 1. Controllo persona: \n",
            "Iter: 1. Controllo borsa: \n",
            "Iter: 1. Controllo orologio: \n",
            "Iter: 2. Controllo persona: \n",
            "Iter: 2. Controllo borsa: \n",
            "Iter: 2. Controllo orologio: \n",
            "Iter: 3. Controllo persona: \n",
            "Iter: 3. Controllo borsa: \n",
            "Iter: 3. Controllo orologio: \n",
            "Iter: 4. Controllo persona: \n",
            "Iter: 4. Controllo borsa: \n",
            "Iter: 4. Controllo orologio: \n",
            "Iter: 5. Controllo persona: \n",
            "Iter: 5. Controllo borsa: \n",
            "Iter: 5. Controllo orologio: \n",
            "Iter: 6. Controllo persona: \n",
            "Iter: 6. Controllo borsa: \n",
            "Iter: 6. Controllo orologio: \n",
            "Iter: 7. Controllo persona: \n",
            "Iter: 7. Controllo borsa: \n",
            "Iter: 7. Controllo orologio: \n",
            "Iter: 8. Controllo persona: \n",
            "Iter: 8. Controllo borsa: \n",
            "Iter: 8. Controllo orologio: \n",
            "Iter: 9. Controllo persona: \n",
            "Iter: 9. Controllo borsa: \n",
            "Iter: 9. Controllo orologio: \n",
            "Iter: 10. Controllo persona: \n",
            "Iter: 10. Controllo borsa: \n",
            "Iter: 10. Controllo orologio: \n",
            "Iter: 11. Controllo persona: \n",
            "Iter: 11. Controllo borsa: \n",
            "Iter: 11. Controllo orologio: \n",
            "Iter: 12. Controllo persona: \n",
            "Iter: 12. Controllo borsa: \n",
            "Iter: 12. Controllo orologio: \n",
            "Iter: 13. Controllo persona: \n",
            "Iter: 13. Controllo borsa: \n",
            "Iter: 13. Controllo orologio: \n",
            "Immagine 4\n",
            "\t File: /content/drive/My Drive/universita/progetto ml/pub/2019-12-18_14-47-58_UTC.json\n"
          ],
          "name": "stdout"
        },
        {
          "output_type": "stream",
          "text": [
            "I0228 12:26:23.781903 140220390033280 yolo_model.py:59] time: 0.25328874588012695\n"
          ],
          "name": "stderr"
        },
        {
          "output_type": "stream",
          "text": [
            "\tperson, 0.9994397163391113, [0.3004049  0.06329629 0.6493202  0.9689076 ]\n",
            "\tchair, 0.9951461553573608, [0.10969535 0.47346723 0.36244196 0.8285903 ]\n",
            "\tperson, 0.9234515428543091, [0.64105207 0.15161678 0.86329216 0.66570795]\n",
            "\tdiningtable, 0.891438901424408, [0.         0.46584982 0.21722378 0.79859656]\n",
            "Iter: 0. Controllo persona: \n",
            "Iter: 0. Persona trovata: \n",
            "Score: 0.9994397\n",
            "Iter: 0. Controllo borsa: \n",
            "Iter: 0. Controllo orologio: \n",
            "Iter: 1. Controllo persona: \n",
            "Iter: 1. Controllo borsa: \n",
            "Iter: 1. Controllo orologio: \n",
            "Iter: 2. Controllo persona: \n",
            "Iter: 2. Controllo borsa: \n",
            "Iter: 2. Controllo orologio: \n",
            "Iter: 3. Controllo persona: \n",
            "Iter: 3. Controllo borsa: \n",
            "Iter: 3. Controllo orologio: \n",
            "Immagine 5\n",
            "\t File: /content/drive/My Drive/universita/progetto ml/pub/2019-12-19_15-01-33_UTC.json\n"
          ],
          "name": "stdout"
        },
        {
          "output_type": "stream",
          "text": [
            "I0228 12:26:24.644661 140220390033280 yolo_model.py:59] time: 0.24710845947265625\n"
          ],
          "name": "stderr"
        },
        {
          "output_type": "stream",
          "text": [
            "\tperson, 0.9995524287223816, [0.3002203  0.12501946 0.8054829  1.        ]\n",
            "\thandbag, 0.9329138398170471, [0.2689146  0.71758235 0.51542735 0.9360814 ]\n",
            "\tsuitcase, 0.5030380487442017, [0.26628494 0.7581696  0.52041286 0.9419438 ]\n",
            "Iter: 0. Controllo persona: \n",
            "Iter: 0. Persona trovata: \n",
            "Score: 0.9995524\n",
            "Iter: 0. Controllo borsa: \n",
            "Iter: 0. Controllo orologio: \n",
            "Iter: 1. Controllo persona: \n",
            "Iter: 1. Controllo borsa: \n",
            "Iter: 1. Borsa trovata: \n",
            "Score: 0.93291384\n",
            "Iter: 1. Controllo orologio: \n",
            "Iter: 2. Controllo persona: \n",
            "Iter: 2. Controllo borsa: \n",
            "Iter: 2. Controllo orologio: \n",
            "Immagine 6\n",
            "\t File: /content/drive/My Drive/universita/progetto ml/pub/2019-12-19_20-13-55_UTC.json\n"
          ],
          "name": "stdout"
        },
        {
          "output_type": "stream",
          "text": [
            "I0228 12:26:25.402502 140220390033280 yolo_model.py:59] time: 0.25943851470947266\n"
          ],
          "name": "stderr"
        },
        {
          "output_type": "stream",
          "text": [
            "\tperson, 0.9985979199409485, [0.10386384 0.07400468 0.9190841  0.95678115]\n",
            "\thandbag, 0.7942875027656555, [0.27675235 0.59917545 0.53563994 0.82488894]\n",
            "Iter: 0. Controllo persona: \n",
            "Iter: 0. Persona trovata: \n",
            "Score: 0.9985979\n",
            "Iter: 0. Controllo borsa: \n",
            "Iter: 0. Controllo orologio: \n",
            "Iter: 1. Controllo persona: \n",
            "Iter: 1. Controllo borsa: \n",
            "Iter: 1. Borsa trovata: \n",
            "Score: 0.7942875\n",
            "Iter: 1. Controllo orologio: \n",
            "Immagine 7\n",
            "\t File: /content/drive/My Drive/universita/progetto ml/pub/2019-12-21_01-03-52_UTC.json\n"
          ],
          "name": "stdout"
        },
        {
          "output_type": "stream",
          "text": [
            "I0228 12:26:27.402607 140220390033280 yolo_model.py:59] time: 0.2558295726776123\n"
          ],
          "name": "stderr"
        },
        {
          "output_type": "stream",
          "text": [
            "\tperson, 0.9973790645599365, [0.41061282 0.16471964 0.6866468  0.98805326]\n",
            "\thandbag, 0.7908166646957397, [0.5694843 0.4165374 0.718777  0.6364275]\n",
            "\tpottedplant, 0.6865193843841553, [0.11262845 0.28228882 0.18024231 0.39716545]\n",
            "Iter: 0. Controllo persona: \n",
            "Iter: 0. Persona trovata: \n",
            "Score: 0.99737906\n",
            "Iter: 0. Controllo borsa: \n",
            "Iter: 0. Controllo orologio: \n",
            "Iter: 1. Controllo persona: \n",
            "Iter: 1. Controllo borsa: \n",
            "Iter: 1. Borsa trovata: \n",
            "Score: 0.79081666\n",
            "Iter: 1. Controllo orologio: \n",
            "Iter: 2. Controllo persona: \n",
            "Iter: 2. Controllo borsa: \n",
            "Iter: 2. Controllo orologio: \n",
            "Immagine 8\n",
            "\t File: /content/drive/My Drive/universita/progetto ml/pub/2019-12-21_14-49-48_UTC.json\n"
          ],
          "name": "stdout"
        },
        {
          "output_type": "stream",
          "text": [
            "I0228 12:26:30.315143 140220390033280 yolo_model.py:59] time: 0.2670743465423584\n"
          ],
          "name": "stderr"
        },
        {
          "output_type": "stream",
          "text": [
            "\tperson, 0.998580813407898, [0.35135198 0.07615271 0.6797533  0.9512571 ]\n",
            "\tcup, 0.9114460349082947, [0.39231655 0.35515782 0.4585279  0.39755836]\n",
            "\tpottedplant, 0.9004384875297546, [0.869786   0.24782982 0.98888946 0.3118874 ]\n",
            "\tbench, 0.6823720335960388, [0.6509115  0.39421636 0.97278506 0.63257223]\n",
            "\tpottedplant, 0.5961858630180359, [0.6670189  0.24357069 0.74923813 0.32411242]\n",
            "\thandbag, 0.5538792014122009, [0.35033476 0.15722707 0.67032886 0.72602797]\n",
            "Iter: 0. Controllo persona: \n",
            "Iter: 0. Persona trovata: \n",
            "Score: 0.9985808\n",
            "Iter: 0. Controllo borsa: \n",
            "Iter: 0. Controllo orologio: \n",
            "Iter: 1. Controllo persona: \n",
            "Iter: 1. Controllo borsa: \n",
            "Iter: 1. Controllo orologio: \n",
            "Iter: 2. Controllo persona: \n",
            "Iter: 2. Controllo borsa: \n",
            "Iter: 2. Controllo orologio: \n",
            "Iter: 3. Controllo persona: \n",
            "Iter: 3. Controllo borsa: \n",
            "Iter: 3. Controllo orologio: \n",
            "Iter: 4. Controllo persona: \n",
            "Iter: 4. Controllo borsa: \n",
            "Iter: 4. Controllo orologio: \n",
            "Iter: 5. Controllo persona: \n",
            "Iter: 5. Controllo borsa: \n",
            "Iter: 5. Borsa trovata: \n",
            "Score: 0.5538792\n",
            "Iter: 5. Controllo orologio: \n",
            "Immagine 9\n",
            "\t File: /content/drive/My Drive/universita/progetto ml/pub/2019-12-23_01-20-54_UTC.json\n"
          ],
          "name": "stdout"
        },
        {
          "output_type": "stream",
          "text": [
            "I0228 12:26:32.814989 140220390033280 yolo_model.py:59] time: 0.2409982681274414\n"
          ],
          "name": "stderr"
        },
        {
          "output_type": "stream",
          "text": [
            "\tperson, 0.9990720152854919, [0.268343   0.1756073  0.76494503 1.        ]\n",
            "\tperson, 0.9875127673149109, [0.7123469  0.2596245  0.7905277  0.40362927]\n",
            "\tperson, 0.9549696445465088, [0.7767203  0.2313723  0.8145275  0.33205003]\n",
            "\tperson, 0.9159714579582214, [0.28652442 0.25956637 0.37739474 0.38049924]\n",
            "\tperson, 0.9005545377731323, [0.68806416 0.25929216 0.7167612  0.32593927]\n",
            "\tperson, 0.898926317691803, [0.16729312 0.24423842 0.23613225 0.40603936]\n",
            "\tperson, 0.898231565952301, [0.96427655 0.24449313 1.         0.34009212]\n",
            "\thandbag, 0.8958418369293213, [0.55814487 0.69550073 0.8043322  0.9462507 ]\n",
            "\tperson, 0.7517991065979004, [0.07110538 0.2682215  0.11178226 0.3345729 ]\n",
            "\tperson, 0.7030466794967651, [0.8010693  0.23820247 0.8279144  0.32751322]\n",
            "\tperson, 0.6312249302864075, [0.         0.26118004 0.04994753 0.396653  ]\n",
            "\tperson, 0.6000609397888184, [0.58114475 0.25466734 0.60433143 0.34002036]\n",
            "\tperson, 0.537726640701294, [0.2091599 0.258547  0.2461551 0.3331895]\n",
            "Iter: 0. Controllo persona: \n",
            "Iter: 0. Persona trovata: \n",
            "Score: 0.999072\n",
            "Iter: 0. Controllo borsa: \n",
            "Iter: 0. Controllo orologio: \n",
            "Iter: 1. Controllo persona: \n",
            "Iter: 1. Controllo borsa: \n",
            "Iter: 1. Controllo orologio: \n",
            "Iter: 2. Controllo persona: \n",
            "Iter: 2. Controllo borsa: \n",
            "Iter: 2. Controllo orologio: \n",
            "Iter: 3. Controllo persona: \n",
            "Iter: 3. Controllo borsa: \n",
            "Iter: 3. Controllo orologio: \n",
            "Iter: 4. Controllo persona: \n",
            "Iter: 4. Controllo borsa: \n",
            "Iter: 4. Controllo orologio: \n",
            "Iter: 5. Controllo persona: \n",
            "Iter: 5. Controllo borsa: \n",
            "Iter: 5. Controllo orologio: \n",
            "Iter: 6. Controllo persona: \n",
            "Iter: 6. Controllo borsa: \n",
            "Iter: 6. Controllo orologio: \n",
            "Iter: 7. Controllo persona: \n",
            "Iter: 7. Controllo borsa: \n",
            "Iter: 7. Borsa trovata: \n",
            "Score: 0.89584184\n",
            "Iter: 7. Controllo orologio: \n",
            "Iter: 8. Controllo persona: \n",
            "Iter: 8. Controllo borsa: \n",
            "Iter: 8. Controllo orologio: \n",
            "Iter: 9. Controllo persona: \n",
            "Iter: 9. Controllo borsa: \n",
            "Iter: 9. Controllo orologio: \n",
            "Iter: 10. Controllo persona: \n",
            "Iter: 10. Controllo borsa: \n",
            "Iter: 10. Controllo orologio: \n",
            "Iter: 11. Controllo persona: \n",
            "Iter: 11. Controllo borsa: \n",
            "Iter: 11. Controllo orologio: \n",
            "Iter: 12. Controllo persona: \n",
            "Iter: 12. Controllo borsa: \n",
            "Iter: 12. Controllo orologio: \n",
            "Immagine 10\n",
            "\t File: /content/drive/My Drive/universita/progetto ml/pub/2019-12-23_16-50-40_UTC.json\n"
          ],
          "name": "stdout"
        },
        {
          "output_type": "stream",
          "text": [
            "I0228 12:26:37.495778 140220390033280 yolo_model.py:59] time: 0.2567329406738281\n"
          ],
          "name": "stderr"
        },
        {
          "output_type": "stream",
          "text": [
            "\tperson, 0.9984261393547058, [0.11915737 0.10782397 0.891576   0.9185885 ]\n",
            "\twine glass, 0.9906834363937378, [0.32377878 0.44166058 0.45518818 0.7007206 ]\n",
            "\tbowl, 0.8273788690567017, [0.01783446 0.45659167 0.12746325 0.52116805]\n",
            "\tperson, 0.6592645645141602, [0.0673684  0.20916764 0.10111701 0.31671622]\n",
            "\tdiningtable, 0.5212575793266296, [8.8670850e-04 4.7904232e-01 2.5120249e-01 9.9852419e-01]\n",
            "Iter: 0. Controllo persona: \n",
            "Iter: 0. Persona trovata: \n",
            "Score: 0.99842614\n",
            "Iter: 0. Controllo borsa: \n",
            "Iter: 0. Controllo orologio: \n",
            "Iter: 1. Controllo persona: \n",
            "Iter: 1. Controllo borsa: \n",
            "Iter: 1. Controllo orologio: \n",
            "Iter: 2. Controllo persona: \n",
            "Iter: 2. Controllo borsa: \n",
            "Iter: 2. Controllo orologio: \n",
            "Iter: 3. Controllo persona: \n",
            "Iter: 3. Controllo borsa: \n",
            "Iter: 3. Controllo orologio: \n",
            "Iter: 4. Controllo persona: \n",
            "Iter: 4. Controllo borsa: \n",
            "Iter: 4. Controllo orologio: \n",
            "Immagine 11\n",
            "\t File: /content/drive/My Drive/universita/progetto ml/pub/2019-12-23_16-50-40_UTC.json\n"
          ],
          "name": "stdout"
        },
        {
          "output_type": "stream",
          "text": [
            "I0228 12:26:39.848316 140220390033280 yolo_model.py:59] time: 0.23271751403808594\n"
          ],
          "name": "stderr"
        },
        {
          "output_type": "stream",
          "text": [
            "\tperson, 0.9965236783027649, [0.600318   0.03898084 0.99802893 0.94743407]\n",
            "\tperson, 0.99602872133255, [0.27530676 0.02171287 0.7636654  1.        ]\n",
            "\tperson, 0.9907127022743225, [0.0090379  0.03280589 0.49369776 1.        ]\n",
            "Iter: 0. Controllo persona: \n",
            "Iter: 0. Persona trovata: \n",
            "Score: 0.9965237\n",
            "Iter: 0. Controllo borsa: \n",
            "Iter: 0. Controllo orologio: \n",
            "Iter: 1. Controllo persona: \n",
            "Iter: 1. Controllo borsa: \n",
            "Iter: 1. Controllo orologio: \n",
            "Iter: 2. Controllo persona: \n",
            "Iter: 2. Controllo borsa: \n",
            "Iter: 2. Controllo orologio: \n",
            "Immagine 12\n",
            "\t File: /content/drive/My Drive/universita/progetto ml/pub/2019-12-23_16-50-40_UTC.json\n"
          ],
          "name": "stdout"
        },
        {
          "output_type": "stream",
          "text": [
            "I0228 12:26:40.969307 140220390033280 yolo_model.py:59] time: 0.24454975128173828\n"
          ],
          "name": "stderr"
        },
        {
          "output_type": "stream",
          "text": [
            "\tperson, 0.9933208227157593, [0.28591228 0.17532155 0.72240555 0.9543679 ]\n",
            "Iter: 0. Controllo persona: \n",
            "Iter: 0. Persona trovata: \n",
            "Score: 0.9933208\n",
            "Iter: 0. Controllo borsa: \n",
            "Iter: 0. Controllo orologio: \n",
            "Immagine 13\n",
            "\t File: /content/drive/My Drive/universita/progetto ml/pub/2019-12-26_16-33-00_UTC.json\n"
          ],
          "name": "stdout"
        },
        {
          "output_type": "stream",
          "text": [
            "I0228 12:26:41.586111 140220390033280 yolo_model.py:59] time: 0.23875761032104492\n"
          ],
          "name": "stderr"
        },
        {
          "output_type": "stream",
          "text": [
            "\tperson, 0.9963599443435669, [0.26001564 0.07842985 0.8925185  1.        ]\n",
            "Iter: 0. Controllo persona: \n",
            "Iter: 0. Persona trovata: \n",
            "Score: 0.99635994\n",
            "Iter: 0. Controllo borsa: \n",
            "Iter: 0. Controllo orologio: \n",
            "Immagine 14\n",
            "\t File: /content/drive/My Drive/universita/progetto ml/pub/2019-12-27_17-45-50_UTC.json\n"
          ],
          "name": "stdout"
        },
        {
          "output_type": "stream",
          "text": [
            "I0228 12:26:42.716958 140220390033280 yolo_model.py:59] time: 0.24893474578857422\n"
          ],
          "name": "stderr"
        },
        {
          "output_type": "stream",
          "text": [
            "\tperson, 0.9983330965042114, [0.37919122 0.03311092 0.74046427 0.99669284]\n",
            "\tcar, 0.6906329989433289, [0.09726302 0.25611815 0.25974694 0.32047883]\n",
            "\tcup, 0.6758114099502563, [0.35547245 0.3229922  0.42314512 0.39008617]\n",
            "\tchair, 0.5551541447639465, [0.00340995 0.66913164 0.17809533 0.9809966 ]\n",
            "Iter: 0. Controllo persona: \n",
            "Iter: 0. Persona trovata: \n",
            "Score: 0.9983331\n",
            "Iter: 0. Controllo borsa: \n",
            "Iter: 0. Controllo orologio: \n",
            "Iter: 1. Controllo persona: \n",
            "Iter: 1. Controllo borsa: \n",
            "Iter: 1. Controllo orologio: \n",
            "Iter: 2. Controllo persona: \n",
            "Iter: 2. Controllo borsa: \n",
            "Iter: 2. Controllo orologio: \n",
            "Iter: 3. Controllo persona: \n",
            "Iter: 3. Controllo borsa: \n",
            "Iter: 3. Controllo orologio: \n",
            "Immagine 15\n",
            "\t File: /content/drive/My Drive/universita/progetto ml/pub/2019-12-28_16-34-22_UTC.json\n"
          ],
          "name": "stdout"
        },
        {
          "output_type": "stream",
          "text": [
            "I0228 12:26:45.812996 140220390033280 yolo_model.py:59] time: 0.24045681953430176\n"
          ],
          "name": "stderr"
        },
        {
          "output_type": "stream",
          "text": [
            "\tperson, 0.9972341060638428, [0.30524325 0.04619351 0.7379465  1.        ]\n",
            "\thandbag, 0.7409601807594299, [0.31455573 0.2807396  0.4392918  0.68209946]\n",
            "Iter: 0. Controllo persona: \n",
            "Iter: 0. Persona trovata: \n",
            "Score: 0.9972341\n",
            "Iter: 0. Controllo borsa: \n",
            "Iter: 0. Controllo orologio: \n",
            "Iter: 1. Controllo persona: \n",
            "Iter: 1. Controllo borsa: \n",
            "Iter: 1. Borsa trovata: \n",
            "Score: 0.7409602\n",
            "Iter: 1. Controllo orologio: \n",
            "Immagine 16\n",
            "\t File: /content/drive/My Drive/universita/progetto ml/pub/2019-12-28_16-34-22_UTC.json\n"
          ],
          "name": "stdout"
        },
        {
          "output_type": "stream",
          "text": [
            "I0228 12:26:46.649383 140220390033280 yolo_model.py:59] time: 0.23319339752197266\n"
          ],
          "name": "stderr"
        },
        {
          "output_type": "stream",
          "text": [
            "\tperson, 0.9999228715896606, [0.32742396 0.06040081 0.7219875  0.98366344]\n",
            "Iter: 0. Controllo persona: \n",
            "Iter: 0. Persona trovata: \n",
            "Score: 0.9999229\n",
            "Iter: 0. Controllo borsa: \n",
            "Iter: 0. Controllo orologio: \n",
            "Immagine 17\n",
            "\t File: /content/drive/My Drive/universita/progetto ml/pub/2020-01-02_14-38-57_UTC.json\n",
            "Errore nell'apertura del file\n",
            "Immagine 18\n",
            "\t File: /content/drive/My Drive/universita/progetto ml/pub/2020-01-06_01-11-38_UTC.json\n"
          ],
          "name": "stdout"
        },
        {
          "output_type": "stream",
          "text": [
            "I0228 12:26:50.197258 140220390033280 yolo_model.py:59] time: 0.24069905281066895\n"
          ],
          "name": "stderr"
        },
        {
          "output_type": "stream",
          "text": [
            "\tperson, 0.9921181797981262, [0.2435322  0.10135624 0.7424244  0.9875151 ]\n",
            "Iter: 0. Controllo persona: \n",
            "Iter: 0. Persona trovata: \n",
            "Score: 0.9921182\n",
            "Iter: 0. Controllo borsa: \n",
            "Iter: 0. Controllo orologio: \n",
            "Immagine 19\n",
            "\t File: /content/drive/My Drive/universita/progetto ml/pub/2020-01-07_01-17-07_UTC.json\n"
          ],
          "name": "stdout"
        },
        {
          "output_type": "stream",
          "text": [
            "I0228 12:26:53.711414 140220390033280 yolo_model.py:59] time: 0.25223588943481445\n"
          ],
          "name": "stderr"
        },
        {
          "output_type": "stream",
          "text": [
            "\tperson, 0.9981663823127747, [0.20767832 0.10127714 0.6733565  0.9947256 ]\n",
            "\tperson, 0.5987402200698853, [0.6856065  0.24957275 0.9272343  0.76570237]\n",
            "\tcar, 0.5120898485183716, [0.9755433 0.3308977 0.9985725 0.4241829]\n",
            "Iter: 0. Controllo persona: \n",
            "Iter: 0. Persona trovata: \n",
            "Score: 0.9981664\n",
            "Iter: 0. Controllo borsa: \n",
            "Iter: 0. Controllo orologio: \n",
            "Iter: 1. Controllo persona: \n",
            "Iter: 1. Controllo borsa: \n",
            "Iter: 1. Controllo orologio: \n",
            "Iter: 2. Controllo persona: \n",
            "Iter: 2. Controllo borsa: \n",
            "Iter: 2. Controllo orologio: \n",
            "Immagine 20\n",
            "\t File: /content/drive/My Drive/universita/progetto ml/pub/2020-01-08_14-50-02_UTC.json\n"
          ],
          "name": "stdout"
        },
        {
          "output_type": "stream",
          "text": [
            "I0228 12:26:56.738095 140220390033280 yolo_model.py:59] time: 0.2305591106414795\n"
          ],
          "name": "stderr"
        },
        {
          "output_type": "stream",
          "text": [
            "\tperson, 0.9986533522605896, [0.18428311 0.04963738 0.83963704 0.9685436 ]\n",
            "\tcup, 0.8600547313690186, [0.23089917 0.48660564 0.3374311  0.6064311 ]\n",
            "\tchair, 0.7614107728004456, [0.2849497  0.28372073 0.8656894  1.        ]\n",
            "\tdiningtable, 0.6948754191398621, [0.         0.5066313  0.4935133  0.96605605]\n",
            "\tpottedplant, 0.6894450187683105, [0.7532424  0.462739   0.98526454 0.7049277 ]\n",
            "Iter: 0. Controllo persona: \n",
            "Iter: 0. Persona trovata: \n",
            "Score: 0.99865335\n",
            "Iter: 0. Controllo borsa: \n",
            "Iter: 0. Controllo orologio: \n",
            "Iter: 1. Controllo persona: \n",
            "Iter: 1. Controllo borsa: \n",
            "Iter: 1. Controllo orologio: \n",
            "Iter: 2. Controllo persona: \n",
            "Iter: 2. Controllo borsa: \n",
            "Iter: 2. Controllo orologio: \n",
            "Iter: 3. Controllo persona: \n",
            "Iter: 3. Controllo borsa: \n",
            "Iter: 3. Controllo orologio: \n",
            "Iter: 4. Controllo persona: \n",
            "Iter: 4. Controllo borsa: \n",
            "Iter: 4. Controllo orologio: \n",
            "Immagine 21\n",
            "\t File: /content/drive/My Drive/universita/progetto ml/pub/2020-01-09_14-53-02_UTC.json\n"
          ],
          "name": "stdout"
        },
        {
          "output_type": "stream",
          "text": [
            "I0228 12:26:58.483339 140220390033280 yolo_model.py:59] time: 0.2662384510040283\n"
          ],
          "name": "stderr"
        },
        {
          "output_type": "stream",
          "text": [
            "\tperson, 0.9885346293449402, [0.30715933 0.06878093 0.81386364 0.9907346 ]\n",
            "\thandbag, 0.5804428458213806, [0.4259079  0.53384507 0.62749714 0.74657845]\n",
            "Iter: 0. Controllo persona: \n",
            "Iter: 0. Persona trovata: \n",
            "Score: 0.9885346\n",
            "Iter: 0. Controllo borsa: \n",
            "Iter: 0. Controllo orologio: \n",
            "Iter: 1. Controllo persona: \n",
            "Iter: 1. Controllo borsa: \n",
            "Iter: 1. Borsa trovata: \n",
            "Score: 0.58044285\n",
            "Iter: 1. Controllo orologio: \n",
            "Immagine 22\n",
            "\t File: /content/drive/My Drive/universita/progetto ml/pub/2020-01-10_14-50-07_UTC.json\n"
          ],
          "name": "stdout"
        },
        {
          "output_type": "stream",
          "text": [
            "I0228 12:27:00.259763 140220390033280 yolo_model.py:59] time: 0.24725055694580078\n"
          ],
          "name": "stderr"
        },
        {
          "output_type": "stream",
          "text": [
            "\tperson, 0.9945834279060364, [0.36209348 0.04331112 0.7472913  0.9624796 ]\n",
            "\tcell phone, 0.8718417286872864, [0.68533915 0.16788197 0.7314765  0.21063977]\n",
            "Iter: 0. Controllo persona: \n",
            "Iter: 0. Persona trovata: \n",
            "Score: 0.9945834\n",
            "Iter: 0. Controllo borsa: \n",
            "Iter: 0. Controllo orologio: \n",
            "Iter: 1. Controllo persona: \n",
            "Iter: 1. Controllo borsa: \n",
            "Iter: 1. Controllo orologio: \n",
            "Immagine 23\n",
            "\t File: /content/drive/My Drive/universita/progetto ml/pub/2020-01-13_01-48-35_UTC.json\n"
          ],
          "name": "stdout"
        },
        {
          "output_type": "stream",
          "text": [
            "I0228 12:27:01.396947 140220390033280 yolo_model.py:59] time: 0.2301032543182373\n"
          ],
          "name": "stderr"
        },
        {
          "output_type": "stream",
          "text": [
            "\tperson, 0.9837124943733215, [0.3261714  0.04609999 0.6532442  0.9544381 ]\n",
            "\tbench, 0.7315643429756165, [0.80811214 0.3178255  0.9456842  0.36138242]\n",
            "Iter: 0. Controllo persona: \n",
            "Iter: 0. Persona trovata: \n",
            "Score: 0.9837125\n",
            "Iter: 0. Controllo borsa: \n",
            "Iter: 0. Controllo orologio: \n",
            "Iter: 1. Controllo persona: \n",
            "Iter: 1. Controllo borsa: \n",
            "Iter: 1. Controllo orologio: \n",
            "Immagine 24\n",
            "\t File: /content/drive/My Drive/universita/progetto ml/pub/2020-01-14_01-01-13_UTC.json\n"
          ],
          "name": "stdout"
        },
        {
          "output_type": "stream",
          "text": [
            "I0228 12:27:05.364449 140220390033280 yolo_model.py:59] time: 0.25197672843933105\n"
          ],
          "name": "stderr"
        },
        {
          "output_type": "stream",
          "text": [
            "\tperson, 0.9998737573623657, [0.3012683  0.13954371 0.6803795  1.        ]\n",
            "\tbowl, 0.9694569706916809, [0.38374785 0.5213982  0.5275172  0.6137172 ]\n",
            "\tperson, 0.8640714287757874, [0.49840438 0.15582071 0.62989426 0.35753584]\n",
            "\tperson, 0.7771962881088257, [0.36347416 0.22950241 0.41045174 0.2926561 ]\n",
            "\tsofa, 0.6727690696716309, [0.14832544 0.3213832  0.84903055 0.9785738 ]\n",
            "\tperson, 0.5313253402709961, [0.62703544 0.23813216 0.6719025  0.28811282]\n",
            "Iter: 0. Controllo persona: \n",
            "Iter: 0. Persona trovata: \n",
            "Score: 0.99987376\n",
            "Iter: 0. Controllo borsa: \n",
            "Iter: 0. Controllo orologio: \n",
            "Iter: 1. Controllo persona: \n",
            "Iter: 1. Controllo borsa: \n",
            "Iter: 1. Controllo orologio: \n",
            "Iter: 2. Controllo persona: \n",
            "Iter: 2. Controllo borsa: \n",
            "Iter: 2. Controllo orologio: \n",
            "Iter: 3. Controllo persona: \n",
            "Iter: 3. Controllo borsa: \n",
            "Iter: 3. Controllo orologio: \n",
            "Iter: 4. Controllo persona: \n",
            "Iter: 4. Controllo borsa: \n",
            "Iter: 4. Controllo orologio: \n",
            "Iter: 5. Controllo persona: \n",
            "Iter: 5. Controllo borsa: \n",
            "Iter: 5. Controllo orologio: \n",
            "Immagine 25\n",
            "\t File: /content/drive/My Drive/universita/progetto ml/pub/2020-01-15_00-01-28_UTC.json\n"
          ],
          "name": "stdout"
        },
        {
          "output_type": "stream",
          "text": [
            "I0228 12:27:09.245934 140220390033280 yolo_model.py:59] time: 0.21944642066955566\n"
          ],
          "name": "stderr"
        },
        {
          "output_type": "stream",
          "text": [
            "\tperson, 0.9991390109062195, [0.25596237 0.06114528 0.7035477  0.9749162 ]\n",
            "\thandbag, 0.9474448561668396, [0.44709057 0.5268078  0.69728786 0.74587524]\n",
            "\tbottle, 0.6420903205871582, [0.31730336 0.68254846 0.40394408 0.8290948 ]\n",
            "\thandbag, 0.5217167139053345, [0.30326125 0.22732762 0.67647517 0.9049649 ]\n",
            "Iter: 0. Controllo persona: \n",
            "Iter: 0. Persona trovata: \n",
            "Score: 0.999139\n",
            "Iter: 0. Controllo borsa: \n",
            "Iter: 0. Controllo orologio: \n",
            "Iter: 1. Controllo persona: \n",
            "Iter: 1. Controllo borsa: \n",
            "Iter: 1. Borsa trovata: \n",
            "Score: 0.94744486\n",
            "Iter: 1. Controllo orologio: \n",
            "Iter: 2. Controllo persona: \n",
            "Iter: 2. Controllo borsa: \n",
            "Iter: 2. Controllo orologio: \n",
            "Iter: 3. Controllo persona: \n",
            "Iter: 3. Controllo borsa: \n",
            "Iter: 3. Controllo orologio: \n",
            "Immagine 26\n",
            "\t File: /content/drive/My Drive/universita/progetto ml/pub/2020-01-15_16-13-00_UTC.json\n"
          ],
          "name": "stdout"
        },
        {
          "output_type": "stream",
          "text": [
            "I0228 12:27:10.215572 140220390033280 yolo_model.py:59] time: 0.2702033519744873\n"
          ],
          "name": "stderr"
        },
        {
          "output_type": "stream",
          "text": [
            "\tperson, 0.9997152090072632, [0.29076886 0.03805318 0.8111495  1.        ]\n",
            "Iter: 0. Controllo persona: \n",
            "Iter: 0. Persona trovata: \n",
            "Score: 0.9997152\n",
            "Iter: 0. Controllo borsa: \n",
            "Iter: 0. Controllo orologio: \n",
            "Immagine 27\n",
            "\t File: /content/drive/My Drive/universita/progetto ml/pub/2020-01-15_16-13-00_UTC.json\n"
          ],
          "name": "stdout"
        },
        {
          "output_type": "stream",
          "text": [
            "I0228 12:27:11.509162 140220390033280 yolo_model.py:59] time: 0.2206888198852539\n"
          ],
          "name": "stderr"
        },
        {
          "output_type": "stream",
          "text": [
            "\tperson, 0.9980859756469727, [0.2818086  0.06681004 0.7402009  0.95744836]\n",
            "Iter: 0. Controllo persona: \n",
            "Iter: 0. Persona trovata: \n",
            "Score: 0.998086\n",
            "Iter: 0. Controllo borsa: \n",
            "Iter: 0. Controllo orologio: \n",
            "Immagine 28\n",
            "\t File: /content/drive/My Drive/universita/progetto ml/pub/2020-01-18_15-15-20_UTC.json\n"
          ],
          "name": "stdout"
        },
        {
          "output_type": "stream",
          "text": [
            "I0228 12:27:13.377556 140220390033280 yolo_model.py:59] time: 0.23594260215759277\n"
          ],
          "name": "stderr"
        },
        {
          "output_type": "stream",
          "text": [
            "\tperson, 0.9977595806121826, [0.19833818 0.14911848 0.95673966 1.        ]\n",
            "\tchair, 0.9744431972503662, [0.14545283 0.48404747 0.6822021  1.        ]\n",
            "\tcup, 0.9473152160644531, [0.4020541  0.48320815 0.5134094  0.5661144 ]\n",
            "\tbottle, 0.9455254077911377, [0.4826031  0.11595726 0.5060013  0.16774613]\n",
            "\tbottle, 0.8820348381996155, [0.6295668  0.08415805 0.6541165  0.15030351]\n",
            "\tbottle, 0.8767402768135071, [0.65462667 0.08615021 0.67923063 0.14219208]\n",
            "\tbottle, 0.8750187754631042, [0.57642806 0.09775557 0.59377074 0.15365939]\n",
            "\tbottle, 0.8422079682350159, [0.5170746  0.11250678 0.5369036  0.16448192]\n",
            "\tbottle, 0.8334102630615234, [0.55335927 0.09591613 0.5786452  0.15802743]\n",
            "\tbottle, 0.8136870861053467, [0.42110676 0.11738554 0.44193602 0.17533457]\n",
            "\tbottle, 0.7876855134963989, [0.59504485 0.10426906 0.615278   0.15218759]\n",
            "\tchair, 0.7784561514854431, [0.         0.47786668 0.24276939 0.9873053 ]\n",
            "\tbottle, 0.7325064539909363, [0.68835884 0.07707436 0.7157665  0.14283365]\n",
            "\tbottle, 0.6451796889305115, [0.658782  0.3016788 0.6816064 0.3691382]\n",
            "\tbottle, 0.5768988728523254, [0.54294413 0.0935972  0.56228274 0.16172472]\n",
            "Iter: 0. Controllo persona: \n",
            "Iter: 0. Persona trovata: \n",
            "Score: 0.9977596\n",
            "Iter: 0. Controllo borsa: \n",
            "Iter: 0. Controllo orologio: \n",
            "Iter: 1. Controllo persona: \n",
            "Iter: 1. Controllo borsa: \n",
            "Iter: 1. Controllo orologio: \n",
            "Iter: 2. Controllo persona: \n",
            "Iter: 2. Controllo borsa: \n",
            "Iter: 2. Controllo orologio: \n",
            "Iter: 3. Controllo persona: \n",
            "Iter: 3. Controllo borsa: \n",
            "Iter: 3. Controllo orologio: \n",
            "Iter: 4. Controllo persona: \n",
            "Iter: 4. Controllo borsa: \n",
            "Iter: 4. Controllo orologio: \n",
            "Iter: 5. Controllo persona: \n",
            "Iter: 5. Controllo borsa: \n",
            "Iter: 5. Controllo orologio: \n",
            "Iter: 6. Controllo persona: \n",
            "Iter: 6. Controllo borsa: \n",
            "Iter: 6. Controllo orologio: \n",
            "Iter: 7. Controllo persona: \n",
            "Iter: 7. Controllo borsa: \n",
            "Iter: 7. Controllo orologio: \n",
            "Iter: 8. Controllo persona: \n",
            "Iter: 8. Controllo borsa: \n",
            "Iter: 8. Controllo orologio: \n",
            "Iter: 9. Controllo persona: \n",
            "Iter: 9. Controllo borsa: \n",
            "Iter: 9. Controllo orologio: \n",
            "Iter: 10. Controllo persona: \n",
            "Iter: 10. Controllo borsa: \n",
            "Iter: 10. Controllo orologio: \n",
            "Iter: 11. Controllo persona: \n",
            "Iter: 11. Controllo borsa: \n",
            "Iter: 11. Controllo orologio: \n",
            "Iter: 12. Controllo persona: \n",
            "Iter: 12. Controllo borsa: \n",
            "Iter: 12. Controllo orologio: \n",
            "Iter: 13. Controllo persona: \n",
            "Iter: 13. Controllo borsa: \n",
            "Iter: 13. Controllo orologio: \n",
            "Iter: 14. Controllo persona: \n",
            "Iter: 14. Controllo borsa: \n",
            "Iter: 14. Controllo orologio: \n",
            "Immagine 29\n",
            "\t File: /content/drive/My Drive/universita/progetto ml/pub/2020-01-20_00-31-41_UTC.json\n"
          ],
          "name": "stdout"
        },
        {
          "output_type": "stream",
          "text": [
            "I0228 12:27:14.186635 140220390033280 yolo_model.py:59] time: 0.21750712394714355\n"
          ],
          "name": "stderr"
        },
        {
          "output_type": "stream",
          "text": [
            "\tperson, 0.9321337342262268, [0.01913747 0.16616115 0.66063786 0.9824513 ]\n",
            "\tperson, 0.7403042912483215, [0.16978103 0.19411469 0.9704365  0.9573661 ]\n",
            "Iter: 0. Controllo persona: \n",
            "Iter: 0. Persona trovata: \n",
            "Score: 0.93213373\n",
            "Iter: 0. Controllo borsa: \n",
            "Iter: 0. Controllo orologio: \n",
            "Iter: 1. Controllo persona: \n",
            "Iter: 1. Controllo borsa: \n",
            "Iter: 1. Controllo orologio: \n",
            "Immagine 30\n",
            "\t File: /content/drive/My Drive/universita/progetto ml/pub/2020-01-20_14-57-55_UTC.json\n"
          ],
          "name": "stdout"
        },
        {
          "output_type": "stream",
          "text": [
            "I0228 12:27:15.025798 140220390033280 yolo_model.py:59] time: 0.2334742546081543\n"
          ],
          "name": "stderr"
        },
        {
          "output_type": "stream",
          "text": [
            "\tperson, 0.9985456466674805, [0.26715732 0.02399027 0.83931303 0.9829949 ]\n",
            "\thandbag, 0.5599295496940613, [0.40237856 0.35431576 0.7598586  0.8027705 ]\n",
            "Iter: 0. Controllo persona: \n",
            "Iter: 0. Persona trovata: \n",
            "Score: 0.99854565\n",
            "Iter: 0. Controllo borsa: \n",
            "Iter: 0. Controllo orologio: \n",
            "Iter: 1. Controllo persona: \n",
            "Iter: 1. Controllo borsa: \n",
            "Iter: 1. Borsa trovata: \n",
            "Score: 0.55992955\n",
            "Iter: 1. Controllo orologio: \n",
            "Immagine 31\n",
            "\t File: /content/drive/My Drive/universita/progetto ml/pub/2020-01-22_00-00-21_UTC.json\n"
          ],
          "name": "stdout"
        },
        {
          "output_type": "stream",
          "text": [
            "I0228 12:27:15.812321 140220390033280 yolo_model.py:59] time: 0.23447418212890625\n"
          ],
          "name": "stderr"
        },
        {
          "output_type": "stream",
          "text": [
            "\tperson, 0.9851686954498291, [0.2542305  0.07527408 0.7094602  0.9795517 ]\n",
            "\tcup, 0.8943899273872375, [0.31714433 0.37531105 0.4059555  0.5013151 ]\n",
            "Iter: 0. Controllo persona: \n",
            "Iter: 0. Persona trovata: \n",
            "Score: 0.9851687\n",
            "Iter: 0. Controllo borsa: \n",
            "Iter: 0. Controllo orologio: \n",
            "Iter: 1. Controllo persona: \n",
            "Iter: 1. Controllo borsa: \n",
            "Iter: 1. Controllo orologio: \n",
            "Immagine 32\n",
            "\t File: /content/drive/My Drive/universita/progetto ml/pub/2020-01-23_15-13-13_UTC.json\n"
          ],
          "name": "stdout"
        },
        {
          "output_type": "stream",
          "text": [
            "I0228 12:27:18.315250 140220390033280 yolo_model.py:59] time: 0.24857354164123535\n"
          ],
          "name": "stderr"
        },
        {
          "output_type": "stream",
          "text": [
            "\tperson, 0.999445378780365, [0.37920186 0.01196951 0.7302655  1.        ]\n",
            "\tcup, 0.8999890685081482, [0.3787599  0.36117953 0.44933334 0.43794703]\n",
            "Iter: 0. Controllo persona: \n",
            "Iter: 0. Persona trovata: \n",
            "Score: 0.9994454\n",
            "Iter: 0. Controllo borsa: \n",
            "Iter: 0. Controllo orologio: \n",
            "Iter: 1. Controllo persona: \n",
            "Iter: 1. Controllo borsa: \n",
            "Iter: 1. Controllo orologio: \n",
            "Immagine 33\n",
            "\t File: /content/drive/My Drive/universita/progetto ml/pub/2020-01-25_16-03-31_UTC.json\n"
          ],
          "name": "stdout"
        },
        {
          "output_type": "stream",
          "text": [
            "I0228 12:27:22.604143 140220390033280 yolo_model.py:59] time: 0.2263319492340088\n"
          ],
          "name": "stderr"
        },
        {
          "output_type": "stream",
          "text": [
            "\tperson, 0.9822612404823303, [0.30446377 0.15142944 0.8397331  0.9821185 ]\n",
            "\tdiningtable, 0.9640288352966309, [0.00993648 0.62196255 0.697253   1.        ]\n",
            "\tbowl, 0.8591997623443604, [0.34805387 0.5905206  0.518987   0.70902896]\n",
            "\tsofa, 0.8066929578781128, [0.09389356 0.32700393 0.894966   0.9856508 ]\n",
            "\tfork, 0.6812349557876587, [0.21008033 0.8362052  0.44093078 0.9174276 ]\n",
            "\tsofa, 0.5003402233123779, [0.70824695 0.47145173 0.9986043  0.9944171 ]\n",
            "Iter: 0. Controllo persona: \n",
            "Iter: 0. Persona trovata: \n",
            "Score: 0.98226124\n",
            "Iter: 0. Controllo borsa: \n",
            "Iter: 0. Controllo orologio: \n",
            "Iter: 1. Controllo persona: \n",
            "Iter: 1. Controllo borsa: \n",
            "Iter: 1. Controllo orologio: \n",
            "Iter: 2. Controllo persona: \n",
            "Iter: 2. Controllo borsa: \n",
            "Iter: 2. Controllo orologio: \n",
            "Iter: 3. Controllo persona: \n",
            "Iter: 3. Controllo borsa: \n",
            "Iter: 3. Controllo orologio: \n",
            "Iter: 4. Controllo persona: \n",
            "Iter: 4. Controllo borsa: \n",
            "Iter: 4. Controllo orologio: \n",
            "Iter: 5. Controllo persona: \n",
            "Iter: 5. Controllo borsa: \n",
            "Iter: 5. Controllo orologio: \n",
            "Immagine 34\n",
            "\t File: /content/drive/My Drive/universita/progetto ml/pub/2020-01-29_00-28-59_UTC.json\n"
          ],
          "name": "stdout"
        },
        {
          "output_type": "stream",
          "text": [
            "I0228 12:27:24.230408 140220390033280 yolo_model.py:59] time: 0.2203059196472168\n"
          ],
          "name": "stderr"
        },
        {
          "output_type": "stream",
          "text": [
            "\tperson, 0.9977979063987732, [0.32234228 0.10326058 0.7797942  1.        ]\n",
            "\thandbag, 0.5271910429000854, [0.3062015  0.5277337  0.43776742 0.72673655]\n",
            "Iter: 0. Controllo persona: \n",
            "Iter: 0. Persona trovata: \n",
            "Score: 0.9977979\n",
            "Iter: 0. Controllo borsa: \n",
            "Iter: 0. Controllo orologio: \n",
            "Iter: 1. Controllo persona: \n",
            "Iter: 1. Controllo borsa: \n",
            "Iter: 1. Borsa trovata: \n",
            "Score: 0.52719104\n",
            "Iter: 1. Controllo orologio: \n",
            "Immagine 35\n",
            "\t File: /content/drive/My Drive/universita/progetto ml/pub/2020-01-29_15-01-36_UTC.json\n"
          ],
          "name": "stdout"
        },
        {
          "output_type": "stream",
          "text": [
            "I0228 12:27:29.781606 140220390033280 yolo_model.py:59] time: 0.23941826820373535\n"
          ],
          "name": "stderr"
        },
        {
          "output_type": "stream",
          "text": [
            "\tperson, 0.9973149299621582, [0.29288244 0.02335641 0.8016881  1.        ]\n",
            "\thandbag, 0.9100600481033325, [0.23135339 0.73789626 0.42211497 0.9915311 ]\n",
            "Iter: 0. Controllo persona: \n",
            "Iter: 0. Persona trovata: \n",
            "Score: 0.99731493\n",
            "Iter: 0. Controllo borsa: \n",
            "Iter: 0. Controllo orologio: \n",
            "Iter: 1. Controllo persona: \n",
            "Iter: 1. Controllo borsa: \n",
            "Iter: 1. Borsa trovata: \n",
            "Score: 0.91006005\n",
            "Iter: 1. Controllo orologio: \n",
            "Immagine 36\n",
            "\t File: /content/drive/My Drive/universita/progetto ml/pub/2020-01-30_15-13-15_UTC.json\n"
          ],
          "name": "stdout"
        },
        {
          "output_type": "stream",
          "text": [
            "I0228 12:27:30.750228 140220390033280 yolo_model.py:59] time: 0.2655143737792969\n"
          ],
          "name": "stderr"
        },
        {
          "output_type": "stream",
          "text": [
            "\tperson, 0.9993268847465515, [0.3248395  0.09476495 0.68506384 0.9293281 ]\n",
            "\tcup, 0.9288860559463501, [0.35640407 0.31752214 0.42006707 0.38872448]\n",
            "Iter: 0. Controllo persona: \n",
            "Iter: 0. Persona trovata: \n",
            "Score: 0.9993269\n",
            "Iter: 0. Controllo borsa: \n",
            "Iter: 0. Controllo orologio: \n",
            "Iter: 1. Controllo persona: \n",
            "Iter: 1. Controllo borsa: \n",
            "Iter: 1. Controllo orologio: \n",
            "Immagine 37\n",
            "\t File: /content/drive/My Drive/universita/progetto ml/pub/2020-02-03_01-11-24_UTC.json\n"
          ],
          "name": "stdout"
        },
        {
          "output_type": "stream",
          "text": [
            "I0228 12:27:31.651023 140220390033280 yolo_model.py:59] time: 0.2349691390991211\n"
          ],
          "name": "stderr"
        },
        {
          "output_type": "stream",
          "text": [
            "\tperson, 0.9915461540222168, [0.25188342 0.08342111 0.78948545 0.9721048 ]\n",
            "Iter: 0. Controllo persona: \n",
            "Iter: 0. Persona trovata: \n",
            "Score: 0.99154615\n",
            "Iter: 0. Controllo borsa: \n",
            "Iter: 0. Controllo orologio: \n",
            "Immagine 38\n",
            "\t File: /content/drive/My Drive/universita/progetto ml/pub/2020-02-04_01-00-03_UTC.json\n"
          ],
          "name": "stdout"
        },
        {
          "output_type": "stream",
          "text": [
            "I0228 12:27:36.494884 140220390033280 yolo_model.py:59] time: 0.23495078086853027\n"
          ],
          "name": "stderr"
        },
        {
          "output_type": "stream",
          "text": [
            "\tperson, 0.9997439980506897, [0.35954016 0.0719468  0.68850857 0.94617385]\n",
            "\tsuitcase, 0.6937488913536072, [0.35846654 0.583825   0.51541007 0.704376  ]\n",
            "Iter: 0. Controllo persona: \n",
            "Iter: 0. Persona trovata: \n",
            "Score: 0.999744\n",
            "Iter: 0. Controllo borsa: \n",
            "Iter: 0. Controllo orologio: \n",
            "Iter: 1. Controllo persona: \n",
            "Iter: 1. Controllo borsa: \n",
            "Iter: 1. Controllo orologio: \n",
            "Immagine 39\n",
            "\t File: /content/drive/My Drive/universita/progetto ml/pub/2020-02-04_14-51-58_UTC.json\n"
          ],
          "name": "stdout"
        },
        {
          "output_type": "stream",
          "text": [
            "I0228 12:27:38.733927 140220390033280 yolo_model.py:59] time: 0.25083231925964355\n"
          ],
          "name": "stderr"
        },
        {
          "output_type": "stream",
          "text": [
            "\tperson, 0.9954773783683777, [0.3235342  0.05140296 0.8034728  0.97337544]\n",
            "\tteddy bear, 0.9944677948951721, [0.3126704  0.15455288 0.5441317  0.4372635 ]\n",
            "\tcar, 0.5395991802215576, [0.07651152 0.32342306 0.16114748 0.40173385]\n",
            "Iter: 0. Controllo persona: \n",
            "Iter: 0. Persona trovata: \n",
            "Score: 0.9954774\n",
            "Iter: 0. Controllo borsa: \n",
            "Iter: 0. Controllo orologio: \n",
            "Iter: 1. Controllo persona: \n",
            "Iter: 1. Controllo borsa: \n",
            "Iter: 1. Controllo orologio: \n",
            "Iter: 2. Controllo persona: \n",
            "Iter: 2. Controllo borsa: \n",
            "Iter: 2. Controllo orologio: \n",
            "Immagine 40\n",
            "\t File: /content/drive/My Drive/universita/progetto ml/pub/2020-02-04_14-51-58_UTC.json\n"
          ],
          "name": "stdout"
        },
        {
          "output_type": "stream",
          "text": [
            "I0228 12:27:39.945953 140220390033280 yolo_model.py:59] time: 0.2267155647277832\n"
          ],
          "name": "stderr"
        },
        {
          "output_type": "stream",
          "text": [
            "\tperson, 0.9950085878372192, [0.26227137 0.08667457 0.76792026 0.9590962 ]\n",
            "\tteddy bear, 0.9091270565986633, [0.27897346 0.21579733 0.502338   0.5124481 ]\n",
            "Iter: 0. Controllo persona: \n",
            "Iter: 0. Persona trovata: \n",
            "Score: 0.9950086\n",
            "Iter: 0. Controllo borsa: \n",
            "Iter: 0. Controllo orologio: \n",
            "Iter: 1. Controllo persona: \n",
            "Iter: 1. Controllo borsa: \n",
            "Iter: 1. Controllo orologio: \n",
            "Immagine 41\n",
            "\t File: /content/drive/My Drive/universita/progetto ml/pub/2020-02-05_14-51-49_UTC.json\n"
          ],
          "name": "stdout"
        },
        {
          "output_type": "stream",
          "text": [
            "I0228 12:27:44.646928 140220390033280 yolo_model.py:59] time: 0.22489118576049805\n"
          ],
          "name": "stderr"
        },
        {
          "output_type": "stream",
          "text": [
            "\tperson, 0.9998973608016968, [0.38493806 0.06239209 0.78490144 0.9652548 ]\n",
            "\tcup, 0.9810380935668945, [0.40664473 0.3973484  0.4737018  0.4694816 ]\n",
            "\tchair, 0.9484378099441528, [0.00485112 0.56034106 0.27496004 1.        ]\n",
            "\tdiningtable, 0.9184898138046265, [0.04503223 0.37793425 0.5882695  0.9742868 ]\n",
            "\tchair, 0.8582643270492554, [0.548097   0.36745775 0.87124574 0.9230503 ]\n",
            "\tpottedplant, 0.5597959756851196, [0.7580549  0.34348154 0.9615845  0.537382  ]\n",
            "Iter: 0. Controllo persona: \n",
            "Iter: 0. Persona trovata: \n",
            "Score: 0.99989736\n",
            "Iter: 0. Controllo borsa: \n",
            "Iter: 0. Controllo orologio: \n",
            "Iter: 1. Controllo persona: \n",
            "Iter: 1. Controllo borsa: \n",
            "Iter: 1. Controllo orologio: \n",
            "Iter: 2. Controllo persona: \n",
            "Iter: 2. Controllo borsa: \n",
            "Iter: 2. Controllo orologio: \n",
            "Iter: 3. Controllo persona: \n",
            "Iter: 3. Controllo borsa: \n",
            "Iter: 3. Controllo orologio: \n",
            "Iter: 4. Controllo persona: \n",
            "Iter: 4. Controllo borsa: \n",
            "Iter: 4. Controllo orologio: \n",
            "Iter: 5. Controllo persona: \n",
            "Iter: 5. Controllo borsa: \n",
            "Iter: 5. Controllo orologio: \n",
            "Immagine 42\n",
            "\t File: /content/drive/My Drive/universita/progetto ml/pub/2020-02-06_15-12-50_UTC.json\n"
          ],
          "name": "stdout"
        },
        {
          "output_type": "stream",
          "text": [
            "I0228 12:27:47.200317 140220390033280 yolo_model.py:59] time: 0.26127052307128906\n"
          ],
          "name": "stderr"
        },
        {
          "output_type": "stream",
          "text": [
            "\tperson, 0.999566376209259, [0.2085926  0.04261616 0.79168826 1.        ]\n",
            "Iter: 0. Controllo persona: \n",
            "Iter: 0. Persona trovata: \n",
            "Score: 0.9995664\n",
            "Iter: 0. Controllo borsa: \n",
            "Iter: 0. Controllo orologio: \n",
            "Immagine 43\n",
            "\t File: /content/drive/My Drive/universita/progetto ml/pub/2020-02-07_18-53-14_UTC.json\n"
          ],
          "name": "stdout"
        },
        {
          "output_type": "stream",
          "text": [
            "I0228 12:27:52.243229 140220390033280 yolo_model.py:59] time: 0.2582695484161377\n"
          ],
          "name": "stderr"
        },
        {
          "output_type": "stream",
          "text": [
            "\tperson, 0.9978571534156799, [0.08641899 0.12524351 0.7415635  1.        ]\n",
            "\tcar, 0.9975442886352539, [0.6891672  0.45446184 0.7916736  0.5381398 ]\n",
            "\tcar, 0.9869581460952759, [0.7953396 0.4430108 0.9975903 0.5908787]\n",
            "\tcell phone, 0.9590892791748047, [0.369783   0.6012111  0.50252616 0.6443113 ]\n",
            "Iter: 0. Controllo persona: \n",
            "Iter: 0. Persona trovata: \n",
            "Score: 0.99785715\n",
            "Iter: 0. Controllo borsa: \n",
            "Iter: 0. Controllo orologio: \n",
            "Iter: 1. Controllo persona: \n",
            "Iter: 1. Controllo borsa: \n",
            "Iter: 1. Controllo orologio: \n",
            "Iter: 2. Controllo persona: \n",
            "Iter: 2. Controllo borsa: \n",
            "Iter: 2. Controllo orologio: \n",
            "Iter: 3. Controllo persona: \n",
            "Iter: 3. Controllo borsa: \n",
            "Iter: 3. Controllo orologio: \n",
            "Immagine 44\n",
            "\t File: /content/drive/My Drive/universita/progetto ml/pub/2020-02-07_21-02-12_UTC.json\n"
          ],
          "name": "stdout"
        },
        {
          "output_type": "stream",
          "text": [
            "I0228 12:27:53.043511 140220390033280 yolo_model.py:59] time: 0.26558756828308105\n"
          ],
          "name": "stderr"
        },
        {
          "output_type": "stream",
          "text": [
            "\tcar, 0.9896461367607117, [0.8326472  0.32934085 1.         0.4713224 ]\n",
            "\tcar, 0.9815539717674255, [0.5610459  0.3083231  0.67299294 0.3718326 ]\n",
            "\tcar, 0.9731687903404236, [0.63273484 0.30254    0.9261239  0.4374404 ]\n",
            "\tperson, 0.97265625, [0.27597296 0.10263622 0.5538254  0.99195516]\n",
            "\tbicycle, 0.9467548131942749, [0.09827629 0.3058483  0.16819477 0.41144955]\n",
            "Iter: 0. Controllo persona: \n",
            "Iter: 0. Controllo borsa: \n",
            "Iter: 0. Controllo orologio: \n",
            "Iter: 1. Controllo persona: \n",
            "Iter: 1. Controllo borsa: \n",
            "Iter: 1. Controllo orologio: \n",
            "Iter: 2. Controllo persona: \n",
            "Iter: 2. Controllo borsa: \n",
            "Iter: 2. Controllo orologio: \n",
            "Iter: 3. Controllo persona: \n",
            "Iter: 3. Persona trovata: \n",
            "Score: 0.97265625\n",
            "Iter: 3. Controllo borsa: \n",
            "Iter: 3. Controllo orologio: \n",
            "Iter: 4. Controllo persona: \n",
            "Iter: 4. Controllo borsa: \n",
            "Iter: 4. Controllo orologio: \n",
            "Immagine 45\n",
            "\t File: /content/drive/My Drive/universita/progetto ml/pub/2020-02-11_00-00-04_UTC.json\n"
          ],
          "name": "stdout"
        },
        {
          "output_type": "stream",
          "text": [
            "I0228 12:27:54.296522 140220390033280 yolo_model.py:59] time: 0.25488972663879395\n"
          ],
          "name": "stderr"
        },
        {
          "output_type": "stream",
          "text": [
            "\tperson, 0.9978760480880737, [0.49170765 0.09577224 0.84050393 0.9539573 ]\n",
            "\tpottedplant, 0.618704617023468, [0.6611829  0.04362974 0.9685898  0.7599144 ]\n",
            "Iter: 0. Controllo persona: \n",
            "Iter: 0. Persona trovata: \n",
            "Score: 0.99787605\n",
            "Iter: 0. Controllo borsa: \n",
            "Iter: 0. Controllo orologio: \n",
            "Iter: 1. Controllo persona: \n",
            "Iter: 1. Controllo borsa: \n",
            "Iter: 1. Controllo orologio: \n",
            "Immagine 46\n",
            "\t File: /content/drive/My Drive/universita/progetto ml/pub/2020-02-11_15-17-29_UTC.json\n"
          ],
          "name": "stdout"
        },
        {
          "output_type": "stream",
          "text": [
            "I0228 12:27:55.642017 140220390033280 yolo_model.py:59] time: 0.2508249282836914\n"
          ],
          "name": "stderr"
        },
        {
          "output_type": "stream",
          "text": [
            "\tperson, 0.9995335936546326, [0.23897359 0.04789045 0.7604164  0.99716234]\n",
            "\tcup, 0.9865767955780029, [0.15195726 0.47014055 0.28190136 0.59822726]\n",
            "Iter: 0. Controllo persona: \n",
            "Iter: 0. Persona trovata: \n",
            "Score: 0.9995336\n",
            "Iter: 0. Controllo borsa: \n",
            "Iter: 0. Controllo orologio: \n",
            "Iter: 1. Controllo persona: \n",
            "Iter: 1. Controllo borsa: \n",
            "Iter: 1. Controllo orologio: \n",
            "Immagine 47\n",
            "\t File: /content/drive/My Drive/universita/progetto ml/pub/2020-02-12_17-39-41_UTC.json\n"
          ],
          "name": "stdout"
        },
        {
          "output_type": "stream",
          "text": [
            "I0228 12:27:58.472607 140220390033280 yolo_model.py:59] time: 0.2713611125946045\n"
          ],
          "name": "stderr"
        },
        {
          "output_type": "stream",
          "text": [
            "\tperson, 0.9999278783798218, [0.36623532 0.13271236 0.75672907 0.9996208 ]\n",
            "\thandbag, 0.9543362259864807, [0.38124076 0.29834455 0.47966465 0.6068792 ]\n",
            "Iter: 0. Controllo persona: \n",
            "Iter: 0. Persona trovata: \n",
            "Score: 0.9999279\n",
            "Iter: 0. Controllo borsa: \n",
            "Iter: 0. Controllo orologio: \n",
            "Iter: 1. Controllo persona: \n",
            "Iter: 1. Controllo borsa: \n",
            "Iter: 1. Borsa trovata: \n",
            "Score: 0.9543362\n",
            "Iter: 1. Controllo orologio: \n",
            "Immagine 48\n",
            "\t File: /content/drive/My Drive/universita/progetto ml/pub/2020-02-16_17-16-55_UTC.json\n"
          ],
          "name": "stdout"
        },
        {
          "output_type": "stream",
          "text": [
            "I0228 12:27:59.851362 140220390033280 yolo_model.py:59] time: 0.25468873977661133\n"
          ],
          "name": "stderr"
        },
        {
          "output_type": "stream",
          "text": [
            "\tperson, 0.997992992401123, [0.14756972 0.10992602 0.71726465 0.9798763 ]\n",
            "\trefrigerator, 0.7981122136116028, [0.01253095 0.08609864 0.6993133  0.94679236]\n",
            "\tcell phone, 0.7746513485908508, [0.47570336 0.1856542  0.58105373 0.34062317]\n",
            "Iter: 0. Controllo persona: \n",
            "Iter: 0. Persona trovata: \n",
            "Score: 0.997993\n",
            "Iter: 0. Controllo borsa: \n",
            "Iter: 0. Controllo orologio: \n",
            "Iter: 1. Controllo persona: \n",
            "Iter: 1. Controllo borsa: \n",
            "Iter: 1. Controllo orologio: \n",
            "Iter: 2. Controllo persona: \n",
            "Iter: 2. Controllo borsa: \n",
            "Iter: 2. Controllo orologio: \n",
            "Immagine 49\n",
            "\t File: /content/drive/My Drive/universita/progetto ml/pub/2020-02-16_17-16-55_UTC.json\n"
          ],
          "name": "stdout"
        },
        {
          "output_type": "stream",
          "text": [
            "I0228 12:28:03.373670 140220390033280 yolo_model.py:59] time: 0.2535991668701172\n"
          ],
          "name": "stderr"
        },
        {
          "output_type": "stream",
          "text": [
            "\tperson, 0.9997215867042542, [0.28015298 0.07381967 0.6676536  1.        ]\n",
            "\trefrigerator, 0.850705623626709, [0.23992154 0.07534939 0.66924334 0.97168916]\n",
            "Iter: 0. Controllo persona: \n",
            "Iter: 0. Persona trovata: \n",
            "Score: 0.9997216\n",
            "Iter: 0. Controllo borsa: \n",
            "Iter: 0. Controllo orologio: \n",
            "Iter: 1. Controllo persona: \n",
            "Iter: 1. Controllo borsa: \n",
            "Iter: 1. Controllo orologio: \n",
            "Immagine 50\n",
            "\t File: /content/drive/My Drive/universita/progetto ml/pub/2020-02-16_17-16-55_UTC.json\n"
          ],
          "name": "stdout"
        },
        {
          "output_type": "stream",
          "text": [
            "I0228 12:28:04.437153 140220390033280 yolo_model.py:59] time: 0.22748947143554688\n"
          ],
          "name": "stderr"
        },
        {
          "output_type": "stream",
          "text": [
            "\tperson, 0.9997643232345581, [0.16547096 0.06503251 0.7135482  0.98149264]\n",
            "\tcup, 0.9925607442855835, [0.26708707 0.50500256 0.40191355 0.70611435]\n",
            "\tcell phone, 0.9695714116096497, [0.4840179  0.18207425 0.60694414 0.34648323]\n",
            "Iter: 0. Controllo persona: \n",
            "Iter: 0. Persona trovata: \n",
            "Score: 0.9997643\n",
            "Iter: 0. Controllo borsa: \n",
            "Iter: 0. Controllo orologio: \n",
            "Iter: 1. Controllo persona: \n",
            "Iter: 1. Controllo borsa: \n",
            "Iter: 1. Controllo orologio: \n",
            "Iter: 2. Controllo persona: \n",
            "Iter: 2. Controllo borsa: \n",
            "Iter: 2. Controllo orologio: \n",
            "Immagine 51\n",
            "\t File: /content/drive/My Drive/universita/progetto ml/pub/2020-02-16_17-16-55_UTC.json\n"
          ],
          "name": "stdout"
        },
        {
          "output_type": "stream",
          "text": [
            "I0228 12:28:06.377064 140220390033280 yolo_model.py:59] time: 0.22588634490966797\n"
          ],
          "name": "stderr"
        },
        {
          "output_type": "stream",
          "text": [
            "\tperson, 0.9925547242164612, [0.10518175 0.07822672 0.6960114  0.97477305]\n",
            "\thandbag, 0.9281719326972961, [0.53498536 0.5303921  0.7239161  0.7970198 ]\n",
            "\tcell phone, 0.5410875082015991, [0.4339611  0.19472143 0.55070966 0.32798705]\n",
            "Iter: 0. Controllo persona: \n",
            "Iter: 0. Persona trovata: \n",
            "Score: 0.9925547\n",
            "Iter: 0. Controllo borsa: \n",
            "Iter: 0. Controllo orologio: \n",
            "Iter: 1. Controllo persona: \n",
            "Iter: 1. Controllo borsa: \n",
            "Iter: 1. Borsa trovata: \n",
            "Score: 0.92817193\n",
            "Iter: 1. Controllo orologio: \n",
            "Iter: 2. Controllo persona: \n",
            "Iter: 2. Controllo borsa: \n",
            "Iter: 2. Controllo orologio: \n",
            "Immagine 52\n",
            "\t File: /content/drive/My Drive/universita/progetto ml/pub/2020-02-17_14-56-26_UTC.json\n"
          ],
          "name": "stdout"
        },
        {
          "output_type": "stream",
          "text": [
            "I0228 12:28:07.786502 140220390033280 yolo_model.py:59] time: 0.25380849838256836\n"
          ],
          "name": "stderr"
        },
        {
          "output_type": "stream",
          "text": [
            "\tperson, 0.999769389629364, [0.32924852 0.03672954 0.69063056 0.9741405 ]\n",
            "\thandbag, 0.911791980266571, [0.27751744 0.5934054  0.4290625  0.75080985]\n",
            "Iter: 0. Controllo persona: \n",
            "Iter: 0. Persona trovata: \n",
            "Score: 0.9997694\n",
            "Iter: 0. Controllo borsa: \n",
            "Iter: 0. Controllo orologio: \n",
            "Iter: 1. Controllo persona: \n",
            "Iter: 1. Controllo borsa: \n",
            "Iter: 1. Borsa trovata: \n",
            "Score: 0.911792\n",
            "Iter: 1. Controllo orologio: \n",
            "Immagine 53\n",
            "\t File: /content/drive/My Drive/universita/progetto ml/pub/2020-02-18_00-37-44_UTC.json\n"
          ],
          "name": "stdout"
        },
        {
          "output_type": "stream",
          "text": [
            "I0228 12:28:10.076117 140220390033280 yolo_model.py:59] time: 0.230881929397583\n"
          ],
          "name": "stderr"
        },
        {
          "output_type": "stream",
          "text": [
            "\tperson, 0.9909572005271912, [0.37741035 0.27534017 0.5866059  0.91302216]\n",
            "\tbook, 0.7600069642066956, [0.778646   0.69524306 0.88544154 0.7384935 ]\n",
            "Iter: 0. Controllo persona: \n",
            "Iter: 0. Persona trovata: \n",
            "Score: 0.9909572\n",
            "Iter: 0. Controllo borsa: \n",
            "Iter: 0. Controllo orologio: \n",
            "Iter: 1. Controllo persona: \n",
            "Iter: 1. Controllo borsa: \n",
            "Iter: 1. Controllo orologio: \n",
            "Immagine 54\n",
            "\t File: /content/drive/My Drive/universita/progetto ml/pub/2020-02-18_15-06-01_UTC.json\n"
          ],
          "name": "stdout"
        },
        {
          "output_type": "stream",
          "text": [
            "I0228 12:28:11.605453 140220390033280 yolo_model.py:59] time: 0.23349499702453613\n"
          ],
          "name": "stderr"
        },
        {
          "output_type": "stream",
          "text": [
            "\tperson, 0.9992626309394836, [0.28673202 0.06886706 0.8192715  0.95117474]\n",
            "\tpottedplant, 0.9819936156272888, [0.6645474 0.5311129 0.9830883 0.8782244]\n",
            "\tcup, 0.9769831299781799, [0.3230252  0.3815324  0.44003484 0.50259584]\n",
            "\thandbag, 0.8921802043914795, [0.21284562 0.4976833  0.492858   0.76377857]\n",
            "\tvase, 0.8815896511077881, [0.04787672 0.7488775  0.11341433 0.8188716 ]\n",
            "Iter: 0. Controllo persona: \n",
            "Iter: 0. Persona trovata: \n",
            "Score: 0.99926263\n",
            "Iter: 0. Controllo borsa: \n",
            "Iter: 0. Controllo orologio: \n",
            "Iter: 1. Controllo persona: \n",
            "Iter: 1. Controllo borsa: \n",
            "Iter: 1. Controllo orologio: \n",
            "Iter: 2. Controllo persona: \n",
            "Iter: 2. Controllo borsa: \n",
            "Iter: 2. Controllo orologio: \n",
            "Iter: 3. Controllo persona: \n",
            "Iter: 3. Controllo borsa: \n",
            "Iter: 3. Borsa trovata: \n",
            "Score: 0.8921802\n",
            "Iter: 3. Controllo orologio: \n",
            "Iter: 4. Controllo persona: \n",
            "Iter: 4. Controllo borsa: \n",
            "Iter: 4. Controllo orologio: \n",
            "Immagine 55\n",
            "\t File: /content/drive/My Drive/universita/progetto ml/pub/2017-03-02_14-35-53_UTC.json\n"
          ],
          "name": "stdout"
        },
        {
          "output_type": "stream",
          "text": [
            "I0228 12:28:14.063322 140220390033280 yolo_model.py:59] time: 0.23172426223754883\n"
          ],
          "name": "stderr"
        },
        {
          "output_type": "stream",
          "text": [
            "\tperson, 0.9989091157913208, [0.5216746  0.07946303 0.71797544 0.9180877 ]\n",
            "\tumbrella, 0.8366090655326843, [0.3473659  0.18791994 0.45901164 0.28834543]\n",
            "\tumbrella, 0.7611676454544067, [0.4385442  0.23203363 0.5315297  0.29419363]\n",
            "\tperson, 0.7280606627464294, [0.33842075 0.26035514 0.4124915  0.61547995]\n",
            "Iter: 0. Controllo persona: \n",
            "Iter: 0. Persona trovata: \n",
            "Score: 0.9989091\n",
            "Iter: 0. Controllo borsa: \n",
            "Iter: 0. Controllo orologio: \n",
            "Iter: 1. Controllo persona: \n",
            "Iter: 1. Controllo borsa: \n",
            "Iter: 1. Controllo orologio: \n",
            "Iter: 2. Controllo persona: \n",
            "Iter: 2. Controllo borsa: \n",
            "Iter: 2. Controllo orologio: \n",
            "Iter: 3. Controllo persona: \n",
            "Iter: 3. Controllo borsa: \n",
            "Iter: 3. Controllo orologio: \n",
            "Immagine 56\n",
            "\t File: /content/drive/My Drive/universita/progetto ml/pub/2017-03-04_16-19-24_UTC.json\n"
          ],
          "name": "stdout"
        },
        {
          "output_type": "stream",
          "text": [
            "I0228 12:28:14.626179 140220390033280 yolo_model.py:59] time: 0.26334404945373535\n"
          ],
          "name": "stderr"
        },
        {
          "output_type": "stream",
          "text": [
            "\tperson, 0.9979941248893738, [0.43544072 0.38081673 0.7468024  0.8836256 ]\n",
            "\tbicycle, 0.8863579630851746, [1.7461926e-04 6.4855474e-01 6.3224852e-02 7.5230247e-01]\n",
            "\tstop sign, 0.8137500882148743, [0.4705773  0.45124084 0.5235685  0.51398826]\n",
            "\thandbag, 0.7704165577888489, [0.6436624  0.63724566 0.770564   0.7413008 ]\n",
            "Iter: 0. Controllo persona: \n",
            "Iter: 0. Persona trovata: \n",
            "Score: 0.9979941\n",
            "Iter: 0. Controllo borsa: \n",
            "Iter: 0. Controllo orologio: \n",
            "Iter: 1. Controllo persona: \n",
            "Iter: 1. Controllo borsa: \n",
            "Iter: 1. Controllo orologio: \n",
            "Iter: 2. Controllo persona: \n",
            "Iter: 2. Controllo borsa: \n",
            "Iter: 2. Controllo orologio: \n",
            "Iter: 3. Controllo persona: \n",
            "Iter: 3. Controllo borsa: \n",
            "Iter: 3. Borsa trovata: \n",
            "Score: 0.77041656\n",
            "Iter: 3. Controllo orologio: \n",
            "Immagine 57\n",
            "\t File: /content/drive/My Drive/universita/progetto ml/pub/2017-03-02_23-14-12_UTC.json\n"
          ],
          "name": "stdout"
        },
        {
          "output_type": "stream",
          "text": [
            "I0228 12:28:20.251315 140220390033280 yolo_model.py:59] time: 0.24965333938598633\n"
          ],
          "name": "stderr"
        },
        {
          "output_type": "stream",
          "text": [
            "\tperson, 0.9546708464622498, [0.4618971  0.05086532 1.         0.94282377]\n",
            "Iter: 0. Controllo persona: \n",
            "Iter: 0. Persona trovata: \n",
            "Score: 0.95467085\n",
            "Iter: 0. Controllo borsa: \n",
            "Iter: 0. Controllo orologio: \n",
            "Immagine 58\n",
            "\t File: /content/drive/My Drive/universita/progetto ml/pub/2017-03-06_01-49-23_UTC.json\n"
          ],
          "name": "stdout"
        },
        {
          "output_type": "stream",
          "text": [
            "I0228 12:28:21.809489 140220390033280 yolo_model.py:59] time: 0.2662935256958008\n"
          ],
          "name": "stderr"
        },
        {
          "output_type": "stream",
          "text": [
            "\tperson, 0.9921919703483582, [0.11861014 0.01500595 0.88795733 0.95532775]\n",
            "Iter: 0. Controllo persona: \n",
            "Iter: 0. Persona trovata: \n",
            "Score: 0.992192\n",
            "Iter: 0. Controllo borsa: \n",
            "Iter: 0. Controllo orologio: \n",
            "Immagine 59\n",
            "\t File: /content/drive/My Drive/universita/progetto ml/pub/2017-03-07_12-50-37_UTC.json\n"
          ],
          "name": "stdout"
        },
        {
          "output_type": "stream",
          "text": [
            "I0228 12:28:22.496044 140220390033280 yolo_model.py:59] time: 0.2520725727081299\n"
          ],
          "name": "stderr"
        },
        {
          "output_type": "stream",
          "text": [
            "\tperson, 0.9977464079856873, [0.43263644 0.42141166 0.5910705  0.85222685]\n",
            "\tcar, 0.8701766133308411, [0.07548448 0.5493902  0.9662347  0.8478105 ]\n",
            "Iter: 0. Controllo persona: \n",
            "Iter: 0. Persona trovata: \n",
            "Score: 0.9977464\n",
            "Iter: 0. Controllo borsa: \n",
            "Iter: 0. Controllo orologio: \n",
            "Iter: 1. Controllo persona: \n",
            "Iter: 1. Controllo borsa: \n",
            "Iter: 1. Controllo orologio: \n",
            "Immagine 60\n",
            "\t File: /content/drive/My Drive/universita/progetto ml/pub/2017-03-06_12-10-31_UTC.json\n"
          ],
          "name": "stdout"
        },
        {
          "output_type": "stream",
          "text": [
            "I0228 12:28:23.392017 140220390033280 yolo_model.py:59] time: 0.24933767318725586\n"
          ],
          "name": "stderr"
        },
        {
          "output_type": "stream",
          "text": [
            "\tperson, 0.9984893202781677, [0.379027   0.43553388 0.57978725 0.9283923 ]\n",
            "Iter: 0. Controllo persona: \n",
            "Iter: 0. Persona trovata: \n",
            "Score: 0.9984893\n",
            "Iter: 0. Controllo borsa: \n",
            "Iter: 0. Controllo orologio: \n",
            "Immagine 61\n",
            "\t File: /content/drive/My Drive/universita/progetto ml/pub/2017-03-07_09-25-37_UTC.json\n"
          ],
          "name": "stdout"
        },
        {
          "output_type": "stream",
          "text": [
            "I0228 12:28:26.667518 140220390033280 yolo_model.py:59] time: 0.26412081718444824\n"
          ],
          "name": "stderr"
        },
        {
          "output_type": "stream",
          "text": [
            "\tperson, 0.9918498396873474, [0.37623242 0.41092294 0.7361964  0.95750195]\n",
            "\thandbag, 0.82798832654953, [0.39426154 0.80742043 0.621934   1.        ]\n",
            "Iter: 0. Controllo persona: \n",
            "Iter: 0. Persona trovata: \n",
            "Score: 0.99184984\n",
            "Iter: 0. Controllo borsa: \n",
            "Iter: 0. Controllo orologio: \n",
            "Iter: 1. Controllo persona: \n",
            "Iter: 1. Controllo borsa: \n",
            "Iter: 1. Borsa trovata: \n",
            "Score: 0.8279883\n",
            "Iter: 1. Controllo orologio: \n",
            "Immagine 62\n",
            "\t File: /content/drive/My Drive/universita/progetto ml/pub/2017-03-09_14-01-18_UTC.json\n"
          ],
          "name": "stdout"
        },
        {
          "output_type": "stream",
          "text": [
            "I0228 12:28:28.038417 140220390033280 yolo_model.py:59] time: 0.25324010848999023\n"
          ],
          "name": "stderr"
        },
        {
          "output_type": "stream",
          "text": [
            "\tperson, 0.9574166536331177, [0.0961566  0.         0.7721676  0.90750265]\n",
            "\tdiningtable, 0.8887957334518433, [0.         0.04033467 0.50472003 0.9824809 ]\n",
            "\tcup, 0.6436408758163452, [0.09617825 0.13325803 0.31666774 0.3060885 ]\n",
            "Iter: 0. Controllo persona: \n",
            "Iter: 0. Persona trovata: \n",
            "Score: 0.95741665\n",
            "Iter: 0. Controllo borsa: \n",
            "Iter: 0. Controllo orologio: \n",
            "Iter: 1. Controllo persona: \n",
            "Iter: 1. Controllo borsa: \n",
            "Iter: 1. Controllo orologio: \n",
            "Iter: 2. Controllo persona: \n",
            "Iter: 2. Controllo borsa: \n",
            "Iter: 2. Controllo orologio: \n",
            "Immagine 63\n",
            "\t File: /content/drive/My Drive/universita/progetto ml/pub/2017-03-12_06-38-05_UTC.json\n"
          ],
          "name": "stdout"
        },
        {
          "output_type": "stream",
          "text": [
            "I0228 12:28:28.802057 140220390033280 yolo_model.py:59] time: 0.2594759464263916\n"
          ],
          "name": "stderr"
        },
        {
          "output_type": "stream",
          "text": [
            "\tperson, 0.9990043640136719, [0.39054796 0.21865621 0.5954273  0.88462496]\n",
            "\tperson, 0.9512969851493835, [0.5869592  0.4214869  0.66658324 0.4805615 ]\n",
            "\tstop sign, 0.8683283925056458, [0.28778997 0.11582021 0.45306322 0.2316046 ]\n",
            "\tcar, 0.7984024286270142, [0.93585634 0.46427473 1.         0.566483  ]\n",
            "\tcar, 0.54325932264328, [0.335537   0.45155343 0.41335103 0.48544595]\n",
            "Iter: 0. Controllo persona: \n",
            "Iter: 0. Persona trovata: \n",
            "Score: 0.99900436\n",
            "Iter: 0. Controllo borsa: \n",
            "Iter: 0. Controllo orologio: \n",
            "Iter: 1. Controllo persona: \n",
            "Iter: 1. Controllo borsa: \n",
            "Iter: 1. Controllo orologio: \n",
            "Iter: 2. Controllo persona: \n",
            "Iter: 2. Controllo borsa: \n",
            "Iter: 2. Controllo orologio: \n",
            "Iter: 3. Controllo persona: \n",
            "Iter: 3. Controllo borsa: \n",
            "Iter: 3. Controllo orologio: \n",
            "Iter: 4. Controllo persona: \n",
            "Iter: 4. Controllo borsa: \n",
            "Iter: 4. Controllo orologio: \n",
            "Immagine 64\n",
            "\t File: /content/drive/My Drive/universita/progetto ml/pub/2017-03-23_16-59-35_UTC.json\n"
          ],
          "name": "stdout"
        },
        {
          "output_type": "stream",
          "text": [
            "I0228 12:28:30.727693 140220390033280 yolo_model.py:59] time: 0.2815060615539551\n"
          ],
          "name": "stderr"
        },
        {
          "output_type": "stream",
          "text": [
            "\tperson, 0.9968686103820801, [0.39143685 0.29834715 0.63989633 0.901163  ]\n",
            "\tperson, 0.8838358521461487, [0.73629117 0.542089   0.77606726 0.64180815]\n",
            "\thandbag, 0.797254204750061, [0.5359292  0.38145256 0.6385006  0.67248046]\n",
            "Iter: 0. Controllo persona: \n",
            "Iter: 0. Persona trovata: \n",
            "Score: 0.9968686\n",
            "Iter: 0. Controllo borsa: \n",
            "Iter: 0. Controllo orologio: \n",
            "Iter: 1. Controllo persona: \n",
            "Iter: 1. Controllo borsa: \n",
            "Iter: 1. Controllo orologio: \n",
            "Iter: 2. Controllo persona: \n",
            "Iter: 2. Controllo borsa: \n",
            "Iter: 2. Borsa trovata: \n",
            "Score: 0.7972542\n",
            "Iter: 2. Controllo orologio: \n",
            "Immagine 65\n",
            "\t File: /content/drive/My Drive/universita/progetto ml/pub/2017-03-22_02-33-29_UTC.json\n"
          ],
          "name": "stdout"
        },
        {
          "output_type": "stream",
          "text": [
            "I0228 12:28:33.966028 140220390033280 yolo_model.py:59] time: 0.25081682205200195\n"
          ],
          "name": "stderr"
        },
        {
          "output_type": "stream",
          "text": [
            "\tperson, 0.9897168278694153, [0.8670274 0.3929537 0.9404694 0.6133799]\n",
            "\tperson, 0.9875598549842834, [0.94536513 0.3907764  0.999579   0.59457463]\n",
            "\tperson, 0.9819718599319458, [0.38192177 0.16424084 0.80282795 0.9560907 ]\n",
            "Iter: 0. Controllo persona: \n",
            "Iter: 0. Persona trovata: \n",
            "Score: 0.9897168\n",
            "Iter: 0. Controllo borsa: \n",
            "Iter: 0. Controllo orologio: \n",
            "Iter: 1. Controllo persona: \n",
            "Iter: 1. Controllo borsa: \n",
            "Iter: 1. Controllo orologio: \n",
            "Iter: 2. Controllo persona: \n",
            "Iter: 2. Controllo borsa: \n",
            "Iter: 2. Controllo orologio: \n",
            "Immagine 66\n",
            "\t File: /content/drive/My Drive/universita/progetto ml/pub/2017-03-24_15-18-44_UTC.json\n"
          ],
          "name": "stdout"
        },
        {
          "output_type": "stream",
          "text": [
            "I0228 12:28:34.629400 140220390033280 yolo_model.py:59] time: 0.2574591636657715\n"
          ],
          "name": "stderr"
        },
        {
          "output_type": "stream",
          "text": [
            "\tperson, 0.9993420839309692, [0.40047657 0.2357369  0.7870989  0.81492573]\n",
            "\tpottedplant, 0.6361894607543945, [0.         0.09300596 0.2388685  0.72791034]\n",
            "Iter: 0. Controllo persona: \n",
            "Iter: 0. Persona trovata: \n",
            "Score: 0.9993421\n",
            "Iter: 0. Controllo borsa: \n",
            "Iter: 0. Controllo orologio: \n",
            "Iter: 1. Controllo persona: \n",
            "Iter: 1. Controllo borsa: \n",
            "Iter: 1. Controllo orologio: \n",
            "Immagine 67\n",
            "\t File: /content/drive/My Drive/universita/progetto ml/pub/2017-03-25_14-59-23_UTC.json\n"
          ],
          "name": "stdout"
        },
        {
          "output_type": "stream",
          "text": [
            "I0228 12:28:35.266551 140220390033280 yolo_model.py:59] time: 0.23341631889343262\n"
          ],
          "name": "stderr"
        },
        {
          "output_type": "stream",
          "text": [
            "\tperson, 0.9997302889823914, [0.42875886 0.12833828 0.6787548  0.9852895 ]\n",
            "\thandbag, 0.8021067380905151, [0.36292046 0.3664506  0.5369019  0.60793215]\n",
            "Iter: 0. Controllo persona: \n",
            "Iter: 0. Persona trovata: \n",
            "Score: 0.9997303\n",
            "Iter: 0. Controllo borsa: \n",
            "Iter: 0. Controllo orologio: \n",
            "Iter: 1. Controllo persona: \n",
            "Iter: 1. Controllo borsa: \n",
            "Iter: 1. Borsa trovata: \n",
            "Score: 0.80210674\n",
            "Iter: 1. Controllo orologio: \n",
            "Immagine 68\n",
            "\t File: /content/drive/My Drive/universita/progetto ml/pub/2017-03-28_07-31-41_UTC.json\n"
          ],
          "name": "stdout"
        },
        {
          "output_type": "stream",
          "text": [
            "I0228 12:28:35.967224 140220390033280 yolo_model.py:59] time: 0.24946856498718262\n"
          ],
          "name": "stderr"
        },
        {
          "output_type": "stream",
          "text": [
            "\tperson, 0.9925267696380615, [0.21358722 0.6395819  0.76130635 1.        ]\n",
            "\tbook, 0.9271520376205444, [0.3282773  0.1287637  0.85022694 0.42684183]\n",
            "\tbook, 0.568376362323761, [0.51120687 0.1434642  0.807322   0.386863  ]\n",
            "Iter: 0. Controllo persona: \n",
            "Iter: 0. Persona trovata: \n",
            "Score: 0.99252677\n",
            "Iter: 0. Controllo borsa: \n",
            "Iter: 0. Controllo orologio: \n",
            "Iter: 1. Controllo persona: \n",
            "Iter: 1. Controllo borsa: \n",
            "Iter: 1. Controllo orologio: \n",
            "Iter: 2. Controllo persona: \n",
            "Iter: 2. Controllo borsa: \n",
            "Iter: 2. Controllo orologio: \n",
            "Immagine 69\n",
            "\t File: /content/drive/My Drive/universita/progetto ml/pub/2017-03-28_12-44-18_UTC.json\n"
          ],
          "name": "stdout"
        },
        {
          "output_type": "stream",
          "text": [
            "I0228 12:28:37.196774 140220390033280 yolo_model.py:59] time: 0.25941991806030273\n"
          ],
          "name": "stderr"
        },
        {
          "output_type": "stream",
          "text": [
            "\tpottedplant, 0.9898533225059509, [0.75198406 0.41185296 0.9633706  0.8515036 ]\n",
            "\tperson, 0.9367704391479492, [0.47909704 0.33842608 0.7228497  0.9068278 ]\n",
            "Iter: 0. Controllo persona: \n",
            "Iter: 0. Controllo borsa: \n",
            "Iter: 0. Controllo orologio: \n",
            "Iter: 1. Controllo persona: \n",
            "Iter: 1. Persona trovata: \n",
            "Score: 0.93677044\n",
            "Iter: 1. Controllo borsa: \n",
            "Iter: 1. Controllo orologio: \n",
            "Immagine 70\n",
            "\t File: /content/drive/My Drive/universita/progetto ml/pub/2017-03-28_22-15-49_UTC.json\n"
          ],
          "name": "stdout"
        },
        {
          "output_type": "stream",
          "text": [
            "I0228 12:28:40.550558 140220390033280 yolo_model.py:59] time: 0.2381889820098877\n"
          ],
          "name": "stderr"
        },
        {
          "output_type": "stream",
          "text": [
            "\tcar, 0.9849495887756348, [0.03082255 0.37529144 1.         0.9626391 ]\n",
            "\tdog, 0.6395948529243469, [0.55486745 0.4037986  0.6661703  0.5731294 ]\n",
            "\tperson, 0.6355335116386414, [0.5442274  0.40605503 0.66755265 0.5747253 ]\n",
            "Iter: 0. Controllo persona: \n",
            "Iter: 0. Controllo borsa: \n",
            "Iter: 0. Controllo orologio: \n",
            "Iter: 1. Controllo persona: \n",
            "Iter: 1. Controllo borsa: \n",
            "Iter: 1. Controllo orologio: \n",
            "Iter: 2. Controllo persona: \n",
            "Iter: 2. Persona trovata: \n",
            "Score: 0.6355335\n",
            "Iter: 2. Controllo borsa: \n",
            "Iter: 2. Controllo orologio: \n",
            "Immagine 71\n",
            "\t File: /content/drive/My Drive/universita/progetto ml/pub/2017-03-31_13-06-00_UTC.json\n"
          ],
          "name": "stdout"
        },
        {
          "output_type": "stream",
          "text": [
            "I0228 12:28:42.101502 140220390033280 yolo_model.py:59] time: 0.22704529762268066\n"
          ],
          "name": "stderr"
        },
        {
          "output_type": "stream",
          "text": [
            "\tbottle, 0.9873536825180054, [0.47212565 0.8058505  0.552073   0.98990154]\n",
            "\tbottle, 0.9849514365196228, [0.5521602  0.78840894 0.6327072  0.9910925 ]\n",
            "\tperson, 0.9744517803192139, [0.28741246 0.11380556 0.70055765 0.8892567 ]\n",
            "\tbook, 0.8227065205574036, [0.3759031  0.24330133 0.5812038  0.44256502]\n",
            "\tperson, 0.7947280406951904, [0.35355076 0.04501256 0.43196872 0.17561635]\n",
            "\tbench, 0.672599732875824, [0.21031475 0.1884889  0.80570674 0.9249639 ]\n",
            "\tbook, 0.644203782081604, [0.39023238 0.45847183 0.54518276 0.55588263]\n",
            "Iter: 0. Controllo persona: \n",
            "Iter: 0. Controllo borsa: \n",
            "Iter: 0. Controllo orologio: \n",
            "Iter: 1. Controllo persona: \n",
            "Iter: 1. Controllo borsa: \n",
            "Iter: 1. Controllo orologio: \n",
            "Iter: 2. Controllo persona: \n",
            "Iter: 2. Persona trovata: \n",
            "Score: 0.9744518\n",
            "Iter: 2. Controllo borsa: \n",
            "Iter: 2. Controllo orologio: \n",
            "Iter: 3. Controllo persona: \n",
            "Iter: 3. Controllo borsa: \n",
            "Iter: 3. Controllo orologio: \n",
            "Iter: 4. Controllo persona: \n",
            "Iter: 4. Controllo borsa: \n",
            "Iter: 4. Controllo orologio: \n",
            "Iter: 5. Controllo persona: \n",
            "Iter: 5. Controllo borsa: \n",
            "Iter: 5. Controllo orologio: \n",
            "Iter: 6. Controllo persona: \n",
            "Iter: 6. Controllo borsa: \n",
            "Iter: 6. Controllo orologio: \n",
            "Immagine 72\n",
            "\t File: /content/drive/My Drive/universita/progetto ml/pub/2017-03-29_04-40-42_UTC.json\n"
          ],
          "name": "stdout"
        },
        {
          "output_type": "stream",
          "text": [
            "I0228 12:28:43.970574 140220390033280 yolo_model.py:59] time: 0.23802995681762695\n"
          ],
          "name": "stderr"
        },
        {
          "output_type": "stream",
          "text": [
            "\tperson, 0.9977655410766602, [0.51954067 0.13320717 0.92435193 1.        ]\n",
            "\tbook, 0.5142217874526978, [0.33992216 0.6047257  0.5416709  0.66513336]\n",
            "Iter: 0. Controllo persona: \n",
            "Iter: 0. Persona trovata: \n",
            "Score: 0.99776554\n",
            "Iter: 0. Controllo borsa: \n",
            "Iter: 0. Controllo orologio: \n",
            "Iter: 1. Controllo persona: \n",
            "Iter: 1. Controllo borsa: \n",
            "Iter: 1. Controllo orologio: \n",
            "Immagine 73\n",
            "\t File: /content/drive/My Drive/universita/progetto ml/pub/2017-04-01_01-17-23_UTC.json\n"
          ],
          "name": "stdout"
        },
        {
          "output_type": "stream",
          "text": [
            "I0228 12:28:47.853516 140220390033280 yolo_model.py:59] time: 0.25167012214660645\n"
          ],
          "name": "stderr"
        },
        {
          "output_type": "stream",
          "text": [
            "\tperson, 0.9995105266571045, [0.43450767 0.27508885 0.6139925  0.823932  ]\n",
            "\tcar, 0.9912242889404297, [0.         0.33506146 0.45600897 0.7904917 ]\n",
            "\tperson, 0.7880398035049438, [0.06814127 0.5138682  0.19832048 0.6621618 ]\n",
            "\thandbag, 0.7497958540916443, [0.43773127 0.35607684 0.5450397  0.5039708 ]\n",
            "\thandbag, 0.6786693930625916, [0.57403326 0.53741753 0.7120682  0.7281821 ]\n",
            "Iter: 0. Controllo persona: \n",
            "Iter: 0. Persona trovata: \n",
            "Score: 0.9995105\n",
            "Iter: 0. Controllo borsa: \n",
            "Iter: 0. Controllo orologio: \n",
            "Iter: 1. Controllo persona: \n",
            "Iter: 1. Controllo borsa: \n",
            "Iter: 1. Controllo orologio: \n",
            "Iter: 2. Controllo persona: \n",
            "Iter: 2. Controllo borsa: \n",
            "Iter: 2. Controllo orologio: \n",
            "Iter: 3. Controllo persona: \n",
            "Iter: 3. Controllo borsa: \n",
            "Iter: 3. Borsa trovata: \n",
            "Score: 0.74979585\n",
            "Iter: 3. Controllo orologio: \n",
            "Iter: 4. Controllo persona: \n",
            "Iter: 4. Controllo borsa: \n",
            "Iter: 4. Controllo orologio: \n",
            "Immagine 74\n",
            "\t File: /content/drive/My Drive/universita/progetto ml/pub/2017-04-10_10-44-16_UTC.json\n"
          ],
          "name": "stdout"
        },
        {
          "output_type": "stream",
          "text": [
            "I0228 12:28:49.065214 140220390033280 yolo_model.py:59] time: 0.23200726509094238\n"
          ],
          "name": "stderr"
        },
        {
          "output_type": "stream",
          "text": [
            "\tperson, 0.9998774528503418, [0.640507   0.07696736 0.9431697  0.9468123 ]\n",
            "\tcell phone, 0.5812229514122009, [0.702771   0.27275103 0.76583594 0.3229488 ]\n",
            "\thandbag, 0.5789054036140442, [0.24454455 0.45827067 0.5723163  0.66239953]\n",
            "Iter: 0. Controllo persona: \n",
            "Iter: 0. Persona trovata: \n",
            "Score: 0.99987745\n",
            "Iter: 0. Controllo borsa: \n",
            "Iter: 0. Controllo orologio: \n",
            "Iter: 1. Controllo persona: \n",
            "Iter: 1. Controllo borsa: \n",
            "Iter: 1. Controllo orologio: \n",
            "Iter: 2. Controllo persona: \n",
            "Iter: 2. Controllo borsa: \n",
            "Iter: 2. Borsa trovata: \n",
            "Score: 0.5789054\n",
            "Iter: 2. Controllo orologio: \n",
            "Immagine 75\n",
            "\t File: /content/drive/My Drive/universita/progetto ml/pub/2017-04-10_18-28-46_UTC.json\n"
          ],
          "name": "stdout"
        },
        {
          "output_type": "stream",
          "text": [
            "I0228 12:28:49.813912 140220390033280 yolo_model.py:59] time: 0.23561573028564453\n"
          ],
          "name": "stderr"
        },
        {
          "output_type": "stream",
          "text": [
            "\tperson, 0.997584342956543, [0.41691655 0.49834436 0.52465695 0.83016604]\n",
            "\thandbag, 0.6536911129951477, [0.4040748 0.6774372 0.4860655 0.7270156]\n",
            "Iter: 0. Controllo persona: \n",
            "Iter: 0. Persona trovata: \n",
            "Score: 0.99758434\n",
            "Iter: 0. Controllo borsa: \n",
            "Iter: 0. Controllo orologio: \n",
            "Iter: 1. Controllo persona: \n",
            "Iter: 1. Controllo borsa: \n",
            "Iter: 1. Borsa trovata: \n",
            "Score: 0.6536911\n",
            "Iter: 1. Controllo orologio: \n",
            "Immagine 76\n",
            "\t File: /content/drive/My Drive/universita/progetto ml/pub/2017-04-10_23-00-23_UTC.json\n"
          ],
          "name": "stdout"
        },
        {
          "output_type": "stream",
          "text": [
            "I0228 12:28:52.720724 140220390033280 yolo_model.py:59] time: 0.26262760162353516\n"
          ],
          "name": "stderr"
        },
        {
          "output_type": "stream",
          "text": [
            "\tcar, 0.9970364570617676, [0.05569071 0.15789184 0.20392737 0.42252544]\n",
            "\tperson, 0.989031970500946, [0.23288895 0.         0.5852395  0.88551515]\n",
            "\tcar, 0.981468915939331, [0.15586442 0.03657147 0.9917734  0.8156744 ]\n",
            "\tcar, 0.5486181974411011, [0.03119963 0.2342716  0.0574507  0.277682  ]\n",
            "Iter: 0. Controllo persona: \n",
            "Iter: 0. Controllo borsa: \n",
            "Iter: 0. Controllo orologio: \n",
            "Iter: 1. Controllo persona: \n",
            "Iter: 1. Persona trovata: \n",
            "Score: 0.989032\n",
            "Iter: 1. Controllo borsa: \n",
            "Iter: 1. Controllo orologio: \n",
            "Iter: 2. Controllo persona: \n",
            "Iter: 2. Controllo borsa: \n",
            "Iter: 2. Controllo orologio: \n",
            "Iter: 3. Controllo persona: \n",
            "Iter: 3. Controllo borsa: \n",
            "Iter: 3. Controllo orologio: \n",
            "Immagine 77\n",
            "\t File: /content/drive/My Drive/universita/progetto ml/pub/2017-04-12_10-54-44_UTC.json\n"
          ],
          "name": "stdout"
        },
        {
          "output_type": "stream",
          "text": [
            "I0228 12:28:55.489692 140220390033280 yolo_model.py:59] time: 0.23870110511779785\n"
          ],
          "name": "stderr"
        },
        {
          "output_type": "stream",
          "text": [
            "\tperson, 0.9497735500335693, [0.5317873  0.01223448 0.9652393  0.9828614 ]\n",
            "\thandbag, 0.507649838924408, [0.6071317  0.14469978 1.         0.71427464]\n",
            "\tperson, 0.5007722973823547, [0.21504144 0.07961393 0.4941275  0.2980294 ]\n",
            "Iter: 0. Controllo persona: \n",
            "Iter: 0. Persona trovata: \n",
            "Score: 0.94977355\n",
            "Iter: 0. Controllo borsa: \n",
            "Iter: 0. Controllo orologio: \n",
            "Iter: 1. Controllo persona: \n",
            "Iter: 1. Controllo borsa: \n",
            "Iter: 1. Borsa trovata: \n",
            "Score: 0.50764984\n",
            "Iter: 1. Controllo orologio: \n",
            "Iter: 2. Controllo persona: \n",
            "Iter: 2. Controllo borsa: \n",
            "Iter: 2. Controllo orologio: \n",
            "Immagine 78\n",
            "\t File: /content/drive/My Drive/universita/progetto ml/pub/2017-04-13_19-46-22_UTC.json\n"
          ],
          "name": "stdout"
        },
        {
          "output_type": "stream",
          "text": [
            "I0228 12:28:56.499646 140220390033280 yolo_model.py:59] time: 0.24469399452209473\n"
          ],
          "name": "stderr"
        },
        {
          "output_type": "stream",
          "text": [
            "\tperson, 0.9955312609672546, [0.5621699 0.184519  0.8446531 0.772304 ]\n",
            "\tsuitcase, 0.7880449295043945, [0.23885271 0.5497637  0.5120013  0.6576127 ]\n",
            "Iter: 0. Controllo persona: \n",
            "Iter: 0. Persona trovata: \n",
            "Score: 0.99553126\n",
            "Iter: 0. Controllo borsa: \n",
            "Iter: 0. Controllo orologio: \n",
            "Iter: 1. Controllo persona: \n",
            "Iter: 1. Controllo borsa: \n",
            "Iter: 1. Controllo orologio: \n",
            "Immagine 79\n",
            "\t File: /content/drive/My Drive/universita/progetto ml/pub/2017-04-14_20-05-06_UTC.json\n"
          ],
          "name": "stdout"
        },
        {
          "output_type": "stream",
          "text": [
            "I0228 12:28:58.665757 140220390033280 yolo_model.py:59] time: 0.2583882808685303\n"
          ],
          "name": "stderr"
        },
        {
          "output_type": "stream",
          "text": [
            "\tperson, 0.995806097984314, [0.37990862 0.22155857 0.66325873 0.9057473 ]\n",
            "\tcar, 0.8208267688751221, [0.7734531 0.509324  0.8619164 0.5439351]\n",
            "\tperson, 0.8161187171936035, [0.17910679 0.2538233  0.65948516 0.7624066 ]\n",
            "\tbench, 0.8050655126571655, [0.05166131 0.51166975 0.943426   0.9349648 ]\n",
            "Iter: 0. Controllo persona: \n",
            "Iter: 0. Persona trovata: \n",
            "Score: 0.9958061\n",
            "Iter: 0. Controllo borsa: \n",
            "Iter: 0. Controllo orologio: \n",
            "Iter: 1. Controllo persona: \n",
            "Iter: 1. Controllo borsa: \n",
            "Iter: 1. Controllo orologio: \n",
            "Iter: 2. Controllo persona: \n",
            "Iter: 2. Controllo borsa: \n",
            "Iter: 2. Controllo orologio: \n",
            "Iter: 3. Controllo persona: \n",
            "Iter: 3. Controllo borsa: \n",
            "Iter: 3. Controllo orologio: \n",
            "Immagine 80\n",
            "\t File: /content/drive/My Drive/universita/progetto ml/pub/2017-04-17_03-34-24_UTC.json\n"
          ],
          "name": "stdout"
        },
        {
          "output_type": "stream",
          "text": [
            "I0228 12:29:01.194626 140220390033280 yolo_model.py:59] time: 0.2510092258453369\n"
          ],
          "name": "stderr"
        },
        {
          "output_type": "stream",
          "text": [
            "\tperson, 0.9986945390701294, [0.42691728 0.40488535 0.5488328  0.8406132 ]\n",
            "Iter: 0. Controllo persona: \n",
            "Iter: 0. Persona trovata: \n",
            "Score: 0.99869454\n",
            "Iter: 0. Controllo borsa: \n",
            "Iter: 0. Controllo orologio: \n",
            "Immagine 81\n",
            "\t File: /content/drive/My Drive/universita/progetto ml/pub/2017-04-23_21-53-43_UTC.json\n"
          ],
          "name": "stdout"
        },
        {
          "output_type": "stream",
          "text": [
            "I0228 12:29:03.976562 140220390033280 yolo_model.py:59] time: 0.24992942810058594\n"
          ],
          "name": "stderr"
        },
        {
          "output_type": "stream",
          "text": [
            "\tpottedplant, 0.6427841186523438, [0.00201139 0.         0.53757286 0.7567008 ]\n",
            "\tvase, 0.5005298256874084, [0.00205667 0.45667207 0.23120031 0.7039664 ]\n",
            "Iter: 0. Controllo persona: \n",
            "Iter: 0. Controllo borsa: \n",
            "Iter: 0. Controllo orologio: \n",
            "Iter: 1. Controllo persona: \n",
            "Iter: 1. Controllo borsa: \n",
            "Iter: 1. Controllo orologio: \n",
            "Immagine 82\n",
            "\t File: /content/drive/My Drive/universita/progetto ml/pub/2017-04-17_21-29-24_UTC.json\n"
          ],
          "name": "stdout"
        },
        {
          "output_type": "stream",
          "text": [
            "I0228 12:29:08.121793 140220390033280 yolo_model.py:59] time: 0.23285770416259766\n"
          ],
          "name": "stderr"
        },
        {
          "output_type": "stream",
          "text": [
            "\tperson, 0.9916056394577026, [0.26419544 0.4995819  0.6120585  0.9411415 ]\n",
            "\tumbrella, 0.8265342116355896, [0.00792147 0.13097182 0.23837861 0.22044888]\n",
            "\thandbag, 0.7060269117355347, [0.64295346 0.7816102  0.7679327  0.9197015 ]\n",
            "\tperson, 0.695254385471344, [0.5453175  0.1894207  0.58170253 0.24879563]\n",
            "\tumbrella, 0.6067779660224915, [0.33823356 0.16478747 0.3799223  0.18981156]\n",
            "Iter: 0. Controllo persona: \n",
            "Iter: 0. Persona trovata: \n",
            "Score: 0.99160564\n",
            "Iter: 0. Controllo borsa: \n",
            "Iter: 0. Controllo orologio: \n",
            "Iter: 1. Controllo persona: \n",
            "Iter: 1. Controllo borsa: \n",
            "Iter: 1. Controllo orologio: \n",
            "Iter: 2. Controllo persona: \n",
            "Iter: 2. Controllo borsa: \n",
            "Iter: 2. Borsa trovata: \n",
            "Score: 0.7060269\n",
            "Iter: 2. Controllo orologio: \n",
            "Iter: 3. Controllo persona: \n",
            "Iter: 3. Controllo borsa: \n",
            "Iter: 3. Controllo orologio: \n",
            "Iter: 4. Controllo persona: \n",
            "Iter: 4. Controllo borsa: \n",
            "Iter: 4. Controllo orologio: \n",
            "Immagine 83\n",
            "\t File: /content/drive/My Drive/universita/progetto ml/pub/2017-04-19_06-35-28_UTC.json\n"
          ],
          "name": "stdout"
        },
        {
          "output_type": "stream",
          "text": [
            "I0228 12:29:08.644484 140220390033280 yolo_model.py:59] time: 0.23824858665466309\n"
          ],
          "name": "stderr"
        },
        {
          "output_type": "stream",
          "text": [
            "\tperson, 0.9869135618209839, [0.70339924 0.0742355  0.8147659  0.27612108]\n",
            "\tperson, 0.9834489822387695, [0.10840484 0.09214163 0.78261125 0.8947451 ]\n",
            "\tperson, 0.9725901484489441, [0.8825133  0.03645884 0.9817629  0.27952698]\n",
            "\tbench, 0.9600547552108765, [0.11578324 0.28202385 1.         0.9867082 ]\n",
            "\tperson, 0.9523431062698364, [0.32403344 0.10207707 0.38416183 0.26881477]\n",
            "\tperson, 0.9202844500541687, [0.21497664 0.13491213 0.35801432 0.28995237]\n",
            "\tperson, 0.8494110703468323, [0.41355008 0.10601799 0.46272123 0.25642633]\n",
            "\thandbag, 0.7138376235961914, [0.36258155 0.4528551  0.53367525 0.59049416]\n",
            "\tperson, 0.6301881670951843, [0.09972749 0.10543287 0.15297359 0.24084124]\n",
            "\tperson, 0.5959029197692871, [0.28963673 0.19727463 0.98120403 0.96087426]\n",
            "\tperson, 0.5108451247215271, [0.62392604 0.08787675 0.66846037 0.24169858]\n",
            "\tperson, 0.5093138217926025, [0.9572555  0.13334405 1.         0.28426105]\n",
            "Iter: 0. Controllo persona: \n",
            "Iter: 0. Persona trovata: \n",
            "Score: 0.98691356\n",
            "Iter: 0. Controllo borsa: \n",
            "Iter: 0. Controllo orologio: \n",
            "Iter: 1. Controllo persona: \n",
            "Iter: 1. Controllo borsa: \n",
            "Iter: 1. Controllo orologio: \n",
            "Iter: 2. Controllo persona: \n",
            "Iter: 2. Controllo borsa: \n",
            "Iter: 2. Controllo orologio: \n",
            "Iter: 3. Controllo persona: \n",
            "Iter: 3. Controllo borsa: \n",
            "Iter: 3. Controllo orologio: \n",
            "Iter: 4. Controllo persona: \n",
            "Iter: 4. Controllo borsa: \n",
            "Iter: 4. Controllo orologio: \n",
            "Iter: 5. Controllo persona: \n",
            "Iter: 5. Controllo borsa: \n",
            "Iter: 5. Controllo orologio: \n",
            "Iter: 6. Controllo persona: \n",
            "Iter: 6. Controllo borsa: \n",
            "Iter: 6. Controllo orologio: \n",
            "Iter: 7. Controllo persona: \n",
            "Iter: 7. Controllo borsa: \n",
            "Iter: 7. Borsa trovata: \n",
            "Score: 0.7138376\n",
            "Iter: 7. Controllo orologio: \n",
            "Iter: 8. Controllo persona: \n",
            "Iter: 8. Controllo borsa: \n",
            "Iter: 8. Controllo orologio: \n",
            "Iter: 9. Controllo persona: \n",
            "Iter: 9. Controllo borsa: \n",
            "Iter: 9. Controllo orologio: \n",
            "Iter: 10. Controllo persona: \n",
            "Iter: 10. Controllo borsa: \n",
            "Iter: 10. Controllo orologio: \n",
            "Iter: 11. Controllo persona: \n",
            "Iter: 11. Controllo borsa: \n",
            "Iter: 11. Controllo orologio: \n",
            "Immagine 84\n",
            "\t File: /content/drive/My Drive/universita/progetto ml/pub/2017-09-18_16-30-32_UTC.json\n"
          ],
          "name": "stdout"
        },
        {
          "output_type": "stream",
          "text": [
            "I0228 12:29:12.347260 140220390033280 yolo_model.py:59] time: 0.23177719116210938\n"
          ],
          "name": "stderr"
        },
        {
          "output_type": "stream",
          "text": [
            "\thandbag, 0.9085849523544312, [0.44910857 0.37986147 0.6618761  0.57896435]\n",
            "\tcar, 0.891376256942749, [0.         0.00408798 0.9088287  0.87931687]\n",
            "\tperson, 0.8496100902557373, [0.19495344 0.04392752 0.91117764 0.9380846 ]\n",
            "Iter: 0. Controllo persona: \n",
            "Iter: 0. Controllo borsa: \n",
            "Iter: 0. Borsa trovata: \n",
            "Score: 0.90858495\n",
            "Iter: 0. Controllo orologio: \n",
            "Iter: 1. Controllo persona: \n",
            "Iter: 1. Controllo borsa: \n",
            "Iter: 1. Controllo orologio: \n",
            "Iter: 2. Controllo persona: \n",
            "Iter: 2. Persona trovata: \n",
            "Score: 0.8496101\n",
            "Iter: 2. Controllo borsa: \n",
            "Iter: 2. Controllo orologio: \n",
            "Immagine 85\n",
            "\t File: /content/drive/My Drive/universita/progetto ml/pub/2017-09-20_18-04-35_UTC.json\n"
          ],
          "name": "stdout"
        },
        {
          "output_type": "stream",
          "text": [
            "I0228 12:29:14.538889 140220390033280 yolo_model.py:59] time: 0.23224711418151855\n"
          ],
          "name": "stderr"
        },
        {
          "output_type": "stream",
          "text": [
            "\tperson, 0.9987901449203491, [0.3764432  0.01799944 0.77026457 1.        ]\n",
            "Iter: 0. Controllo persona: \n",
            "Iter: 0. Persona trovata: \n",
            "Score: 0.99879014\n",
            "Iter: 0. Controllo borsa: \n",
            "Iter: 0. Controllo orologio: \n",
            "Immagine 86\n",
            "\t File: /content/drive/My Drive/universita/progetto ml/pub/2017-09-21_20-23-00_UTC.json\n"
          ],
          "name": "stdout"
        },
        {
          "output_type": "stream",
          "text": [
            "I0228 12:29:16.050760 140220390033280 yolo_model.py:59] time: 0.253734827041626\n"
          ],
          "name": "stderr"
        },
        {
          "output_type": "stream",
          "text": [
            "\tperson, 0.9990472197532654, [0.36470756 0.05501908 0.62164974 1.        ]\n",
            "\tperson, 0.9399805068969727, [0.20949605 0.23392405 0.2965552  0.39259863]\n",
            "\tperson, 0.8962825536727905, [0.9081651  0.22162406 0.9811157  0.37784332]\n",
            "\tperson, 0.8596325516700745, [0.61952287 0.20048279 0.70413786 0.41047907]\n",
            "\tperson, 0.750727653503418, [0.1447613  0.23149899 0.20558673 0.3643187 ]\n",
            "Iter: 0. Controllo persona: \n",
            "Iter: 0. Persona trovata: \n",
            "Score: 0.9990472\n",
            "Iter: 0. Controllo borsa: \n",
            "Iter: 0. Controllo orologio: \n",
            "Iter: 1. Controllo persona: \n",
            "Iter: 1. Controllo borsa: \n",
            "Iter: 1. Controllo orologio: \n",
            "Iter: 2. Controllo persona: \n",
            "Iter: 2. Controllo borsa: \n",
            "Iter: 2. Controllo orologio: \n",
            "Iter: 3. Controllo persona: \n",
            "Iter: 3. Controllo borsa: \n",
            "Iter: 3. Controllo orologio: \n",
            "Iter: 4. Controllo persona: \n",
            "Iter: 4. Controllo borsa: \n",
            "Iter: 4. Controllo orologio: \n",
            "Immagine 87\n",
            "\t File: /content/drive/My Drive/universita/progetto ml/pub/2017-09-20_21-36-52_UTC.json\n"
          ],
          "name": "stdout"
        },
        {
          "output_type": "stream",
          "text": [
            "I0228 12:29:18.349820 140220390033280 yolo_model.py:59] time: 0.24583768844604492\n"
          ],
          "name": "stderr"
        },
        {
          "output_type": "stream",
          "text": [
            "\tbird, 0.5536752343177795, [0.39654654 0.5638068  0.5670305  0.72626936]\n",
            "\tbed, 0.5412394404411316, [0.06169614 0.21586013 0.961534   0.94706583]\n",
            "Iter: 0. Controllo persona: \n",
            "Iter: 0. Controllo borsa: \n",
            "Iter: 0. Controllo orologio: \n",
            "Iter: 1. Controllo persona: \n",
            "Iter: 1. Controllo borsa: \n",
            "Iter: 1. Controllo orologio: \n",
            "Immagine 88\n",
            "\t File: /content/drive/My Drive/universita/progetto ml/pub/2017-09-21_23-14-16_UTC.json\n"
          ],
          "name": "stdout"
        },
        {
          "output_type": "stream",
          "text": [
            "I0228 12:29:19.242944 140220390033280 yolo_model.py:59] time: 0.2323470115661621\n"
          ],
          "name": "stderr"
        },
        {
          "output_type": "stream",
          "text": [
            "\tperson, 0.954497754573822, [0.07229012 0.10773921 0.9511395  0.87854123]\n",
            "Iter: 0. Controllo persona: \n",
            "Iter: 0. Persona trovata: \n",
            "Score: 0.95449775\n",
            "Iter: 0. Controllo borsa: \n",
            "Iter: 0. Controllo orologio: \n",
            "Immagine 89\n",
            "\t File: /content/drive/My Drive/universita/progetto ml/pub/2017-09-25_11-02-52_UTC.json\n"
          ],
          "name": "stdout"
        },
        {
          "output_type": "stream",
          "text": [
            "I0228 12:29:20.375950 140220390033280 yolo_model.py:59] time: 0.25467944145202637\n"
          ],
          "name": "stderr"
        },
        {
          "output_type": "stream",
          "text": [
            "\tbed, 0.9973800182342529, [0.04876071 0.09515047 0.9341391  0.91705894]\n",
            "\tbook, 0.975557267665863, [0.09778397 0.519287   0.45188427 0.7518891 ]\n",
            "Iter: 0. Controllo persona: \n",
            "Iter: 0. Controllo borsa: \n",
            "Iter: 0. Controllo orologio: \n",
            "Iter: 1. Controllo persona: \n",
            "Iter: 1. Controllo borsa: \n",
            "Iter: 1. Controllo orologio: \n",
            "Immagine 90\n",
            "\t File: /content/drive/My Drive/universita/progetto ml/pub/2017-09-28_13-35-04_UTC.json\n"
          ],
          "name": "stdout"
        },
        {
          "output_type": "stream",
          "text": [
            "I0228 12:29:21.072477 140220390033280 yolo_model.py:59] time: 0.23850250244140625\n"
          ],
          "name": "stderr"
        },
        {
          "output_type": "stream",
          "text": [
            "\tperson, 0.9998875856399536, [0.31395346 0.25544    0.67534333 0.96398497]\n",
            "\thandbag, 0.9743907451629639, [0.28798896 0.4001186  0.4379598  0.64887273]\n",
            "\tmotorbike, 0.8987307548522949, [0.01474863 0.44381914 0.15811825 0.5405609 ]\n",
            "Iter: 0. Controllo persona: \n",
            "Iter: 0. Persona trovata: \n",
            "Score: 0.9998876\n",
            "Iter: 0. Controllo borsa: \n",
            "Iter: 0. Controllo orologio: \n",
            "Iter: 1. Controllo persona: \n",
            "Iter: 1. Controllo borsa: \n",
            "Iter: 1. Borsa trovata: \n",
            "Score: 0.97439075\n",
            "Iter: 1. Controllo orologio: \n",
            "Iter: 2. Controllo persona: \n",
            "Iter: 2. Controllo borsa: \n",
            "Iter: 2. Controllo orologio: \n",
            "Immagine 91\n",
            "\t File: /content/drive/My Drive/universita/progetto ml/pub/2017-09-29_00-02-38_UTC.json\n"
          ],
          "name": "stdout"
        },
        {
          "output_type": "stream",
          "text": [
            "I0228 12:29:22.264445 140220390033280 yolo_model.py:59] time: 0.22640252113342285\n"
          ],
          "name": "stderr"
        },
        {
          "output_type": "stream",
          "text": [
            "\thandbag, 0.6126865148544312, [0.21453206 0.30563056 0.4963364  0.4842705 ]\n",
            "Iter: 0. Controllo persona: \n",
            "Iter: 0. Controllo borsa: \n",
            "Iter: 0. Borsa trovata: \n",
            "Score: 0.6126865\n",
            "Iter: 0. Controllo orologio: \n",
            "Immagine 92\n",
            "\t File: /content/drive/My Drive/universita/progetto ml/pub/2017-10-02_11-24-08_UTC.json\n"
          ],
          "name": "stdout"
        },
        {
          "output_type": "stream",
          "text": [
            "I0228 12:29:23.612391 140220390033280 yolo_model.py:59] time: 0.2583746910095215\n"
          ],
          "name": "stderr"
        },
        {
          "output_type": "stream",
          "text": [
            "\tperson, 0.9946004152297974, [0.39355797 0.22691602 0.78891534 0.96798426]\n",
            "Iter: 0. Controllo persona: \n",
            "Iter: 0. Persona trovata: \n",
            "Score: 0.9946004\n",
            "Iter: 0. Controllo borsa: \n",
            "Iter: 0. Controllo orologio: \n",
            "Immagine 93\n",
            "\t File: /content/drive/My Drive/universita/progetto ml/pub/2017-10-04_12-40-52_UTC.json\n"
          ],
          "name": "stdout"
        },
        {
          "output_type": "stream",
          "text": [
            "I0228 12:29:24.994480 140220390033280 yolo_model.py:59] time: 0.2570819854736328\n"
          ],
          "name": "stderr"
        },
        {
          "output_type": "stream",
          "text": [
            "\tperson, 0.9962607026100159, [0.3522886  0.11192602 0.7888752  0.88124096]\n",
            "Iter: 0. Controllo persona: \n",
            "Iter: 0. Persona trovata: \n",
            "Score: 0.9962607\n",
            "Iter: 0. Controllo borsa: \n",
            "Iter: 0. Controllo orologio: \n",
            "Immagine 94\n",
            "\t File: /content/drive/My Drive/universita/progetto ml/pub/2017-10-03_22-04-27_UTC.json\n"
          ],
          "name": "stdout"
        },
        {
          "output_type": "stream",
          "text": [
            "I0228 12:29:28.853042 140220390033280 yolo_model.py:59] time: 0.2525827884674072\n"
          ],
          "name": "stderr"
        },
        {
          "output_type": "stream",
          "text": [
            "Immagine 95\n",
            "\t File: /content/drive/My Drive/universita/progetto ml/pub/2017-10-05_13-25-25_UTC.json\n"
          ],
          "name": "stdout"
        },
        {
          "output_type": "stream",
          "text": [
            "I0228 12:29:31.217404 140220390033280 yolo_model.py:59] time: 0.2935044765472412\n"
          ],
          "name": "stderr"
        },
        {
          "output_type": "stream",
          "text": [
            "\tperson, 0.996878445148468, [0.47491866 0.29433736 0.73070747 0.9648527 ]\n",
            "Iter: 0. Controllo persona: \n",
            "Iter: 0. Persona trovata: \n",
            "Score: 0.99687845\n",
            "Iter: 0. Controllo borsa: \n",
            "Iter: 0. Controllo orologio: \n",
            "Immagine 96\n",
            "\t File: /content/drive/My Drive/universita/progetto ml/pub/2017-10-05_22-00-04_UTC.json\n"
          ],
          "name": "stdout"
        },
        {
          "output_type": "stream",
          "text": [
            "I0228 12:29:32.797412 140220390033280 yolo_model.py:59] time: 0.2581486701965332\n"
          ],
          "name": "stderr"
        },
        {
          "output_type": "stream",
          "text": [
            "\tperson, 0.9992800951004028, [0.3720641  0.10273853 0.7210976  0.9439311 ]\n",
            "Iter: 0. Controllo persona: \n",
            "Iter: 0. Persona trovata: \n",
            "Score: 0.9992801\n",
            "Iter: 0. Controllo borsa: \n",
            "Iter: 0. Controllo orologio: \n",
            "Immagine 97\n",
            "\t File: /content/drive/My Drive/universita/progetto ml/pub/2019-02-01_17-41-49_UTC.json\n"
          ],
          "name": "stdout"
        },
        {
          "output_type": "stream",
          "text": [
            "I0228 12:29:34.836203 140220390033280 yolo_model.py:59] time: 0.288604736328125\n"
          ],
          "name": "stderr"
        },
        {
          "output_type": "stream",
          "text": [
            "\tperson, 0.9974901676177979, [0.3559212  0.15071213 0.7764028  0.9529011 ]\n",
            "\tcar, 0.9300357103347778, [0.9338636  0.3474216  0.9998508  0.39686966]\n",
            "Iter: 0. Controllo persona: \n",
            "Iter: 0. Persona trovata: \n",
            "Score: 0.99749017\n",
            "Iter: 0. Controllo borsa: \n",
            "Iter: 0. Controllo orologio: \n",
            "Iter: 1. Controllo persona: \n",
            "Iter: 1. Controllo borsa: \n",
            "Iter: 1. Controllo orologio: \n",
            "Immagine 98\n",
            "\t File: /content/drive/My Drive/universita/progetto ml/pub/2019-02-02_12-07-31_UTC.json\n"
          ],
          "name": "stdout"
        },
        {
          "output_type": "stream",
          "text": [
            "I0228 12:29:35.657080 140220390033280 yolo_model.py:59] time: 0.24434781074523926\n"
          ],
          "name": "stderr"
        },
        {
          "output_type": "stream",
          "text": [
            "\tperson, 0.9973415732383728, [0.25738746 0.04654279 0.78800255 0.9833456 ]\n",
            "\tperson, 0.9789500832557678, [0.06494147 0.49421602 0.14026111 0.6816725 ]\n",
            "\tperson, 0.9419578909873962, [0.         0.5260053  0.06026702 0.7515916 ]\n",
            "\tperson, 0.6207420229911804, [0.18765709 0.491331   0.25449365 0.626539  ]\n",
            "\thandbag, 0.5325611233711243, [0.32249522 0.20832571 0.71122086 0.8175359 ]\n",
            "Iter: 0. Controllo persona: \n",
            "Iter: 0. Persona trovata: \n",
            "Score: 0.9973416\n",
            "Iter: 0. Controllo borsa: \n",
            "Iter: 0. Controllo orologio: \n",
            "Iter: 1. Controllo persona: \n",
            "Iter: 1. Controllo borsa: \n",
            "Iter: 1. Controllo orologio: \n",
            "Iter: 2. Controllo persona: \n",
            "Iter: 2. Controllo borsa: \n",
            "Iter: 2. Controllo orologio: \n",
            "Iter: 3. Controllo persona: \n",
            "Iter: 3. Controllo borsa: \n",
            "Iter: 3. Controllo orologio: \n",
            "Iter: 4. Controllo persona: \n",
            "Iter: 4. Controllo borsa: \n",
            "Iter: 4. Borsa trovata: \n",
            "Score: 0.5325611\n",
            "Iter: 4. Controllo orologio: \n",
            "Immagine 99\n",
            "\t File: /content/drive/My Drive/universita/progetto ml/pub/2019-02-03_14-40-13_UTC.json\n"
          ],
          "name": "stdout"
        },
        {
          "output_type": "stream",
          "text": [
            "I0228 12:29:36.303502 140220390033280 yolo_model.py:59] time: 0.258864164352417\n"
          ],
          "name": "stderr"
        },
        {
          "output_type": "stream",
          "text": [
            "\tperson, 0.9985088109970093, [0.22852743 0.00806722 0.92333007 0.9782549 ]\n",
            "\thandbag, 0.8065730333328247, [0.02474071 0.30610138 0.4735484  0.70728356]\n",
            "Iter: 0. Controllo persona: \n",
            "Iter: 0. Persona trovata: \n",
            "Score: 0.9985088\n",
            "Iter: 0. Controllo borsa: \n",
            "Iter: 0. Controllo orologio: \n",
            "Iter: 1. Controllo persona: \n",
            "Iter: 1. Controllo borsa: \n",
            "Iter: 1. Borsa trovata: \n",
            "Score: 0.80657303\n",
            "Iter: 1. Controllo orologio: \n",
            "Immagine 100\n",
            "\t File: /content/drive/My Drive/universita/progetto ml/pub/2019-02-03_14-40-13_UTC.json\n"
          ],
          "name": "stdout"
        },
        {
          "output_type": "stream",
          "text": [
            "I0228 12:29:39.254371 140220390033280 yolo_model.py:59] time: 0.2637319564819336\n"
          ],
          "name": "stderr"
        },
        {
          "output_type": "stream",
          "text": [
            "\tperson, 0.999600350856781, [0.08218267 0.26256394 0.21645164 0.59575313]\n",
            "\tperson, 0.9985154271125793, [0.3449458  0.0105215  0.64748555 1.        ]\n",
            "\thandbag, 0.981128454208374, [0.1991276  0.57161605 0.49859804 0.8741909 ]\n",
            "\tperson, 0.9739287495613098, [0.         0.24965341 0.07118424 0.5816356 ]\n",
            "\tperson, 0.8121952414512634, [0.23812437 0.3976213  0.31001383 0.57443655]\n",
            "\tperson, 0.6564846634864807, [0.3066284 0.4354531 0.3657617 0.5754856]\n",
            "Iter: 0. Controllo persona: \n",
            "Iter: 0. Persona trovata: \n",
            "Score: 0.99960035\n",
            "Iter: 0. Controllo borsa: \n",
            "Iter: 0. Controllo orologio: \n",
            "Iter: 1. Controllo persona: \n",
            "Iter: 1. Controllo borsa: \n",
            "Iter: 1. Controllo orologio: \n",
            "Iter: 2. Controllo persona: \n",
            "Iter: 2. Controllo borsa: \n",
            "Iter: 2. Borsa trovata: \n",
            "Score: 0.98112845\n",
            "Iter: 2. Controllo orologio: \n",
            "Iter: 3. Controllo persona: \n",
            "Iter: 3. Controllo borsa: \n",
            "Iter: 3. Controllo orologio: \n",
            "Iter: 4. Controllo persona: \n",
            "Iter: 4. Controllo borsa: \n",
            "Iter: 4. Controllo orologio: \n",
            "Iter: 5. Controllo persona: \n",
            "Iter: 5. Controllo borsa: \n",
            "Iter: 5. Controllo orologio: \n",
            "Immagine 101\n",
            "\t File: /content/drive/My Drive/universita/progetto ml/pub/2019-02-03_14-40-13_UTC.json\n"
          ],
          "name": "stdout"
        },
        {
          "output_type": "stream",
          "text": [
            "I0228 12:29:44.842193 140220390033280 yolo_model.py:59] time: 0.24697470664978027\n"
          ],
          "name": "stderr"
        },
        {
          "output_type": "stream",
          "text": [
            "\tperson, 0.9966634511947632, [0.29195893 0.05548063 0.6472502  0.9388468 ]\n",
            "\thandbag, 0.962882399559021, [0.3154624  0.33416474 0.51644105 0.64596254]\n",
            "\thandbag, 0.8357986807823181, [0.28207463 0.09963608 0.60804236 0.7584397 ]\n",
            "Iter: 0. Controllo persona: \n",
            "Iter: 0. Persona trovata: \n",
            "Score: 0.99666345\n",
            "Iter: 0. Controllo borsa: \n",
            "Iter: 0. Controllo orologio: \n",
            "Iter: 1. Controllo persona: \n",
            "Iter: 1. Controllo borsa: \n",
            "Iter: 1. Borsa trovata: \n",
            "Score: 0.9628824\n",
            "Iter: 1. Controllo orologio: \n",
            "Iter: 2. Controllo persona: \n",
            "Iter: 2. Controllo borsa: \n",
            "Iter: 2. Controllo orologio: \n",
            "Immagine 102\n",
            "\t File: /content/drive/My Drive/universita/progetto ml/pub/2019-02-05_14-06-31_UTC.json\n"
          ],
          "name": "stdout"
        },
        {
          "output_type": "stream",
          "text": [
            "I0228 12:29:46.819184 140220390033280 yolo_model.py:59] time: 0.22886228561401367\n"
          ],
          "name": "stderr"
        },
        {
          "output_type": "stream",
          "text": [
            "\tcell phone, 0.9920361638069153, [0.66598904 0.12813981 0.8298813  0.3248663 ]\n",
            "\tperson, 0.9802890419960022, [0.19502068 0.03285819 0.94659925 0.94161415]\n",
            "Iter: 0. Controllo persona: \n",
            "Iter: 0. Controllo borsa: \n",
            "Iter: 0. Controllo orologio: \n",
            "Iter: 1. Controllo persona: \n",
            "Iter: 1. Persona trovata: \n",
            "Score: 0.98028904\n",
            "Iter: 1. Controllo borsa: \n",
            "Iter: 1. Controllo orologio: \n",
            "Immagine 103\n",
            "\t File: /content/drive/My Drive/universita/progetto ml/pub/2019-02-03_17-27-15_UTC.json\n"
          ],
          "name": "stdout"
        },
        {
          "output_type": "stream",
          "text": [
            "I0228 12:29:50.922714 140220390033280 yolo_model.py:59] time: 0.23401284217834473\n"
          ],
          "name": "stderr"
        },
        {
          "output_type": "stream",
          "text": [
            "\tperson, 0.9994937777519226, [0.17968786 0.01756856 0.9977685  0.85522807]\n",
            "Iter: 0. Controllo persona: \n",
            "Iter: 0. Persona trovata: \n",
            "Score: 0.9994938\n",
            "Iter: 0. Controllo borsa: \n",
            "Iter: 0. Controllo orologio: \n",
            "Immagine 104\n",
            "\t File: /content/drive/My Drive/universita/progetto ml/pub/2019-02-08_15-27-37_UTC.json\n"
          ],
          "name": "stdout"
        },
        {
          "output_type": "stream",
          "text": [
            "I0228 12:29:52.764492 140220390033280 yolo_model.py:59] time: 0.2314748764038086\n"
          ],
          "name": "stderr"
        },
        {
          "output_type": "stream",
          "text": [
            "\tperson, 0.9947543144226074, [0.1351456  0.02227455 0.73138356 0.9727006 ]\n",
            "Iter: 0. Controllo persona: \n",
            "Iter: 0. Persona trovata: \n",
            "Score: 0.9947543\n",
            "Iter: 0. Controllo borsa: \n",
            "Iter: 0. Controllo orologio: \n",
            "Immagine 105\n",
            "\t File: /content/drive/My Drive/universita/progetto ml/pub/2019-02-08_15-27-37_UTC.json\n"
          ],
          "name": "stdout"
        },
        {
          "output_type": "stream",
          "text": [
            "I0228 12:29:55.059074 140220390033280 yolo_model.py:59] time: 0.2261359691619873\n"
          ],
          "name": "stderr"
        },
        {
          "output_type": "stream",
          "text": [
            "\tperson, 0.9988191723823547, [0.44058985 0.11531323 0.81986624 1.        ]\n",
            "\tchair, 0.9420808553695679, [0.8487677  0.50366205 0.94128996 0.62964517]\n",
            "\tsuitcase, 0.9119902849197388, [0.62622476 0.61788297 0.81622756 0.77449   ]\n",
            "\tpottedplant, 0.871248722076416, [0.12133504 0.4325271  0.19883424 0.5298848 ]\n",
            "\thandbag, 0.7880627512931824, [0.6214142 0.6231895 0.8113431 0.7521369]\n",
            "\tchair, 0.6765168309211731, [0.33711222 0.4748625  0.38220522 0.5444982 ]\n",
            "\tchair, 0.5768432021141052, [0.27928063 0.47599077 0.35331705 0.5416044 ]\n",
            "Iter: 0. Controllo persona: \n",
            "Iter: 0. Persona trovata: \n",
            "Score: 0.9988192\n",
            "Iter: 0. Controllo borsa: \n",
            "Iter: 0. Controllo orologio: \n",
            "Iter: 1. Controllo persona: \n",
            "Iter: 1. Controllo borsa: \n",
            "Iter: 1. Controllo orologio: \n",
            "Iter: 2. Controllo persona: \n",
            "Iter: 2. Controllo borsa: \n",
            "Iter: 2. Controllo orologio: \n",
            "Iter: 3. Controllo persona: \n",
            "Iter: 3. Controllo borsa: \n",
            "Iter: 3. Controllo orologio: \n",
            "Iter: 4. Controllo persona: \n",
            "Iter: 4. Controllo borsa: \n",
            "Iter: 4. Borsa trovata: \n",
            "Score: 0.78806275\n",
            "Iter: 4. Controllo orologio: \n",
            "Iter: 5. Controllo persona: \n",
            "Iter: 5. Controllo borsa: \n",
            "Iter: 5. Controllo orologio: \n",
            "Iter: 6. Controllo persona: \n",
            "Iter: 6. Controllo borsa: \n",
            "Iter: 6. Controllo orologio: \n",
            "Immagine 106\n",
            "\t File: /content/drive/My Drive/universita/progetto ml/pub/2019-02-15_11-49-54_UTC.json\n"
          ],
          "name": "stdout"
        },
        {
          "output_type": "stream",
          "text": [
            "I0228 12:29:56.211188 140220390033280 yolo_model.py:59] time: 0.23352980613708496\n"
          ],
          "name": "stderr"
        },
        {
          "output_type": "stream",
          "text": [
            "\tperson, 0.9994782209396362, [0.43164182 0.25556034 0.7463143  1.        ]\n",
            "\tcar, 0.993801474571228, [0.18052915 0.51893216 0.4642479  0.6186498 ]\n",
            "\thandbag, 0.9831560850143433, [0.5833251  0.54616344 0.77987784 0.76063156]\n",
            "\tcar, 0.9448397755622864, [0.00146946 0.5216469  0.17586422 0.6109852 ]\n",
            "\tperson, 0.8973456621170044, [0.48272607 0.00718877 0.5803708  0.32290462]\n",
            "\tcar, 0.8266483545303345, [0.85101515 0.5392984  1.         0.64790297]\n",
            "\tperson, 0.8020340800285339, [0.39924076 0.00877881 0.5075773  0.34034657]\n",
            "\tperson, 0.7073209881782532, [0.00528209 0.06806891 0.11035943 0.3597678 ]\n",
            "\tbicycle, 0.5777666568756104, [0.7748899  0.54725856 0.8606675  0.61944383]\n",
            "\tperson, 0.5193288922309875, [0.27932104 0.02919005 0.39487073 0.34498054]\n",
            "Iter: 0. Controllo persona: \n",
            "Iter: 0. Persona trovata: \n",
            "Score: 0.9994782\n",
            "Iter: 0. Controllo borsa: \n",
            "Iter: 0. Controllo orologio: \n",
            "Iter: 1. Controllo persona: \n",
            "Iter: 1. Controllo borsa: \n",
            "Iter: 1. Controllo orologio: \n",
            "Iter: 2. Controllo persona: \n",
            "Iter: 2. Controllo borsa: \n",
            "Iter: 2. Borsa trovata: \n",
            "Score: 0.9831561\n",
            "Iter: 2. Controllo orologio: \n",
            "Iter: 3. Controllo persona: \n",
            "Iter: 3. Controllo borsa: \n",
            "Iter: 3. Controllo orologio: \n",
            "Iter: 4. Controllo persona: \n",
            "Iter: 4. Controllo borsa: \n",
            "Iter: 4. Controllo orologio: \n",
            "Iter: 5. Controllo persona: \n",
            "Iter: 5. Controllo borsa: \n",
            "Iter: 5. Controllo orologio: \n",
            "Iter: 6. Controllo persona: \n",
            "Iter: 6. Controllo borsa: \n",
            "Iter: 6. Controllo orologio: \n",
            "Iter: 7. Controllo persona: \n",
            "Iter: 7. Controllo borsa: \n",
            "Iter: 7. Controllo orologio: \n",
            "Iter: 8. Controllo persona: \n",
            "Iter: 8. Controllo borsa: \n",
            "Iter: 8. Controllo orologio: \n",
            "Iter: 9. Controllo persona: \n",
            "Iter: 9. Controllo borsa: \n",
            "Iter: 9. Controllo orologio: \n",
            "Immagine 107\n",
            "\t File: /content/drive/My Drive/universita/progetto ml/pub/2019-02-12_15-08-18_UTC.json\n"
          ],
          "name": "stdout"
        },
        {
          "output_type": "stream",
          "text": [
            "I0228 12:30:00.045581 140220390033280 yolo_model.py:59] time: 0.24126219749450684\n"
          ],
          "name": "stderr"
        },
        {
          "output_type": "stream",
          "text": [
            "\tperson, 0.9991951584815979, [0.4858777 0.2685574 1.        1.       ]\n",
            "\tchair, 0.9677872061729431, [0.3415057  0.50279105 0.51619935 0.63322973]\n",
            "\tvase, 0.9437568187713623, [0.04758441 0.61565423 0.11626794 0.7532749 ]\n",
            "\tdiningtable, 0.8662793040275574, [0.        0.7218696 0.6471913 0.9888513]\n",
            "\tchair, 0.8655554056167603, [0.50249743 0.4781472  0.99527407 0.99669796]\n",
            "\tbowl, 0.7916390895843506, [0.3552552  0.7489318  0.46551782 0.81991285]\n",
            "\tcup, 0.7397205829620361, [0.35274175 0.747012   0.4670163  0.8334031 ]\n",
            "Iter: 0. Controllo persona: \n",
            "Iter: 0. Persona trovata: \n",
            "Score: 0.99919516\n",
            "Iter: 0. Controllo borsa: \n",
            "Iter: 0. Controllo orologio: \n",
            "Iter: 1. Controllo persona: \n",
            "Iter: 1. Controllo borsa: \n",
            "Iter: 1. Controllo orologio: \n",
            "Iter: 2. Controllo persona: \n",
            "Iter: 2. Controllo borsa: \n",
            "Iter: 2. Controllo orologio: \n",
            "Iter: 3. Controllo persona: \n",
            "Iter: 3. Controllo borsa: \n",
            "Iter: 3. Controllo orologio: \n",
            "Iter: 4. Controllo persona: \n",
            "Iter: 4. Controllo borsa: \n",
            "Iter: 4. Controllo orologio: \n",
            "Iter: 5. Controllo persona: \n",
            "Iter: 5. Controllo borsa: \n",
            "Iter: 5. Controllo orologio: \n",
            "Iter: 6. Controllo persona: \n",
            "Iter: 6. Controllo borsa: \n",
            "Iter: 6. Controllo orologio: \n",
            "Immagine 108\n",
            "\t File: /content/drive/My Drive/universita/progetto ml/pub/2019-02-18_18-55-43_UTC.json\n"
          ],
          "name": "stdout"
        },
        {
          "output_type": "stream",
          "text": [
            "I0228 12:30:01.107482 140220390033280 yolo_model.py:59] time: 0.2344224452972412\n"
          ],
          "name": "stderr"
        },
        {
          "output_type": "stream",
          "text": [
            "\tperson, 0.9997581243515015, [0.4587937 0.        0.79833   1.       ]\n",
            "\tcar, 0.9751940965652466, [0.8086163 0.2206924 0.9985118 0.5307883]\n",
            "\tcar, 0.9723227024078369, [0.10214941 0.20479435 0.47891784 0.4585411 ]\n",
            "\tcar, 0.5413500070571899, [0.00219601 0.24361038 0.24752268 0.413485  ]\n",
            "Iter: 0. Controllo persona: \n",
            "Iter: 0. Persona trovata: \n",
            "Score: 0.9997581\n",
            "Iter: 0. Controllo borsa: \n",
            "Iter: 0. Controllo orologio: \n",
            "Iter: 1. Controllo persona: \n",
            "Iter: 1. Controllo borsa: \n",
            "Iter: 1. Controllo orologio: \n",
            "Iter: 2. Controllo persona: \n",
            "Iter: 2. Controllo borsa: \n",
            "Iter: 2. Controllo orologio: \n",
            "Iter: 3. Controllo persona: \n",
            "Iter: 3. Controllo borsa: \n",
            "Iter: 3. Controllo orologio: \n",
            "Immagine 109\n",
            "\t File: /content/drive/My Drive/universita/progetto ml/pub/2019-02-21_17-23-28_UTC.json\n"
          ],
          "name": "stdout"
        },
        {
          "output_type": "stream",
          "text": [
            "I0228 12:30:06.755170 140220390033280 yolo_model.py:59] time: 0.24360966682434082\n"
          ],
          "name": "stderr"
        },
        {
          "output_type": "stream",
          "text": [
            "\tperson, 0.9994155764579773, [0.14336655 0.0045208  0.9977721  0.99017227]\n",
            "\thandbag, 0.92923504114151, [0.15337613 0.5919754  0.43068972 0.9189897 ]\n",
            "Iter: 0. Controllo persona: \n",
            "Iter: 0. Persona trovata: \n",
            "Score: 0.9994156\n",
            "Iter: 0. Controllo borsa: \n",
            "Iter: 0. Controllo orologio: \n",
            "Iter: 1. Controllo persona: \n",
            "Iter: 1. Controllo borsa: \n",
            "Iter: 1. Borsa trovata: \n",
            "Score: 0.92923504\n",
            "Iter: 1. Controllo orologio: \n",
            "Immagine 110\n",
            "\t File: /content/drive/My Drive/universita/progetto ml/pub/2019-02-21_12-37-58_UTC.json\n"
          ],
          "name": "stdout"
        },
        {
          "output_type": "stream",
          "text": [
            "I0228 12:30:07.916821 140220390033280 yolo_model.py:59] time: 0.24954867362976074\n"
          ],
          "name": "stderr"
        },
        {
          "output_type": "stream",
          "text": [
            "\thandbag, 0.972587525844574, [0.25146595 0.75910246 0.4778119  0.9847224 ]\n",
            "\tperson, 0.8860467672348022, [0.30456463 0.         0.7945262  1.        ]\n",
            "Iter: 0. Controllo persona: \n",
            "Iter: 0. Controllo borsa: \n",
            "Iter: 0. Borsa trovata: \n",
            "Score: 0.9725875\n",
            "Iter: 0. Controllo orologio: \n",
            "Iter: 1. Controllo persona: \n",
            "Iter: 1. Persona trovata: \n",
            "Score: 0.88604677\n",
            "Iter: 1. Controllo borsa: \n",
            "Iter: 1. Controllo orologio: \n",
            "Immagine 111\n",
            "\t File: /content/drive/My Drive/universita/progetto ml/pub/2019-02-21_12-37-58_UTC.json\n"
          ],
          "name": "stdout"
        },
        {
          "output_type": "stream",
          "text": [
            "I0228 12:30:11.262321 140220390033280 yolo_model.py:59] time: 0.2560608386993408\n"
          ],
          "name": "stderr"
        },
        {
          "output_type": "stream",
          "text": [
            "\tperson, 0.9988311529159546, [0.33332148 0.         0.6836852  1.        ]\n",
            "\thandbag, 0.9602809548377991, [0.57688856 0.59983027 0.71888614 0.74510145]\n",
            "Iter: 0. Controllo persona: \n",
            "Iter: 0. Persona trovata: \n",
            "Score: 0.99883115\n",
            "Iter: 0. Controllo borsa: \n",
            "Iter: 0. Controllo orologio: \n",
            "Iter: 1. Controllo persona: \n",
            "Iter: 1. Controllo borsa: \n",
            "Iter: 1. Borsa trovata: \n",
            "Score: 0.96028095\n",
            "Iter: 1. Controllo orologio: \n",
            "Immagine 112\n",
            "\t File: /content/drive/My Drive/universita/progetto ml/pub/2019-02-21_14-22-58_UTC.json\n"
          ],
          "name": "stdout"
        },
        {
          "output_type": "stream",
          "text": [
            "I0228 12:30:13.104778 140220390033280 yolo_model.py:59] time: 0.2518625259399414\n"
          ],
          "name": "stderr"
        },
        {
          "output_type": "stream",
          "text": [
            "\tperson, 0.9694031476974487, [0.26063398 0.03611907 0.77197707 0.9554367 ]\n",
            "\tbench, 0.9480154514312744, [0.18381146 0.17582682 0.8333757  0.9555917 ]\n",
            "Iter: 0. Controllo persona: \n",
            "Iter: 0. Persona trovata: \n",
            "Score: 0.96940315\n",
            "Iter: 0. Controllo borsa: \n",
            "Iter: 0. Controllo orologio: \n",
            "Iter: 1. Controllo persona: \n",
            "Iter: 1. Controllo borsa: \n",
            "Iter: 1. Controllo orologio: \n",
            "Immagine 113\n",
            "\t File: /content/drive/My Drive/universita/progetto ml/pub/2019-02-21_12-37-58_UTC.json\n"
          ],
          "name": "stdout"
        },
        {
          "output_type": "stream",
          "text": [
            "I0228 12:30:14.776123 140220390033280 yolo_model.py:59] time: 0.25101280212402344\n"
          ],
          "name": "stderr"
        },
        {
          "output_type": "stream",
          "text": [
            "\tperson, 0.9979075789451599, [0.19562134 0.03133014 0.7471603  0.9798757 ]\n",
            "\thandbag, 0.8221169114112854, [0.31817198 0.35182217 0.4991911  0.47144678]\n",
            "Iter: 0. Controllo persona: \n",
            "Iter: 0. Persona trovata: \n",
            "Score: 0.9979076\n",
            "Iter: 0. Controllo borsa: \n",
            "Iter: 0. Controllo orologio: \n",
            "Iter: 1. Controllo persona: \n",
            "Iter: 1. Controllo borsa: \n",
            "Iter: 1. Borsa trovata: \n",
            "Score: 0.8221169\n",
            "Iter: 1. Controllo orologio: \n",
            "Immagine 114\n",
            "\t File: /content/drive/My Drive/universita/progetto ml/pub/2019-02-21_20-32-35_UTC.json\n"
          ],
          "name": "stdout"
        },
        {
          "output_type": "stream",
          "text": [
            "I0228 12:30:16.080203 140220390033280 yolo_model.py:59] time: 0.2553572654724121\n"
          ],
          "name": "stderr"
        },
        {
          "output_type": "stream",
          "text": [
            "\tperson, 0.9994142055511475, [0.22422257 0.00639084 0.7290424  0.99293864]\n",
            "\tcar, 0.7952017784118652, [0.81783915 0.25597394 0.99860704 0.40150768]\n",
            "\tcar, 0.7389093041419983, [0.9616346  0.2677493  1.         0.47855735]\n",
            "\ttruck, 0.6311218738555908, [0.03776217 0.05866838 0.68383783 0.94484544]\n",
            "Iter: 0. Controllo persona: \n",
            "Iter: 0. Persona trovata: \n",
            "Score: 0.9994142\n",
            "Iter: 0. Controllo borsa: \n",
            "Iter: 0. Controllo orologio: \n",
            "Iter: 1. Controllo persona: \n",
            "Iter: 1. Controllo borsa: \n",
            "Iter: 1. Controllo orologio: \n",
            "Iter: 2. Controllo persona: \n",
            "Iter: 2. Controllo borsa: \n",
            "Iter: 2. Controllo orologio: \n",
            "Iter: 3. Controllo persona: \n",
            "Iter: 3. Controllo borsa: \n",
            "Iter: 3. Controllo orologio: \n",
            "Immagine 115\n",
            "\t File: /content/drive/My Drive/universita/progetto ml/pub/2019-02-21_20-32-35_UTC.json\n"
          ],
          "name": "stdout"
        },
        {
          "output_type": "stream",
          "text": [
            "I0228 12:30:17.490190 140220390033280 yolo_model.py:59] time: 0.24883532524108887\n"
          ],
          "name": "stderr"
        },
        {
          "output_type": "stream",
          "text": [
            "\tperson, 0.9999579191207886, [0.30581436 0.         0.66073513 1.        ]\n",
            "\tcar, 0.9190605878829956, [0.00551708 0.21200214 0.2577225  0.6326828 ]\n",
            "\thandbag, 0.8914514183998108, [0.26657858 0.30379665 0.41506693 0.5044705 ]\n",
            "Iter: 0. Controllo persona: \n",
            "Iter: 0. Persona trovata: \n",
            "Score: 0.9999579\n",
            "Iter: 0. Controllo borsa: \n",
            "Iter: 0. Controllo orologio: \n",
            "Iter: 1. Controllo persona: \n",
            "Iter: 1. Controllo borsa: \n",
            "Iter: 1. Controllo orologio: \n",
            "Iter: 2. Controllo persona: \n",
            "Iter: 2. Controllo borsa: \n",
            "Iter: 2. Borsa trovata: \n",
            "Score: 0.8914514\n",
            "Iter: 2. Controllo orologio: \n",
            "Immagine 116\n",
            "\t File: /content/drive/My Drive/universita/progetto ml/pub/2019-02-22_08-02-44_UTC.json\n"
          ],
          "name": "stdout"
        },
        {
          "output_type": "stream",
          "text": [
            "I0228 12:30:18.154118 140220390033280 yolo_model.py:59] time: 0.2589902877807617\n"
          ],
          "name": "stderr"
        },
        {
          "output_type": "stream",
          "text": [
            "\tperson, 0.9962071180343628, [0.17036527 0.2098519  0.23858777 0.36409557]\n",
            "\tperson, 0.9889636635780334, [0.28580132 0.06146815 0.8781831  0.9109036 ]\n",
            "\thandbag, 0.9178330898284912, [0.         0.5982768  0.70214504 0.9985115 ]\n",
            "Iter: 0. Controllo persona: \n",
            "Iter: 0. Persona trovata: \n",
            "Score: 0.9962071\n",
            "Iter: 0. Controllo borsa: \n",
            "Iter: 0. Controllo orologio: \n",
            "Iter: 1. Controllo persona: \n",
            "Iter: 1. Controllo borsa: \n",
            "Iter: 1. Controllo orologio: \n",
            "Iter: 2. Controllo persona: \n",
            "Iter: 2. Controllo borsa: \n",
            "Iter: 2. Borsa trovata: \n",
            "Score: 0.9178331\n",
            "Iter: 2. Controllo orologio: \n",
            "Immagine 117\n",
            "\t File: /content/drive/My Drive/universita/progetto ml/pub/2019-02-23_13-59-21_UTC.json\n"
          ],
          "name": "stdout"
        },
        {
          "output_type": "stream",
          "text": [
            "I0228 12:30:19.639566 140220390033280 yolo_model.py:59] time: 0.2609856128692627\n"
          ],
          "name": "stderr"
        },
        {
          "output_type": "stream",
          "text": [
            "\tperson, 0.9972110986709595, [0.16594306 0.00690657 0.8467221  1.        ]\n",
            "Iter: 0. Controllo persona: \n",
            "Iter: 0. Persona trovata: \n",
            "Score: 0.9972111\n",
            "Iter: 0. Controllo borsa: \n",
            "Iter: 0. Controllo orologio: \n",
            "Immagine 118\n",
            "\t File: /content/drive/My Drive/universita/progetto ml/pub/2019-02-23_18-42-27_UTC.json\n"
          ],
          "name": "stdout"
        },
        {
          "output_type": "stream",
          "text": [
            "I0228 12:30:21.325391 140220390033280 yolo_model.py:59] time: 0.22692370414733887\n"
          ],
          "name": "stderr"
        },
        {
          "output_type": "stream",
          "text": [
            "\tperson, 0.9999818801879883, [0.30906594 0.00359672 0.68078434 0.99204785]\n",
            "\thandbag, 0.9539313912391663, [0.27348202 0.32506007 0.46991885 0.5165342 ]\n",
            "\tcell phone, 0.614750862121582, [0.39494067 0.3027608  0.45774025 0.3291773 ]\n",
            "Iter: 0. Controllo persona: \n",
            "Iter: 0. Persona trovata: \n",
            "Score: 0.9999819\n",
            "Iter: 0. Controllo borsa: \n",
            "Iter: 0. Controllo orologio: \n",
            "Iter: 1. Controllo persona: \n",
            "Iter: 1. Controllo borsa: \n",
            "Iter: 1. Borsa trovata: \n",
            "Score: 0.9539314\n",
            "Iter: 1. Controllo orologio: \n",
            "Iter: 2. Controllo persona: \n",
            "Iter: 2. Controllo borsa: \n",
            "Iter: 2. Controllo orologio: \n",
            "Immagine 119\n",
            "\t File: /content/drive/My Drive/universita/progetto ml/pub/2019-02-23_18-42-27_UTC.json\n"
          ],
          "name": "stdout"
        },
        {
          "output_type": "stream",
          "text": [
            "I0228 12:30:23.067856 140220390033280 yolo_model.py:59] time: 0.27234554290771484\n"
          ],
          "name": "stderr"
        },
        {
          "output_type": "stream",
          "text": [
            "\tperson, 0.9997002482414246, [0.14033231 0.05936036 0.72736156 0.9415978 ]\n",
            "\tpottedplant, 0.9936861395835876, [0.52996725 0.1427051  0.9547252  0.44673383]\n",
            "\tcar, 0.9572355151176453, [0.43334225 0.0876853  0.539595   0.18322073]\n",
            "\tbench, 0.9305769801139832, [0.         0.30623358 0.7001082  0.9932985 ]\n",
            "Iter: 0. Controllo persona: \n",
            "Iter: 0. Persona trovata: \n",
            "Score: 0.99970025\n",
            "Iter: 0. Controllo borsa: \n",
            "Iter: 0. Controllo orologio: \n",
            "Iter: 1. Controllo persona: \n",
            "Iter: 1. Controllo borsa: \n",
            "Iter: 1. Controllo orologio: \n",
            "Iter: 2. Controllo persona: \n",
            "Iter: 2. Controllo borsa: \n",
            "Iter: 2. Controllo orologio: \n",
            "Iter: 3. Controllo persona: \n",
            "Iter: 3. Controllo borsa: \n",
            "Iter: 3. Controllo orologio: \n",
            "Immagine 120\n",
            "\t File: /content/drive/My Drive/universita/progetto ml/pub/2019-02-23_18-42-27_UTC.json\n"
          ],
          "name": "stdout"
        },
        {
          "output_type": "stream",
          "text": [
            "I0228 12:30:24.127791 140220390033280 yolo_model.py:59] time: 0.23504114151000977\n"
          ],
          "name": "stderr"
        },
        {
          "output_type": "stream",
          "text": [
            "\tperson, 0.9999083280563354, [0.34542778 0.00491855 0.85203743 0.97835624]\n",
            "\tcar, 0.993472158908844, [0.03822491 0.15829831 0.5428338  0.4164784 ]\n",
            "\thandbag, 0.601839542388916, [0.59260654 0.396227   0.8205037  0.57952046]\n",
            "Iter: 0. Controllo persona: \n",
            "Iter: 0. Persona trovata: \n",
            "Score: 0.9999083\n",
            "Iter: 0. Controllo borsa: \n",
            "Iter: 0. Controllo orologio: \n",
            "Iter: 1. Controllo persona: \n",
            "Iter: 1. Controllo borsa: \n",
            "Iter: 1. Controllo orologio: \n",
            "Iter: 2. Controllo persona: \n",
            "Iter: 2. Controllo borsa: \n",
            "Iter: 2. Borsa trovata: \n",
            "Score: 0.60183954\n",
            "Iter: 2. Controllo orologio: \n",
            "Immagine 121\n",
            "\t File: /content/drive/My Drive/universita/progetto ml/pub/2019-02-23_18-42-27_UTC.json\n"
          ],
          "name": "stdout"
        },
        {
          "output_type": "stream",
          "text": [
            "I0228 12:30:29.800206 140220390033280 yolo_model.py:59] time: 0.24820518493652344\n"
          ],
          "name": "stderr"
        },
        {
          "output_type": "stream",
          "text": [
            "\tperson, 0.9993480443954468, [0.30263132 0.01022255 0.81084055 1.        ]\n",
            "\tcar, 0.983075737953186, [0.61789703 0.20707586 0.7348567  0.2765004 ]\n",
            "\thandbag, 0.9486384987831116, [0.27466697 0.34201118 0.56839556 0.8279891 ]\n",
            "\tcar, 0.9131131768226624, [0.8112214  0.2161331  0.8996957  0.26433143]\n",
            "\thandbag, 0.8972451686859131, [0.2608644  0.52190024 0.49909982 0.8223912 ]\n",
            "\tcar, 0.8183616995811462, [0.882162   0.21369013 0.9833846  0.26741108]\n",
            "\tcar, 0.8152654767036438, [0.23090616 0.22163312 0.3224313  0.2708794 ]\n",
            "\tcar, 0.6669554114341736, [0.7366667  0.20934129 0.81852126 0.24587578]\n",
            "Iter: 0. Controllo persona: \n",
            "Iter: 0. Persona trovata: \n",
            "Score: 0.99934804\n",
            "Iter: 0. Controllo borsa: \n",
            "Iter: 0. Controllo orologio: \n",
            "Iter: 1. Controllo persona: \n",
            "Iter: 1. Controllo borsa: \n",
            "Iter: 1. Controllo orologio: \n",
            "Iter: 2. Controllo persona: \n",
            "Iter: 2. Controllo borsa: \n",
            "Iter: 2. Borsa trovata: \n",
            "Score: 0.9486385\n",
            "Iter: 2. Controllo orologio: \n",
            "Iter: 3. Controllo persona: \n",
            "Iter: 3. Controllo borsa: \n",
            "Iter: 3. Controllo orologio: \n",
            "Iter: 4. Controllo persona: \n",
            "Iter: 4. Controllo borsa: \n",
            "Iter: 4. Controllo orologio: \n",
            "Iter: 5. Controllo persona: \n",
            "Iter: 5. Controllo borsa: \n",
            "Iter: 5. Controllo orologio: \n",
            "Iter: 6. Controllo persona: \n",
            "Iter: 6. Controllo borsa: \n",
            "Iter: 6. Controllo orologio: \n",
            "Iter: 7. Controllo persona: \n",
            "Iter: 7. Controllo borsa: \n",
            "Iter: 7. Controllo orologio: \n",
            "Immagine 122\n",
            "\t File: /content/drive/My Drive/universita/progetto ml/pub/2019-02-25_20-09-04_UTC.json\n"
          ],
          "name": "stdout"
        },
        {
          "output_type": "stream",
          "text": [
            "I0228 12:30:31.129602 140220390033280 yolo_model.py:59] time: 0.24515366554260254\n"
          ],
          "name": "stderr"
        },
        {
          "output_type": "stream",
          "text": [
            "\tperson, 0.9674952626228333, [0.1071243 0.060094  0.7357222 0.9343808]\n",
            "\thandbag, 0.9188105463981628, [0.17982616 0.4569372  0.32477254 0.5888034 ]\n",
            "Iter: 0. Controllo persona: \n",
            "Iter: 0. Persona trovata: \n",
            "Score: 0.96749526\n",
            "Iter: 0. Controllo borsa: \n",
            "Iter: 0. Controllo orologio: \n",
            "Iter: 1. Controllo persona: \n",
            "Iter: 1. Controllo borsa: \n",
            "Iter: 1. Borsa trovata: \n",
            "Score: 0.91881055\n",
            "Iter: 1. Controllo orologio: \n",
            "Immagine 123\n",
            "\t File: /content/drive/My Drive/universita/progetto ml/pub/2019-02-23_18-42-27_UTC.json\n"
          ],
          "name": "stdout"
        },
        {
          "output_type": "stream",
          "text": [
            "I0228 12:30:33.783336 140220390033280 yolo_model.py:59] time: 0.23844265937805176\n"
          ],
          "name": "stderr"
        },
        {
          "output_type": "stream",
          "text": [
            "\tperson, 0.9999572038650513, [0.22339413 0.00132659 0.7915704  0.9684477 ]\n",
            "\thandbag, 0.822976291179657, [0.24806291 0.5435176  0.58648473 0.7912928 ]\n",
            "Iter: 0. Controllo persona: \n",
            "Iter: 0. Persona trovata: \n",
            "Score: 0.9999572\n",
            "Iter: 0. Controllo borsa: \n",
            "Iter: 0. Controllo orologio: \n",
            "Iter: 1. Controllo persona: \n",
            "Iter: 1. Controllo borsa: \n",
            "Iter: 1. Borsa trovata: \n",
            "Score: 0.8229763\n",
            "Iter: 1. Controllo orologio: \n",
            "Immagine 124\n",
            "\t File: /content/drive/My Drive/universita/progetto ml/pub/2019-02-26_18-26-11_UTC.json\n"
          ],
          "name": "stdout"
        },
        {
          "output_type": "stream",
          "text": [
            "I0228 12:30:41.397043 140220390033280 yolo_model.py:59] time: 0.23210930824279785\n"
          ],
          "name": "stderr"
        },
        {
          "output_type": "stream",
          "text": [
            "\tperson, 0.9999927282333374, [0.27418765 0.03503329 0.85604167 0.9976265 ]\n",
            "\tcar, 0.9966228008270264, [0.20197147 0.26192296 0.36325765 0.34476614]\n",
            "\thandbag, 0.9041968584060669, [0.18052782 0.57563055 0.5099825  0.8753346 ]\n",
            "\tcar, 0.8963118195533752, [0.09194423 0.26021475 0.19302417 0.30696243]\n",
            "\tcar, 0.7037442326545715, [0.37381804 0.2421498  0.48632044 0.30804244]\n",
            "Iter: 0. Controllo persona: \n",
            "Iter: 0. Persona trovata: \n",
            "Score: 0.9999927\n",
            "Iter: 0. Controllo borsa: \n",
            "Iter: 0. Controllo orologio: \n",
            "Iter: 1. Controllo persona: \n",
            "Iter: 1. Controllo borsa: \n",
            "Iter: 1. Controllo orologio: \n",
            "Iter: 2. Controllo persona: \n",
            "Iter: 2. Controllo borsa: \n",
            "Iter: 2. Borsa trovata: \n",
            "Score: 0.90419686\n",
            "Iter: 2. Controllo orologio: \n",
            "Iter: 3. Controllo persona: \n",
            "Iter: 3. Controllo borsa: \n",
            "Iter: 3. Controllo orologio: \n",
            "Iter: 4. Controllo persona: \n",
            "Iter: 4. Controllo borsa: \n",
            "Iter: 4. Controllo orologio: \n",
            "Immagine 125\n",
            "\t File: /content/drive/My Drive/universita/progetto ml/pub/2019-02-26_18-26-11_UTC.json\n"
          ],
          "name": "stdout"
        },
        {
          "output_type": "stream",
          "text": [
            "I0228 12:30:43.275459 140220390033280 yolo_model.py:59] time: 0.25273942947387695\n"
          ],
          "name": "stderr"
        },
        {
          "output_type": "stream",
          "text": [
            "\tperson, 0.9998104572296143, [0.25399756 0.01509899 0.86228144 0.9983476 ]\n",
            "\tperson, 0.9942240715026855, [0.74630684 0.29633707 0.81563574 0.46221805]\n",
            "\tperson, 0.9932011365890503, [0.80472714 0.31024516 0.8768459  0.4532262 ]\n",
            "\tcar, 0.9861912727355957, [0.02365013 0.3052501  0.1446814  0.36363906]\n",
            "\tcar, 0.9859893918037415, [0.14062561 0.29463303 0.28478324 0.38946134]\n",
            "\thandbag, 0.7572211623191833, [0.64585465 0.536993   0.8743276  0.8092506 ]\n",
            "\tcar, 0.6836347579956055, [0.         0.30563974 0.02821744 0.36534262]\n",
            "Iter: 0. Controllo persona: \n",
            "Iter: 0. Persona trovata: \n",
            "Score: 0.99981046\n",
            "Iter: 0. Controllo borsa: \n",
            "Iter: 0. Controllo orologio: \n",
            "Iter: 1. Controllo persona: \n",
            "Iter: 1. Controllo borsa: \n",
            "Iter: 1. Controllo orologio: \n",
            "Iter: 2. Controllo persona: \n",
            "Iter: 2. Controllo borsa: \n",
            "Iter: 2. Controllo orologio: \n",
            "Iter: 3. Controllo persona: \n",
            "Iter: 3. Controllo borsa: \n",
            "Iter: 3. Controllo orologio: \n",
            "Iter: 4. Controllo persona: \n",
            "Iter: 4. Controllo borsa: \n",
            "Iter: 4. Controllo orologio: \n",
            "Iter: 5. Controllo persona: \n",
            "Iter: 5. Controllo borsa: \n",
            "Iter: 5. Borsa trovata: \n",
            "Score: 0.75722116\n",
            "Iter: 5. Controllo orologio: \n",
            "Iter: 6. Controllo persona: \n",
            "Iter: 6. Controllo borsa: \n",
            "Iter: 6. Controllo orologio: \n",
            "Immagine 126\n",
            "\t File: /content/drive/My Drive/universita/progetto ml/pub/2019-02-27_14-50-05_UTC.json\n"
          ],
          "name": "stdout"
        },
        {
          "output_type": "stream",
          "text": [
            "I0228 12:30:46.301457 140220390033280 yolo_model.py:59] time: 0.2326061725616455\n"
          ],
          "name": "stderr"
        },
        {
          "output_type": "stream",
          "text": [
            "\tperson, 0.987612783908844, [0.05369046 0.03250256 0.9635787  0.95086205]\n",
            "Iter: 0. Controllo persona: \n",
            "Iter: 0. Persona trovata: \n",
            "Score: 0.9876128\n",
            "Iter: 0. Controllo borsa: \n",
            "Iter: 0. Controllo orologio: \n",
            "Immagine 127\n",
            "\t File: /content/drive/My Drive/universita/progetto ml/pub/2019-02-25_20-09-04_UTC.json\n"
          ],
          "name": "stdout"
        },
        {
          "output_type": "stream",
          "text": [
            "I0228 12:30:49.615210 140220390033280 yolo_model.py:59] time: 0.23323893547058105\n"
          ],
          "name": "stderr"
        },
        {
          "output_type": "stream",
          "text": [
            "\tperson, 0.9992216229438782, [0.15245518 0.02292204 0.8142375  0.98937786]\n",
            "Iter: 0. Controllo persona: \n",
            "Iter: 0. Persona trovata: \n",
            "Score: 0.9992216\n",
            "Iter: 0. Controllo borsa: \n",
            "Iter: 0. Controllo orologio: \n",
            "Immagine 128\n",
            "\t File: /content/drive/My Drive/universita/progetto ml/pub/2020-01-15_01-23-36_UTC.json\n"
          ],
          "name": "stdout"
        },
        {
          "output_type": "stream",
          "text": [
            "I0228 12:30:50.328850 140220390033280 yolo_model.py:59] time: 0.28172922134399414\n"
          ],
          "name": "stderr"
        },
        {
          "output_type": "stream",
          "text": [
            "\tperson, 0.9992531538009644, [0.06903738 0.24535605 0.6544573  0.75591063]\n",
            "\tperson, 0.9881594181060791, [0.75281703 0.194851   0.98728    0.46133518]\n",
            "\tcup, 0.9849854111671448, [0.28897876 0.6591998  0.39052403 0.7461974 ]\n",
            "\tcup, 0.9774803519248962, [0.5820999 0.819757  0.7420032 1.       ]\n",
            "\tperson, 0.9453703165054321, [0.26233926 0.2793441  0.36575988 0.37290326]\n",
            "\tperson, 0.9441667795181274, [0.703958   0.3134583  0.765261   0.35752305]\n",
            "\tperson, 0.8332300186157227, [0.58658725 0.34064707 0.6269854  0.3581026 ]\n",
            "\tperson, 0.8082331418991089, [0.64330965 0.3315862  0.68302816 0.35759732]\n",
            "Iter: 0. Controllo persona: \n",
            "Iter: 0. Persona trovata: \n",
            "Score: 0.99925315\n",
            "Iter: 0. Controllo borsa: \n",
            "Iter: 0. Controllo orologio: \n",
            "Iter: 1. Controllo persona: \n",
            "Iter: 1. Controllo borsa: \n",
            "Iter: 1. Controllo orologio: \n",
            "Iter: 2. Controllo persona: \n",
            "Iter: 2. Controllo borsa: \n",
            "Iter: 2. Controllo orologio: \n",
            "Iter: 3. Controllo persona: \n",
            "Iter: 3. Controllo borsa: \n",
            "Iter: 3. Controllo orologio: \n",
            "Iter: 4. Controllo persona: \n",
            "Iter: 4. Controllo borsa: \n",
            "Iter: 4. Controllo orologio: \n",
            "Iter: 5. Controllo persona: \n",
            "Iter: 5. Controllo borsa: \n",
            "Iter: 5. Controllo orologio: \n",
            "Iter: 6. Controllo persona: \n",
            "Iter: 6. Controllo borsa: \n",
            "Iter: 6. Controllo orologio: \n",
            "Iter: 7. Controllo persona: \n",
            "Iter: 7. Controllo borsa: \n",
            "Iter: 7. Controllo orologio: \n",
            "Immagine 129\n",
            "\t File: /content/drive/My Drive/universita/progetto ml/pub/2020-01-15_01-23-36_UTC.json\n"
          ],
          "name": "stdout"
        },
        {
          "output_type": "stream",
          "text": [
            "I0228 12:30:51.418877 140220390033280 yolo_model.py:59] time: 0.2480921745300293\n"
          ],
          "name": "stderr"
        },
        {
          "output_type": "stream",
          "text": [
            "\tperson, 0.9989052414894104, [0.08619207 0.12248152 0.72197384 0.6849755 ]\n",
            "\tcup, 0.9941952228546143, [0.3286698  0.57438314 0.43584716 0.67062163]\n",
            "\tcup, 0.8462798595428467, [0.6773131  0.748914   0.8538203  0.98952556]\n",
            "\tdiningtable, 0.7894220352172852, [0.03198028 0.5756259  0.9935241  1.        ]\n",
            "\tperson, 0.7346301674842834, [0.76462775 0.23987986 0.8042975  0.26408046]\n",
            "\tperson, 0.6273162961006165, [0.8291237  0.22897846 0.88342303 0.26685813]\n",
            "Iter: 0. Controllo persona: \n",
            "Iter: 0. Persona trovata: \n",
            "Score: 0.99890524\n",
            "Iter: 0. Controllo borsa: \n",
            "Iter: 0. Controllo orologio: \n",
            "Iter: 1. Controllo persona: \n",
            "Iter: 1. Controllo borsa: \n",
            "Iter: 1. Controllo orologio: \n",
            "Iter: 2. Controllo persona: \n",
            "Iter: 2. Controllo borsa: \n",
            "Iter: 2. Controllo orologio: \n",
            "Iter: 3. Controllo persona: \n",
            "Iter: 3. Controllo borsa: \n",
            "Iter: 3. Controllo orologio: \n",
            "Iter: 4. Controllo persona: \n",
            "Iter: 4. Controllo borsa: \n",
            "Iter: 4. Controllo orologio: \n",
            "Iter: 5. Controllo persona: \n",
            "Iter: 5. Controllo borsa: \n",
            "Iter: 5. Controllo orologio: \n",
            "Immagine 130\n",
            "\t File: /content/drive/My Drive/universita/progetto ml/pub/2020-01-15_07-04-30_UTC.json\n"
          ],
          "name": "stdout"
        },
        {
          "output_type": "stream",
          "text": [
            "I0228 12:30:55.273747 140220390033280 yolo_model.py:59] time: 0.235518217086792\n"
          ],
          "name": "stderr"
        },
        {
          "output_type": "stream",
          "text": [
            "\tperson, 0.9995631575584412, [0.32519948 0.27115318 0.71123755 0.9967842 ]\n",
            "\tcar, 0.9909327626228333, [0.00304697 0.35821158 0.40159786 0.6406269 ]\n",
            "\tcar, 0.861275851726532, [0.00222167 0.33984435 0.19363299 0.53732234]\n",
            "\tperson, 0.8386002779006958, [0.90593857 0.33753034 0.930312   0.36871728]\n",
            "Iter: 0. Controllo persona: \n",
            "Iter: 0. Persona trovata: \n",
            "Score: 0.99956316\n",
            "Iter: 0. Controllo borsa: \n",
            "Iter: 0. Controllo orologio: \n",
            "Iter: 1. Controllo persona: \n",
            "Iter: 1. Controllo borsa: \n",
            "Iter: 1. Controllo orologio: \n",
            "Iter: 2. Controllo persona: \n",
            "Iter: 2. Controllo borsa: \n",
            "Iter: 2. Controllo orologio: \n",
            "Iter: 3. Controllo persona: \n",
            "Iter: 3. Controllo borsa: \n",
            "Iter: 3. Controllo orologio: \n",
            "Immagine 131\n",
            "\t File: /content/drive/My Drive/universita/progetto ml/pub/2020-02-01_14-55-27_UTC.json\n"
          ],
          "name": "stdout"
        },
        {
          "output_type": "stream",
          "text": [
            "I0228 12:30:56.421288 140220390033280 yolo_model.py:59] time: 0.24117374420166016\n"
          ],
          "name": "stderr"
        },
        {
          "output_type": "stream",
          "text": [
            "\tperson, 0.9994878768920898, [0.23466402 0.16553932 0.64855564 1.        ]\n",
            "Iter: 0. Controllo persona: \n",
            "Iter: 0. Persona trovata: \n",
            "Score: 0.9994879\n",
            "Iter: 0. Controllo borsa: \n",
            "Iter: 0. Controllo orologio: \n",
            "Immagine 132\n",
            "\t File: /content/drive/My Drive/universita/progetto ml/pub/2020-01-15_07-04-30_UTC.json\n"
          ],
          "name": "stdout"
        },
        {
          "output_type": "stream",
          "text": [
            "I0228 12:30:57.339876 140220390033280 yolo_model.py:59] time: 0.25418901443481445\n"
          ],
          "name": "stderr"
        },
        {
          "output_type": "stream",
          "text": [
            "\tperson, 0.9984971284866333, [0.36303347 0.1602462  0.68374354 0.8395112 ]\n",
            "Iter: 0. Controllo persona: \n",
            "Iter: 0. Persona trovata: \n",
            "Score: 0.9984971\n",
            "Iter: 0. Controllo borsa: \n",
            "Iter: 0. Controllo orologio: \n",
            "Immagine 133\n",
            "\t File: /content/drive/My Drive/universita/progetto ml/pub/2020-02-01_14-55-27_UTC.json\n"
          ],
          "name": "stdout"
        },
        {
          "output_type": "stream",
          "text": [
            "I0228 12:30:58.145861 140220390033280 yolo_model.py:59] time: 0.24236583709716797\n"
          ],
          "name": "stderr"
        },
        {
          "output_type": "stream",
          "text": [
            "\tperson, 0.9968662261962891, [0.33906102 0.586008   0.65744823 0.9952782 ]\n",
            "\thandbag, 0.7752214074134827, [0.4159595  0.70689267 0.621971   0.9588801 ]\n",
            "Iter: 0. Controllo persona: \n",
            "Iter: 0. Persona trovata: \n",
            "Score: 0.9968662\n",
            "Iter: 0. Controllo borsa: \n",
            "Iter: 0. Controllo orologio: \n",
            "Iter: 1. Controllo persona: \n",
            "Iter: 1. Controllo borsa: \n",
            "Iter: 1. Borsa trovata: \n",
            "Score: 0.7752214\n",
            "Iter: 1. Controllo orologio: \n",
            "Immagine 134\n",
            "\t File: /content/drive/My Drive/universita/progetto ml/pub/2020-02-12_13-54-37_UTC.json\n"
          ],
          "name": "stdout"
        },
        {
          "output_type": "stream",
          "text": [
            "I0228 12:30:58.887961 140220390033280 yolo_model.py:59] time: 0.25098085403442383\n"
          ],
          "name": "stderr"
        },
        {
          "output_type": "stream",
          "text": [
            "\tperson, 0.9990321397781372, [0.24461162 0.13275635 0.7790754  1.        ]\n",
            "\tbackpack, 0.7818305492401123, [0.11512069 0.40778375 0.46095258 0.93120813]\n",
            "\tbench, 0.5433241724967957, [0.66742074 0.47630674 0.9905975  0.96262735]\n",
            "Iter: 0. Controllo persona: \n",
            "Iter: 0. Persona trovata: \n",
            "Score: 0.99903214\n",
            "Iter: 0. Controllo borsa: \n",
            "Iter: 0. Controllo orologio: \n",
            "Iter: 1. Controllo persona: \n",
            "Iter: 1. Controllo borsa: \n",
            "Iter: 1. Controllo orologio: \n",
            "Iter: 2. Controllo persona: \n",
            "Iter: 2. Controllo borsa: \n",
            "Iter: 2. Controllo orologio: \n",
            "Immagine 135\n",
            "\t File: /content/drive/My Drive/universita/progetto ml/pub/2020-02-12_19-30-07_UTC.json\n"
          ],
          "name": "stdout"
        },
        {
          "output_type": "stream",
          "text": [
            "I0228 12:31:02.444685 140220390033280 yolo_model.py:59] time: 0.232680082321167\n"
          ],
          "name": "stderr"
        },
        {
          "output_type": "stream",
          "text": [
            "\tperson, 0.9993191957473755, [0.36874843 0.3454818  0.68248    0.92767125]\n",
            "\tpottedplant, 0.950549304485321, [0.8664769 0.4073769 0.9952301 0.6404191]\n",
            "\tpottedplant, 0.8738219738006592, [0.33242658 0.39862838 0.5032625  0.6904875 ]\n",
            "\thandbag, 0.6071007251739502, [0.55618113 0.66590273 0.6808128  0.77233267]\n",
            "Iter: 0. Controllo persona: \n",
            "Iter: 0. Persona trovata: \n",
            "Score: 0.9993192\n",
            "Iter: 0. Controllo borsa: \n",
            "Iter: 0. Controllo orologio: \n",
            "Iter: 1. Controllo persona: \n",
            "Iter: 1. Controllo borsa: \n",
            "Iter: 1. Controllo orologio: \n",
            "Iter: 2. Controllo persona: \n",
            "Iter: 2. Controllo borsa: \n",
            "Iter: 2. Controllo orologio: \n",
            "Iter: 3. Controllo persona: \n",
            "Iter: 3. Controllo borsa: \n",
            "Iter: 3. Borsa trovata: \n",
            "Score: 0.6071007\n",
            "Iter: 3. Controllo orologio: \n",
            "Immagine 136\n",
            "\t File: /content/drive/My Drive/universita/progetto ml/pub/2020-02-12_13-54-37_UTC.json\n"
          ],
          "name": "stdout"
        },
        {
          "output_type": "stream",
          "text": [
            "I0228 12:31:07.264058 140220390033280 yolo_model.py:59] time: 0.23995542526245117\n"
          ],
          "name": "stderr"
        },
        {
          "output_type": "stream",
          "text": [
            "\tperson, 0.9987323880195618, [0.03043532 0.07713228 0.8620353  0.97236294]\n",
            "\thandbag, 0.5365591645240784, [0.4424507  0.54811406 0.8489482  0.9590025 ]\n",
            "Iter: 0. Controllo persona: \n",
            "Iter: 0. Persona trovata: \n",
            "Score: 0.9987324\n",
            "Iter: 0. Controllo borsa: \n",
            "Iter: 0. Controllo orologio: \n",
            "Iter: 1. Controllo persona: \n",
            "Iter: 1. Controllo borsa: \n",
            "Iter: 1. Borsa trovata: \n",
            "Score: 0.53655916\n",
            "Iter: 1. Controllo orologio: \n",
            "Immagine 137\n",
            "\t File: /content/drive/My Drive/universita/progetto ml/pub/2020-02-17_20-13-35_UTC.json\n"
          ],
          "name": "stdout"
        },
        {
          "output_type": "stream",
          "text": [
            "I0228 12:31:08.574865 140220390033280 yolo_model.py:59] time: 0.22854042053222656\n"
          ],
          "name": "stderr"
        },
        {
          "output_type": "stream",
          "text": [
            "\tsofa, 0.9106923937797546, [0.30852386 0.20563799 0.96359265 0.96455234]\n",
            "\tperson, 0.5958986282348633, [0.19696131 0.21358794 0.9483248  0.940358  ]\n",
            "Iter: 0. Controllo persona: \n",
            "Iter: 0. Controllo borsa: \n",
            "Iter: 0. Controllo orologio: \n",
            "Iter: 1. Controllo persona: \n",
            "Iter: 1. Persona trovata: \n",
            "Score: 0.5958986\n",
            "Iter: 1. Controllo borsa: \n",
            "Iter: 1. Controllo orologio: \n",
            "Immagine 138\n",
            "\t File: /content/drive/My Drive/universita/progetto ml/pub/2020-02-12_19-30-07_UTC.json\n"
          ],
          "name": "stdout"
        },
        {
          "output_type": "stream",
          "text": [
            "I0228 12:31:10.201209 140220390033280 yolo_model.py:59] time: 0.23981261253356934\n"
          ],
          "name": "stderr"
        },
        {
          "output_type": "stream",
          "text": [
            "\tperson, 0.9886695146560669, [0.38011682 0.02649578 0.9080026  0.96141386]\n",
            "\tpottedplant, 0.9827463030815125, [0.70879376 0.08965445 0.9291557  0.5583783 ]\n",
            "\thandbag, 0.8924674987792969, [0.33416387 0.5386241  0.66678166 0.8245632 ]\n",
            "Iter: 0. Controllo persona: \n",
            "Iter: 0. Persona trovata: \n",
            "Score: 0.9886695\n",
            "Iter: 0. Controllo borsa: \n",
            "Iter: 0. Controllo orologio: \n",
            "Iter: 1. Controllo persona: \n",
            "Iter: 1. Controllo borsa: \n",
            "Iter: 1. Controllo orologio: \n",
            "Iter: 2. Controllo persona: \n",
            "Iter: 2. Controllo borsa: \n",
            "Iter: 2. Borsa trovata: \n",
            "Score: 0.8924675\n",
            "Iter: 2. Controllo orologio: \n",
            "Immagine 139\n",
            "\t File: /content/drive/My Drive/universita/progetto ml/pub/2020-02-12_19-30-07_UTC.json\n"
          ],
          "name": "stdout"
        },
        {
          "output_type": "stream",
          "text": [
            "I0228 12:31:12.036690 140220390033280 yolo_model.py:59] time: 0.24057364463806152\n"
          ],
          "name": "stderr"
        },
        {
          "output_type": "stream",
          "text": [
            "\tperson, 0.9985830783843994, [0.32856444 0.28246745 0.6548995  0.9659493 ]\n",
            "\thandbag, 0.6748693585395813, [0.49515417 0.65489674 0.6694709  0.7802632 ]\n",
            "Iter: 0. Controllo persona: \n",
            "Iter: 0. Persona trovata: \n",
            "Score: 0.9985831\n",
            "Iter: 0. Controllo borsa: \n",
            "Iter: 0. Controllo orologio: \n",
            "Iter: 1. Controllo persona: \n",
            "Iter: 1. Controllo borsa: \n",
            "Iter: 1. Borsa trovata: \n",
            "Score: 0.67486936\n",
            "Iter: 1. Controllo orologio: \n",
            "Immagine 140\n",
            "\t File: /content/drive/My Drive/universita/progetto ml/pub/2017-02-28_08-39-08_UTC.json\n"
          ],
          "name": "stdout"
        },
        {
          "output_type": "stream",
          "text": [
            "I0228 12:31:13.405355 140220390033280 yolo_model.py:59] time: 0.24395108222961426\n"
          ],
          "name": "stderr"
        },
        {
          "output_type": "stream",
          "text": [
            "\tcar, 0.9898940920829773, [0.03259803 0.44363177 0.24341476 0.60724795]\n",
            "\tcar, 0.9898236989974976, [0.76172435 0.39932287 0.9999802  0.695138  ]\n",
            "\tperson, 0.9328520894050598, [0.4668103  0.11386973 0.83315915 0.9414069 ]\n",
            "\tcar, 0.8972214460372925, [0.20524934 0.46321255 0.31178346 0.5572639 ]\n",
            "\tcar, 0.8652083873748779, [0.30110902 0.4503096  0.37723953 0.53126955]\n",
            "\tmotorbike, 0.6948165893554688, [0.00883148 0.52655417 0.10379837 0.66892976]\n",
            "\thandbag, 0.6619890332221985, [0.49976847 0.5808834  0.6706234  0.69036365]\n",
            "\tcar, 0.6207008361816406, [0.69637233 0.37869683 0.9539253  0.59185463]\n",
            "\tcar, 0.5312220454216003, [0.35490435 0.45460457 0.39963698 0.5216905 ]\n",
            "Iter: 0. Controllo persona: \n",
            "Iter: 0. Controllo borsa: \n",
            "Iter: 0. Controllo orologio: \n",
            "Iter: 1. Controllo persona: \n",
            "Iter: 1. Controllo borsa: \n",
            "Iter: 1. Controllo orologio: \n",
            "Iter: 2. Controllo persona: \n",
            "Iter: 2. Persona trovata: \n",
            "Score: 0.9328521\n",
            "Iter: 2. Controllo borsa: \n",
            "Iter: 2. Controllo orologio: \n",
            "Iter: 3. Controllo persona: \n",
            "Iter: 3. Controllo borsa: \n",
            "Iter: 3. Controllo orologio: \n",
            "Iter: 4. Controllo persona: \n",
            "Iter: 4. Controllo borsa: \n",
            "Iter: 4. Controllo orologio: \n",
            "Iter: 5. Controllo persona: \n",
            "Iter: 5. Controllo borsa: \n",
            "Iter: 5. Controllo orologio: \n",
            "Iter: 6. Controllo persona: \n",
            "Iter: 6. Controllo borsa: \n",
            "Iter: 6. Borsa trovata: \n",
            "Score: 0.66198903\n",
            "Iter: 6. Controllo orologio: \n",
            "Iter: 7. Controllo persona: \n",
            "Iter: 7. Controllo borsa: \n",
            "Iter: 7. Controllo orologio: \n",
            "Iter: 8. Controllo persona: \n",
            "Iter: 8. Controllo borsa: \n",
            "Iter: 8. Controllo orologio: \n",
            "Immagine 141\n",
            "\t File: /content/drive/My Drive/universita/progetto ml/pub/2019-09-27_09-39-57_UTC.json\n"
          ],
          "name": "stdout"
        },
        {
          "output_type": "stream",
          "text": [
            "I0228 12:31:14.835480 140220390033280 yolo_model.py:59] time: 0.25647902488708496\n"
          ],
          "name": "stderr"
        },
        {
          "output_type": "stream",
          "text": [
            "\tclock, 0.815604567527771, [0.34160393 0.34151834 0.61803854 0.60536134]\n",
            "Iter: 0. Controllo persona: \n",
            "Iter: 0. Controllo borsa: \n",
            "Iter: 0. Controllo orologio: \n",
            "Iter: 0. Orologio trovato: \n",
            "Score: 0.81560457\n",
            "Immagine 142\n",
            "\t File: /content/drive/My Drive/universita/progetto ml/pub/2019-10-15_11-53-51_UTC.json\n",
            "Errore: Post non trovato.\n"
          ],
          "name": "stdout"
        },
        {
          "output_type": "stream",
          "text": [
            "I0228 12:31:15.942249 140220390033280 yolo_model.py:59] time: 0.23454856872558594\n"
          ],
          "name": "stderr"
        },
        {
          "output_type": "stream",
          "text": [
            "\tperson, 0.9967754483222961, [4.4429302e-04 0.0000000e+00 9.8543221e-01 9.8715961e-01]\n",
            "\tclock, 0.8885169625282288, [0.48282608 0.596617   0.80134344 0.85155296]\n",
            "Iter: 0. Controllo persona: \n",
            "Iter: 0. Persona trovata: \n",
            "Score: 0.99677545\n",
            "Iter: 0. Controllo borsa: \n",
            "Iter: 0. Controllo orologio: \n",
            "Iter: 1. Controllo persona: \n",
            "Iter: 1. Controllo borsa: \n",
            "Iter: 1. Controllo orologio: \n",
            "Iter: 1. Orologio trovato: \n",
            "Score: 0.88851696\n",
            "Immagine 143\n",
            "\t File: /content/drive/My Drive/universita/progetto ml/pub/2014-05-11_07-41-13_UTC.json\n"
          ],
          "name": "stdout"
        },
        {
          "output_type": "stream",
          "text": [
            "I0228 12:31:20.548419 140220390033280 yolo_model.py:59] time: 0.2330315113067627\n"
          ],
          "name": "stderr"
        },
        {
          "output_type": "stream",
          "text": [
            "\tclock, 0.8219773173332214, [0.3402726  0.16261029 0.80218524 0.8266007 ]\n",
            "Iter: 0. Controllo persona: \n",
            "Iter: 0. Controllo borsa: \n",
            "Iter: 0. Controllo orologio: \n",
            "Iter: 0. Orologio trovato: \n",
            "Score: 0.8219773\n",
            "Immagine 144\n",
            "\t File: /content/drive/My Drive/universita/progetto ml/pub/2019-10-15_11-53-51_UTC.json\n",
            "Errore: Post non trovato.\n"
          ],
          "name": "stdout"
        },
        {
          "output_type": "stream",
          "text": [
            "I0228 12:31:22.437164 140220390033280 yolo_model.py:59] time: 0.2198781967163086\n"
          ],
          "name": "stderr"
        },
        {
          "output_type": "stream",
          "text": [
            "\tperson, 0.9992340803146362, [0.11655766 0.0917635  0.8723562  1.        ]\n",
            "Iter: 0. Controllo persona: \n",
            "Iter: 0. Persona trovata: \n",
            "Score: 0.9992341\n",
            "Iter: 0. Controllo borsa: \n",
            "Iter: 0. Controllo orologio: \n",
            "Immagine 145\n",
            "\t File: /content/drive/My Drive/universita/progetto ml/pub/2014-06-07_18-49-17_UTC.json\n"
          ],
          "name": "stdout"
        },
        {
          "output_type": "stream",
          "text": [
            "I0228 12:31:25.270893 140220390033280 yolo_model.py:59] time: 0.24429845809936523\n"
          ],
          "name": "stderr"
        },
        {
          "output_type": "stream",
          "text": [
            "\tperson, 0.6606636643409729, [0.11301821 0.2809612  0.8848947  1.        ]\n",
            "\tclock, 0.5837352275848389, [0.34328717 0.42662972 0.77910334 0.9094601 ]\n",
            "Iter: 0. Controllo persona: \n",
            "Iter: 0. Persona trovata: \n",
            "Score: 0.66066366\n",
            "Iter: 0. Controllo borsa: \n",
            "Iter: 0. Controllo orologio: \n",
            "Iter: 1. Controllo persona: \n",
            "Iter: 1. Controllo borsa: \n",
            "Iter: 1. Controllo orologio: \n",
            "Iter: 1. Orologio trovato: \n",
            "Score: 0.5837352\n",
            "Immagine 146\n",
            "\t File: /content/drive/My Drive/universita/progetto ml/pub/2014-12-23_23-49-03_UTC.json\n"
          ],
          "name": "stdout"
        },
        {
          "output_type": "stream",
          "text": [
            "I0228 12:31:28.737765 140220390033280 yolo_model.py:59] time: 0.23181748390197754\n"
          ],
          "name": "stderr"
        },
        {
          "output_type": "stream",
          "text": [
            "\tperson, 0.9965243339538574, [0.         0.00517124 0.6868471  0.9547598 ]\n",
            "\tbook, 0.7319144010543823, [0.33057657 0.16610947 0.99054325 0.9334842 ]\n",
            "Iter: 0. Controllo persona: \n",
            "Iter: 0. Persona trovata: \n",
            "Score: 0.99652433\n",
            "Iter: 0. Controllo borsa: \n",
            "Iter: 0. Controllo orologio: \n",
            "Iter: 1. Controllo persona: \n",
            "Iter: 1. Controllo borsa: \n",
            "Iter: 1. Controllo orologio: \n",
            "Immagine 147\n",
            "\t File: /content/drive/My Drive/universita/progetto ml/pub/2015-01-30_11-41-34_UTC.json\n"
          ],
          "name": "stdout"
        },
        {
          "output_type": "stream",
          "text": [
            "I0228 12:31:31.744491 140220390033280 yolo_model.py:59] time: 0.2330155372619629\n"
          ],
          "name": "stderr"
        },
        {
          "output_type": "stream",
          "text": [
            "\tclock, 0.9151708483695984, [0.29760817 0.16707392 0.69740915 0.6356243 ]\n",
            "Iter: 0. Controllo persona: \n",
            "Iter: 0. Controllo borsa: \n",
            "Iter: 0. Controllo orologio: \n",
            "Iter: 0. Orologio trovato: \n",
            "Score: 0.91517085\n",
            "Immagine 148\n",
            "\t File: /content/drive/My Drive/universita/progetto ml/pub/2016-02-11_18-21-02_UTC.json\n"
          ],
          "name": "stdout"
        },
        {
          "output_type": "stream",
          "text": [
            "I0228 12:31:33.880186 140220390033280 yolo_model.py:59] time: 0.23871922492980957\n"
          ],
          "name": "stderr"
        },
        {
          "output_type": "stream",
          "text": [
            "\tperson, 0.8088248372077942, [0.05593351 0.5584961  0.9500866  0.99773145]\n",
            "Iter: 0. Controllo persona: \n",
            "Iter: 0. Persona trovata: \n",
            "Score: 0.80882484\n",
            "Iter: 0. Controllo borsa: \n",
            "Iter: 0. Controllo orologio: \n",
            "Immagine 149\n",
            "\t File: /content/drive/My Drive/universita/progetto ml/pub/2017-09-25_23-21-05_UTC.json\n"
          ],
          "name": "stdout"
        },
        {
          "output_type": "stream",
          "text": [
            "I0228 12:31:39.726189 140220390033280 yolo_model.py:59] time: 0.24059748649597168\n"
          ],
          "name": "stderr"
        },
        {
          "output_type": "stream",
          "text": [
            "\tperson, 0.9144323468208313, [0.01711386 0.06569105 0.98885256 0.9169295 ]\n",
            "\tclock, 0.7836097478866577, [0.41239583 0.50224876 0.5171806  0.60153115]\n",
            "Iter: 0. Controllo persona: \n",
            "Iter: 0. Persona trovata: \n",
            "Score: 0.91443235\n",
            "Iter: 0. Controllo borsa: \n",
            "Iter: 0. Controllo orologio: \n",
            "Iter: 1. Controllo persona: \n",
            "Iter: 1. Controllo borsa: \n",
            "Iter: 1. Controllo orologio: \n",
            "Iter: 1. Orologio trovato: \n",
            "Score: 0.78360975\n",
            "Immagine 150\n",
            "\t File: /content/drive/My Drive/universita/progetto ml/pub/2018-10-24_12-44-57_UTC.json\n"
          ],
          "name": "stdout"
        },
        {
          "output_type": "stream",
          "text": [
            "I0228 12:31:46.033230 140220390033280 yolo_model.py:59] time: 0.23536896705627441\n"
          ],
          "name": "stderr"
        },
        {
          "output_type": "stream",
          "text": [
            "\tperson, 0.993776261806488, [0.05561867 0.13503584 0.7928791  0.91414475]\n",
            "Iter: 0. Controllo persona: \n",
            "Iter: 0. Persona trovata: \n",
            "Score: 0.99377626\n",
            "Iter: 0. Controllo borsa: \n",
            "Iter: 0. Controllo orologio: \n",
            "Immagine 151\n",
            "\t File: /content/drive/My Drive/universita/progetto ml/pub/2018-05-03_09-07-16_UTC.json\n"
          ],
          "name": "stdout"
        },
        {
          "output_type": "stream",
          "text": [
            "I0228 12:31:49.583709 140220390033280 yolo_model.py:59] time: 0.2481224536895752\n"
          ],
          "name": "stderr"
        },
        {
          "output_type": "stream",
          "text": [
            "\tperson, 0.9982591867446899, [0.42271766 0.17175198 1.         1.        ]\n",
            "Iter: 0. Controllo persona: \n",
            "Iter: 0. Persona trovata: \n",
            "Score: 0.9982592\n",
            "Iter: 0. Controllo borsa: \n",
            "Iter: 0. Controllo orologio: \n",
            "Immagine 152\n",
            "\t File: /content/drive/My Drive/universita/progetto ml/pub/2019-01-18_13-37-47_UTC.json\n"
          ],
          "name": "stdout"
        },
        {
          "output_type": "stream",
          "text": [
            "I0228 12:31:52.563131 140220390033280 yolo_model.py:59] time: 0.2509279251098633\n"
          ],
          "name": "stderr"
        },
        {
          "output_type": "stream",
          "text": [
            "\tperson, 0.9997959733009338, [0.15929565 0.03488559 0.8512242  0.9680367 ]\n",
            "\tclock, 0.8995859026908875, [0.29819465 0.73227584 0.41232693 0.8370266 ]\n",
            "Iter: 0. Controllo persona: \n",
            "Iter: 0. Persona trovata: \n",
            "Score: 0.999796\n",
            "Iter: 0. Controllo borsa: \n",
            "Iter: 0. Controllo orologio: \n",
            "Iter: 1. Controllo persona: \n",
            "Iter: 1. Controllo borsa: \n",
            "Iter: 1. Controllo orologio: \n",
            "Iter: 1. Orologio trovato: \n",
            "Score: 0.8995859\n",
            "Immagine 153\n",
            "\t File: /content/drive/My Drive/universita/progetto ml/pub/2019-02-13_16-54-19_UTC.json\n"
          ],
          "name": "stdout"
        },
        {
          "output_type": "stream",
          "text": [
            "I0228 12:31:56.579320 140220390033280 yolo_model.py:59] time: 0.25251293182373047\n"
          ],
          "name": "stderr"
        },
        {
          "output_type": "stream",
          "text": [
            "\tperson, 0.9913284778594971, [0.46448976 0.09685886 0.7315814  0.9456333 ]\n",
            "\ttie, 0.9799343943595886, [0.56712526 0.24320047 0.5989116  0.3681301 ]\n",
            "\tcar, 0.9664257764816284, [0.7731267  0.38577104 0.89150465 0.48345864]\n",
            "\thandbag, 0.8767092227935791, [0.40656263 0.40461108 0.53682286 0.649264  ]\n",
            "\tcar, 0.5925385355949402, [0.9274398  0.35779393 1.         0.46763396]\n",
            "Iter: 0. Controllo persona: \n",
            "Iter: 0. Persona trovata: \n",
            "Score: 0.9913285\n",
            "Iter: 0. Controllo borsa: \n",
            "Iter: 0. Controllo orologio: \n",
            "Iter: 1. Controllo persona: \n",
            "Iter: 1. Controllo borsa: \n",
            "Iter: 1. Controllo orologio: \n",
            "Iter: 2. Controllo persona: \n",
            "Iter: 2. Controllo borsa: \n",
            "Iter: 2. Controllo orologio: \n",
            "Iter: 3. Controllo persona: \n",
            "Iter: 3. Controllo borsa: \n",
            "Iter: 3. Borsa trovata: \n",
            "Score: 0.8767092\n",
            "Iter: 3. Controllo orologio: \n",
            "Iter: 4. Controllo persona: \n",
            "Iter: 4. Controllo borsa: \n",
            "Iter: 4. Controllo orologio: \n",
            "Immagine 154\n",
            "\t File: /content/drive/My Drive/universita/progetto ml/pub/2019-04-15_17-00-54_UTC.json\n"
          ],
          "name": "stdout"
        },
        {
          "output_type": "stream",
          "text": [
            "I0228 12:32:00.992938 140220390033280 yolo_model.py:59] time: 0.2307751178741455\n"
          ],
          "name": "stderr"
        },
        {
          "output_type": "stream",
          "text": [
            "\tperson, 0.9999649524688721, [0.01800537 0.0416882  0.9917337  0.9706547 ]\n",
            "\tperson, 0.9715151190757751, [0.02970056 0.31174046 0.21295239 0.44682413]\n",
            "\tperson, 0.5577268004417419, [0.8785918  0.38883108 0.9923779  0.47812396]\n",
            "Iter: 0. Controllo persona: \n",
            "Iter: 0. Persona trovata: \n",
            "Score: 0.99996495\n",
            "Iter: 0. Controllo borsa: \n",
            "Iter: 0. Controllo orologio: \n",
            "Iter: 1. Controllo persona: \n",
            "Iter: 1. Controllo borsa: \n",
            "Iter: 1. Controllo orologio: \n",
            "Iter: 2. Controllo persona: \n",
            "Iter: 2. Controllo borsa: \n",
            "Iter: 2. Controllo orologio: \n",
            "Immagine 155\n",
            "\t File: /content/drive/My Drive/universita/progetto ml/pub/2019-02-13_16-54-19_UTC.json\n"
          ],
          "name": "stdout"
        },
        {
          "output_type": "stream",
          "text": [
            "I0228 12:32:06.207717 140220390033280 yolo_model.py:59] time: 0.2477574348449707\n"
          ],
          "name": "stderr"
        },
        {
          "output_type": "stream",
          "text": [
            "\tperson, 0.9983261823654175, [0.33299068 0.06808093 0.8212311  0.9719136 ]\n",
            "\tperson, 0.9980064630508423, [0.8574501 0.4075408 0.9979507 0.8112433]\n",
            "\ttie, 0.9949497580528259, [0.5742564  0.2786689  0.6145508  0.47323284]\n",
            "\tperson, 0.9893378019332886, [0.00315061 0.3749397  0.08030298 0.7318927 ]\n",
            "\tbicycle, 0.9706682562828064, [0.         0.5592186  0.10456971 0.77064973]\n",
            "\thandbag, 0.9676895141601562, [0.26632285 0.421206   0.5406014  0.8874692 ]\n",
            "\ttraffic light, 0.9553236365318298, [0.40946782 0.042386   0.4868484  0.22659561]\n",
            "\ttraffic light, 0.8847612142562866, [0.7828246  0.10048192 0.84413487 0.25497115]\n",
            "\ttraffic light, 0.6988688111305237, [0.8367483  0.09239775 0.88929945 0.26157597]\n",
            "Iter: 0. Controllo persona: \n",
            "Iter: 0. Persona trovata: \n",
            "Score: 0.9983262\n",
            "Iter: 0. Controllo borsa: \n",
            "Iter: 0. Controllo orologio: \n",
            "Iter: 1. Controllo persona: \n",
            "Iter: 1. Controllo borsa: \n",
            "Iter: 1. Controllo orologio: \n",
            "Iter: 2. Controllo persona: \n",
            "Iter: 2. Controllo borsa: \n",
            "Iter: 2. Controllo orologio: \n",
            "Iter: 3. Controllo persona: \n",
            "Iter: 3. Controllo borsa: \n",
            "Iter: 3. Controllo orologio: \n",
            "Iter: 4. Controllo persona: \n",
            "Iter: 4. Controllo borsa: \n",
            "Iter: 4. Controllo orologio: \n",
            "Iter: 5. Controllo persona: \n",
            "Iter: 5. Controllo borsa: \n",
            "Iter: 5. Borsa trovata: \n",
            "Score: 0.9676895\n",
            "Iter: 5. Controllo orologio: \n",
            "Iter: 6. Controllo persona: \n",
            "Iter: 6. Controllo borsa: \n",
            "Iter: 6. Controllo orologio: \n",
            "Iter: 7. Controllo persona: \n",
            "Iter: 7. Controllo borsa: \n",
            "Iter: 7. Controllo orologio: \n",
            "Iter: 8. Controllo persona: \n",
            "Iter: 8. Controllo borsa: \n",
            "Iter: 8. Controllo orologio: \n",
            "Immagine 156\n",
            "\t File: /content/drive/My Drive/universita/progetto ml/pub/2019-02-13_16-54-19_UTC.json\n"
          ],
          "name": "stdout"
        },
        {
          "output_type": "stream",
          "text": [
            "I0228 12:32:08.273025 140220390033280 yolo_model.py:59] time: 0.22426295280456543\n"
          ],
          "name": "stderr"
        },
        {
          "output_type": "stream",
          "text": [
            "\tperson, 0.9633760452270508, [0.09496784 0.14207214 0.9276986  0.86399204]\n",
            "Iter: 0. Controllo persona: \n",
            "Iter: 0. Persona trovata: \n",
            "Score: 0.96337605\n",
            "Iter: 0. Controllo borsa: \n",
            "Iter: 0. Controllo orologio: \n",
            "Immagine 157\n",
            "\t File: /content/drive/My Drive/universita/progetto ml/pub/2019-05-03_16-35-42_UTC.json\n"
          ],
          "name": "stdout"
        },
        {
          "output_type": "stream",
          "text": [
            "I0228 12:32:10.583952 140220390033280 yolo_model.py:59] time: 0.2254776954650879\n"
          ],
          "name": "stderr"
        },
        {
          "output_type": "stream",
          "text": [
            "\tperson, 0.9990327954292297, [0.32213297 0.07737556 0.7331306  1.        ]\n",
            "Iter: 0. Controllo persona: \n",
            "Iter: 0. Persona trovata: \n",
            "Score: 0.9990328\n",
            "Iter: 0. Controllo borsa: \n",
            "Iter: 0. Controllo orologio: \n",
            "Immagine 158\n",
            "\t File: /content/drive/My Drive/universita/progetto ml/pub/2019-09-27_09-39-57_UTC.json\n"
          ],
          "name": "stdout"
        },
        {
          "output_type": "stream",
          "text": [
            "I0228 12:32:13.617871 140220390033280 yolo_model.py:59] time: 0.2548971176147461\n"
          ],
          "name": "stderr"
        },
        {
          "output_type": "stream",
          "text": [
            "\tperson, 0.9986873865127563, [0.46624756 0.06266344 0.9885752  0.98230696]\n",
            "\tclock, 0.5802665948867798, [0.5082954 0.5458734 0.5547172 0.6000112]\n",
            "Iter: 0. Controllo persona: \n",
            "Iter: 0. Persona trovata: \n",
            "Score: 0.9986874\n",
            "Iter: 0. Controllo borsa: \n",
            "Iter: 0. Controllo orologio: \n",
            "Iter: 1. Controllo persona: \n",
            "Iter: 1. Controllo borsa: \n",
            "Iter: 1. Controllo orologio: \n",
            "Iter: 1. Orologio trovato: \n",
            "Score: 0.5802666\n",
            "Immagine 159\n",
            "\t File: /content/drive/My Drive/universita/progetto ml/pub/2019-07-26_17-14-06_UTC.json\n"
          ],
          "name": "stdout"
        },
        {
          "output_type": "stream",
          "text": [
            "I0228 12:32:16.123089 140220390033280 yolo_model.py:59] time: 0.22642040252685547\n"
          ],
          "name": "stderr"
        },
        {
          "output_type": "stream",
          "text": [
            "\tperson, 0.9236968159675598, [0.         0.03352392 0.70924795 1.        ]\n",
            "Iter: 0. Controllo persona: \n",
            "Iter: 0. Persona trovata: \n",
            "Score: 0.9236968\n",
            "Iter: 0. Controllo borsa: \n",
            "Iter: 0. Controllo orologio: \n",
            "Immagine 160\n",
            "\t File: /content/drive/My Drive/universita/progetto ml/pub/2019-10-04_15-32-42_UTC.json\n"
          ],
          "name": "stdout"
        },
        {
          "output_type": "stream",
          "text": [
            "I0228 12:32:21.315343 140220390033280 yolo_model.py:59] time: 0.24326539039611816\n"
          ],
          "name": "stderr"
        },
        {
          "output_type": "stream",
          "text": [
            "\tperson, 0.9998315572738647, [0.3502537  0.13963702 0.6931931  0.9627453 ]\n",
            "\tbench, 0.938408613204956, [0.         0.34600857 0.13676819 0.54532063]\n",
            "\tperson, 0.7916151881217957, [0.6511364  0.25081027 0.67897296 0.3130927 ]\n",
            "\thandbag, 0.7692274451255798, [0.37284303 0.36509764 0.4385079  0.5023073 ]\n",
            "\ttruck, 0.690453052520752, [0.6930855  0.22445415 0.8323712  0.33039352]\n",
            "Iter: 0. Controllo persona: \n",
            "Iter: 0. Persona trovata: \n",
            "Score: 0.99983156\n",
            "Iter: 0. Controllo borsa: \n",
            "Iter: 0. Controllo orologio: \n",
            "Iter: 1. Controllo persona: \n",
            "Iter: 1. Controllo borsa: \n",
            "Iter: 1. Controllo orologio: \n",
            "Iter: 2. Controllo persona: \n",
            "Iter: 2. Controllo borsa: \n",
            "Iter: 2. Controllo orologio: \n",
            "Iter: 3. Controllo persona: \n",
            "Iter: 3. Controllo borsa: \n",
            "Iter: 3. Borsa trovata: \n",
            "Score: 0.76922745\n",
            "Iter: 3. Controllo orologio: \n",
            "Iter: 4. Controllo persona: \n",
            "Iter: 4. Controllo borsa: \n",
            "Iter: 4. Controllo orologio: \n",
            "Immagine 161\n",
            "\t File: /content/drive/My Drive/universita/progetto ml/pub/2019-10-08_15-39-45_UTC.json\n"
          ],
          "name": "stdout"
        },
        {
          "output_type": "stream",
          "text": [
            "I0228 12:32:23.689476 140220390033280 yolo_model.py:59] time: 0.22680449485778809\n"
          ],
          "name": "stderr"
        },
        {
          "output_type": "stream",
          "text": [
            "\tperson, 0.9999154806137085, [0.3498095  0.15066552 0.6545855  0.9727961 ]\n",
            "Iter: 0. Controllo persona: \n",
            "Iter: 0. Persona trovata: \n",
            "Score: 0.9999155\n",
            "Iter: 0. Controllo borsa: \n",
            "Iter: 0. Controllo orologio: \n",
            "Immagine 162\n",
            "\t File: /content/drive/My Drive/universita/progetto ml/pub/2019-10-09_15-36-04_UTC.json\n"
          ],
          "name": "stdout"
        },
        {
          "output_type": "stream",
          "text": [
            "I0228 12:32:26.650940 140220390033280 yolo_model.py:59] time: 0.23892927169799805\n"
          ],
          "name": "stderr"
        },
        {
          "output_type": "stream",
          "text": [
            "\tperson, 0.9994150400161743, [0.34069407 0.05340722 0.6512052  0.9724283 ]\n",
            "\thandbag, 0.9124796390533447, [0.30791754 0.52749276 0.4878866  0.7522745 ]\n",
            "Iter: 0. Controllo persona: \n",
            "Iter: 0. Persona trovata: \n",
            "Score: 0.99941504\n",
            "Iter: 0. Controllo borsa: \n",
            "Iter: 0. Controllo orologio: \n",
            "Iter: 1. Controllo persona: \n",
            "Iter: 1. Controllo borsa: \n",
            "Iter: 1. Borsa trovata: \n",
            "Score: 0.91247964\n",
            "Iter: 1. Controllo orologio: \n",
            "Immagine 163\n",
            "\t File: /content/drive/My Drive/universita/progetto ml/pub/2019-10-12_15-22-37_UTC.json\n"
          ],
          "name": "stdout"
        },
        {
          "output_type": "stream",
          "text": [
            "I0228 12:32:30.257167 140220390033280 yolo_model.py:59] time: 0.28245091438293457\n"
          ],
          "name": "stderr"
        },
        {
          "output_type": "stream",
          "text": [
            "\tperson, 0.9999222755432129, [0.3209306  0.11859214 0.70927846 0.96497345]\n",
            "\tcar, 0.919297993183136, [0.03647482 0.3267428  0.20436823 0.4008138 ]\n",
            "Iter: 0. Controllo persona: \n",
            "Iter: 0. Persona trovata: \n",
            "Score: 0.9999223\n",
            "Iter: 0. Controllo borsa: \n",
            "Iter: 0. Controllo orologio: \n",
            "Iter: 1. Controllo persona: \n",
            "Iter: 1. Controllo borsa: \n",
            "Iter: 1. Controllo orologio: \n",
            "Immagine 164\n",
            "\t File: /content/drive/My Drive/universita/progetto ml/pub/2019-10-13_15-28-44_UTC.json\n"
          ],
          "name": "stdout"
        },
        {
          "output_type": "stream",
          "text": [
            "I0228 12:32:35.135600 140220390033280 yolo_model.py:59] time: 0.25864434242248535\n"
          ],
          "name": "stderr"
        },
        {
          "output_type": "stream",
          "text": [
            "\tperson, 0.9997637867927551, [0.36687142 0.12816715 0.6757415  0.9694369 ]\n",
            "\tcup, 0.9862049221992493, [0.5246054  0.34854138 0.5793755  0.42717826]\n",
            "\tpottedplant, 0.6703870296478271, [0.61140734 0.00268409 0.95911616 0.6552311 ]\n",
            "\thandbag, 0.6345636248588562, [0.34639055 0.4203054  0.47811276 0.5642782 ]\n",
            "Iter: 0. Controllo persona: \n",
            "Iter: 0. Persona trovata: \n",
            "Score: 0.9997638\n",
            "Iter: 0. Controllo borsa: \n",
            "Iter: 0. Controllo orologio: \n",
            "Iter: 1. Controllo persona: \n",
            "Iter: 1. Controllo borsa: \n",
            "Iter: 1. Controllo orologio: \n",
            "Iter: 2. Controllo persona: \n",
            "Iter: 2. Controllo borsa: \n",
            "Iter: 2. Controllo orologio: \n",
            "Iter: 3. Controllo persona: \n",
            "Iter: 3. Controllo borsa: \n",
            "Iter: 3. Borsa trovata: \n",
            "Score: 0.6345636\n",
            "Iter: 3. Controllo orologio: \n",
            "Immagine 165\n",
            "\t File: /content/drive/My Drive/universita/progetto ml/pub/2019-10-14_15-46-19_UTC.json\n"
          ],
          "name": "stdout"
        },
        {
          "output_type": "stream",
          "text": [
            "I0228 12:32:37.829154 140220390033280 yolo_model.py:59] time: 0.23745465278625488\n"
          ],
          "name": "stderr"
        },
        {
          "output_type": "stream",
          "text": [
            "\tperson, 0.9997745156288147, [0.36146238 0.12856779 0.77236307 0.97756326]\n",
            "\tcup, 0.8512978553771973, [0.3391508  0.47090173 0.4377318  0.5814202 ]\n",
            "\thandbag, 0.7873932123184204, [0.30630618 0.43774933 0.47530103 0.9840297 ]\n",
            "Iter: 0. Controllo persona: \n",
            "Iter: 0. Persona trovata: \n",
            "Score: 0.9997745\n",
            "Iter: 0. Controllo borsa: \n",
            "Iter: 0. Controllo orologio: \n",
            "Iter: 1. Controllo persona: \n",
            "Iter: 1. Controllo borsa: \n",
            "Iter: 1. Controllo orologio: \n",
            "Iter: 2. Controllo persona: \n",
            "Iter: 2. Controllo borsa: \n",
            "Iter: 2. Borsa trovata: \n",
            "Score: 0.7873932\n",
            "Iter: 2. Controllo orologio: \n",
            "Immagine 166\n",
            "\t File: /content/drive/My Drive/universita/progetto ml/pub/2019-10-16_02-21-01_UTC.json\n"
          ],
          "name": "stdout"
        },
        {
          "output_type": "stream",
          "text": [
            "I0228 12:32:40.204561 140220390033280 yolo_model.py:59] time: 0.23595309257507324\n"
          ],
          "name": "stderr"
        },
        {
          "output_type": "stream",
          "text": [
            "\tperson, 0.9997137188911438, [0.3261081  0.12672073 0.79733443 0.98658246]\n",
            "\tpottedplant, 0.8421952128410339, [0.6490852  0.00496852 1.         0.82347095]\n",
            "Iter: 0. Controllo persona: \n",
            "Iter: 0. Persona trovata: \n",
            "Score: 0.9997137\n",
            "Iter: 0. Controllo borsa: \n",
            "Iter: 0. Controllo orologio: \n",
            "Iter: 1. Controllo persona: \n",
            "Iter: 1. Controllo borsa: \n",
            "Iter: 1. Controllo orologio: \n",
            "Immagine 167\n",
            "\t File: /content/drive/My Drive/universita/progetto ml/pub/2019-10-16_17-24-01_UTC.json\n"
          ],
          "name": "stdout"
        },
        {
          "output_type": "stream",
          "text": [
            "I0228 12:32:46.682561 140220390033280 yolo_model.py:59] time: 0.2494673728942871\n"
          ],
          "name": "stderr"
        },
        {
          "output_type": "stream",
          "text": [
            "\tperson, 0.9998377561569214, [0.22739708 0.17588505 0.7883588  0.9675088 ]\n",
            "\tcup, 0.9931445121765137, [0.37687275 0.44035447 0.45638046 0.5547909 ]\n",
            "\tpottedplant, 0.6662201285362244, [0.10950902 0.         0.5891702  0.44442308]\n",
            "Iter: 0. Controllo persona: \n",
            "Iter: 0. Persona trovata: \n",
            "Score: 0.99983776\n",
            "Iter: 0. Controllo borsa: \n",
            "Iter: 0. Controllo orologio: \n",
            "Iter: 1. Controllo persona: \n",
            "Iter: 1. Controllo borsa: \n",
            "Iter: 1. Controllo orologio: \n",
            "Iter: 2. Controllo persona: \n",
            "Iter: 2. Controllo borsa: \n",
            "Iter: 2. Controllo orologio: \n",
            "Immagine 168\n",
            "\t File: /content/drive/My Drive/universita/progetto ml/pub/2019-10-19_15-36-55_UTC.json\n"
          ],
          "name": "stdout"
        },
        {
          "output_type": "stream",
          "text": [
            "I0228 12:32:53.744622 140220390033280 yolo_model.py:59] time: 0.2327723503112793\n"
          ],
          "name": "stderr"
        },
        {
          "output_type": "stream",
          "text": [
            "\tperson, 0.999431312084198, [0.2262676  0.07338515 0.73276854 0.9317442 ]\n",
            "\tchair, 0.9640717506408691, [0.1001005  0.35808176 0.43467456 0.8135167 ]\n",
            "\tcup, 0.9487178325653076, [0.7468505  0.38072765 0.8401966  0.4325317 ]\n",
            "\tchair, 0.9375982880592346, [0.84021693 0.5393648  0.9936033  0.95810235]\n",
            "\tbowl, 0.9370559453964233, [0.49428183 0.36889955 0.56967324 0.41546813]\n",
            "\tdiningtable, 0.9304909706115723, [0.4438002  0.36292818 0.9545928  0.9314542 ]\n",
            "\tbowl, 0.6510458588600159, [0.7468817  0.37347788 0.8385116  0.43057394]\n",
            "\tchair, 0.5855911374092102, [0.50233275 0.23325638 0.6181515  0.35451347]\n",
            "Iter: 0. Controllo persona: \n",
            "Iter: 0. Persona trovata: \n",
            "Score: 0.9994313\n",
            "Iter: 0. Controllo borsa: \n",
            "Iter: 0. Controllo orologio: \n",
            "Iter: 1. Controllo persona: \n",
            "Iter: 1. Controllo borsa: \n",
            "Iter: 1. Controllo orologio: \n",
            "Iter: 2. Controllo persona: \n",
            "Iter: 2. Controllo borsa: \n",
            "Iter: 2. Controllo orologio: \n",
            "Iter: 3. Controllo persona: \n",
            "Iter: 3. Controllo borsa: \n",
            "Iter: 3. Controllo orologio: \n",
            "Iter: 4. Controllo persona: \n",
            "Iter: 4. Controllo borsa: \n",
            "Iter: 4. Controllo orologio: \n",
            "Iter: 5. Controllo persona: \n",
            "Iter: 5. Controllo borsa: \n",
            "Iter: 5. Controllo orologio: \n",
            "Iter: 6. Controllo persona: \n",
            "Iter: 6. Controllo borsa: \n",
            "Iter: 6. Controllo orologio: \n",
            "Iter: 7. Controllo persona: \n",
            "Iter: 7. Controllo borsa: \n",
            "Iter: 7. Controllo orologio: \n",
            "Immagine 169\n",
            "\t File: /content/drive/My Drive/universita/progetto ml/pub/2019-10-21_23-14-04_UTC.json\n"
          ],
          "name": "stdout"
        },
        {
          "output_type": "stream",
          "text": [
            "I0228 12:32:57.689038 140220390033280 yolo_model.py:59] time: 0.25829148292541504\n"
          ],
          "name": "stderr"
        },
        {
          "output_type": "stream",
          "text": [
            "\tperson, 0.9965094923973083, [0.4134     0.26188138 0.73930913 0.98579335]\n",
            "\thandbag, 0.5110025405883789, [0.5247672  0.65883845 0.65039283 0.7622178 ]\n",
            "Iter: 0. Controllo persona: \n",
            "Iter: 0. Persona trovata: \n",
            "Score: 0.9965095\n",
            "Iter: 0. Controllo borsa: \n",
            "Iter: 0. Controllo orologio: \n",
            "Iter: 1. Controllo persona: \n",
            "Iter: 1. Controllo borsa: \n",
            "Iter: 1. Borsa trovata: \n",
            "Score: 0.51100254\n",
            "Iter: 1. Controllo orologio: \n",
            "Immagine 170\n",
            "\t File: /content/drive/My Drive/universita/progetto ml/pub/2019-10-23_15-53-15_UTC.json\n"
          ],
          "name": "stdout"
        },
        {
          "output_type": "stream",
          "text": [
            "I0228 12:33:03.556245 140220390033280 yolo_model.py:59] time: 0.25014472007751465\n"
          ],
          "name": "stderr"
        },
        {
          "output_type": "stream",
          "text": [
            "\tperson, 0.9996914267539978, [0.22248244 0.1252589  0.8004768  0.9900274 ]\n",
            "\tcup, 0.8892198204994202, [0.45276338 0.5098771  0.55529433 0.6254536 ]\n",
            "\thandbag, 0.8202170729637146, [0.20647001 0.6133592  0.37373686 0.87980735]\n",
            "Iter: 0. Controllo persona: \n",
            "Iter: 0. Persona trovata: \n",
            "Score: 0.9996914\n",
            "Iter: 0. Controllo borsa: \n",
            "Iter: 0. Controllo orologio: \n",
            "Iter: 1. Controllo persona: \n",
            "Iter: 1. Controllo borsa: \n",
            "Iter: 1. Controllo orologio: \n",
            "Iter: 2. Controllo persona: \n",
            "Iter: 2. Controllo borsa: \n",
            "Iter: 2. Borsa trovata: \n",
            "Score: 0.8202171\n",
            "Iter: 2. Controllo orologio: \n",
            "Immagine 171\n",
            "\t File: /content/drive/My Drive/universita/progetto ml/pub/2019-10-25_15-38-45_UTC.json\n"
          ],
          "name": "stdout"
        },
        {
          "output_type": "stream",
          "text": [
            "I0228 12:33:06.724731 140220390033280 yolo_model.py:59] time: 0.24280667304992676\n"
          ],
          "name": "stderr"
        },
        {
          "output_type": "stream",
          "text": [
            "\tperson, 0.9997468590736389, [0.33080298 0.11069736 0.6206092  0.9869565 ]\n",
            "\thandbag, 0.851365327835083, [0.31543583 0.31372178 0.436172   0.64192224]\n",
            "\tboat, 0.575539767742157, [0.12343609 0.3280764  0.30085307 0.3924376 ]\n",
            "\tboat, 0.5713071227073669, [0.60407263 0.33549207 1.         0.48897314]\n",
            "Iter: 0. Controllo persona: \n",
            "Iter: 0. Persona trovata: \n",
            "Score: 0.99974686\n",
            "Iter: 0. Controllo borsa: \n",
            "Iter: 0. Controllo orologio: \n",
            "Iter: 1. Controllo persona: \n",
            "Iter: 1. Controllo borsa: \n",
            "Iter: 1. Borsa trovata: \n",
            "Score: 0.8513653\n",
            "Iter: 1. Controllo orologio: \n",
            "Iter: 2. Controllo persona: \n",
            "Iter: 2. Controllo borsa: \n",
            "Iter: 2. Controllo orologio: \n",
            "Iter: 3. Controllo persona: \n",
            "Iter: 3. Controllo borsa: \n",
            "Iter: 3. Controllo orologio: \n",
            "Immagine 172\n",
            "\t File: /content/drive/My Drive/universita/progetto ml/pub/2019-10-26_17-38-42_UTC.json\n"
          ],
          "name": "stdout"
        },
        {
          "output_type": "stream",
          "text": [
            "I0228 12:33:09.058198 140220390033280 yolo_model.py:59] time: 0.24039840698242188\n"
          ],
          "name": "stderr"
        },
        {
          "output_type": "stream",
          "text": [
            "\tperson, 0.9999217987060547, [0.3605627  0.02616164 0.7298585  0.96126986]\n",
            "\thandbag, 0.9233013987541199, [0.33594698 0.48888528 0.48678535 0.62024736]\n",
            "\tperson, 0.6478223204612732, [0.0005646  0.17204607 0.11014263 0.5524971 ]\n",
            "Iter: 0. Controllo persona: \n",
            "Iter: 0. Persona trovata: \n",
            "Score: 0.9999218\n",
            "Iter: 0. Controllo borsa: \n",
            "Iter: 0. Controllo orologio: \n",
            "Iter: 1. Controllo persona: \n",
            "Iter: 1. Controllo borsa: \n",
            "Iter: 1. Borsa trovata: \n",
            "Score: 0.9233014\n",
            "Iter: 1. Controllo orologio: \n",
            "Iter: 2. Controllo persona: \n",
            "Iter: 2. Controllo borsa: \n",
            "Iter: 2. Controllo orologio: \n",
            "Immagine 173\n",
            "\t File: /content/drive/My Drive/universita/progetto ml/pub/2019-10-28_15-34-38_UTC.json\n"
          ],
          "name": "stdout"
        },
        {
          "output_type": "stream",
          "text": [
            "I0228 12:33:12.956644 140220390033280 yolo_model.py:59] time: 0.26317501068115234\n"
          ],
          "name": "stderr"
        },
        {
          "output_type": "stream",
          "text": [
            "\tperson, 0.9990355372428894, [0.25471985 0.01498574 0.73946613 0.9861625 ]\n",
            "\tchair, 0.8263805508613586, [0.50607574 0.5761476  0.9769534  0.99768335]\n",
            "\tcup, 0.7744051218032837, [0.32621625 0.44687894 0.4341031  0.5640062 ]\n",
            "Iter: 0. Controllo persona: \n",
            "Iter: 0. Persona trovata: \n",
            "Score: 0.99903554\n",
            "Iter: 0. Controllo borsa: \n",
            "Iter: 0. Controllo orologio: \n",
            "Iter: 1. Controllo persona: \n",
            "Iter: 1. Controllo borsa: \n",
            "Iter: 1. Controllo orologio: \n",
            "Iter: 2. Controllo persona: \n",
            "Iter: 2. Controllo borsa: \n",
            "Iter: 2. Controllo orologio: \n",
            "Immagine 174\n",
            "\t File: /content/drive/My Drive/universita/progetto ml/pub/2019-10-30_15-29-40_UTC.json\n"
          ],
          "name": "stdout"
        },
        {
          "output_type": "stream",
          "text": [
            "I0228 12:33:15.747658 140220390033280 yolo_model.py:59] time: 0.23840594291687012\n"
          ],
          "name": "stderr"
        },
        {
          "output_type": "stream",
          "text": [
            "\tperson, 0.999638020992279, [0.18320674 0.05958214 0.7903913  0.96453464]\n",
            "Iter: 0. Controllo persona: \n",
            "Iter: 0. Persona trovata: \n",
            "Score: 0.999638\n",
            "Iter: 0. Controllo borsa: \n",
            "Iter: 0. Controllo orologio: \n",
            "Immagine 175\n",
            "\t File: /content/drive/My Drive/universita/progetto ml/pub/2019-10-31_15-41-36_UTC.json\n"
          ],
          "name": "stdout"
        },
        {
          "output_type": "stream",
          "text": [
            "I0228 12:33:17.935402 140220390033280 yolo_model.py:59] time: 0.2447342872619629\n"
          ],
          "name": "stderr"
        },
        {
          "output_type": "stream",
          "text": [
            "\tperson, 0.9992815256118774, [0.752527   0.01897103 0.9492116  0.69847274]\n",
            "\tperson, 0.9982693791389465, [0.29724756 0.06278124 0.8347734  0.76419044]\n",
            "\tknife, 0.9172990322113037, [0.6933583  0.6872688  0.7976645  0.82514256]\n",
            "\tperson, 0.7817320823669434, [0.10683687 0.22352068 0.17343913 0.3381855 ]\n",
            "\tdiningtable, 0.776817798614502, [0.00434339 0.6008066  0.9843127  1.        ]\n",
            "\tperson, 0.7579023838043213, [0.06577729 0.23445934 0.1098057  0.29325932]\n",
            "\tcup, 0.7522630095481873, [0.40391868 0.7696629  0.68519443 0.9929841 ]\n",
            "\tcup, 0.6791023015975952, [0.3973211  0.6341011  0.59444594 0.7898231 ]\n",
            "\tfork, 0.5518180131912231, [0.6906695 0.6824191 0.8089823 0.82255  ]\n",
            "\tperson, 0.5031009912490845, [0.         0.24116433 0.04623399 0.31515843]\n",
            "Iter: 0. Controllo persona: \n",
            "Iter: 0. Persona trovata: \n",
            "Score: 0.9992815\n",
            "Iter: 0. Controllo borsa: \n",
            "Iter: 0. Controllo orologio: \n",
            "Iter: 1. Controllo persona: \n",
            "Iter: 1. Controllo borsa: \n",
            "Iter: 1. Controllo orologio: \n",
            "Iter: 2. Controllo persona: \n",
            "Iter: 2. Controllo borsa: \n",
            "Iter: 2. Controllo orologio: \n",
            "Iter: 3. Controllo persona: \n",
            "Iter: 3. Controllo borsa: \n",
            "Iter: 3. Controllo orologio: \n",
            "Iter: 4. Controllo persona: \n",
            "Iter: 4. Controllo borsa: \n",
            "Iter: 4. Controllo orologio: \n",
            "Iter: 5. Controllo persona: \n",
            "Iter: 5. Controllo borsa: \n",
            "Iter: 5. Controllo orologio: \n",
            "Iter: 6. Controllo persona: \n",
            "Iter: 6. Controllo borsa: \n",
            "Iter: 6. Controllo orologio: \n",
            "Iter: 7. Controllo persona: \n",
            "Iter: 7. Controllo borsa: \n",
            "Iter: 7. Controllo orologio: \n",
            "Iter: 8. Controllo persona: \n",
            "Iter: 8. Controllo borsa: \n",
            "Iter: 8. Controllo orologio: \n",
            "Iter: 9. Controllo persona: \n",
            "Iter: 9. Controllo borsa: \n",
            "Iter: 9. Controllo orologio: \n",
            "Immagine 176\n",
            "\t File: /content/drive/My Drive/universita/progetto ml/pub/2019-11-01_16-41-24_UTC.json\n"
          ],
          "name": "stdout"
        },
        {
          "output_type": "stream",
          "text": [
            "I0228 12:33:22.675199 140220390033280 yolo_model.py:59] time: 0.22594428062438965\n"
          ],
          "name": "stderr"
        },
        {
          "output_type": "stream",
          "text": [
            "\tperson, 0.9998123049736023, [0.08616531 0.         0.9263971  0.9627845 ]\n",
            "\tcup, 0.6886737942695618, [0.35748568 0.74888474 0.4761242  0.8790905 ]\n",
            "Iter: 0. Controllo persona: \n",
            "Iter: 0. Persona trovata: \n",
            "Score: 0.9998123\n",
            "Iter: 0. Controllo borsa: \n",
            "Iter: 0. Controllo orologio: \n",
            "Iter: 1. Controllo persona: \n",
            "Iter: 1. Controllo borsa: \n",
            "Iter: 1. Controllo orologio: \n",
            "Immagine 177\n",
            "\t File: /content/drive/My Drive/universita/progetto ml/pub/2019-11-01_16-41-24_UTC.json\n"
          ],
          "name": "stdout"
        },
        {
          "output_type": "stream",
          "text": [
            "I0228 12:33:24.534696 140220390033280 yolo_model.py:59] time: 0.252791166305542\n"
          ],
          "name": "stderr"
        },
        {
          "output_type": "stream",
          "text": [
            "\tperson, 0.9998301267623901, [0.3769032  0.05561435 0.66070294 0.99170935]\n",
            "\thandbag, 0.7250787615776062, [0.3201174  0.36203933 0.42315114 0.6035342 ]\n",
            "Iter: 0. Controllo persona: \n",
            "Iter: 0. Persona trovata: \n",
            "Score: 0.9998301\n",
            "Iter: 0. Controllo borsa: \n",
            "Iter: 0. Controllo orologio: \n",
            "Iter: 1. Controllo persona: \n",
            "Iter: 1. Controllo borsa: \n",
            "Iter: 1. Borsa trovata: \n",
            "Score: 0.72507876\n",
            "Iter: 1. Controllo orologio: \n",
            "Immagine 178\n",
            "\t File: /content/drive/My Drive/universita/progetto ml/pub/2019-11-02_15-57-18_UTC.json\n"
          ],
          "name": "stdout"
        },
        {
          "output_type": "stream",
          "text": [
            "I0228 12:33:27.440705 140220390033280 yolo_model.py:59] time: 0.24450922012329102\n"
          ],
          "name": "stderr"
        },
        {
          "output_type": "stream",
          "text": [
            "\tperson, 0.9959753155708313, [0.25137058 0.06558853 0.7122307  0.88423777]\n",
            "\tapple, 0.809209406375885, [0.26599032 0.7902076  0.45168978 0.98623884]\n",
            "\tperson, 0.6703261733055115, [0.2720639  0.16612053 0.31272614 0.24793422]\n",
            "Iter: 0. Controllo persona: \n",
            "Iter: 0. Persona trovata: \n",
            "Score: 0.9959753\n",
            "Iter: 0. Controllo borsa: \n",
            "Iter: 0. Controllo orologio: \n",
            "Iter: 1. Controllo persona: \n",
            "Iter: 1. Controllo borsa: \n",
            "Iter: 1. Controllo orologio: \n",
            "Iter: 2. Controllo persona: \n",
            "Iter: 2. Controllo borsa: \n",
            "Iter: 2. Controllo orologio: \n",
            "Immagine 179\n",
            "\t File: /content/drive/My Drive/universita/progetto ml/pub/2019-11-03_17-06-42_UTC.json\n"
          ],
          "name": "stdout"
        },
        {
          "output_type": "stream",
          "text": [
            "I0228 12:33:29.704284 140220390033280 yolo_model.py:59] time: 0.22576546669006348\n"
          ],
          "name": "stderr"
        },
        {
          "output_type": "stream",
          "text": [
            "\tperson, 0.9998517036437988, [0.30183873 0.13245842 0.8704413  0.913702  ]\n",
            "Iter: 0. Controllo persona: \n",
            "Iter: 0. Persona trovata: \n",
            "Score: 0.9998517\n",
            "Iter: 0. Controllo borsa: \n",
            "Iter: 0. Controllo orologio: \n",
            "Immagine 180\n",
            "\t File: /content/drive/My Drive/universita/progetto ml/pub/2019-11-05_15-57-12_UTC.json\n"
          ],
          "name": "stdout"
        },
        {
          "output_type": "stream",
          "text": [
            "I0228 12:33:32.443054 140220390033280 yolo_model.py:59] time: 0.2551553249359131\n"
          ],
          "name": "stderr"
        },
        {
          "output_type": "stream",
          "text": [
            "\tperson, 0.9999762773513794, [0.10497177 0.19216806 0.7597935  0.8023475 ]\n",
            "\thandbag, 0.6087464690208435, [0.5737005  0.63833314 0.74405366 0.755845  ]\n",
            "Iter: 0. Controllo persona: \n",
            "Iter: 0. Persona trovata: \n",
            "Score: 0.9999763\n",
            "Iter: 0. Controllo borsa: \n",
            "Iter: 0. Controllo orologio: \n",
            "Iter: 1. Controllo persona: \n",
            "Iter: 1. Controllo borsa: \n",
            "Iter: 1. Borsa trovata: \n",
            "Score: 0.60874647\n",
            "Iter: 1. Controllo orologio: \n",
            "Immagine 181\n",
            "\t File: /content/drive/My Drive/universita/progetto ml/pub/2019-11-11_17-35-44_UTC.json\n"
          ],
          "name": "stdout"
        },
        {
          "output_type": "stream",
          "text": [
            "I0228 12:33:35.087036 140220390033280 yolo_model.py:59] time: 0.28258681297302246\n"
          ],
          "name": "stderr"
        },
        {
          "output_type": "stream",
          "text": [
            "\tperson, 0.9980032444000244, [0.3634076  0.17601481 0.6930491  0.9721445 ]\n",
            "\thandbag, 0.9769450426101685, [0.3275561  0.6163305  0.46690896 0.7499554 ]\n",
            "\ttruck, 0.7632530927658081, [0.00321259 0.3602788  0.20857985 0.47213513]\n",
            "\tchair, 0.5191124081611633, [0.81202114 0.5181024  0.89317775 0.6803541 ]\n",
            "Iter: 0. Controllo persona: \n",
            "Iter: 0. Persona trovata: \n",
            "Score: 0.99800324\n",
            "Iter: 0. Controllo borsa: \n",
            "Iter: 0. Controllo orologio: \n",
            "Iter: 1. Controllo persona: \n",
            "Iter: 1. Controllo borsa: \n",
            "Iter: 1. Borsa trovata: \n",
            "Score: 0.97694504\n",
            "Iter: 1. Controllo orologio: \n",
            "Iter: 2. Controllo persona: \n",
            "Iter: 2. Controllo borsa: \n",
            "Iter: 2. Controllo orologio: \n",
            "Iter: 3. Controllo persona: \n",
            "Iter: 3. Controllo borsa: \n",
            "Iter: 3. Controllo orologio: \n",
            "Immagine 182\n",
            "\t File: /content/drive/My Drive/universita/progetto ml/pub/2019-11-12_16-35-10_UTC.json\n"
          ],
          "name": "stdout"
        },
        {
          "output_type": "stream",
          "text": [
            "I0228 12:33:38.275883 140220390033280 yolo_model.py:59] time: 0.22931265830993652\n"
          ],
          "name": "stderr"
        },
        {
          "output_type": "stream",
          "text": [
            "\tperson, 0.9994930028915405, [0.30023223 0.0160113  0.86527294 1.        ]\n",
            "\thandbag, 0.9288458824157715, [0.22201473 0.70309806 0.4803444  0.95386314]\n",
            "Iter: 0. Controllo persona: \n",
            "Iter: 0. Persona trovata: \n",
            "Score: 0.999493\n",
            "Iter: 0. Controllo borsa: \n",
            "Iter: 0. Controllo orologio: \n",
            "Iter: 1. Controllo persona: \n",
            "Iter: 1. Controllo borsa: \n",
            "Iter: 1. Borsa trovata: \n",
            "Score: 0.9288459\n",
            "Iter: 1. Controllo orologio: \n",
            "Immagine 183\n",
            "\t File: /content/drive/My Drive/universita/progetto ml/pub/2019-11-13_17-33-53_UTC.json\n"
          ],
          "name": "stdout"
        },
        {
          "output_type": "stream",
          "text": [
            "I0228 12:33:44.614558 140220390033280 yolo_model.py:59] time: 0.2596147060394287\n"
          ],
          "name": "stderr"
        },
        {
          "output_type": "stream",
          "text": [
            "\tperson, 0.9968412518501282, [0.377683   0.05173364 0.6823411  0.9674268 ]\n",
            "\thandbag, 0.9730628132820129, [0.48392373 0.22612971 0.6515258  0.58028585]\n",
            "\tpottedplant, 0.7268064618110657, [0.         0.02563062 0.40200067 0.66314983]\n",
            "Iter: 0. Controllo persona: \n",
            "Iter: 0. Persona trovata: \n",
            "Score: 0.99684125\n",
            "Iter: 0. Controllo borsa: \n",
            "Iter: 0. Controllo orologio: \n",
            "Iter: 1. Controllo persona: \n",
            "Iter: 1. Controllo borsa: \n",
            "Iter: 1. Borsa trovata: \n",
            "Score: 0.9730628\n",
            "Iter: 1. Controllo orologio: \n",
            "Iter: 2. Controllo persona: \n",
            "Iter: 2. Controllo borsa: \n",
            "Iter: 2. Controllo orologio: \n",
            "Immagine 184\n",
            "\t File: /content/drive/My Drive/universita/progetto ml/pub/2019-11-14_15-23-56_UTC.json\n"
          ],
          "name": "stdout"
        },
        {
          "output_type": "stream",
          "text": [
            "I0228 12:33:47.291932 140220390033280 yolo_model.py:59] time: 0.23129010200500488\n"
          ],
          "name": "stderr"
        },
        {
          "output_type": "stream",
          "text": [
            "\tperson, 0.9996806979179382, [0.27720976 0.02934393 0.76873434 1.        ]\n",
            "\tcar, 0.9451025128364563, [0.         0.2935546  0.19707301 0.43561786]\n",
            "\thandbag, 0.9285439252853394, [0.43812746 0.5448921  0.66709346 0.7543415 ]\n",
            "\tcar, 0.5988150238990784, [0.03859569 0.30775306 0.20797363 0.50043446]\n",
            "\tcup, 0.5248573422431946, [0.340749   0.46233147 0.4412785  0.5267419 ]\n",
            "Iter: 0. Controllo persona: \n",
            "Iter: 0. Persona trovata: \n",
            "Score: 0.9996807\n",
            "Iter: 0. Controllo borsa: \n",
            "Iter: 0. Controllo orologio: \n",
            "Iter: 1. Controllo persona: \n",
            "Iter: 1. Controllo borsa: \n",
            "Iter: 1. Controllo orologio: \n",
            "Iter: 2. Controllo persona: \n",
            "Iter: 2. Controllo borsa: \n",
            "Iter: 2. Borsa trovata: \n",
            "Score: 0.9285439\n",
            "Iter: 2. Controllo orologio: \n",
            "Iter: 3. Controllo persona: \n",
            "Iter: 3. Controllo borsa: \n",
            "Iter: 3. Controllo orologio: \n",
            "Iter: 4. Controllo persona: \n",
            "Iter: 4. Controllo borsa: \n",
            "Iter: 4. Controllo orologio: \n",
            "Immagine 185\n",
            "\t File: /content/drive/My Drive/universita/progetto ml/pub/2019-11-15_16-02-14_UTC.json\n"
          ],
          "name": "stdout"
        },
        {
          "output_type": "stream",
          "text": [
            "I0228 12:33:50.064796 140220390033280 yolo_model.py:59] time: 0.23715949058532715\n"
          ],
          "name": "stderr"
        },
        {
          "output_type": "stream",
          "text": [
            "\tchair, 0.9599025249481201, [0.7141572  0.48236305 1.         0.9668612 ]\n",
            "\tperson, 0.9572990536689758, [0.182984   0.15611011 0.69573164 0.9769651 ]\n",
            "\thandbag, 0.9005176424980164, [0.52786344 0.3330171  0.71212465 0.45345592]\n",
            "\tlaptop, 0.6341902017593384, [0.5116827  0.3355736  0.70993334 0.45267004]\n",
            "\tdiningtable, 0.6273126602172852, [0.46008176 0.42713565 0.9403822  0.87337583]\n",
            "Iter: 0. Controllo persona: \n",
            "Iter: 0. Controllo borsa: \n",
            "Iter: 0. Controllo orologio: \n",
            "Iter: 1. Controllo persona: \n",
            "Iter: 1. Persona trovata: \n",
            "Score: 0.95729905\n",
            "Iter: 1. Controllo borsa: \n",
            "Iter: 1. Controllo orologio: \n",
            "Iter: 2. Controllo persona: \n",
            "Iter: 2. Controllo borsa: \n",
            "Iter: 2. Borsa trovata: \n",
            "Score: 0.90051764\n",
            "Iter: 2. Controllo orologio: \n",
            "Iter: 3. Controllo persona: \n",
            "Iter: 3. Controllo borsa: \n",
            "Iter: 3. Controllo orologio: \n",
            "Iter: 4. Controllo persona: \n",
            "Iter: 4. Controllo borsa: \n",
            "Iter: 4. Controllo orologio: \n",
            "Immagine 186\n",
            "\t File: /content/drive/My Drive/universita/progetto ml/pub/2019-11-16_17-22-44_UTC.json\n"
          ],
          "name": "stdout"
        },
        {
          "output_type": "stream",
          "text": [
            "I0228 12:33:55.456682 140220390033280 yolo_model.py:59] time: 0.22230768203735352\n"
          ],
          "name": "stderr"
        },
        {
          "output_type": "stream",
          "text": [
            "\tperson, 0.9982316493988037, [0.20237038 0.         0.69920504 1.        ]\n",
            "\tcar, 0.5246819853782654, [0.1130596  0.21255726 0.2157921  0.2686801 ]\n",
            "Iter: 0. Controllo persona: \n",
            "Iter: 0. Persona trovata: \n",
            "Score: 0.99823165\n",
            "Iter: 0. Controllo borsa: \n",
            "Iter: 0. Controllo orologio: \n",
            "Iter: 1. Controllo persona: \n",
            "Iter: 1. Controllo borsa: \n",
            "Iter: 1. Controllo orologio: \n",
            "Immagine 187\n",
            "\t File: /content/drive/My Drive/universita/progetto ml/pub/2019-11-18_10-32-43_UTC.json\n"
          ],
          "name": "stdout"
        },
        {
          "output_type": "stream",
          "text": [
            "I0228 12:33:58.686480 140220390033280 yolo_model.py:59] time: 0.2302408218383789\n"
          ],
          "name": "stderr"
        },
        {
          "output_type": "stream",
          "text": [
            "\tperson, 0.9785740971565247, [0.14761338 0.04347101 0.8937763  0.96141255]\n",
            "Iter: 0. Controllo persona: \n",
            "Iter: 0. Persona trovata: \n",
            "Score: 0.9785741\n",
            "Iter: 0. Controllo borsa: \n",
            "Iter: 0. Controllo orologio: \n",
            "Immagine 188\n",
            "\t File: /content/drive/My Drive/universita/progetto ml/pub/2019-11-19_00-01-01_UTC.json\n"
          ],
          "name": "stdout"
        },
        {
          "output_type": "stream",
          "text": [
            "I0228 12:34:02.327285 140220390033280 yolo_model.py:59] time: 0.22574281692504883\n"
          ],
          "name": "stderr"
        },
        {
          "output_type": "stream",
          "text": [
            "\tperson, 0.9967656135559082, [0.3629184  0.17916054 0.62252593 0.930729  ]\n",
            "\tperson, 0.9936001300811768, [0.5824379  0.21191242 0.8192179  0.96673226]\n",
            "\tperson, 0.9892293214797974, [3.4936890e-04 3.5104880e-01 6.3982382e-02 5.8648384e-01]\n",
            "\thandbag, 0.8857098817825317, [0.68045276 0.6257828  0.8282077  0.77902335]\n",
            "Iter: 0. Controllo persona: \n",
            "Iter: 0. Persona trovata: \n",
            "Score: 0.9967656\n",
            "Iter: 0. Controllo borsa: \n",
            "Iter: 0. Controllo orologio: \n",
            "Iter: 1. Controllo persona: \n",
            "Iter: 1. Controllo borsa: \n",
            "Iter: 1. Controllo orologio: \n",
            "Iter: 2. Controllo persona: \n",
            "Iter: 2. Controllo borsa: \n",
            "Iter: 2. Controllo orologio: \n",
            "Iter: 3. Controllo persona: \n",
            "Iter: 3. Controllo borsa: \n",
            "Iter: 3. Borsa trovata: \n",
            "Score: 0.8857099\n",
            "Iter: 3. Controllo orologio: \n",
            "Immagine 189\n",
            "\t File: /content/drive/My Drive/universita/progetto ml/pub/2019-11-19_15-30-07_UTC.json\n"
          ],
          "name": "stdout"
        },
        {
          "output_type": "stream",
          "text": [
            "I0228 12:34:05.811703 140220390033280 yolo_model.py:59] time: 0.240478515625\n"
          ],
          "name": "stderr"
        },
        {
          "output_type": "stream",
          "text": [
            "\tperson, 0.9998053312301636, [0.2543494  0.05278137 0.7539839  0.9865731 ]\n",
            "\tpottedplant, 0.8943257927894592, [0.85841465 0.28150767 0.99817646 0.7640168 ]\n",
            "\tperson, 0.7807775735855103, [0.16329916 0.16911529 0.315291   0.38446367]\n",
            "\tcar, 0.7676613926887512, [0.00615017 0.29646856 0.11234071 0.38756174]\n",
            "\tcar, 0.6631267666816711, [0.0939271  0.29927495 0.19519792 0.33771393]\n",
            "\tcar, 0.5524652600288391, [0.28781468 0.29906198 0.37993348 0.36773542]\n",
            "Iter: 0. Controllo persona: \n",
            "Iter: 0. Persona trovata: \n",
            "Score: 0.99980533\n",
            "Iter: 0. Controllo borsa: \n",
            "Iter: 0. Controllo orologio: \n",
            "Iter: 1. Controllo persona: \n",
            "Iter: 1. Controllo borsa: \n",
            "Iter: 1. Controllo orologio: \n",
            "Iter: 2. Controllo persona: \n",
            "Iter: 2. Controllo borsa: \n",
            "Iter: 2. Controllo orologio: \n",
            "Iter: 3. Controllo persona: \n",
            "Iter: 3. Controllo borsa: \n",
            "Iter: 3. Controllo orologio: \n",
            "Iter: 4. Controllo persona: \n",
            "Iter: 4. Controllo borsa: \n",
            "Iter: 4. Controllo orologio: \n",
            "Iter: 5. Controllo persona: \n",
            "Iter: 5. Controllo borsa: \n",
            "Iter: 5. Controllo orologio: \n",
            "Immagine 190\n",
            "\t File: /content/drive/My Drive/universita/progetto ml/pub/2019-11-20_16-19-38_UTC.json\n"
          ],
          "name": "stdout"
        },
        {
          "output_type": "stream",
          "text": [
            "I0228 12:34:08.119420 140220390033280 yolo_model.py:59] time: 0.22304511070251465\n"
          ],
          "name": "stderr"
        },
        {
          "output_type": "stream",
          "text": [
            "\tperson, 0.9999589920043945, [0.33290055 0.13136268 0.66740537 0.9556843 ]\n",
            "Iter: 0. Controllo persona: \n",
            "Iter: 0. Persona trovata: \n",
            "Score: 0.999959\n",
            "Iter: 0. Controllo borsa: \n",
            "Iter: 0. Controllo orologio: \n",
            "Immagine 191\n",
            "\t File: /content/drive/My Drive/universita/progetto ml/pub/2019-11-21_01-00-52_UTC.json\n"
          ],
          "name": "stdout"
        },
        {
          "output_type": "stream",
          "text": [
            "I0228 12:34:11.342711 140220390033280 yolo_model.py:59] time: 0.24556851387023926\n"
          ],
          "name": "stderr"
        },
        {
          "output_type": "stream",
          "text": [
            "\tperson, 0.9994800090789795, [0.30142024 0.06724706 0.6580955  0.9765521 ]\n",
            "\tbench, 0.8457940816879272, [0.00202122 0.47541675 0.12497717 0.6215075 ]\n",
            "\tbench, 0.7052369117736816, [0.23039818 0.56490356 0.9151677  0.9454097 ]\n",
            "Iter: 0. Controllo persona: \n",
            "Iter: 0. Persona trovata: \n",
            "Score: 0.99948\n",
            "Iter: 0. Controllo borsa: \n",
            "Iter: 0. Controllo orologio: \n",
            "Iter: 1. Controllo persona: \n",
            "Iter: 1. Controllo borsa: \n",
            "Iter: 1. Controllo orologio: \n",
            "Iter: 2. Controllo persona: \n",
            "Iter: 2. Controllo borsa: \n",
            "Iter: 2. Controllo orologio: \n",
            "Immagine 192\n",
            "\t File: /content/drive/My Drive/universita/progetto ml/pub/2019-11-22_17-22-56_UTC.json\n"
          ],
          "name": "stdout"
        },
        {
          "output_type": "stream",
          "text": [
            "I0228 12:34:14.304977 140220390033280 yolo_model.py:59] time: 0.2378709316253662\n"
          ],
          "name": "stderr"
        },
        {
          "output_type": "stream",
          "text": [
            "\tperson, 0.9999384880065918, [0.08529285 0.03914508 0.8820585  0.9961289 ]\n",
            "Iter: 0. Controllo persona: \n",
            "Iter: 0. Persona trovata: \n",
            "Score: 0.9999385\n",
            "Iter: 0. Controllo borsa: \n",
            "Iter: 0. Controllo orologio: \n",
            "Immagine 193\n",
            "\t File: /content/drive/My Drive/universita/progetto ml/pub/2019-11-22_17-22-56_UTC.json\n"
          ],
          "name": "stdout"
        },
        {
          "output_type": "stream",
          "text": [
            "I0228 12:34:18.460184 140220390033280 yolo_model.py:59] time: 0.231367826461792\n"
          ],
          "name": "stderr"
        },
        {
          "output_type": "stream",
          "text": [
            "\tperson, 0.9991697669029236, [0.12704048 0.04419962 0.9987998  0.991984  ]\n",
            "\tcar, 0.9866287112236023, [0.02232496 0.34207818 0.23662677 0.46528533]\n",
            "\tcar, 0.7849439382553101, [0.0073372  0.3687982  0.11595833 0.49631405]\n",
            "Iter: 0. Controllo persona: \n",
            "Iter: 0. Persona trovata: \n",
            "Score: 0.99916977\n",
            "Iter: 0. Controllo borsa: \n",
            "Iter: 0. Controllo orologio: \n",
            "Iter: 1. Controllo persona: \n",
            "Iter: 1. Controllo borsa: \n",
            "Iter: 1. Controllo orologio: \n",
            "Iter: 2. Controllo persona: \n",
            "Iter: 2. Controllo borsa: \n",
            "Iter: 2. Controllo orologio: \n",
            "Immagine 194\n",
            "\t File: /content/drive/My Drive/universita/progetto ml/pub/2019-11-26_00-00-08_UTC.json\n"
          ],
          "name": "stdout"
        },
        {
          "output_type": "stream",
          "text": [
            "I0228 12:34:24.349604 140220390033280 yolo_model.py:59] time: 0.25774240493774414\n"
          ],
          "name": "stderr"
        },
        {
          "output_type": "stream",
          "text": [
            "\tperson, 0.9994931221008301, [0.32689482 0.10161051 0.71415097 0.9480109 ]\n",
            "Iter: 0. Controllo persona: \n",
            "Iter: 0. Persona trovata: \n",
            "Score: 0.9994931\n",
            "Iter: 0. Controllo borsa: \n",
            "Iter: 0. Controllo orologio: \n",
            "Immagine 195\n",
            "\t File: /content/drive/My Drive/universita/progetto ml/pub/2019-11-27_14-59-35_UTC.json\n"
          ],
          "name": "stdout"
        },
        {
          "output_type": "stream",
          "text": [
            "I0228 12:34:29.152106 140220390033280 yolo_model.py:59] time: 0.2469334602355957\n"
          ],
          "name": "stderr"
        },
        {
          "output_type": "stream",
          "text": [
            "\tperson, 0.9998631477355957, [0.31237635 0.15139234 0.6488873  0.9586444 ]\n",
            "\tchair, 0.9529429078102112, [3.2633543e-06 5.9352905e-01 1.3161142e-01 9.9673110e-01]\n",
            "Iter: 0. Controllo persona: \n",
            "Iter: 0. Persona trovata: \n",
            "Score: 0.99986315\n",
            "Iter: 0. Controllo borsa: \n",
            "Iter: 0. Controllo orologio: \n",
            "Iter: 1. Controllo persona: \n",
            "Iter: 1. Controllo borsa: \n",
            "Iter: 1. Controllo orologio: \n",
            "Immagine 196\n",
            "\t File: /content/drive/My Drive/universita/progetto ml/pub/2019-11-28_16-08-56_UTC.json\n"
          ],
          "name": "stdout"
        },
        {
          "output_type": "stream",
          "text": [
            "I0228 12:34:32.610779 140220390033280 yolo_model.py:59] time: 0.22783541679382324\n"
          ],
          "name": "stderr"
        },
        {
          "output_type": "stream",
          "text": [
            "\tdonut, 0.9773811101913452, [0.6524133  0.67621905 0.7764122  0.7396638 ]\n",
            "\tdonut, 0.9758439660072327, [0.723952  0.6583681 0.8285969 0.7131984]\n",
            "\tdonut, 0.9549681544303894, [0.5889128  0.7064541  0.6910396  0.76103324]\n",
            "\tperson, 0.954134464263916, [0.07111335 0.08943054 0.9057236  0.7508887 ]\n",
            "\tperson, 0.8867170810699463, [0.16167118 0.17049493 0.20251115 0.24294995]\n",
            "\tcar, 0.8611372709274292, [0.75715816 0.19020206 0.8425262  0.2559889 ]\n",
            "\tcar, 0.7667655348777771, [0.03354439 0.18735626 0.48886266 0.5203848 ]\n",
            "\tcar, 0.7231939435005188, [0.06671923 0.06179774 0.9018872  0.6816806 ]\n",
            "\tcar, 0.6699589490890503, [0.25680166 0.17282438 0.46976846 0.2452696 ]\n",
            "\tdonut, 0.6341394186019897, [0.80128497 0.68598485 0.91454    0.7490983 ]\n",
            "\tdonut, 0.5998589396476746, [0.740764   0.72592473 0.8427142  0.7821808 ]\n",
            "\tcar, 0.5434316396713257, [0.08113995 0.19437787 0.46312335 0.36208656]\n",
            "Iter: 0. Controllo persona: \n",
            "Iter: 0. Controllo borsa: \n",
            "Iter: 0. Controllo orologio: \n",
            "Iter: 1. Controllo persona: \n",
            "Iter: 1. Controllo borsa: \n",
            "Iter: 1. Controllo orologio: \n",
            "Iter: 2. Controllo persona: \n",
            "Iter: 2. Controllo borsa: \n",
            "Iter: 2. Controllo orologio: \n",
            "Iter: 3. Controllo persona: \n",
            "Iter: 3. Persona trovata: \n",
            "Score: 0.95413446\n",
            "Iter: 3. Controllo borsa: \n",
            "Iter: 3. Controllo orologio: \n",
            "Iter: 4. Controllo persona: \n",
            "Iter: 4. Controllo borsa: \n",
            "Iter: 4. Controllo orologio: \n",
            "Iter: 5. Controllo persona: \n",
            "Iter: 5. Controllo borsa: \n",
            "Iter: 5. Controllo orologio: \n",
            "Iter: 6. Controllo persona: \n",
            "Iter: 6. Controllo borsa: \n",
            "Iter: 6. Controllo orologio: \n",
            "Iter: 7. Controllo persona: \n",
            "Iter: 7. Controllo borsa: \n",
            "Iter: 7. Controllo orologio: \n",
            "Iter: 8. Controllo persona: \n",
            "Iter: 8. Controllo borsa: \n",
            "Iter: 8. Controllo orologio: \n",
            "Iter: 9. Controllo persona: \n",
            "Iter: 9. Controllo borsa: \n",
            "Iter: 9. Controllo orologio: \n",
            "Iter: 10. Controllo persona: \n",
            "Iter: 10. Controllo borsa: \n",
            "Iter: 10. Controllo orologio: \n",
            "Iter: 11. Controllo persona: \n",
            "Iter: 11. Controllo borsa: \n",
            "Iter: 11. Controllo orologio: \n",
            "Immagine 197\n",
            "\t File: /content/drive/My Drive/universita/progetto ml/pub/2019-11-29_15-36-31_UTC.json\n"
          ],
          "name": "stdout"
        },
        {
          "output_type": "stream",
          "text": [
            "I0228 12:34:36.443617 140220390033280 yolo_model.py:59] time: 0.2676520347595215\n"
          ],
          "name": "stderr"
        },
        {
          "output_type": "stream",
          "text": [
            "\tperson, 0.9994895458221436, [0.2781421  0.23570517 0.61306685 0.95337605]\n",
            "\thandbag, 0.9211834669113159, [0.2431762  0.65110874 0.40281266 0.7885206 ]\n",
            "Iter: 0. Controllo persona: \n",
            "Iter: 0. Persona trovata: \n",
            "Score: 0.99948955\n",
            "Iter: 0. Controllo borsa: \n",
            "Iter: 0. Controllo orologio: \n",
            "Iter: 1. Controllo persona: \n",
            "Iter: 1. Controllo borsa: \n",
            "Iter: 1. Borsa trovata: \n",
            "Score: 0.92118347\n",
            "Iter: 1. Controllo orologio: \n",
            "Immagine 198\n",
            "\t File: /content/drive/My Drive/universita/progetto ml/pub/2019-12-02_01-13-34_UTC.json\n"
          ],
          "name": "stdout"
        },
        {
          "output_type": "stream",
          "text": [
            "I0228 12:34:38.935380 140220390033280 yolo_model.py:59] time: 0.24029922485351562\n"
          ],
          "name": "stderr"
        },
        {
          "output_type": "stream",
          "text": [
            "\tperson, 0.9991161823272705, [0.3513739  0.10504857 0.81378865 0.98919773]\n",
            "\thandbag, 0.608532190322876, [0.34270713 0.44466785 0.5261258  0.57578504]\n",
            "Iter: 0. Controllo persona: \n",
            "Iter: 0. Persona trovata: \n",
            "Score: 0.9991162\n",
            "Iter: 0. Controllo borsa: \n",
            "Iter: 0. Controllo orologio: \n",
            "Iter: 1. Controllo persona: \n",
            "Iter: 1. Controllo borsa: \n",
            "Iter: 1. Borsa trovata: \n",
            "Score: 0.6085322\n",
            "Iter: 1. Controllo orologio: \n",
            "Immagine 199\n",
            "\t File: /content/drive/My Drive/universita/progetto ml/pub/2019-12-02_15-38-29_UTC.json\n"
          ],
          "name": "stdout"
        },
        {
          "output_type": "stream",
          "text": [
            "I0228 12:34:43.525815 140220390033280 yolo_model.py:59] time: 0.27713513374328613\n"
          ],
          "name": "stderr"
        },
        {
          "output_type": "stream",
          "text": [
            "\tsuitcase, 0.7831882238388062, [0.01941813 0.6787386  0.24282223 0.9638864 ]\n",
            "\tbottle, 0.7217981815338135, [0.2736994  0.8358824  0.32443857 0.99312186]\n",
            "\tbottle, 0.6978654861450195, [0.32200667 0.7908768  0.38683817 0.9887182 ]\n",
            "\tbottle, 0.692375123500824, [0.3805714  0.7897555  0.44807377 0.9908233 ]\n",
            "\tperson, 0.6257689595222473, [0.25016594 0.06584412 0.5435949  0.6415044 ]\n",
            "Iter: 0. Controllo persona: \n",
            "Iter: 0. Controllo borsa: \n",
            "Iter: 0. Controllo orologio: \n",
            "Iter: 1. Controllo persona: \n",
            "Iter: 1. Controllo borsa: \n",
            "Iter: 1. Controllo orologio: \n",
            "Iter: 2. Controllo persona: \n",
            "Iter: 2. Controllo borsa: \n",
            "Iter: 2. Controllo orologio: \n",
            "Iter: 3. Controllo persona: \n",
            "Iter: 3. Controllo borsa: \n",
            "Iter: 3. Controllo orologio: \n",
            "Iter: 4. Controllo persona: \n",
            "Iter: 4. Persona trovata: \n",
            "Score: 0.62576896\n",
            "Iter: 4. Controllo borsa: \n",
            "Iter: 4. Controllo orologio: \n",
            "Analizzo le immagini non pubblicitarie in /content/drive/My Drive/universita/progetto ml/non_pub/\n",
            "Immagine 0\n",
            "\t File: /content/drive/My Drive/universita/progetto ml/non_pub/2017-04-04_19-00-12_UTC.json\n"
          ],
          "name": "stdout"
        },
        {
          "output_type": "stream",
          "text": [
            "I0228 12:34:45.646091 140220390033280 yolo_model.py:59] time: 0.2741236686706543\n"
          ],
          "name": "stderr"
        },
        {
          "output_type": "stream",
          "text": [
            "\tperson, 0.9935702085494995, [0.28883848 0.01588824 1.         0.95457065]\n",
            "Iter: 0. Controllo persona: \n",
            "Iter: 0. Persona trovata: \n",
            "Score: 0.9935702\n",
            "Iter: 0. Controllo borsa: \n",
            "Iter: 0. Controllo orologio: \n",
            "Immagine 1\n",
            "\t File: /content/drive/My Drive/universita/progetto ml/non_pub/2017-04-06_04-14-16_UTC.json\n"
          ],
          "name": "stdout"
        },
        {
          "output_type": "stream",
          "text": [
            "I0228 12:34:52.706973 140220390033280 yolo_model.py:59] time: 0.23603487014770508\n"
          ],
          "name": "stderr"
        },
        {
          "output_type": "stream",
          "text": [
            "\tperson, 0.9851385951042175, [0.4177968  0.37119752 0.56100655 0.7951259 ]\n",
            "Iter: 0. Controllo persona: \n",
            "Iter: 0. Persona trovata: \n",
            "Score: 0.9851386\n",
            "Iter: 0. Controllo borsa: \n",
            "Iter: 0. Controllo orologio: \n",
            "Immagine 2\n",
            "\t File: /content/drive/My Drive/universita/progetto ml/non_pub/2017-04-07_17-36-53_UTC.json\n"
          ],
          "name": "stdout"
        },
        {
          "output_type": "stream",
          "text": [
            "I0228 12:34:56.316909 140220390033280 yolo_model.py:59] time: 0.22904515266418457\n"
          ],
          "name": "stderr"
        },
        {
          "output_type": "stream",
          "text": [
            "\tperson, 0.9926889538764954, [0.0932216  0.248207   0.79454005 0.8942591 ]\n",
            "\tchair, 0.7744467854499817, [0.19917065 0.28346968 0.95346624 0.8723823 ]\n",
            "\tbook, 0.7547768950462341, [0.9156071  0.27993238 0.9984237  0.31440693]\n",
            "\tbook, 0.5203973650932312, [0.9223067  0.2686974  0.9933941  0.30185738]\n",
            "Iter: 0. Controllo persona: \n",
            "Iter: 0. Persona trovata: \n",
            "Score: 0.99268895\n",
            "Iter: 0. Controllo borsa: \n",
            "Iter: 0. Controllo orologio: \n",
            "Iter: 1. Controllo persona: \n",
            "Iter: 1. Controllo borsa: \n",
            "Iter: 1. Controllo orologio: \n",
            "Iter: 2. Controllo persona: \n",
            "Iter: 2. Controllo borsa: \n",
            "Iter: 2. Controllo orologio: \n",
            "Iter: 3. Controllo persona: \n",
            "Iter: 3. Controllo borsa: \n",
            "Iter: 3. Controllo orologio: \n",
            "Immagine 3\n",
            "\t File: /content/drive/My Drive/universita/progetto ml/non_pub/2017-04-08_15-32-00_UTC.json\n"
          ],
          "name": "stdout"
        },
        {
          "output_type": "stream",
          "text": [
            "I0228 12:35:00.484482 140220390033280 yolo_model.py:59] time: 0.21946144104003906\n"
          ],
          "name": "stderr"
        },
        {
          "output_type": "stream",
          "text": [
            "\tperson, 0.9998427629470825, [0.26800177 0.2197155  0.6811863  0.9821342 ]\n",
            "Iter: 0. Controllo persona: \n",
            "Iter: 0. Persona trovata: \n",
            "Score: 0.99984276\n",
            "Iter: 0. Controllo borsa: \n",
            "Iter: 0. Controllo orologio: \n",
            "Immagine 4\n",
            "\t File: /content/drive/My Drive/universita/progetto ml/non_pub/2017-04-09_15-15-38_UTC.json\n"
          ],
          "name": "stdout"
        },
        {
          "output_type": "stream",
          "text": [
            "I0228 12:35:04.454067 140220390033280 yolo_model.py:59] time: 0.23931503295898438\n"
          ],
          "name": "stderr"
        },
        {
          "output_type": "stream",
          "text": [
            "\tperson, 0.9984497427940369, [0.01895237 0.00574011 0.8673204  0.9905529 ]\n",
            "Iter: 0. Controllo persona: \n",
            "Iter: 0. Persona trovata: \n",
            "Score: 0.99844974\n",
            "Iter: 0. Controllo borsa: \n",
            "Iter: 0. Controllo orologio: \n",
            "Immagine 5\n",
            "\t File: /content/drive/My Drive/universita/progetto ml/non_pub/2017-04-09_17-35-28_UTC.json\n"
          ],
          "name": "stdout"
        },
        {
          "output_type": "stream",
          "text": [
            "I0228 12:35:08.405280 140220390033280 yolo_model.py:59] time: 0.2554337978363037\n"
          ],
          "name": "stderr"
        },
        {
          "output_type": "stream",
          "text": [
            "\tperson, 0.999472975730896, [0.27684465 0.3477979  0.5908135  0.8563763 ]\n",
            "\thandbag, 0.8507550358772278, [0.13495179 0.70114386 0.3088538  0.82118404]\n",
            "Iter: 0. Controllo persona: \n",
            "Iter: 0. Persona trovata: \n",
            "Score: 0.999473\n",
            "Iter: 0. Controllo borsa: \n",
            "Iter: 0. Controllo orologio: \n",
            "Iter: 1. Controllo persona: \n",
            "Iter: 1. Controllo borsa: \n",
            "Iter: 1. Borsa trovata: \n",
            "Score: 0.85075504\n",
            "Iter: 1. Controllo orologio: \n",
            "Immagine 6\n",
            "\t File: /content/drive/My Drive/universita/progetto ml/non_pub/2017-04-11_08-32-49_UTC.json\n"
          ],
          "name": "stdout"
        },
        {
          "output_type": "stream",
          "text": [
            "I0228 12:35:11.029942 140220390033280 yolo_model.py:59] time: 0.24541425704956055\n"
          ],
          "name": "stderr"
        },
        {
          "output_type": "stream",
          "text": [
            "\tperson, 0.9990554451942444, [0.3654035  0.33833665 0.5941217  0.90702194]\n",
            "Iter: 0. Controllo persona: \n",
            "Iter: 0. Persona trovata: \n",
            "Score: 0.99905545\n",
            "Iter: 0. Controllo borsa: \n",
            "Iter: 0. Controllo orologio: \n",
            "Immagine 7\n",
            "\t File: /content/drive/My Drive/universita/progetto ml/non_pub/2017-04-11_19-46-09_UTC.json\n"
          ],
          "name": "stdout"
        },
        {
          "output_type": "stream",
          "text": [
            "I0228 12:35:16.762116 140220390033280 yolo_model.py:59] time: 0.24462294578552246\n"
          ],
          "name": "stderr"
        },
        {
          "output_type": "stream",
          "text": [
            "\tperson, 0.9956808686256409, [0.30663824 0.23748243 0.79636407 1.        ]\n",
            "\tchair, 0.5216667056083679, [0.7559242 0.6453926 0.9933586 0.9150339]\n",
            "Iter: 0. Controllo persona: \n",
            "Iter: 0. Persona trovata: \n",
            "Score: 0.99568087\n",
            "Iter: 0. Controllo borsa: \n",
            "Iter: 0. Controllo orologio: \n",
            "Iter: 1. Controllo persona: \n",
            "Iter: 1. Controllo borsa: \n",
            "Iter: 1. Controllo orologio: \n",
            "Immagine 8\n",
            "\t File: /content/drive/My Drive/universita/progetto ml/non_pub/2017-04-14_00-39-27_UTC.json\n"
          ],
          "name": "stdout"
        },
        {
          "output_type": "stream",
          "text": [
            "I0228 12:35:21.247636 140220390033280 yolo_model.py:59] time: 0.2499539852142334\n"
          ],
          "name": "stderr"
        },
        {
          "output_type": "stream",
          "text": [
            "\tcar, 0.9992662072181702, [0.02418154 0.59513927 1.         0.86949766]\n",
            "\tperson, 0.9984311461448669, [0.40241027 0.5595569  0.5314667  0.8958753 ]\n",
            "Iter: 0. Controllo persona: \n",
            "Iter: 0. Controllo borsa: \n",
            "Iter: 0. Controllo orologio: \n",
            "Iter: 1. Controllo persona: \n",
            "Iter: 1. Persona trovata: \n",
            "Score: 0.99843115\n",
            "Iter: 1. Controllo borsa: \n",
            "Iter: 1. Controllo orologio: \n",
            "Immagine 9\n",
            "\t File: /content/drive/My Drive/universita/progetto ml/non_pub/2017-04-13_03-00-50_UTC.json\n"
          ],
          "name": "stdout"
        },
        {
          "output_type": "stream",
          "text": [
            "I0228 12:35:24.875008 140220390033280 yolo_model.py:59] time: 0.23092365264892578\n"
          ],
          "name": "stderr"
        },
        {
          "output_type": "stream",
          "text": [
            "\tperson, 0.9974767565727234, [0.4000553  0.36001334 0.62884617 0.98350203]\n",
            "\tperson, 0.937161922454834, [0.6627162 0.655189  0.7524105 0.7837674]\n",
            "\tperson, 0.8844780921936035, [0.7501287  0.6560671  0.8151484  0.77764374]\n",
            "\tbench, 0.8323414921760559, [0.6546763  0.70065117 0.9187988  0.78553474]\n",
            "\tperson, 0.7392091155052185, [0.8013526 0.6559352 0.877236  0.7760251]\n",
            "\tsports ball, 0.5502830743789673, [0.28069007 0.79201126 0.31044626 0.8297461 ]\n",
            "Iter: 0. Controllo persona: \n",
            "Iter: 0. Persona trovata: \n",
            "Score: 0.99747676\n",
            "Iter: 0. Controllo borsa: \n",
            "Iter: 0. Controllo orologio: \n",
            "Iter: 1. Controllo persona: \n",
            "Iter: 1. Controllo borsa: \n",
            "Iter: 1. Controllo orologio: \n",
            "Iter: 2. Controllo persona: \n",
            "Iter: 2. Controllo borsa: \n",
            "Iter: 2. Controllo orologio: \n",
            "Iter: 3. Controllo persona: \n",
            "Iter: 3. Controllo borsa: \n",
            "Iter: 3. Controllo orologio: \n",
            "Iter: 4. Controllo persona: \n",
            "Iter: 4. Controllo borsa: \n",
            "Iter: 4. Controllo orologio: \n",
            "Iter: 5. Controllo persona: \n",
            "Iter: 5. Controllo borsa: \n",
            "Iter: 5. Controllo orologio: \n",
            "Immagine 10\n",
            "\t File: /content/drive/My Drive/universita/progetto ml/non_pub/2017-04-14_14-12-18_UTC.json\n"
          ],
          "name": "stdout"
        },
        {
          "output_type": "stream",
          "text": [
            "I0228 12:35:29.816539 140220390033280 yolo_model.py:59] time: 0.23880982398986816\n"
          ],
          "name": "stderr"
        },
        {
          "output_type": "stream",
          "text": [
            "\tperson, 0.9977667927742004, [0.22381511 0.40458968 0.5950742  0.8494246 ]\n",
            "\tchair, 0.9032564163208008, [0.01937266 0.5409688  0.18370321 0.66124475]\n",
            "\tchair, 0.561172366142273, [0.09568849 0.5281759  0.25538036 0.604173  ]\n",
            "\tchair, 0.5085139274597168, [0.         0.5816949  0.13616839 0.6920728 ]\n",
            "Iter: 0. Controllo persona: \n",
            "Iter: 0. Persona trovata: \n",
            "Score: 0.9977668\n",
            "Iter: 0. Controllo borsa: \n",
            "Iter: 0. Controllo orologio: \n",
            "Iter: 1. Controllo persona: \n",
            "Iter: 1. Controllo borsa: \n",
            "Iter: 1. Controllo orologio: \n",
            "Iter: 2. Controllo persona: \n",
            "Iter: 2. Controllo borsa: \n",
            "Iter: 2. Controllo orologio: \n",
            "Iter: 3. Controllo persona: \n",
            "Iter: 3. Controllo borsa: \n",
            "Iter: 3. Controllo orologio: \n",
            "Immagine 11\n",
            "\t File: /content/drive/My Drive/universita/progetto ml/non_pub/2017-04-14_22-08-36_UTC.json\n"
          ],
          "name": "stdout"
        },
        {
          "output_type": "stream",
          "text": [
            "I0228 12:35:34.445879 140220390033280 yolo_model.py:59] time: 0.28076887130737305\n"
          ],
          "name": "stderr"
        },
        {
          "output_type": "stream",
          "text": [
            "\tperson, 0.9916211366653442, [0.06102112 0.06042251 0.85032    0.9768157 ]\n",
            "Iter: 0. Controllo persona: \n",
            "Iter: 0. Persona trovata: \n",
            "Score: 0.99162114\n",
            "Iter: 0. Controllo borsa: \n",
            "Iter: 0. Controllo orologio: \n",
            "Immagine 12\n",
            "\t File: /content/drive/My Drive/universita/progetto ml/non_pub/2017-04-15_20-29-41_UTC.json\n"
          ],
          "name": "stdout"
        },
        {
          "output_type": "stream",
          "text": [
            "I0228 12:35:37.879951 140220390033280 yolo_model.py:59] time: 0.23465871810913086\n"
          ],
          "name": "stderr"
        },
        {
          "output_type": "stream",
          "text": [
            "\tperson, 0.9979146122932434, [0.3078669  0.06197721 0.9520632  0.9737478 ]\n",
            "\tperson, 0.9705484509468079, [0.8928533  0.47557396 0.94844395 0.6225044 ]\n",
            "\tperson, 0.8903576731681824, [0.8387467  0.48256743 0.87900275 0.5419389 ]\n",
            "\thandbag, 0.8125183582305908, [0.3233475 0.5971647 0.721917  0.9924682]\n",
            "\tperson, 0.6353282332420349, [0.96094584 0.44659197 0.9998338  0.6663346 ]\n",
            "Iter: 0. Controllo persona: \n",
            "Iter: 0. Persona trovata: \n",
            "Score: 0.9979146\n",
            "Iter: 0. Controllo borsa: \n",
            "Iter: 0. Controllo orologio: \n",
            "Iter: 1. Controllo persona: \n",
            "Iter: 1. Controllo borsa: \n",
            "Iter: 1. Controllo orologio: \n",
            "Iter: 2. Controllo persona: \n",
            "Iter: 2. Controllo borsa: \n",
            "Iter: 2. Controllo orologio: \n",
            "Iter: 3. Controllo persona: \n",
            "Iter: 3. Controllo borsa: \n",
            "Iter: 3. Borsa trovata: \n",
            "Score: 0.81251836\n",
            "Iter: 3. Controllo orologio: \n",
            "Iter: 4. Controllo persona: \n",
            "Iter: 4. Controllo borsa: \n",
            "Iter: 4. Controllo orologio: \n",
            "Immagine 13\n",
            "\t File: /content/drive/My Drive/universita/progetto ml/non_pub/2017-04-14_23-42-30_UTC.json\n"
          ],
          "name": "stdout"
        },
        {
          "output_type": "stream",
          "text": [
            "I0228 12:35:42.330654 140220390033280 yolo_model.py:59] time: 0.23880672454833984\n"
          ],
          "name": "stderr"
        },
        {
          "output_type": "stream",
          "text": [
            "\tperson, 0.9996369481086731, [0.3383584  0.18772814 0.6498954  0.9389291 ]\n",
            "\tperson, 0.9990940093994141, [0.05992049 0.15526903 0.470401   0.987533  ]\n",
            "\tperson, 0.998650848865509, [0.59313464 0.19715858 0.862381   0.91126645]\n",
            "\tchair, 0.8694460988044739, [0.7601383  0.37232453 0.91434014 0.8370878 ]\n",
            "Iter: 0. Controllo persona: \n",
            "Iter: 0. Persona trovata: \n",
            "Score: 0.99963695\n",
            "Iter: 0. Controllo borsa: \n",
            "Iter: 0. Controllo orologio: \n",
            "Iter: 1. Controllo persona: \n",
            "Iter: 1. Controllo borsa: \n",
            "Iter: 1. Controllo orologio: \n",
            "Iter: 2. Controllo persona: \n",
            "Iter: 2. Controllo borsa: \n",
            "Iter: 2. Controllo orologio: \n",
            "Iter: 3. Controllo persona: \n",
            "Iter: 3. Controllo borsa: \n",
            "Iter: 3. Controllo orologio: \n",
            "Immagine 14\n",
            "\t File: /content/drive/My Drive/universita/progetto ml/non_pub/2017-04-15_15-27-46_UTC.json\n"
          ],
          "name": "stdout"
        },
        {
          "output_type": "stream",
          "text": [
            "I0228 12:35:50.820334 140220390033280 yolo_model.py:59] time: 0.25998353958129883\n"
          ],
          "name": "stderr"
        },
        {
          "output_type": "stream",
          "text": [
            "\tperson, 0.9995307326316833, [0.39546138 0.28149796 0.692465   0.91625965]\n",
            "Iter: 0. Controllo persona: \n",
            "Iter: 0. Persona trovata: \n",
            "Score: 0.99953073\n",
            "Iter: 0. Controllo borsa: \n",
            "Iter: 0. Controllo orologio: \n",
            "Immagine 15\n",
            "\t File: /content/drive/My Drive/universita/progetto ml/non_pub/2017-04-15_23-14-43_UTC.json\n"
          ],
          "name": "stdout"
        },
        {
          "output_type": "stream",
          "text": [
            "I0228 12:35:54.407806 140220390033280 yolo_model.py:59] time: 0.2478487491607666\n"
          ],
          "name": "stderr"
        },
        {
          "output_type": "stream",
          "text": [
            "\tperson, 0.9999387264251709, [0.11275417 0.19729728 0.3882274  0.9096919 ]\n",
            "\tperson, 0.9993352293968201, [0.6192738 0.2609113 0.8426764 0.9004753]\n",
            "\tperson, 0.9930709600448608, [0.35770994 0.3156977  0.5819421  0.8765807 ]\n",
            "\tperson, 0.9865652322769165, [0.85691124 0.54105896 0.88982886 0.63681704]\n",
            "\tperson, 0.9769467115402222, [0.8924905  0.5381934  0.9327848  0.64057416]\n",
            "\tperson, 0.9570688605308533, [0.36458308 0.55621177 0.39071614 0.6274639 ]\n",
            "\tperson, 0.9528563022613525, [0.8083438  0.5384895  0.83411163 0.6371415 ]\n",
            "\tperson, 0.9388703107833862, [0.90999806 0.5406165  0.97846663 0.6388333 ]\n",
            "\tperson, 0.9349421262741089, [0.8339967  0.5423844  0.86452216 0.6400975 ]\n",
            "\tperson, 0.6675907969474792, [0.982232   0.5674534  0.99880254 0.6075845 ]\n",
            "\tperson, 0.6671427488327026, [0.39884308 0.5500512  0.4259002  0.6183281 ]\n",
            "\tperson, 0.6400204300880432, [0.37809333 0.5547528  0.40620992 0.6256875 ]\n",
            "\thandbag, 0.5448660850524902, [0.48895264 0.43428487 0.60837317 0.6328638 ]\n",
            "Iter: 0. Controllo persona: \n",
            "Iter: 0. Persona trovata: \n",
            "Score: 0.9999387\n",
            "Iter: 0. Controllo borsa: \n",
            "Iter: 0. Controllo orologio: \n",
            "Iter: 1. Controllo persona: \n",
            "Iter: 1. Controllo borsa: \n",
            "Iter: 1. Controllo orologio: \n",
            "Iter: 2. Controllo persona: \n",
            "Iter: 2. Controllo borsa: \n",
            "Iter: 2. Controllo orologio: \n",
            "Iter: 3. Controllo persona: \n",
            "Iter: 3. Controllo borsa: \n",
            "Iter: 3. Controllo orologio: \n",
            "Iter: 4. Controllo persona: \n",
            "Iter: 4. Controllo borsa: \n",
            "Iter: 4. Controllo orologio: \n",
            "Iter: 5. Controllo persona: \n",
            "Iter: 5. Controllo borsa: \n",
            "Iter: 5. Controllo orologio: \n",
            "Iter: 6. Controllo persona: \n",
            "Iter: 6. Controllo borsa: \n",
            "Iter: 6. Controllo orologio: \n",
            "Iter: 7. Controllo persona: \n",
            "Iter: 7. Controllo borsa: \n",
            "Iter: 7. Controllo orologio: \n",
            "Iter: 8. Controllo persona: \n",
            "Iter: 8. Controllo borsa: \n",
            "Iter: 8. Controllo orologio: \n",
            "Iter: 9. Controllo persona: \n",
            "Iter: 9. Controllo borsa: \n",
            "Iter: 9. Controllo orologio: \n",
            "Iter: 10. Controllo persona: \n",
            "Iter: 10. Controllo borsa: \n",
            "Iter: 10. Controllo orologio: \n",
            "Iter: 11. Controllo persona: \n",
            "Iter: 11. Controllo borsa: \n",
            "Iter: 11. Controllo orologio: \n",
            "Iter: 12. Controllo persona: \n",
            "Iter: 12. Controllo borsa: \n",
            "Iter: 12. Borsa trovata: \n",
            "Score: 0.5448661\n",
            "Iter: 12. Controllo orologio: \n",
            "Immagine 16\n",
            "\t File: /content/drive/My Drive/universita/progetto ml/non_pub/2017-04-16_03-38-36_UTC.json\n"
          ],
          "name": "stdout"
        },
        {
          "output_type": "stream",
          "text": [
            "I0228 12:35:59.485464 140220390033280 yolo_model.py:59] time: 0.22079706192016602\n"
          ],
          "name": "stderr"
        },
        {
          "output_type": "stream",
          "text": [
            "\tperson, 0.9941931366920471, [0.33263433 0.3818707  0.6377793  0.96872526]\n",
            "Iter: 0. Controllo persona: \n",
            "Iter: 0. Persona trovata: \n",
            "Score: 0.99419314\n",
            "Iter: 0. Controllo borsa: \n",
            "Iter: 0. Controllo orologio: \n",
            "Immagine 17\n",
            "\t File: /content/drive/My Drive/universita/progetto ml/non_pub/2017-04-16_15-27-06_UTC.json\n"
          ],
          "name": "stdout"
        },
        {
          "output_type": "stream",
          "text": [
            "I0228 12:36:06.097321 140220390033280 yolo_model.py:59] time: 0.23454642295837402\n"
          ],
          "name": "stderr"
        },
        {
          "output_type": "stream",
          "text": [
            "\tperson, 0.999582052230835, [0.00823095 0.2404109  1.         1.        ]\n",
            "Iter: 0. Controllo persona: \n",
            "Iter: 0. Persona trovata: \n",
            "Score: 0.99958205\n",
            "Iter: 0. Controllo borsa: \n",
            "Iter: 0. Controllo orologio: \n",
            "Immagine 18\n",
            "\t File: /content/drive/My Drive/universita/progetto ml/non_pub/2017-04-16_19-23-44_UTC.json\n"
          ],
          "name": "stdout"
        },
        {
          "output_type": "stream",
          "text": [
            "I0228 12:36:11.804312 140220390033280 yolo_model.py:59] time: 0.246506929397583\n"
          ],
          "name": "stderr"
        },
        {
          "output_type": "stream",
          "text": [
            "\tperson, 0.9997838735580444, [0.16907391 0.52016354 0.8086144  0.9376298 ]\n",
            "\thandbag, 0.7083231210708618, [0.60134363 0.792057   0.80512893 0.96173054]\n",
            "Iter: 0. Controllo persona: \n",
            "Iter: 0. Persona trovata: \n",
            "Score: 0.9997839\n",
            "Iter: 0. Controllo borsa: \n",
            "Iter: 0. Controllo orologio: \n",
            "Iter: 1. Controllo persona: \n",
            "Iter: 1. Controllo borsa: \n",
            "Iter: 1. Borsa trovata: \n",
            "Score: 0.7083231\n",
            "Iter: 1. Controllo orologio: \n",
            "Immagine 19\n",
            "\t File: /content/drive/My Drive/universita/progetto ml/non_pub/2017-04-16_23-29-53_UTC.json\n"
          ],
          "name": "stdout"
        },
        {
          "output_type": "stream",
          "text": [
            "I0228 12:36:14.458378 140220390033280 yolo_model.py:59] time: 0.25127148628234863\n"
          ],
          "name": "stderr"
        },
        {
          "output_type": "stream",
          "text": [
            "\tperson, 0.9982894062995911, [0.28179848 0.44288838 0.6679647  0.9869727 ]\n",
            "Iter: 0. Controllo persona: \n",
            "Iter: 0. Persona trovata: \n",
            "Score: 0.9982894\n",
            "Iter: 0. Controllo borsa: \n",
            "Iter: 0. Controllo orologio: \n",
            "Immagine 20\n",
            "\t File: /content/drive/My Drive/universita/progetto ml/non_pub/2017-04-17_12-17-03_UTC.json\n"
          ],
          "name": "stdout"
        },
        {
          "output_type": "stream",
          "text": [
            "I0228 12:36:19.419525 140220390033280 yolo_model.py:59] time: 0.22310566902160645\n"
          ],
          "name": "stderr"
        },
        {
          "output_type": "stream",
          "text": [
            "\tperson, 0.9962757229804993, [0.07478307 0.43074423 0.14619365 0.6028004 ]\n",
            "\tperson, 0.9910187125205994, [0.00065138 0.42969376 0.05997995 0.59837455]\n",
            "\tperson, 0.9845574498176575, [0.16376847 0.3734066  0.71544415 0.8118009 ]\n",
            "\tperson, 0.9838088154792786, [0.16875838 0.44567627 0.22666006 0.56733733]\n",
            "\tperson, 0.906818687915802, [0.75670564 0.46186718 0.7895105  0.5430892 ]\n",
            "\tperson, 0.8807100057601929, [0.90131235 0.45661977 0.93515337 0.53557575]\n",
            "\tperson, 0.8795449733734131, [0.7271179  0.4731683  0.7631401  0.53980654]\n",
            "\tperson, 0.8694549798965454, [0.94017875 0.46892834 0.9759257  0.54813504]\n",
            "\tperson, 0.8506755828857422, [0.8249354  0.47291383 0.8553422  0.531368  ]\n",
            "\tperson, 0.8193740844726562, [0.8638037  0.45813638 0.8966207  0.53728753]\n",
            "\tperson, 0.8090301156044006, [0.05222517 0.4494654  0.08243367 0.5195946 ]\n",
            "\tperson, 0.7520533204078674, [0.6959477 0.4713773 0.732694  0.5395034]\n",
            "\tperson, 0.7303741574287415, [0.15229483 0.45136356 0.1771536  0.5195204 ]\n",
            "\tperson, 0.6215760111808777, [0.2283211  0.46922266 0.26238433 0.5440681 ]\n",
            "Iter: 0. Controllo persona: \n",
            "Iter: 0. Persona trovata: \n",
            "Score: 0.9962757\n",
            "Iter: 0. Controllo borsa: \n",
            "Iter: 0. Controllo orologio: \n",
            "Iter: 1. Controllo persona: \n",
            "Iter: 1. Controllo borsa: \n",
            "Iter: 1. Controllo orologio: \n",
            "Iter: 2. Controllo persona: \n",
            "Iter: 2. Controllo borsa: \n",
            "Iter: 2. Controllo orologio: \n",
            "Iter: 3. Controllo persona: \n",
            "Iter: 3. Controllo borsa: \n",
            "Iter: 3. Controllo orologio: \n",
            "Iter: 4. Controllo persona: \n",
            "Iter: 4. Controllo borsa: \n",
            "Iter: 4. Controllo orologio: \n",
            "Iter: 5. Controllo persona: \n",
            "Iter: 5. Controllo borsa: \n",
            "Iter: 5. Controllo orologio: \n",
            "Iter: 6. Controllo persona: \n",
            "Iter: 6. Controllo borsa: \n",
            "Iter: 6. Controllo orologio: \n",
            "Iter: 7. Controllo persona: \n",
            "Iter: 7. Controllo borsa: \n",
            "Iter: 7. Controllo orologio: \n",
            "Iter: 8. Controllo persona: \n",
            "Iter: 8. Controllo borsa: \n",
            "Iter: 8. Controllo orologio: \n",
            "Iter: 9. Controllo persona: \n",
            "Iter: 9. Controllo borsa: \n",
            "Iter: 9. Controllo orologio: \n",
            "Iter: 10. Controllo persona: \n",
            "Iter: 10. Controllo borsa: \n",
            "Iter: 10. Controllo orologio: \n",
            "Iter: 11. Controllo persona: \n",
            "Iter: 11. Controllo borsa: \n",
            "Iter: 11. Controllo orologio: \n",
            "Iter: 12. Controllo persona: \n",
            "Iter: 12. Controllo borsa: \n",
            "Iter: 12. Controllo orologio: \n",
            "Iter: 13. Controllo persona: \n",
            "Iter: 13. Controllo borsa: \n",
            "Iter: 13. Controllo orologio: \n",
            "Immagine 21\n",
            "\t File: /content/drive/My Drive/universita/progetto ml/non_pub/2017-04-17_00-50-29_UTC.json\n"
          ],
          "name": "stdout"
        },
        {
          "output_type": "stream",
          "text": [
            "I0228 12:36:23.008553 140220390033280 yolo_model.py:59] time: 0.25560569763183594\n"
          ],
          "name": "stderr"
        },
        {
          "output_type": "stream",
          "text": [
            "\tperson, 0.9980883002281189, [0.35941043 0.32079297 0.6122941  0.8933992 ]\n",
            "Iter: 0. Controllo persona: \n",
            "Iter: 0. Persona trovata: \n",
            "Score: 0.9980883\n",
            "Iter: 0. Controllo borsa: \n",
            "Iter: 0. Controllo orologio: \n",
            "Immagine 22\n",
            "\t File: /content/drive/My Drive/universita/progetto ml/non_pub/2017-04-18_07-11-29_UTC.json\n"
          ],
          "name": "stdout"
        },
        {
          "output_type": "stream",
          "text": [
            "I0228 12:36:28.113720 140220390033280 yolo_model.py:59] time: 0.22197437286376953\n"
          ],
          "name": "stderr"
        },
        {
          "output_type": "stream",
          "text": [
            "\tperson, 0.9978142380714417, [0.48098022 0.35851648 0.65968484 0.85090923]\n",
            "\tperson, 0.7004408240318298, [0.8797302  0.47455478 0.91630507 0.5320097 ]\n",
            "\tperson, 0.6948543190956116, [0.85460746 0.47638395 0.8863615  0.5320165 ]\n",
            "\tperson, 0.6761598587036133, [0.7418329  0.4779224  0.77259094 0.5275054 ]\n",
            "Iter: 0. Controllo persona: \n",
            "Iter: 0. Persona trovata: \n",
            "Score: 0.99781424\n",
            "Iter: 0. Controllo borsa: \n",
            "Iter: 0. Controllo orologio: \n",
            "Iter: 1. Controllo persona: \n",
            "Iter: 1. Controllo borsa: \n",
            "Iter: 1. Controllo orologio: \n",
            "Iter: 2. Controllo persona: \n",
            "Iter: 2. Controllo borsa: \n",
            "Iter: 2. Controllo orologio: \n",
            "Iter: 3. Controllo persona: \n",
            "Iter: 3. Controllo borsa: \n",
            "Iter: 3. Controllo orologio: \n",
            "Immagine 23\n",
            "\t File: /content/drive/My Drive/universita/progetto ml/non_pub/2017-04-18_16-41-07_UTC.json\n"
          ],
          "name": "stdout"
        },
        {
          "output_type": "stream",
          "text": [
            "I0228 12:36:30.432244 140220390033280 yolo_model.py:59] time: 0.2740497589111328\n"
          ],
          "name": "stderr"
        },
        {
          "output_type": "stream",
          "text": [
            "\tperson, 0.999739944934845, [2.7972460e-04 2.5172397e-01 6.5916091e-01 1.0000000e+00]\n",
            "Iter: 0. Controllo persona: \n",
            "Iter: 0. Persona trovata: \n",
            "Score: 0.99973994\n",
            "Iter: 0. Controllo borsa: \n",
            "Iter: 0. Controllo orologio: \n",
            "Immagine 24\n",
            "\t File: /content/drive/My Drive/universita/progetto ml/non_pub/2017-04-20_15-31-38_UTC.json\n"
          ],
          "name": "stdout"
        },
        {
          "output_type": "stream",
          "text": [
            "I0228 12:36:34.006414 140220390033280 yolo_model.py:59] time: 0.2537047863006592\n"
          ],
          "name": "stderr"
        },
        {
          "output_type": "stream",
          "text": [
            "\tperson, 0.9865182638168335, [0.3309485  0.4261237  0.82951987 0.89864814]\n",
            "Iter: 0. Controllo persona: \n",
            "Iter: 0. Persona trovata: \n",
            "Score: 0.98651826\n",
            "Iter: 0. Controllo borsa: \n",
            "Iter: 0. Controllo orologio: \n",
            "Immagine 25\n",
            "\t File: /content/drive/My Drive/universita/progetto ml/non_pub/2017-04-19_17-30-37_UTC.json\n"
          ],
          "name": "stdout"
        },
        {
          "output_type": "stream",
          "text": [
            "I0228 12:36:36.308725 140220390033280 yolo_model.py:59] time: 0.21986150741577148\n"
          ],
          "name": "stderr"
        },
        {
          "output_type": "stream",
          "text": [
            "\tcar, 0.963729977607727, [0.563989   0.5353619  0.65086216 0.591848  ]\n",
            "\tperson, 0.9597494602203369, [0.4082185  0.4256818  0.56694335 0.85714376]\n",
            "\tcar, 0.9354787468910217, [0.7478218  0.5538399  0.7822584  0.56954885]\n",
            "\tsurfboard, 0.7565658688545227, [0.447129   0.57066363 0.7141191  0.7549158 ]\n",
            "Iter: 0. Controllo persona: \n",
            "Iter: 0. Controllo borsa: \n",
            "Iter: 0. Controllo orologio: \n",
            "Iter: 1. Controllo persona: \n",
            "Iter: 1. Persona trovata: \n",
            "Score: 0.95974946\n",
            "Iter: 1. Controllo borsa: \n",
            "Iter: 1. Controllo orologio: \n",
            "Iter: 2. Controllo persona: \n",
            "Iter: 2. Controllo borsa: \n",
            "Iter: 2. Controllo orologio: \n",
            "Iter: 3. Controllo persona: \n",
            "Iter: 3. Controllo borsa: \n",
            "Iter: 3. Controllo orologio: \n",
            "Immagine 26\n",
            "\t File: /content/drive/My Drive/universita/progetto ml/non_pub/2017-04-18_21-36-25_UTC.json\n"
          ],
          "name": "stdout"
        },
        {
          "output_type": "stream",
          "text": [
            "I0228 12:36:38.826354 140220390033280 yolo_model.py:59] time: 0.2407996654510498\n"
          ],
          "name": "stderr"
        },
        {
          "output_type": "stream",
          "text": [
            "\tperson, 0.9947776794433594, [0.43448427 0.5019306  0.58167875 0.90622056]\n",
            "Iter: 0. Controllo persona: \n",
            "Iter: 0. Persona trovata: \n",
            "Score: 0.9947777\n",
            "Iter: 0. Controllo borsa: \n",
            "Iter: 0. Controllo orologio: \n",
            "Immagine 27\n",
            "\t File: /content/drive/My Drive/universita/progetto ml/non_pub/2017-04-21_18-58-08_UTC.json\n"
          ],
          "name": "stdout"
        },
        {
          "output_type": "stream",
          "text": [
            "I0228 12:36:41.120139 140220390033280 yolo_model.py:59] time: 0.25778985023498535\n"
          ],
          "name": "stderr"
        },
        {
          "output_type": "stream",
          "text": [
            "\tperson, 0.9996235370635986, [0.27251488 0.31629497 0.48285896 0.86095387]\n",
            "\tperson, 0.5783225297927856, [0.16233239 0.50920856 0.231895   0.61283517]\n",
            "\thandbag, 0.5132766962051392, [0.26360026 0.542743   0.33773568 0.65862054]\n",
            "Iter: 0. Controllo persona: \n",
            "Iter: 0. Persona trovata: \n",
            "Score: 0.99962354\n",
            "Iter: 0. Controllo borsa: \n",
            "Iter: 0. Controllo orologio: \n",
            "Iter: 1. Controllo persona: \n",
            "Iter: 1. Controllo borsa: \n",
            "Iter: 1. Controllo orologio: \n",
            "Iter: 2. Controllo persona: \n",
            "Iter: 2. Controllo borsa: \n",
            "Iter: 2. Borsa trovata: \n",
            "Score: 0.5132767\n",
            "Iter: 2. Controllo orologio: \n",
            "Immagine 28\n",
            "\t File: /content/drive/My Drive/universita/progetto ml/non_pub/2017-04-24_18-21-28_UTC.json\n"
          ],
          "name": "stdout"
        },
        {
          "output_type": "stream",
          "text": [
            "I0228 12:36:45.161535 140220390033280 yolo_model.py:59] time: 0.22683310508728027\n"
          ],
          "name": "stderr"
        },
        {
          "output_type": "stream",
          "text": [
            "\ttruck, 0.9673937559127808, [0.12491077 0.53194803 0.78509396 0.8084617 ]\n",
            "\tperson, 0.6672078967094421, [0.43473628 0.567643   0.51095927 0.61975807]\n",
            "Iter: 0. Controllo persona: \n",
            "Iter: 0. Controllo borsa: \n",
            "Iter: 0. Controllo orologio: \n",
            "Iter: 1. Controllo persona: \n",
            "Iter: 1. Persona trovata: \n",
            "Score: 0.6672079\n",
            "Iter: 1. Controllo borsa: \n",
            "Iter: 1. Controllo orologio: \n",
            "Immagine 29\n",
            "\t File: /content/drive/My Drive/universita/progetto ml/non_pub/2017-04-24_08-08-25_UTC.json\n"
          ],
          "name": "stdout"
        },
        {
          "output_type": "stream",
          "text": [
            "I0228 12:36:47.756807 140220390033280 yolo_model.py:59] time: 0.24966025352478027\n"
          ],
          "name": "stderr"
        },
        {
          "output_type": "stream",
          "text": [
            "\tperson, 0.9970861673355103, [0.301853   0.518441   0.58810306 0.88388807]\n",
            "\tperson, 0.9873691201210022, [0.47577652 0.5248118  0.71455485 0.83773   ]\n",
            "\tperson, 0.9153383374214172, [0.9336027  0.36265156 0.99790907 0.50237536]\n",
            "\tperson, 0.8143959045410156, [0.8693231 0.4163352 0.9379615 0.5308174]\n",
            "Iter: 0. Controllo persona: \n",
            "Iter: 0. Persona trovata: \n",
            "Score: 0.99708617\n",
            "Iter: 0. Controllo borsa: \n",
            "Iter: 0. Controllo orologio: \n",
            "Iter: 1. Controllo persona: \n",
            "Iter: 1. Controllo borsa: \n",
            "Iter: 1. Controllo orologio: \n",
            "Iter: 2. Controllo persona: \n",
            "Iter: 2. Controllo borsa: \n",
            "Iter: 2. Controllo orologio: \n",
            "Iter: 3. Controllo persona: \n",
            "Iter: 3. Controllo borsa: \n",
            "Iter: 3. Controllo orologio: \n",
            "Immagine 30\n",
            "\t File: /content/drive/My Drive/universita/progetto ml/non_pub/2017-04-22_19-25-26_UTC.json\n"
          ],
          "name": "stdout"
        },
        {
          "output_type": "stream",
          "text": [
            "I0228 12:36:50.083917 140220390033280 yolo_model.py:59] time: 0.2144472599029541\n"
          ],
          "name": "stderr"
        },
        {
          "output_type": "stream",
          "text": [
            "\tperson, 0.9993141889572144, [0.47043887 0.23570311 0.7172667  0.88969374]\n",
            "Iter: 0. Controllo persona: \n",
            "Iter: 0. Persona trovata: \n",
            "Score: 0.9993142\n",
            "Iter: 0. Controllo borsa: \n",
            "Iter: 0. Controllo orologio: \n",
            "Immagine 31\n",
            "\t File: /content/drive/My Drive/universita/progetto ml/non_pub/2017-04-24_22-24-18_UTC.json\n"
          ],
          "name": "stdout"
        },
        {
          "output_type": "stream",
          "text": [
            "I0228 12:36:54.031854 140220390033280 yolo_model.py:59] time: 0.22765827178955078\n"
          ],
          "name": "stderr"
        },
        {
          "output_type": "stream",
          "text": [
            "\tperson, 0.9998878240585327, [0.33747327 0.29163042 0.56632376 0.86017156]\n",
            "Iter: 0. Controllo persona: \n",
            "Iter: 0. Persona trovata: \n",
            "Score: 0.9998878\n",
            "Iter: 0. Controllo borsa: \n",
            "Iter: 0. Controllo orologio: \n",
            "Immagine 32\n",
            "\t File: /content/drive/My Drive/universita/progetto ml/non_pub/2017-04-25_18-01-38_UTC.json\n"
          ],
          "name": "stdout"
        },
        {
          "output_type": "stream",
          "text": [
            "I0228 12:36:57.908251 140220390033280 yolo_model.py:59] time: 0.24695444107055664\n"
          ],
          "name": "stderr"
        },
        {
          "output_type": "stream",
          "text": [
            "\tperson, 0.984919548034668, [0.6125791  0.43701413 0.7960943  0.6833376 ]\n",
            "Iter: 0. Controllo persona: \n",
            "Iter: 0. Persona trovata: \n",
            "Score: 0.98491955\n",
            "Iter: 0. Controllo borsa: \n",
            "Iter: 0. Controllo orologio: \n",
            "Immagine 33\n",
            "\t File: /content/drive/My Drive/universita/progetto ml/non_pub/2017-04-25_07-42-06_UTC.json\n"
          ],
          "name": "stdout"
        },
        {
          "output_type": "stream",
          "text": [
            "I0228 12:37:01.567989 140220390033280 yolo_model.py:59] time: 0.27915310859680176\n"
          ],
          "name": "stderr"
        },
        {
          "output_type": "stream",
          "text": [
            "\tperson, 0.9996342658996582, [0.24474971 0.13724068 0.6220608  0.9719355 ]\n",
            "\tcar, 0.9828099608421326, [0.06656167 0.22538477 0.9316375  0.9199148 ]\n",
            "Iter: 0. Controllo persona: \n",
            "Iter: 0. Persona trovata: \n",
            "Score: 0.99963427\n",
            "Iter: 0. Controllo borsa: \n",
            "Iter: 0. Controllo orologio: \n",
            "Iter: 1. Controllo persona: \n",
            "Iter: 1. Controllo borsa: \n",
            "Iter: 1. Controllo orologio: \n",
            "Immagine 34\n",
            "\t File: /content/drive/My Drive/universita/progetto ml/non_pub/2017-04-25_13-52-59_UTC.json\n"
          ],
          "name": "stdout"
        },
        {
          "output_type": "stream",
          "text": [
            "I0228 12:37:03.953782 140220390033280 yolo_model.py:59] time: 0.24283623695373535\n"
          ],
          "name": "stderr"
        },
        {
          "output_type": "stream",
          "text": [
            "\tperson, 0.9984361529350281, [0.45572102 0.6641619  0.5876001  0.93761027]\n",
            "Iter: 0. Controllo persona: \n",
            "Iter: 0. Persona trovata: \n",
            "Score: 0.99843615\n",
            "Iter: 0. Controllo borsa: \n",
            "Iter: 0. Controllo orologio: \n",
            "Immagine 35\n",
            "\t File: /content/drive/My Drive/universita/progetto ml/non_pub/2017-04-25_22-18-59_UTC.json\n"
          ],
          "name": "stdout"
        },
        {
          "output_type": "stream",
          "text": [
            "I0228 12:37:06.462195 140220390033280 yolo_model.py:59] time: 0.2255876064300537\n"
          ],
          "name": "stderr"
        },
        {
          "output_type": "stream",
          "text": [
            "\tperson, 0.999253511428833, [0.2448397  0.51270217 0.33057013 0.7098828 ]\n",
            "Iter: 0. Controllo persona: \n",
            "Iter: 0. Persona trovata: \n",
            "Score: 0.9992535\n",
            "Iter: 0. Controllo borsa: \n",
            "Iter: 0. Controllo orologio: \n",
            "Immagine 36\n",
            "\t File: /content/drive/My Drive/universita/progetto ml/non_pub/2017-04-27_09-03-27_UTC.json\n"
          ],
          "name": "stdout"
        },
        {
          "output_type": "stream",
          "text": [
            "I0228 12:37:09.414855 140220390033280 yolo_model.py:59] time: 0.23225665092468262\n"
          ],
          "name": "stderr"
        },
        {
          "output_type": "stream",
          "text": [
            "\tperson, 0.9994271397590637, [0.07624003 0.23821455 0.89219    0.95667   ]\n",
            "Iter: 0. Controllo persona: \n",
            "Iter: 0. Persona trovata: \n",
            "Score: 0.99942714\n",
            "Iter: 0. Controllo borsa: \n",
            "Iter: 0. Controllo orologio: \n",
            "Immagine 37\n",
            "\t File: /content/drive/My Drive/universita/progetto ml/non_pub/2017-04-26_23-32-48_UTC.json\n"
          ],
          "name": "stdout"
        },
        {
          "output_type": "stream",
          "text": [
            "I0228 12:37:12.330839 140220390033280 yolo_model.py:59] time: 0.23391008377075195\n"
          ],
          "name": "stderr"
        },
        {
          "output_type": "stream",
          "text": [
            "\tperson, 0.9584777355194092, [0.2691539  0.30583388 0.32453072 0.45296478]\n",
            "Iter: 0. Controllo persona: \n",
            "Iter: 0. Persona trovata: \n",
            "Score: 0.95847774\n",
            "Iter: 0. Controllo borsa: \n",
            "Iter: 0. Controllo orologio: \n",
            "Immagine 38\n",
            "\t File: /content/drive/My Drive/universita/progetto ml/non_pub/2017-04-26_19-20-22_UTC.json\n"
          ],
          "name": "stdout"
        },
        {
          "output_type": "stream",
          "text": [
            "I0228 12:37:16.410294 140220390033280 yolo_model.py:59] time: 0.26544904708862305\n"
          ],
          "name": "stderr"
        },
        {
          "output_type": "stream",
          "text": [
            "\tperson, 0.996167004108429, [0.0104956  0.03952941 0.8431246  0.96197176]\n",
            "\tcell phone, 0.7155985832214355, [0.19202435 0.5396712  0.3978781  0.63563514]\n",
            "\tbed, 0.6418316960334778, [0.05065233 0.16497296 0.90330625 0.97600275]\n",
            "Iter: 0. Controllo persona: \n",
            "Iter: 0. Persona trovata: \n",
            "Score: 0.996167\n",
            "Iter: 0. Controllo borsa: \n",
            "Iter: 0. Controllo orologio: \n",
            "Iter: 1. Controllo persona: \n",
            "Iter: 1. Controllo borsa: \n",
            "Iter: 1. Controllo orologio: \n",
            "Iter: 2. Controllo persona: \n",
            "Iter: 2. Controllo borsa: \n",
            "Iter: 2. Controllo orologio: \n",
            "Immagine 39\n",
            "\t File: /content/drive/My Drive/universita/progetto ml/non_pub/2017-04-27_16-30-03_UTC.json\n"
          ],
          "name": "stdout"
        },
        {
          "output_type": "stream",
          "text": [
            "I0228 12:37:19.134977 140220390033280 yolo_model.py:59] time: 0.24702858924865723\n"
          ],
          "name": "stderr"
        },
        {
          "output_type": "stream",
          "text": [
            "\tperson, 0.9967694878578186, [0.26854104 0.28060144 0.4771194  0.8216283 ]\n",
            "\tcar, 0.8972020745277405, [0.         0.14443839 0.8421374  0.75047725]\n",
            "Iter: 0. Controllo persona: \n",
            "Iter: 0. Persona trovata: \n",
            "Score: 0.9967695\n",
            "Iter: 0. Controllo borsa: \n",
            "Iter: 0. Controllo orologio: \n",
            "Iter: 1. Controllo persona: \n",
            "Iter: 1. Controllo borsa: \n",
            "Iter: 1. Controllo orologio: \n",
            "Immagine 40\n",
            "\t File: /content/drive/My Drive/universita/progetto ml/non_pub/2017-09-17_01-39-31_UTC.json\n"
          ],
          "name": "stdout"
        },
        {
          "output_type": "stream",
          "text": [
            "I0228 12:37:21.656385 140220390033280 yolo_model.py:59] time: 0.25170302391052246\n"
          ],
          "name": "stderr"
        },
        {
          "output_type": "stream",
          "text": [
            "\tchair, 0.9970321655273438, [0.62243086 0.5181971  0.9858256  0.90161985]\n",
            "\tperson, 0.9922423362731934, [0.20207104 0.3669198  0.7739353  0.9208741 ]\n",
            "\tvase, 0.8654146194458008, [0.07581522 0.45564616 0.1468237  0.53668845]\n",
            "\tchair, 0.6435601711273193, [0.9500493  0.50885516 1.         0.83556   ]\n",
            "\tpottedplant, 0.6138553619384766, [0.0077202  0.330549   0.23052627 0.546653  ]\n",
            "Iter: 0. Controllo persona: \n",
            "Iter: 0. Controllo borsa: \n",
            "Iter: 0. Controllo orologio: \n",
            "Iter: 1. Controllo persona: \n",
            "Iter: 1. Persona trovata: \n",
            "Score: 0.99224234\n",
            "Iter: 1. Controllo borsa: \n",
            "Iter: 1. Controllo orologio: \n",
            "Iter: 2. Controllo persona: \n",
            "Iter: 2. Controllo borsa: \n",
            "Iter: 2. Controllo orologio: \n",
            "Iter: 3. Controllo persona: \n",
            "Iter: 3. Controllo borsa: \n",
            "Iter: 3. Controllo orologio: \n",
            "Iter: 4. Controllo persona: \n",
            "Iter: 4. Controllo borsa: \n",
            "Iter: 4. Controllo orologio: \n",
            "Immagine 41\n",
            "\t File: /content/drive/My Drive/universita/progetto ml/non_pub/2017-04-28_09-29-05_UTC.json\n"
          ],
          "name": "stdout"
        },
        {
          "output_type": "stream",
          "text": [
            "I0228 12:37:23.716547 140220390033280 yolo_model.py:59] time: 0.24602556228637695\n"
          ],
          "name": "stderr"
        },
        {
          "output_type": "stream",
          "text": [
            "\tperson, 0.9906874299049377, [0.4398194  0.42375088 0.8945101  0.87700415]\n",
            "\tlaptop, 0.9708126187324524, [0.23920879 0.8085794  0.48124567 0.9675265 ]\n",
            "\tbook, 0.8606622219085693, [0.6541692  0.47791374 0.79304135 0.5806935 ]\n",
            "\tbed, 0.8317776322364807, [0.         0.50204635 0.25604886 0.98744035]\n",
            "Iter: 0. Controllo persona: \n",
            "Iter: 0. Persona trovata: \n",
            "Score: 0.99068743\n",
            "Iter: 0. Controllo borsa: \n",
            "Iter: 0. Controllo orologio: \n",
            "Iter: 1. Controllo persona: \n",
            "Iter: 1. Controllo borsa: \n",
            "Iter: 1. Controllo orologio: \n",
            "Iter: 2. Controllo persona: \n",
            "Iter: 2. Controllo borsa: \n",
            "Iter: 2. Controllo orologio: \n",
            "Iter: 3. Controllo persona: \n",
            "Iter: 3. Controllo borsa: \n",
            "Iter: 3. Controllo orologio: \n",
            "Immagine 42\n",
            "\t File: /content/drive/My Drive/universita/progetto ml/non_pub/2017-04-27_23-44-02_UTC.json\n"
          ],
          "name": "stdout"
        },
        {
          "output_type": "stream",
          "text": [
            "I0228 12:37:27.629219 140220390033280 yolo_model.py:59] time: 0.23110079765319824\n"
          ],
          "name": "stderr"
        },
        {
          "output_type": "stream",
          "text": [
            "\tperson, 0.9998620748519897, [0.06045374 0.10220522 0.9769919  1.        ]\n",
            "Iter: 0. Controllo persona: \n",
            "Iter: 0. Persona trovata: \n",
            "Score: 0.9998621\n",
            "Iter: 0. Controllo borsa: \n",
            "Iter: 0. Controllo orologio: \n",
            "Immagine 43\n",
            "\t File: /content/drive/My Drive/universita/progetto ml/non_pub/2017-09-17_11-28-09_UTC.json\n"
          ],
          "name": "stdout"
        },
        {
          "output_type": "stream",
          "text": [
            "I0228 12:37:31.418193 140220390033280 yolo_model.py:59] time: 0.23095965385437012\n"
          ],
          "name": "stderr"
        },
        {
          "output_type": "stream",
          "text": [
            "\tchair, 0.9969764947891235, [0.06559974 0.4358697  0.76800674 0.99466634]\n",
            "\tperson, 0.9515470862388611, [0.18956837 0.01228571 0.94771135 0.8392991 ]\n",
            "Iter: 0. Controllo persona: \n",
            "Iter: 0. Controllo borsa: \n",
            "Iter: 0. Controllo orologio: \n",
            "Iter: 1. Controllo persona: \n",
            "Iter: 1. Persona trovata: \n",
            "Score: 0.9515471\n",
            "Iter: 1. Controllo borsa: \n",
            "Iter: 1. Controllo orologio: \n",
            "Immagine 44\n",
            "\t File: /content/drive/My Drive/universita/progetto ml/non_pub/2017-09-17_22-31-34_UTC.json\n"
          ],
          "name": "stdout"
        },
        {
          "output_type": "stream",
          "text": [
            "I0228 12:37:36.492678 140220390033280 yolo_model.py:59] time: 0.22010445594787598\n"
          ],
          "name": "stderr"
        },
        {
          "output_type": "stream",
          "text": [
            "\tperson, 0.9984095692634583, [0.02435014 0.00836021 0.95871925 1.        ]\n",
            "Iter: 0. Controllo persona: \n",
            "Iter: 0. Persona trovata: \n",
            "Score: 0.99840957\n",
            "Iter: 0. Controllo borsa: \n",
            "Iter: 0. Controllo orologio: \n",
            "Immagine 45\n",
            "\t File: /content/drive/My Drive/universita/progetto ml/non_pub/2017-09-17_15-29-09_UTC.json\n"
          ],
          "name": "stdout"
        },
        {
          "output_type": "stream",
          "text": [
            "I0228 12:37:41.928065 140220390033280 yolo_model.py:59] time: 0.238358736038208\n"
          ],
          "name": "stderr"
        },
        {
          "output_type": "stream",
          "text": [
            "\tperson, 0.9983814358711243, [0.09998772 0.04679331 0.9312341  0.94202554]\n",
            "Iter: 0. Controllo persona: \n",
            "Iter: 0. Persona trovata: \n",
            "Score: 0.99838144\n",
            "Iter: 0. Controllo borsa: \n",
            "Iter: 0. Controllo orologio: \n",
            "Immagine 46\n",
            "\t File: /content/drive/My Drive/universita/progetto ml/non_pub/2017-09-17_20-37-10_UTC.json\n"
          ],
          "name": "stdout"
        },
        {
          "output_type": "stream",
          "text": [
            "I0228 12:37:44.463314 140220390033280 yolo_model.py:59] time: 0.24016356468200684\n"
          ],
          "name": "stderr"
        },
        {
          "output_type": "stream",
          "text": [
            "\tperson, 0.9992555975914001, [0.35245955 0.21894145 0.7436135  0.98820806]\n",
            "\thandbag, 0.8209635019302368, [0.36619854 0.4448104  0.5815062  0.6865188 ]\n",
            "Iter: 0. Controllo persona: \n",
            "Iter: 0. Persona trovata: \n",
            "Score: 0.9992556\n",
            "Iter: 0. Controllo borsa: \n",
            "Iter: 0. Controllo orologio: \n",
            "Iter: 1. Controllo persona: \n",
            "Iter: 1. Controllo borsa: \n",
            "Iter: 1. Borsa trovata: \n",
            "Score: 0.8209635\n",
            "Iter: 1. Controllo orologio: \n",
            "Immagine 47\n",
            "\t File: /content/drive/My Drive/universita/progetto ml/non_pub/2017-09-20_11-01-56_UTC.json\n"
          ],
          "name": "stdout"
        },
        {
          "output_type": "stream",
          "text": [
            "I0228 12:37:50.428701 140220390033280 yolo_model.py:59] time: 0.22778940200805664\n"
          ],
          "name": "stderr"
        },
        {
          "output_type": "stream",
          "text": [
            "Immagine 48\n",
            "\t File: /content/drive/My Drive/universita/progetto ml/non_pub/2017-09-18_17-30-26_UTC.json\n"
          ],
          "name": "stdout"
        },
        {
          "output_type": "stream",
          "text": [
            "I0228 12:37:54.102369 140220390033280 yolo_model.py:59] time: 0.21945714950561523\n"
          ],
          "name": "stderr"
        },
        {
          "output_type": "stream",
          "text": [
            "Immagine 49\n",
            "\t File: /content/drive/My Drive/universita/progetto ml/non_pub/2017-09-19_16-40-07_UTC.json\n"
          ],
          "name": "stdout"
        },
        {
          "output_type": "stream",
          "text": [
            "I0228 12:37:57.942032 140220390033280 yolo_model.py:59] time: 0.23170065879821777\n"
          ],
          "name": "stderr"
        },
        {
          "output_type": "stream",
          "text": [
            "\tperson, 0.994564414024353, [0.03997985 0.04629353 0.9699012  0.9277359 ]\n",
            "\tperson, 0.7067135572433472, [0.809565   0.00207818 1.         0.3418099 ]\n",
            "\tcar, 0.5857982039451599, [0.2149697  0.07783983 0.42914617 0.26314983]\n",
            "Iter: 0. Controllo persona: \n",
            "Iter: 0. Persona trovata: \n",
            "Score: 0.9945644\n",
            "Iter: 0. Controllo borsa: \n",
            "Iter: 0. Controllo orologio: \n",
            "Iter: 1. Controllo persona: \n",
            "Iter: 1. Controllo borsa: \n",
            "Iter: 1. Controllo orologio: \n",
            "Iter: 2. Controllo persona: \n",
            "Iter: 2. Controllo borsa: \n",
            "Iter: 2. Controllo orologio: \n",
            "Immagine 50\n",
            "\t File: /content/drive/My Drive/universita/progetto ml/non_pub/2017-09-18_22-41-55_UTC.json\n"
          ],
          "name": "stdout"
        },
        {
          "output_type": "stream",
          "text": [
            "I0228 12:38:00.598115 140220390033280 yolo_model.py:59] time: 0.23882746696472168\n"
          ],
          "name": "stderr"
        },
        {
          "output_type": "stream",
          "text": [
            "\tperson, 0.9662912487983704, [0.10085881 0.01558506 1.         0.98828554]\n",
            "\tchair, 0.597039520740509, [0.06450418 0.14233685 0.9581661  0.9897616 ]\n",
            "Iter: 0. Controllo persona: \n",
            "Iter: 0. Persona trovata: \n",
            "Score: 0.96629125\n",
            "Iter: 0. Controllo borsa: \n",
            "Iter: 0. Controllo orologio: \n",
            "Iter: 1. Controllo persona: \n",
            "Iter: 1. Controllo borsa: \n",
            "Iter: 1. Controllo orologio: \n",
            "Immagine 51\n",
            "\t File: /content/drive/My Drive/universita/progetto ml/non_pub/2017-09-22_13-17-21_UTC.json\n"
          ],
          "name": "stdout"
        },
        {
          "output_type": "stream",
          "text": [
            "I0228 12:38:03.716501 140220390033280 yolo_model.py:59] time: 0.24775385856628418\n"
          ],
          "name": "stderr"
        },
        {
          "output_type": "stream",
          "text": [
            "\tperson, 0.9997081160545349, [0.27878335 0.10045964 0.6861609  1.        ]\n",
            "Iter: 0. Controllo persona: \n",
            "Iter: 0. Persona trovata: \n",
            "Score: 0.9997081\n",
            "Iter: 0. Controllo borsa: \n",
            "Iter: 0. Controllo orologio: \n",
            "Immagine 52\n",
            "\t File: /content/drive/My Drive/universita/progetto ml/non_pub/2017-09-24_12-02-57_UTC.json\n"
          ],
          "name": "stdout"
        },
        {
          "output_type": "stream",
          "text": [
            "I0228 12:38:06.345966 140220390033280 yolo_model.py:59] time: 0.25158095359802246\n"
          ],
          "name": "stderr"
        },
        {
          "output_type": "stream",
          "text": [
            "\tperson, 0.9864960312843323, [0.40978178 0.23301461 0.5058308  0.46505538]\n",
            "\tpottedplant, 0.9677664637565613, [0.3302079  0.28655386 0.39654443 0.43237936]\n",
            "Iter: 0. Controllo persona: \n",
            "Iter: 0. Persona trovata: \n",
            "Score: 0.98649603\n",
            "Iter: 0. Controllo borsa: \n",
            "Iter: 0. Controllo orologio: \n",
            "Iter: 1. Controllo persona: \n",
            "Iter: 1. Controllo borsa: \n",
            "Iter: 1. Controllo orologio: \n",
            "Immagine 53\n",
            "\t File: /content/drive/My Drive/universita/progetto ml/non_pub/2017-09-24_00-57-09_UTC.json\n"
          ],
          "name": "stdout"
        },
        {
          "output_type": "stream",
          "text": [
            "I0228 12:38:08.987956 140220390033280 yolo_model.py:59] time: 0.23288941383361816\n"
          ],
          "name": "stderr"
        },
        {
          "output_type": "stream",
          "text": [
            "\tperson, 0.9977452754974365, [0.18683395 0.43215558 0.81912553 0.92434   ]\n",
            "Iter: 0. Controllo persona: \n",
            "Iter: 0. Persona trovata: \n",
            "Score: 0.9977453\n",
            "Iter: 0. Controllo borsa: \n",
            "Iter: 0. Controllo orologio: \n",
            "Immagine 54\n",
            "\t File: /content/drive/My Drive/universita/progetto ml/non_pub/2017-09-23_11-54-14_UTC.json\n"
          ],
          "name": "stdout"
        },
        {
          "output_type": "stream",
          "text": [
            "I0228 12:38:11.351064 140220390033280 yolo_model.py:59] time: 0.2566244602203369\n"
          ],
          "name": "stderr"
        },
        {
          "output_type": "stream",
          "text": [
            "\tperson, 0.9706740975379944, [0.0432474  0.00867608 0.948099   0.9892949 ]\n",
            "Iter: 0. Controllo persona: \n",
            "Iter: 0. Persona trovata: \n",
            "Score: 0.9706741\n",
            "Iter: 0. Controllo borsa: \n",
            "Iter: 0. Controllo orologio: \n",
            "Immagine 55\n",
            "\t File: /content/drive/My Drive/universita/progetto ml/non_pub/2017-09-24_16-22-24_UTC.json\n"
          ],
          "name": "stdout"
        },
        {
          "output_type": "stream",
          "text": [
            "I0228 12:38:14.750729 140220390033280 yolo_model.py:59] time: 0.22379302978515625\n"
          ],
          "name": "stderr"
        },
        {
          "output_type": "stream",
          "text": [
            "\tperson, 0.9993423223495483, [0.03944671 0.02566287 0.97503114 0.99144876]\n",
            "Iter: 0. Controllo persona: \n",
            "Iter: 0. Persona trovata: \n",
            "Score: 0.9993423\n",
            "Iter: 0. Controllo borsa: \n",
            "Iter: 0. Controllo orologio: \n",
            "Immagine 56\n",
            "\t File: /content/drive/My Drive/universita/progetto ml/non_pub/2017-10-02_16-16-17_UTC.json\n"
          ],
          "name": "stdout"
        },
        {
          "output_type": "stream",
          "text": [
            "I0228 12:38:16.903439 140220390033280 yolo_model.py:59] time: 0.22813701629638672\n"
          ],
          "name": "stderr"
        },
        {
          "output_type": "stream",
          "text": [
            "\tperson, 0.9889841079711914, [0.06709883 0.01255894 0.9654026  0.98249793]\n",
            "Iter: 0. Controllo persona: \n",
            "Iter: 0. Persona trovata: \n",
            "Score: 0.9889841\n",
            "Iter: 0. Controllo borsa: \n",
            "Iter: 0. Controllo orologio: \n",
            "Immagine 57\n",
            "\t File: /content/drive/My Drive/universita/progetto ml/non_pub/2017-09-26_18-20-51_UTC.json\n"
          ],
          "name": "stdout"
        },
        {
          "output_type": "stream",
          "text": [
            "I0228 12:38:19.769852 140220390033280 yolo_model.py:59] time: 0.22526812553405762\n"
          ],
          "name": "stderr"
        },
        {
          "output_type": "stream",
          "text": [
            "\tperson, 0.9994184374809265, [0.29942787 0.25838366 0.89198494 0.9577038 ]\n",
            "\tbench, 0.8893226385116577, [0.02278209 0.6405317  0.9766504  0.99576813]\n",
            "Iter: 0. Controllo persona: \n",
            "Iter: 0. Persona trovata: \n",
            "Score: 0.99941844\n",
            "Iter: 0. Controllo borsa: \n",
            "Iter: 0. Controllo orologio: \n",
            "Iter: 1. Controllo persona: \n",
            "Iter: 1. Controllo borsa: \n",
            "Iter: 1. Controllo orologio: \n",
            "Immagine 58\n",
            "\t File: /content/drive/My Drive/universita/progetto ml/non_pub/2017-09-27_01-47-51_UTC.json\n"
          ],
          "name": "stdout"
        },
        {
          "output_type": "stream",
          "text": [
            "I0228 12:38:24.281786 140220390033280 yolo_model.py:59] time: 0.2646965980529785\n"
          ],
          "name": "stderr"
        },
        {
          "output_type": "stream",
          "text": [
            "\tperson, 0.9973318576812744, [0.01914567 0.03513995 0.9303563  0.9617177 ]\n",
            "Iter: 0. Controllo persona: \n",
            "Iter: 0. Persona trovata: \n",
            "Score: 0.99733186\n",
            "Iter: 0. Controllo borsa: \n",
            "Iter: 0. Controllo orologio: \n",
            "Immagine 59\n",
            "\t File: /content/drive/My Drive/universita/progetto ml/non_pub/2017-10-26_23-46-32_UTC.json\n"
          ],
          "name": "stdout"
        },
        {
          "output_type": "stream",
          "text": [
            "I0228 12:38:26.618678 140220390033280 yolo_model.py:59] time: 0.2633078098297119\n"
          ],
          "name": "stderr"
        },
        {
          "output_type": "stream",
          "text": [
            "\tbench, 0.9724997282028198, [0.05469689 0.2953302  0.8272532  0.97294796]\n",
            "\tperson, 0.940876841545105, [0.2556827  0.2783906  0.754956   0.90478593]\n",
            "Iter: 0. Controllo persona: \n",
            "Iter: 0. Controllo borsa: \n",
            "Iter: 0. Controllo orologio: \n",
            "Iter: 1. Controllo persona: \n",
            "Iter: 1. Persona trovata: \n",
            "Score: 0.94087684\n",
            "Iter: 1. Controllo borsa: \n",
            "Iter: 1. Controllo orologio: \n",
            "Immagine 60\n",
            "\t File: /content/drive/My Drive/universita/progetto ml/non_pub/2019-01-26_19-35-18_UTC.json\n"
          ],
          "name": "stdout"
        },
        {
          "output_type": "stream",
          "text": [
            "I0228 12:38:28.802425 140220390033280 yolo_model.py:59] time: 0.26181912422180176\n"
          ],
          "name": "stderr"
        },
        {
          "output_type": "stream",
          "text": [
            "\tperson, 0.9996602535247803, [0.20099667 0.         0.6025193  0.97696626]\n",
            "\tcell phone, 0.9357508420944214, [0.40020216 0.15247254 0.46575254 0.22328247]\n",
            "\tpottedplant, 0.8289557695388794, [0.         0.         0.3787911  0.75441456]\n",
            "\tsofa, 0.5589807629585266, [0.5623695 0.3229277 0.7969069 0.5036751]\n",
            "Iter: 0. Controllo persona: \n",
            "Iter: 0. Persona trovata: \n",
            "Score: 0.99966025\n",
            "Iter: 0. Controllo borsa: \n",
            "Iter: 0. Controllo orologio: \n",
            "Iter: 1. Controllo persona: \n",
            "Iter: 1. Controllo borsa: \n",
            "Iter: 1. Controllo orologio: \n",
            "Iter: 2. Controllo persona: \n",
            "Iter: 2. Controllo borsa: \n",
            "Iter: 2. Controllo orologio: \n",
            "Iter: 3. Controllo persona: \n",
            "Iter: 3. Controllo borsa: \n",
            "Iter: 3. Controllo orologio: \n",
            "Immagine 61\n",
            "\t File: /content/drive/My Drive/universita/progetto ml/non_pub/2017-10-27_19-21-53_UTC.json\n"
          ],
          "name": "stdout"
        },
        {
          "output_type": "stream",
          "text": [
            "I0228 12:38:31.363144 140220390033280 yolo_model.py:59] time: 0.21882987022399902\n"
          ],
          "name": "stderr"
        },
        {
          "output_type": "stream",
          "text": [
            "\tperson, 0.9993882179260254, [0.2627961  0.15297991 0.9078297  0.89677674]\n",
            "Iter: 0. Controllo persona: \n",
            "Iter: 0. Persona trovata: \n",
            "Score: 0.9993882\n",
            "Iter: 0. Controllo borsa: \n",
            "Iter: 0. Controllo orologio: \n",
            "Immagine 62\n",
            "\t File: /content/drive/My Drive/universita/progetto ml/non_pub/2019-01-27_11-17-55_UTC.json\n"
          ],
          "name": "stdout"
        },
        {
          "output_type": "stream",
          "text": [
            "I0228 12:38:35.683387 140220390033280 yolo_model.py:59] time: 0.22592401504516602\n"
          ],
          "name": "stderr"
        },
        {
          "output_type": "stream",
          "text": [
            "\tperson, 0.9984533786773682, [0.28980744 0.00905272 0.719424   1.        ]\n",
            "Iter: 0. Controllo persona: \n",
            "Iter: 0. Persona trovata: \n",
            "Score: 0.9984534\n",
            "Iter: 0. Controllo borsa: \n",
            "Iter: 0. Controllo orologio: \n",
            "Immagine 63\n",
            "\t File: /content/drive/My Drive/universita/progetto ml/non_pub/2019-01-27_11-17-55_UTC.json\n"
          ],
          "name": "stdout"
        },
        {
          "output_type": "stream",
          "text": [
            "I0228 12:38:38.761155 140220390033280 yolo_model.py:59] time: 0.25505924224853516\n"
          ],
          "name": "stderr"
        },
        {
          "output_type": "stream",
          "text": [
            "\tperson, 0.9998483657836914, [0.25468463 0.00186747 0.71161187 1.        ]\n",
            "Iter: 0. Controllo persona: \n",
            "Iter: 0. Persona trovata: \n",
            "Score: 0.99984837\n",
            "Iter: 0. Controllo borsa: \n",
            "Iter: 0. Controllo orologio: \n",
            "Immagine 64\n",
            "\t File: /content/drive/My Drive/universita/progetto ml/non_pub/2019-01-27_15-08-12_UTC.json\n"
          ],
          "name": "stdout"
        },
        {
          "output_type": "stream",
          "text": [
            "I0228 12:38:41.074817 140220390033280 yolo_model.py:59] time: 0.25155019760131836\n"
          ],
          "name": "stderr"
        },
        {
          "output_type": "stream",
          "text": [
            "\tperson, 0.979082465171814, [0.15243384 0.030431   0.9669187  0.96768665]\n",
            "\trefrigerator, 0.5408420562744141, [0.02492842 0.04751959 0.87236273 0.9578115 ]\n",
            "Iter: 0. Controllo persona: \n",
            "Iter: 0. Persona trovata: \n",
            "Score: 0.97908247\n",
            "Iter: 0. Controllo borsa: \n",
            "Iter: 0. Controllo orologio: \n",
            "Iter: 1. Controllo persona: \n",
            "Iter: 1. Controllo borsa: \n",
            "Iter: 1. Controllo orologio: \n",
            "Immagine 65\n",
            "\t File: /content/drive/My Drive/universita/progetto ml/non_pub/2019-01-28_12-17-10_UTC.json\n"
          ],
          "name": "stdout"
        },
        {
          "output_type": "stream",
          "text": [
            "I0228 12:38:45.067679 140220390033280 yolo_model.py:59] time: 0.2315981388092041\n"
          ],
          "name": "stderr"
        },
        {
          "output_type": "stream",
          "text": [
            "\tperson, 0.9995630383491516, [0.4355717 0.        1.        0.9981402]\n",
            "\tperson, 0.9994483590126038, [0.         0.16095889 0.6934948  0.98468137]\n",
            "\tchair, 0.8840206265449524, [0.03375833 0.3670279  0.1697315  0.50861526]\n",
            "\tperson, 0.563839316368103, [0.8238905  0.07957889 0.9900679  0.41591042]\n",
            "Iter: 0. Controllo persona: \n",
            "Iter: 0. Persona trovata: \n",
            "Score: 0.99956304\n",
            "Iter: 0. Controllo borsa: \n",
            "Iter: 0. Controllo orologio: \n",
            "Iter: 1. Controllo persona: \n",
            "Iter: 1. Controllo borsa: \n",
            "Iter: 1. Controllo orologio: \n",
            "Iter: 2. Controllo persona: \n",
            "Iter: 2. Controllo borsa: \n",
            "Iter: 2. Controllo orologio: \n",
            "Iter: 3. Controllo persona: \n",
            "Iter: 3. Controllo borsa: \n",
            "Iter: 3. Controllo orologio: \n",
            "Immagine 66\n",
            "\t File: /content/drive/My Drive/universita/progetto ml/non_pub/2019-01-27_16-48-48_UTC.json\n"
          ],
          "name": "stdout"
        },
        {
          "output_type": "stream",
          "text": [
            "I0228 12:38:47.150241 140220390033280 yolo_model.py:59] time: 0.2210996150970459\n"
          ],
          "name": "stderr"
        },
        {
          "output_type": "stream",
          "text": [
            "\tperson, 0.9995391964912415, [0.05516717 0.07079312 0.93872356 0.95044386]\n",
            "Iter: 0. Controllo persona: \n",
            "Iter: 0. Persona trovata: \n",
            "Score: 0.9995392\n",
            "Iter: 0. Controllo borsa: \n",
            "Iter: 0. Controllo orologio: \n",
            "Immagine 67\n",
            "\t File: /content/drive/My Drive/universita/progetto ml/non_pub/2019-01-29_08-24-19_UTC.json\n"
          ],
          "name": "stdout"
        },
        {
          "output_type": "stream",
          "text": [
            "I0228 12:38:49.260875 140220390033280 yolo_model.py:59] time: 0.22103071212768555\n"
          ],
          "name": "stderr"
        },
        {
          "output_type": "stream",
          "text": [
            "\tperson, 0.9997538924217224, [0.05721048 0.04556453 0.93393755 0.94713837]\n",
            "Iter: 0. Controllo persona: \n",
            "Iter: 0. Persona trovata: \n",
            "Score: 0.9997539\n",
            "Iter: 0. Controllo borsa: \n",
            "Iter: 0. Controllo orologio: \n",
            "Immagine 68\n",
            "\t File: /content/drive/My Drive/universita/progetto ml/non_pub/2019-01-29_12-32-37_UTC.json\n"
          ],
          "name": "stdout"
        },
        {
          "output_type": "stream",
          "text": [
            "I0228 12:38:53.817042 140220390033280 yolo_model.py:59] time: 0.2542567253112793\n"
          ],
          "name": "stderr"
        },
        {
          "output_type": "stream",
          "text": [
            "\tperson, 0.9989868998527527, [0.09036472 0.07902801 0.8971802  0.95828736]\n",
            "Iter: 0. Controllo persona: \n",
            "Iter: 0. Persona trovata: \n",
            "Score: 0.9989869\n",
            "Iter: 0. Controllo borsa: \n",
            "Iter: 0. Controllo orologio: \n",
            "Immagine 69\n",
            "\t File: /content/drive/My Drive/universita/progetto ml/non_pub/2019-01-29_18-52-52_UTC.json\n"
          ],
          "name": "stdout"
        },
        {
          "output_type": "stream",
          "text": [
            "I0228 12:38:58.212797 140220390033280 yolo_model.py:59] time: 0.2522270679473877\n"
          ],
          "name": "stderr"
        },
        {
          "output_type": "stream",
          "text": [
            "\tperson, 0.9667937755584717, [0.30182263 0.07102138 0.9817126  0.9543608 ]\n",
            "\tperson, 0.9627383947372437, [0.06989944 0.44628477 0.79021347 0.9874692 ]\n",
            "\tsofa, 0.711280345916748, [0.02496755 0.05532709 0.98802435 0.82268405]\n",
            "Iter: 0. Controllo persona: \n",
            "Iter: 0. Persona trovata: \n",
            "Score: 0.9667938\n",
            "Iter: 0. Controllo borsa: \n",
            "Iter: 0. Controllo orologio: \n",
            "Iter: 1. Controllo persona: \n",
            "Iter: 1. Controllo borsa: \n",
            "Iter: 1. Controllo orologio: \n",
            "Iter: 2. Controllo persona: \n",
            "Iter: 2. Controllo borsa: \n",
            "Iter: 2. Controllo orologio: \n",
            "Immagine 70\n",
            "\t File: /content/drive/My Drive/universita/progetto ml/non_pub/2019-01-30_21-18-40_UTC.json\n"
          ],
          "name": "stdout"
        },
        {
          "output_type": "stream",
          "text": [
            "I0228 12:39:00.621368 140220390033280 yolo_model.py:59] time: 0.22869443893432617\n"
          ],
          "name": "stderr"
        },
        {
          "output_type": "stream",
          "text": [
            "\tperson, 0.9916244149208069, [0.4256983 0.2894651 1.        1.       ]\n",
            "\tperson, 0.9665287733078003, [0.03203917 0.01957226 0.6092858  0.9982947 ]\n",
            "\tperson, 0.9351714253425598, [0.69172925 0.00239538 0.94068104 0.22904462]\n",
            "Iter: 0. Controllo persona: \n",
            "Iter: 0. Persona trovata: \n",
            "Score: 0.9916244\n",
            "Iter: 0. Controllo borsa: \n",
            "Iter: 0. Controllo orologio: \n",
            "Iter: 1. Controllo persona: \n",
            "Iter: 1. Controllo borsa: \n",
            "Iter: 1. Controllo orologio: \n",
            "Iter: 2. Controllo persona: \n",
            "Iter: 2. Controllo borsa: \n",
            "Iter: 2. Controllo orologio: \n",
            "Immagine 71\n",
            "\t File: /content/drive/My Drive/universita/progetto ml/non_pub/2019-01-29_15-03-12_UTC.json\n"
          ],
          "name": "stdout"
        },
        {
          "output_type": "stream",
          "text": [
            "I0228 12:39:02.671877 140220390033280 yolo_model.py:59] time: 0.2500598430633545\n"
          ],
          "name": "stderr"
        },
        {
          "output_type": "stream",
          "text": [
            "\tperson, 0.9954209327697754, [0.13744509 0.         0.57242996 0.84895337]\n",
            "\tsofa, 0.8222325444221497, [0.13094994 0.17560285 0.97518885 0.81448597]\n",
            "\tchair, 0.5234894156455994, [0.00218061 0.16958687 0.16898748 0.41242567]\n",
            "Iter: 0. Controllo persona: \n",
            "Iter: 0. Persona trovata: \n",
            "Score: 0.99542093\n",
            "Iter: 0. Controllo borsa: \n",
            "Iter: 0. Controllo orologio: \n",
            "Iter: 1. Controllo persona: \n",
            "Iter: 1. Controllo borsa: \n",
            "Iter: 1. Controllo orologio: \n",
            "Iter: 2. Controllo persona: \n",
            "Iter: 2. Controllo borsa: \n",
            "Iter: 2. Controllo orologio: \n",
            "Immagine 72\n",
            "\t File: /content/drive/My Drive/universita/progetto ml/non_pub/2019-01-31_13-11-44_UTC.json\n"
          ],
          "name": "stdout"
        },
        {
          "output_type": "stream",
          "text": [
            "I0228 12:39:05.896650 140220390033280 yolo_model.py:59] time: 0.22719979286193848\n"
          ],
          "name": "stderr"
        },
        {
          "output_type": "stream",
          "text": [
            "\tperson, 0.9922143816947937, [0.14007398 0.08461902 0.8918452  0.8836391 ]\n",
            "\tdog, 0.8271192908287048, [0.43401697 0.37762848 0.8391143  0.78899896]\n",
            "\tchair, 0.5530250072479248, [0.00367193 0.5028848  0.24599127 0.9908628 ]\n",
            "Iter: 0. Controllo persona: \n",
            "Iter: 0. Persona trovata: \n",
            "Score: 0.9922144\n",
            "Iter: 0. Controllo borsa: \n",
            "Iter: 0. Controllo orologio: \n",
            "Iter: 1. Controllo persona: \n",
            "Iter: 1. Controllo borsa: \n",
            "Iter: 1. Controllo orologio: \n",
            "Iter: 2. Controllo persona: \n",
            "Iter: 2. Controllo borsa: \n",
            "Iter: 2. Controllo orologio: \n",
            "Immagine 73\n",
            "\t File: /content/drive/My Drive/universita/progetto ml/non_pub/2019-01-30_18-29-26_UTC.json\n"
          ],
          "name": "stdout"
        },
        {
          "output_type": "stream",
          "text": [
            "I0228 12:39:10.200108 140220390033280 yolo_model.py:59] time: 0.24113130569458008\n"
          ],
          "name": "stderr"
        },
        {
          "output_type": "stream",
          "text": [
            "\tperson, 0.9998453855514526, [0.37769794 0.16807106 0.73407173 1.        ]\n",
            "\tperson, 0.998481273651123, [0.01006727 0.46638632 0.11593877 0.70277905]\n",
            "\tperson, 0.994011640548706, [0.8047934  0.43898678 0.94234616 0.65554285]\n",
            "\tperson, 0.9848777055740356, [0.33498663 0.4122787  0.45205557 0.70898   ]\n",
            "\ttraffic light, 0.9151830077171326, [0.2549072  0.13343358 0.2957183  0.20810312]\n",
            "\ttraffic light, 0.7753807306289673, [0.         0.22269005 0.02322804 0.29505688]\n",
            "Iter: 0. Controllo persona: \n",
            "Iter: 0. Persona trovata: \n",
            "Score: 0.9998454\n",
            "Iter: 0. Controllo borsa: \n",
            "Iter: 0. Controllo orologio: \n",
            "Iter: 1. Controllo persona: \n",
            "Iter: 1. Controllo borsa: \n",
            "Iter: 1. Controllo orologio: \n",
            "Iter: 2. Controllo persona: \n",
            "Iter: 2. Controllo borsa: \n",
            "Iter: 2. Controllo orologio: \n",
            "Iter: 3. Controllo persona: \n",
            "Iter: 3. Controllo borsa: \n",
            "Iter: 3. Controllo orologio: \n",
            "Iter: 4. Controllo persona: \n",
            "Iter: 4. Controllo borsa: \n",
            "Iter: 4. Controllo orologio: \n",
            "Iter: 5. Controllo persona: \n",
            "Iter: 5. Controllo borsa: \n",
            "Iter: 5. Controllo orologio: \n",
            "Immagine 74\n",
            "\t File: /content/drive/My Drive/universita/progetto ml/non_pub/2019-01-30_17-05-13_UTC.json\n"
          ],
          "name": "stdout"
        },
        {
          "output_type": "stream",
          "text": [
            "I0228 12:39:12.520193 140220390033280 yolo_model.py:59] time: 0.2501232624053955\n"
          ],
          "name": "stderr"
        },
        {
          "output_type": "stream",
          "text": [
            "\tperson, 0.9997705221176147, [0.15035908 0.21756929 0.4194733  0.950967  ]\n",
            "\tperson, 0.9997500777244568, [0.61596304 0.01387984 0.9938261  0.9530642 ]\n",
            "\tperson, 0.9995237588882446, [0.38562894 0.19564039 0.7115065  0.9361188 ]\n",
            "Iter: 0. Controllo persona: \n",
            "Iter: 0. Persona trovata: \n",
            "Score: 0.9997705\n",
            "Iter: 0. Controllo borsa: \n",
            "Iter: 0. Controllo orologio: \n",
            "Iter: 1. Controllo persona: \n",
            "Iter: 1. Controllo borsa: \n",
            "Iter: 1. Controllo orologio: \n",
            "Iter: 2. Controllo persona: \n",
            "Iter: 2. Controllo borsa: \n",
            "Iter: 2. Controllo orologio: \n",
            "Immagine 75\n",
            "\t File: /content/drive/My Drive/universita/progetto ml/non_pub/2019-01-31_17-57-24_UTC.json\n"
          ],
          "name": "stdout"
        },
        {
          "output_type": "stream",
          "text": [
            "I0228 12:39:15.271541 140220390033280 yolo_model.py:59] time: 0.25429320335388184\n"
          ],
          "name": "stderr"
        },
        {
          "output_type": "stream",
          "text": [
            "\tperson, 0.9999440908432007, [0.5395454  0.2771045  0.8914423  0.76818836]\n",
            "\tperson, 0.9706507921218872, [0.         0.10772911 0.591558   0.8825866 ]\n",
            "\tpottedplant, 0.5696317553520203, [0.6837203  0.10440768 0.83957523 0.32326692]\n",
            "Iter: 0. Controllo persona: \n",
            "Iter: 0. Persona trovata: \n",
            "Score: 0.9999441\n",
            "Iter: 0. Controllo borsa: \n",
            "Iter: 0. Controllo orologio: \n",
            "Iter: 1. Controllo persona: \n",
            "Iter: 1. Controllo borsa: \n",
            "Iter: 1. Controllo orologio: \n",
            "Iter: 2. Controllo persona: \n",
            "Iter: 2. Controllo borsa: \n",
            "Iter: 2. Controllo orologio: \n",
            "Immagine 76\n",
            "\t File: /content/drive/My Drive/universita/progetto ml/non_pub/2019-02-01_15-50-43_UTC.json\n"
          ],
          "name": "stdout"
        },
        {
          "output_type": "stream",
          "text": [
            "I0228 12:39:17.224989 140220390033280 yolo_model.py:59] time: 0.2422478199005127\n"
          ],
          "name": "stderr"
        },
        {
          "output_type": "stream",
          "text": [
            "\tperson, 0.9986489415168762, [0.15657605 0.06948334 0.53076303 0.9038676 ]\n",
            "\tperson, 0.9948078989982605, [0.46161848 0.06996149 0.798991   0.9410954 ]\n",
            "\tcar, 0.9572389721870422, [0.8658667  0.21166216 0.9966598  0.33244947]\n",
            "\tperson, 0.8739360570907593, [0.1029593  0.16947    0.1885696  0.22174145]\n",
            "\tcar, 0.7947428226470947, [0.74275523 0.20309372 0.86222273 0.29323635]\n",
            "Iter: 0. Controllo persona: \n",
            "Iter: 0. Persona trovata: \n",
            "Score: 0.99864894\n",
            "Iter: 0. Controllo borsa: \n",
            "Iter: 0. Controllo orologio: \n",
            "Iter: 1. Controllo persona: \n",
            "Iter: 1. Controllo borsa: \n",
            "Iter: 1. Controllo orologio: \n",
            "Iter: 2. Controllo persona: \n",
            "Iter: 2. Controllo borsa: \n",
            "Iter: 2. Controllo orologio: \n",
            "Iter: 3. Controllo persona: \n",
            "Iter: 3. Controllo borsa: \n",
            "Iter: 3. Controllo orologio: \n",
            "Iter: 4. Controllo persona: \n",
            "Iter: 4. Controllo borsa: \n",
            "Iter: 4. Controllo orologio: \n",
            "Immagine 77\n",
            "\t File: /content/drive/My Drive/universita/progetto ml/non_pub/2019-02-01_14-26-15_UTC.json\n"
          ],
          "name": "stdout"
        },
        {
          "output_type": "stream",
          "text": [
            "I0228 12:39:21.021138 140220390033280 yolo_model.py:59] time: 0.22928547859191895\n"
          ],
          "name": "stderr"
        },
        {
          "output_type": "stream",
          "text": [
            "\tperson, 0.9885765314102173, [0.34514746 0.03870443 0.94550896 0.9641181 ]\n",
            "\tperson, 0.9770663380622864, [0.1090762  0.18935525 0.56051373 0.9540708 ]\n",
            "\tbowl, 0.8682922720909119, [0.8922055  0.59991574 1.         0.7734808 ]\n",
            "\tteddy bear, 0.530757486820221, [0.45359236 0.4230222  0.6474499  0.70298356]\n",
            "Iter: 0. Controllo persona: \n",
            "Iter: 0. Persona trovata: \n",
            "Score: 0.98857653\n",
            "Iter: 0. Controllo borsa: \n",
            "Iter: 0. Controllo orologio: \n",
            "Iter: 1. Controllo persona: \n",
            "Iter: 1. Controllo borsa: \n",
            "Iter: 1. Controllo orologio: \n",
            "Iter: 2. Controllo persona: \n",
            "Iter: 2. Controllo borsa: \n",
            "Iter: 2. Controllo orologio: \n",
            "Iter: 3. Controllo persona: \n",
            "Iter: 3. Controllo borsa: \n",
            "Iter: 3. Controllo orologio: \n",
            "Immagine 78\n",
            "\t File: /content/drive/My Drive/universita/progetto ml/non_pub/2019-01-31_20-39-22_UTC.json\n"
          ],
          "name": "stdout"
        },
        {
          "output_type": "stream",
          "text": [
            "I0228 12:39:27.696792 140220390033280 yolo_model.py:59] time: 0.259796142578125\n"
          ],
          "name": "stderr"
        },
        {
          "output_type": "stream",
          "text": [
            "\tperson, 0.9996767640113831, [0.11909828 0.         0.8378022  1.        ]\n",
            "\tbed, 0.514415442943573, [0.07411382 0.28422284 0.8148936  1.        ]\n",
            "Iter: 0. Controllo persona: \n",
            "Iter: 0. Persona trovata: \n",
            "Score: 0.99967676\n",
            "Iter: 0. Controllo borsa: \n",
            "Iter: 0. Controllo orologio: \n",
            "Iter: 1. Controllo persona: \n",
            "Iter: 1. Controllo borsa: \n",
            "Iter: 1. Controllo orologio: \n",
            "Immagine 79\n",
            "\t File: /content/drive/My Drive/universita/progetto ml/non_pub/2019-02-01_19-14-25_UTC.json\n"
          ],
          "name": "stdout"
        },
        {
          "output_type": "stream",
          "text": [
            "I0228 12:39:34.854318 140220390033280 yolo_model.py:59] time: 0.24651765823364258\n"
          ],
          "name": "stderr"
        },
        {
          "output_type": "stream",
          "text": [
            "\tperson, 0.9992900490760803, [0.27366862 0.11717489 0.6945598  0.92828286]\n",
            "\twine glass, 0.7183586955070496, [0.2601873  0.33616078 0.29838577 0.4200492 ]\n",
            "\twine glass, 0.6022208333015442, [0.22257507 0.3354393  0.262497   0.4199508 ]\n",
            "Iter: 0. Controllo persona: \n",
            "Iter: 0. Persona trovata: \n",
            "Score: 0.99929005\n",
            "Iter: 0. Controllo borsa: \n",
            "Iter: 0. Controllo orologio: \n",
            "Iter: 1. Controllo persona: \n",
            "Iter: 1. Controllo borsa: \n",
            "Iter: 1. Controllo orologio: \n",
            "Iter: 2. Controllo persona: \n",
            "Iter: 2. Controllo borsa: \n",
            "Iter: 2. Controllo orologio: \n",
            "Immagine 80\n",
            "\t File: /content/drive/My Drive/universita/progetto ml/non_pub/2019-02-02_17-07-02_UTC.json\n"
          ],
          "name": "stdout"
        },
        {
          "output_type": "stream",
          "text": [
            "I0228 12:39:38.619347 140220390033280 yolo_model.py:59] time: 0.22777104377746582\n"
          ],
          "name": "stderr"
        },
        {
          "output_type": "stream",
          "text": [
            "\tperson, 0.9999244213104248, [0.03809112 0.03878745 0.9780846  0.95181835]\n",
            "Iter: 0. Controllo persona: \n",
            "Iter: 0. Persona trovata: \n",
            "Score: 0.9999244\n",
            "Iter: 0. Controllo borsa: \n",
            "Iter: 0. Controllo orologio: \n",
            "Immagine 81\n",
            "\t File: /content/drive/My Drive/universita/progetto ml/non_pub/2019-02-01_21-06-34_UTC.json\n"
          ],
          "name": "stdout"
        },
        {
          "output_type": "stream",
          "text": [
            "I0228 12:39:42.054396 140220390033280 yolo_model.py:59] time: 0.23125076293945312\n"
          ],
          "name": "stderr"
        },
        {
          "output_type": "stream",
          "text": [
            "\tperson, 0.9981625080108643, [9.870529e-04 5.475861e-02 6.644339e-01 1.000000e+00]\n",
            "\tperson, 0.9901568293571472, [0.28917843 0.03522259 0.8752654  1.        ]\n",
            "Iter: 0. Controllo persona: \n",
            "Iter: 0. Persona trovata: \n",
            "Score: 0.9981625\n",
            "Iter: 0. Controllo borsa: \n",
            "Iter: 0. Controllo orologio: \n",
            "Iter: 1. Controllo persona: \n",
            "Iter: 1. Controllo borsa: \n",
            "Iter: 1. Controllo orologio: \n",
            "Immagine 82\n",
            "\t File: /content/drive/My Drive/universita/progetto ml/non_pub/2019-02-02_14-47-31_UTC.json\n"
          ],
          "name": "stdout"
        },
        {
          "output_type": "stream",
          "text": [
            "I0228 12:39:44.589175 140220390033280 yolo_model.py:59] time: 0.25547361373901367\n"
          ],
          "name": "stderr"
        },
        {
          "output_type": "stream",
          "text": [
            "\tperson, 0.9874963164329529, [0.48844507 0.24305026 0.6312259  0.64520735]\n",
            "\tperson, 0.9661057591438293, [0.39354393 0.22793435 0.5439228  0.66029173]\n",
            "Iter: 0. Controllo persona: \n",
            "Iter: 0. Persona trovata: \n",
            "Score: 0.9874963\n",
            "Iter: 0. Controllo borsa: \n",
            "Iter: 0. Controllo orologio: \n",
            "Iter: 1. Controllo persona: \n",
            "Iter: 1. Controllo borsa: \n",
            "Iter: 1. Controllo orologio: \n",
            "Immagine 83\n",
            "\t File: /content/drive/My Drive/universita/progetto ml/non_pub/2019-02-03_12-06-08_UTC.json\n"
          ],
          "name": "stdout"
        },
        {
          "output_type": "stream",
          "text": [
            "I0228 12:39:50.209088 140220390033280 yolo_model.py:59] time: 0.22745037078857422\n"
          ],
          "name": "stderr"
        },
        {
          "output_type": "stream",
          "text": [
            "\tperson, 0.9904812574386597, [0.         0.         0.6543199  0.98317516]\n",
            "\tperson, 0.9704917073249817, [0.43871266 0.05190194 1.         0.94568306]\n",
            "Iter: 0. Controllo persona: \n",
            "Iter: 0. Persona trovata: \n",
            "Score: 0.99048126\n",
            "Iter: 0. Controllo borsa: \n",
            "Iter: 0. Controllo orologio: \n",
            "Iter: 1. Controllo persona: \n",
            "Iter: 1. Controllo borsa: \n",
            "Iter: 1. Controllo orologio: \n",
            "Immagine 84\n",
            "\t File: /content/drive/My Drive/universita/progetto ml/non_pub/2019-02-04_16-18-37_UTC.json\n"
          ],
          "name": "stdout"
        },
        {
          "output_type": "stream",
          "text": [
            "I0228 12:39:52.263257 140220390033280 yolo_model.py:59] time: 0.2736623287200928\n"
          ],
          "name": "stderr"
        },
        {
          "output_type": "stream",
          "text": [
            "\tperson, 0.9646247029304504, [0.04711667 0.06807479 0.84181654 0.9670688 ]\n",
            "\tsofa, 0.8978198766708374, [0.08196235 0.25886008 0.92016363 1.        ]\n",
            "Iter: 0. Controllo persona: \n",
            "Iter: 0. Persona trovata: \n",
            "Score: 0.9646247\n",
            "Iter: 0. Controllo borsa: \n",
            "Iter: 0. Controllo orologio: \n",
            "Iter: 1. Controllo persona: \n",
            "Iter: 1. Controllo borsa: \n",
            "Iter: 1. Controllo orologio: \n",
            "Immagine 85\n",
            "\t File: /content/drive/My Drive/universita/progetto ml/non_pub/2019-02-03_15-45-32_UTC.json\n"
          ],
          "name": "stdout"
        },
        {
          "output_type": "stream",
          "text": [
            "I0228 12:39:55.472057 140220390033280 yolo_model.py:59] time: 0.26650214195251465\n"
          ],
          "name": "stderr"
        },
        {
          "output_type": "stream",
          "text": [
            "\tperson, 0.999704122543335, [0.26044202 0.33379942 0.64597577 0.78429   ]\n",
            "\tperson, 0.9986163973808289, [0.4965163  0.28500798 0.81082445 0.7143768 ]\n",
            "\twine glass, 0.9970173239707947, [0.22391117 0.7661346  0.35437608 0.98504174]\n",
            "\tperson, 0.996338963508606, [0.7700068  0.31257856 1.         0.73555887]\n",
            "\tperson, 0.9962834715843201, [0.        0.2978819 0.33149   0.8336968]\n",
            "\twine glass, 0.9871701002120972, [0.29860196 0.79435676 0.4332957  1.        ]\n",
            "\tperson, 0.9854275584220886, [0.18231767 0.27330437 0.3387289  0.48126188]\n",
            "\twine glass, 0.9848779439926147, [0.5914745  0.6565134  0.68381244 0.85244375]\n",
            "\tbottle, 0.9444677233695984, [0.518594   0.7086041  0.59076643 0.8825989 ]\n",
            "\tperson, 0.8930251598358154, [0.55203944 0.21082354 0.6173305  0.31558108]\n",
            "\tperson, 0.8708590269088745, [0.45677003 0.20998347 0.53463787 0.37461996]\n",
            "\tdiningtable, 0.8201603889465332, [0.03670394 0.70327836 0.99003434 1.        ]\n",
            "\tperson, 0.8004322648048401, [0.09188266 0.2544443  0.15488714 0.31160247]\n",
            "\twine glass, 0.8003791570663452, [0.6970406  0.80690813 0.84766966 0.99296737]\n",
            "\tperson, 0.6555241942405701, [0.69144535 0.2524984  0.7549994  0.30525428]\n",
            "\twine glass, 0.6391922831535339, [0.0812468  0.8792723  0.26404095 0.9991916 ]\n",
            "\tbowl, 0.6316130757331848, [0.12435924 0.81868833 0.20851685 0.87904924]\n",
            "\tperson, 0.6151230931282043, [0.49504936 0.2806635  0.6759268  0.43116653]\n",
            "\tperson, 0.5802000761032104, [0.39023882 0.22329527 0.4287204  0.30579668]\n",
            "Iter: 0. Controllo persona: \n",
            "Iter: 0. Persona trovata: \n",
            "Score: 0.9997041\n",
            "Iter: 0. Controllo borsa: \n",
            "Iter: 0. Controllo orologio: \n",
            "Iter: 1. Controllo persona: \n",
            "Iter: 1. Controllo borsa: \n",
            "Iter: 1. Controllo orologio: \n",
            "Iter: 2. Controllo persona: \n",
            "Iter: 2. Controllo borsa: \n",
            "Iter: 2. Controllo orologio: \n",
            "Iter: 3. Controllo persona: \n",
            "Iter: 3. Controllo borsa: \n",
            "Iter: 3. Controllo orologio: \n",
            "Iter: 4. Controllo persona: \n",
            "Iter: 4. Controllo borsa: \n",
            "Iter: 4. Controllo orologio: \n",
            "Iter: 5. Controllo persona: \n",
            "Iter: 5. Controllo borsa: \n",
            "Iter: 5. Controllo orologio: \n",
            "Iter: 6. Controllo persona: \n",
            "Iter: 6. Controllo borsa: \n",
            "Iter: 6. Controllo orologio: \n",
            "Iter: 7. Controllo persona: \n",
            "Iter: 7. Controllo borsa: \n",
            "Iter: 7. Controllo orologio: \n",
            "Iter: 8. Controllo persona: \n",
            "Iter: 8. Controllo borsa: \n",
            "Iter: 8. Controllo orologio: \n",
            "Iter: 9. Controllo persona: \n",
            "Iter: 9. Controllo borsa: \n",
            "Iter: 9. Controllo orologio: \n",
            "Iter: 10. Controllo persona: \n",
            "Iter: 10. Controllo borsa: \n",
            "Iter: 10. Controllo orologio: \n",
            "Iter: 11. Controllo persona: \n",
            "Iter: 11. Controllo borsa: \n",
            "Iter: 11. Controllo orologio: \n",
            "Iter: 12. Controllo persona: \n",
            "Iter: 12. Controllo borsa: \n",
            "Iter: 12. Controllo orologio: \n",
            "Iter: 13. Controllo persona: \n",
            "Iter: 13. Controllo borsa: \n",
            "Iter: 13. Controllo orologio: \n",
            "Iter: 14. Controllo persona: \n",
            "Iter: 14. Controllo borsa: \n",
            "Iter: 14. Controllo orologio: \n",
            "Iter: 15. Controllo persona: \n",
            "Iter: 15. Controllo borsa: \n",
            "Iter: 15. Controllo orologio: \n",
            "Iter: 16. Controllo persona: \n",
            "Iter: 16. Controllo borsa: \n",
            "Iter: 16. Controllo orologio: \n",
            "Iter: 17. Controllo persona: \n",
            "Iter: 17. Controllo borsa: \n",
            "Iter: 17. Controllo orologio: \n",
            "Iter: 18. Controllo persona: \n",
            "Iter: 18. Controllo borsa: \n",
            "Iter: 18. Controllo orologio: \n",
            "Immagine 86\n",
            "\t File: /content/drive/My Drive/universita/progetto ml/non_pub/2019-02-04_16-18-37_UTC.json\n"
          ],
          "name": "stdout"
        },
        {
          "output_type": "stream",
          "text": [
            "I0228 12:39:57.259798 140220390033280 yolo_model.py:59] time: 0.27069616317749023\n"
          ],
          "name": "stderr"
        },
        {
          "output_type": "stream",
          "text": [
            "\tperson, 0.9758913516998291, [0.14856339 0.07664067 0.9711683  0.93670934]\n",
            "\tsofa, 0.8427538871765137, [0.03749731 0.29504648 0.96245146 0.9988117 ]\n",
            "Iter: 0. Controllo persona: \n",
            "Iter: 0. Persona trovata: \n",
            "Score: 0.97589135\n",
            "Iter: 0. Controllo borsa: \n",
            "Iter: 0. Controllo orologio: \n",
            "Iter: 1. Controllo persona: \n",
            "Iter: 1. Controllo borsa: \n",
            "Iter: 1. Controllo orologio: \n",
            "Immagine 87\n",
            "\t File: /content/drive/My Drive/universita/progetto ml/non_pub/2019-02-04_20-44-40_UTC.json\n"
          ],
          "name": "stdout"
        },
        {
          "output_type": "stream",
          "text": [
            "I0228 12:40:01.540392 140220390033280 yolo_model.py:59] time: 0.26181793212890625\n"
          ],
          "name": "stderr"
        },
        {
          "output_type": "stream",
          "text": [
            "\tperson, 0.9973217844963074, [0.2121185  0.17375606 0.9200641  0.9915742 ]\n",
            "\tperson, 0.9868888258934021, [0.56193864 0.15124169 0.947973   0.70708394]\n",
            "Iter: 0. Controllo persona: \n",
            "Iter: 0. Persona trovata: \n",
            "Score: 0.9973218\n",
            "Iter: 0. Controllo borsa: \n",
            "Iter: 0. Controllo orologio: \n",
            "Iter: 1. Controllo persona: \n",
            "Iter: 1. Controllo borsa: \n",
            "Iter: 1. Controllo orologio: \n",
            "Immagine 88\n",
            "\t File: /content/drive/My Drive/universita/progetto ml/non_pub/2019-02-05_12-54-26_UTC.json\n"
          ],
          "name": "stdout"
        },
        {
          "output_type": "stream",
          "text": [
            "I0228 12:40:09.158628 140220390033280 yolo_model.py:59] time: 0.2295083999633789\n"
          ],
          "name": "stderr"
        },
        {
          "output_type": "stream",
          "text": [
            "\tperson, 0.9981632232666016, [0.00491674 0.0222511  0.4798782  0.9597461 ]\n",
            "\tperson, 0.9809319376945496, [0.48546344 0.04084259 0.99496335 0.96146995]\n",
            "Iter: 0. Controllo persona: \n",
            "Iter: 0. Persona trovata: \n",
            "Score: 0.9981632\n",
            "Iter: 0. Controllo borsa: \n",
            "Iter: 0. Controllo orologio: \n",
            "Iter: 1. Controllo persona: \n",
            "Iter: 1. Controllo borsa: \n",
            "Iter: 1. Controllo orologio: \n",
            "Immagine 89\n",
            "\t File: /content/drive/My Drive/universita/progetto ml/non_pub/2019-02-06_11-05-25_UTC.json\n"
          ],
          "name": "stdout"
        },
        {
          "output_type": "stream",
          "text": [
            "I0228 12:40:14.695361 140220390033280 yolo_model.py:59] time: 0.22420549392700195\n"
          ],
          "name": "stderr"
        },
        {
          "output_type": "stream",
          "text": [
            "\tperson, 0.9958806037902832, [0.18353432 0.         0.97480434 0.9956431 ]\n",
            "\tperson, 0.9849258065223694, [0.02088499 0.02150586 0.5509791  1.        ]\n",
            "Iter: 0. Controllo persona: \n",
            "Iter: 0. Persona trovata: \n",
            "Score: 0.9958806\n",
            "Iter: 0. Controllo borsa: \n",
            "Iter: 0. Controllo orologio: \n",
            "Iter: 1. Controllo persona: \n",
            "Iter: 1. Controllo borsa: \n",
            "Iter: 1. Controllo orologio: \n",
            "Immagine 90\n",
            "\t File: /content/drive/My Drive/universita/progetto ml/non_pub/2019-02-06_13-33-58_UTC.json\n"
          ],
          "name": "stdout"
        },
        {
          "output_type": "stream",
          "text": [
            "I0228 12:40:18.751132 140220390033280 yolo_model.py:59] time: 0.22480559349060059\n"
          ],
          "name": "stderr"
        },
        {
          "output_type": "stream",
          "text": [
            "\tperson, 0.9994958639144897, [0.23332778 0.00274974 0.7785393  0.980312  ]\n",
            "\tchair, 0.7137102484703064, [4.7655776e-04 4.9110177e-01 5.2858546e-02 6.0987318e-01]\n",
            "\tpottedplant, 0.6364063620567322, [0.17683104 0.5702826  0.26915208 0.7530632 ]\n",
            "\tchair, 0.5043480396270752, [0.14363019 0.46426907 0.17728393 0.48766276]\n",
            "Iter: 0. Controllo persona: \n",
            "Iter: 0. Persona trovata: \n",
            "Score: 0.99949586\n",
            "Iter: 0. Controllo borsa: \n",
            "Iter: 0. Controllo orologio: \n",
            "Iter: 1. Controllo persona: \n",
            "Iter: 1. Controllo borsa: \n",
            "Iter: 1. Controllo orologio: \n",
            "Iter: 2. Controllo persona: \n",
            "Iter: 2. Controllo borsa: \n",
            "Iter: 2. Controllo orologio: \n",
            "Iter: 3. Controllo persona: \n",
            "Iter: 3. Controllo borsa: \n",
            "Iter: 3. Controllo orologio: \n",
            "Immagine 91\n",
            "\t File: /content/drive/My Drive/universita/progetto ml/non_pub/2019-02-07_15-28-37_UTC.json\n"
          ],
          "name": "stdout"
        },
        {
          "output_type": "stream",
          "text": [
            "I0228 12:40:20.960166 140220390033280 yolo_model.py:59] time: 0.23998355865478516\n"
          ],
          "name": "stderr"
        },
        {
          "output_type": "stream",
          "text": [
            "\tperson, 0.9690929055213928, [0.04588851 0.29138485 0.9570291  1.        ]\n",
            "Iter: 0. Controllo persona: \n",
            "Iter: 0. Persona trovata: \n",
            "Score: 0.9690929\n",
            "Iter: 0. Controllo borsa: \n",
            "Iter: 0. Controllo orologio: \n",
            "Immagine 92\n",
            "\t File: /content/drive/My Drive/universita/progetto ml/non_pub/2019-02-08_11-45-39_UTC.json\n"
          ],
          "name": "stdout"
        },
        {
          "output_type": "stream",
          "text": [
            "I0228 12:40:24.324144 140220390033280 yolo_model.py:59] time: 0.22800946235656738\n"
          ],
          "name": "stderr"
        },
        {
          "output_type": "stream",
          "text": [
            "\tperson, 0.999291181564331, [0.40903717 0.1499443  0.7028821  0.9797349 ]\n",
            "\tsofa, 0.9050825834274292, [0.14549574 0.24651936 0.89418113 0.92876565]\n",
            "Iter: 0. Controllo persona: \n",
            "Iter: 0. Persona trovata: \n",
            "Score: 0.9992912\n",
            "Iter: 0. Controllo borsa: \n",
            "Iter: 0. Controllo orologio: \n",
            "Iter: 1. Controllo persona: \n",
            "Iter: 1. Controllo borsa: \n",
            "Iter: 1. Controllo orologio: \n",
            "Immagine 93\n",
            "\t File: /content/drive/My Drive/universita/progetto ml/non_pub/2019-02-08_17-52-09_UTC.json\n"
          ],
          "name": "stdout"
        },
        {
          "output_type": "stream",
          "text": [
            "I0228 12:40:31.651374 140220390033280 yolo_model.py:59] time: 0.23439240455627441\n"
          ],
          "name": "stderr"
        },
        {
          "output_type": "stream",
          "text": [
            "\tperson, 0.9947588443756104, [0.37879443 0.2918228  0.6693772  0.6201166 ]\n",
            "\tcup, 0.7045179605484009, [0.4535999 0.4669753 0.4969401 0.5103787]\n",
            "Iter: 0. Controllo persona: \n",
            "Iter: 0. Persona trovata: \n",
            "Score: 0.99475884\n",
            "Iter: 0. Controllo borsa: \n",
            "Iter: 0. Controllo orologio: \n",
            "Iter: 1. Controllo persona: \n",
            "Iter: 1. Controllo borsa: \n",
            "Iter: 1. Controllo orologio: \n",
            "Immagine 94\n",
            "\t File: /content/drive/My Drive/universita/progetto ml/non_pub/2019-02-08_13-43-04_UTC.json\n"
          ],
          "name": "stdout"
        },
        {
          "output_type": "stream",
          "text": [
            "I0228 12:40:33.786463 140220390033280 yolo_model.py:59] time: 0.2268834114074707\n"
          ],
          "name": "stderr"
        },
        {
          "output_type": "stream",
          "text": [
            "\tperson, 0.9992852210998535, [0.45885766 0.12189522 0.8871201  0.9242263 ]\n",
            "\tperson, 0.9988937973976135, [0.0180153  0.121333   0.56409454 0.9342147 ]\n",
            "Iter: 0. Controllo persona: \n",
            "Iter: 0. Persona trovata: \n",
            "Score: 0.9992852\n",
            "Iter: 0. Controllo borsa: \n",
            "Iter: 0. Controllo orologio: \n",
            "Iter: 1. Controllo persona: \n",
            "Iter: 1. Controllo borsa: \n",
            "Iter: 1. Controllo orologio: \n",
            "Immagine 95\n",
            "\t File: /content/drive/My Drive/universita/progetto ml/non_pub/2019-02-08_11-45-39_UTC.json\n"
          ],
          "name": "stdout"
        },
        {
          "output_type": "stream",
          "text": [
            "I0228 12:40:36.060076 140220390033280 yolo_model.py:59] time: 0.22924351692199707\n"
          ],
          "name": "stderr"
        },
        {
          "output_type": "stream",
          "text": [
            "\tperson, 0.9985323548316956, [0.19581437 0.6105421  0.68765754 0.9922343 ]\n",
            "Iter: 0. Controllo persona: \n",
            "Iter: 0. Persona trovata: \n",
            "Score: 0.99853235\n",
            "Iter: 0. Controllo borsa: \n",
            "Iter: 0. Controllo orologio: \n",
            "Immagine 96\n",
            "\t File: /content/drive/My Drive/universita/progetto ml/non_pub/2019-02-08_11-45-39_UTC.json\n"
          ],
          "name": "stdout"
        },
        {
          "output_type": "stream",
          "text": [
            "I0228 12:40:38.131719 140220390033280 yolo_model.py:59] time: 0.2262132167816162\n"
          ],
          "name": "stderr"
        },
        {
          "output_type": "stream",
          "text": [
            "\tperson, 0.9986871480941772, [0.3018597  0.56801987 0.6720998  1.        ]\n",
            "Iter: 0. Controllo persona: \n",
            "Iter: 0. Persona trovata: \n",
            "Score: 0.99868715\n",
            "Iter: 0. Controllo borsa: \n",
            "Iter: 0. Controllo orologio: \n",
            "Immagine 97\n",
            "\t File: /content/drive/My Drive/universita/progetto ml/non_pub/2019-02-08_17-52-09_UTC.json\n"
          ],
          "name": "stdout"
        },
        {
          "output_type": "stream",
          "text": [
            "I0228 12:40:40.846376 140220390033280 yolo_model.py:59] time: 0.2392406463623047\n"
          ],
          "name": "stderr"
        },
        {
          "output_type": "stream",
          "text": [
            "\tperson, 0.9964721202850342, [0.03643727 0.11431631 0.29341626 0.9942868 ]\n",
            "\tperson, 0.989828884601593, [0.4171756  0.05913207 0.7014306  0.9009752 ]\n",
            "\tperson, 0.9801984429359436, [0.23885548 0.08200467 0.49610972 0.8975596 ]\n",
            "\tperson, 0.9360855221748352, [0.63494384 0.09240708 0.96485615 0.9208578 ]\n",
            "Iter: 0. Controllo persona: \n",
            "Iter: 0. Persona trovata: \n",
            "Score: 0.9964721\n",
            "Iter: 0. Controllo borsa: \n",
            "Iter: 0. Controllo orologio: \n",
            "Iter: 1. Controllo persona: \n",
            "Iter: 1. Controllo borsa: \n",
            "Iter: 1. Controllo orologio: \n",
            "Iter: 2. Controllo persona: \n",
            "Iter: 2. Controllo borsa: \n",
            "Iter: 2. Controllo orologio: \n",
            "Iter: 3. Controllo persona: \n",
            "Iter: 3. Controllo borsa: \n",
            "Iter: 3. Controllo orologio: \n",
            "Immagine 98\n",
            "\t File: /content/drive/My Drive/universita/progetto ml/non_pub/2019-02-08_17-52-09_UTC.json\n"
          ],
          "name": "stdout"
        },
        {
          "output_type": "stream",
          "text": [
            "I0228 12:40:43.151419 140220390033280 yolo_model.py:59] time: 0.26566386222839355\n"
          ],
          "name": "stderr"
        },
        {
          "output_type": "stream",
          "text": [
            "\tperson, 0.9468316435813904, [0.09776425 0.1676656  0.70557517 0.9431808 ]\n",
            "Iter: 0. Controllo persona: \n",
            "Iter: 0. Persona trovata: \n",
            "Score: 0.94683164\n",
            "Iter: 0. Controllo borsa: \n",
            "Iter: 0. Controllo orologio: \n",
            "Immagine 99\n",
            "\t File: /content/drive/My Drive/universita/progetto ml/non_pub/2019-02-08_17-52-09_UTC.json\n"
          ],
          "name": "stdout"
        },
        {
          "output_type": "stream",
          "text": [
            "I0228 12:40:45.124408 140220390033280 yolo_model.py:59] time: 0.22778558731079102\n"
          ],
          "name": "stderr"
        },
        {
          "output_type": "stream",
          "text": [
            "\tperson, 0.9906061291694641, [0.54890174 0.21039154 0.59155446 0.27225393]\n",
            "\tchair, 0.9750326871871948, [0.47428593 0.46005616 0.62966174 0.5775683 ]\n",
            "\tchair, 0.9550255537033081, [0.32056785 0.64783937 0.8469144  1.        ]\n",
            "\tchair, 0.9517560601234436, [0.65888673 0.47534442 0.8265063  0.72441936]\n",
            "\tperson, 0.9425227046012878, [0.6467361  0.202897   0.71735495 0.27404442]\n",
            "\tchair, 0.9343571662902832, [0.21350673 0.44068563 0.3334984  0.59178054]\n",
            "\tchair, 0.9101155996322632, [0.33941507 0.44673955 0.46824223 0.5789646 ]\n",
            "\tchair, 0.8487589955329895, [0.48003405 0.40806413 0.5845551  0.49797952]\n",
            "\tchair, 0.8336121439933777, [0.61885023 0.42125446 0.73920596 0.5383358 ]\n",
            "\tchair, 0.7696745991706848, [0.67690295 0.36432433 0.76538235 0.43515015]\n",
            "\tchair, 0.7155622243881226, [0.7597749  0.41338643 0.9028177  0.65136135]\n",
            "\tchair, 0.7020546197891235, [0.8797499  0.37529474 0.9973229  0.51823455]\n",
            "\tchair, 0.6638852953910828, [0.4871733  0.5401982  0.68302274 0.667127  ]\n",
            "\tchair, 0.6520424485206604, [0.57975453 0.35842222 0.66261846 0.43451953]\n",
            "\tchair, 0.6235905885696411, [1.1942163e-04 4.8923635e-01 1.1304039e-01 7.1567857e-01]\n",
            "\tchair, 0.5597331523895264, [0.48276144 0.35833704 0.5653265  0.4279015 ]\n",
            "\tchair, 0.5576402544975281, [0.2711745  0.4047358  0.35326403 0.48807907]\n",
            "\tchair, 0.5362658500671387, [0.15739125 0.3976785  0.26067606 0.4963283 ]\n",
            "Iter: 0. Controllo persona: \n",
            "Iter: 0. Persona trovata: \n",
            "Score: 0.9906061\n",
            "Iter: 0. Controllo borsa: \n",
            "Iter: 0. Controllo orologio: \n",
            "Iter: 1. Controllo persona: \n",
            "Iter: 1. Controllo borsa: \n",
            "Iter: 1. Controllo orologio: \n",
            "Iter: 2. Controllo persona: \n",
            "Iter: 2. Controllo borsa: \n",
            "Iter: 2. Controllo orologio: \n",
            "Iter: 3. Controllo persona: \n",
            "Iter: 3. Controllo borsa: \n",
            "Iter: 3. Controllo orologio: \n",
            "Iter: 4. Controllo persona: \n",
            "Iter: 4. Controllo borsa: \n",
            "Iter: 4. Controllo orologio: \n",
            "Iter: 5. Controllo persona: \n",
            "Iter: 5. Controllo borsa: \n",
            "Iter: 5. Controllo orologio: \n",
            "Iter: 6. Controllo persona: \n",
            "Iter: 6. Controllo borsa: \n",
            "Iter: 6. Controllo orologio: \n",
            "Iter: 7. Controllo persona: \n",
            "Iter: 7. Controllo borsa: \n",
            "Iter: 7. Controllo orologio: \n",
            "Iter: 8. Controllo persona: \n",
            "Iter: 8. Controllo borsa: \n",
            "Iter: 8. Controllo orologio: \n",
            "Iter: 9. Controllo persona: \n",
            "Iter: 9. Controllo borsa: \n",
            "Iter: 9. Controllo orologio: \n",
            "Iter: 10. Controllo persona: \n",
            "Iter: 10. Controllo borsa: \n",
            "Iter: 10. Controllo orologio: \n",
            "Iter: 11. Controllo persona: \n",
            "Iter: 11. Controllo borsa: \n",
            "Iter: 11. Controllo orologio: \n",
            "Iter: 12. Controllo persona: \n",
            "Iter: 12. Controllo borsa: \n",
            "Iter: 12. Controllo orologio: \n",
            "Iter: 13. Controllo persona: \n",
            "Iter: 13. Controllo borsa: \n",
            "Iter: 13. Controllo orologio: \n",
            "Iter: 14. Controllo persona: \n",
            "Iter: 14. Controllo borsa: \n",
            "Iter: 14. Controllo orologio: \n",
            "Iter: 15. Controllo persona: \n",
            "Iter: 15. Controllo borsa: \n",
            "Iter: 15. Controllo orologio: \n",
            "Iter: 16. Controllo persona: \n",
            "Iter: 16. Controllo borsa: \n",
            "Iter: 16. Controllo orologio: \n",
            "Iter: 17. Controllo persona: \n",
            "Iter: 17. Controllo borsa: \n",
            "Iter: 17. Controllo orologio: \n",
            "Immagine 100\n",
            "\t File: /content/drive/My Drive/universita/progetto ml/non_pub/2019-02-10_21-22-38_UTC.json\n"
          ],
          "name": "stdout"
        },
        {
          "output_type": "stream",
          "text": [
            "I0228 12:40:48.978059 140220390033280 yolo_model.py:59] time: 0.24161815643310547\n"
          ],
          "name": "stderr"
        },
        {
          "output_type": "stream",
          "text": [
            "\tperson, 0.9992271661758423, [0.00463107 0.0250487  0.37769097 0.9866917 ]\n",
            "\tperson, 0.9984156489372253, [0.59770906 0.00301462 0.9985708  1.        ]\n",
            "\tperson, 0.9978835582733154, [0.3226152  0.02574584 0.66194457 0.99585474]\n",
            "\tperson, 0.5371921062469482, [0.         0.1828138  0.0689069  0.39107636]\n",
            "Iter: 0. Controllo persona: \n",
            "Iter: 0. Persona trovata: \n",
            "Score: 0.99922717\n",
            "Iter: 0. Controllo borsa: \n",
            "Iter: 0. Controllo orologio: \n",
            "Iter: 1. Controllo persona: \n",
            "Iter: 1. Controllo borsa: \n",
            "Iter: 1. Controllo orologio: \n",
            "Iter: 2. Controllo persona: \n",
            "Iter: 2. Controllo borsa: \n",
            "Iter: 2. Controllo orologio: \n",
            "Iter: 3. Controllo persona: \n",
            "Iter: 3. Controllo borsa: \n",
            "Iter: 3. Controllo orologio: \n",
            "Immagine 101\n",
            "\t File: /content/drive/My Drive/universita/progetto ml/non_pub/2019-02-08_17-52-09_UTC.json\n"
          ],
          "name": "stdout"
        },
        {
          "output_type": "stream",
          "text": [
            "I0228 12:40:51.830358 140220390033280 yolo_model.py:59] time: 0.2557039260864258\n"
          ],
          "name": "stderr"
        },
        {
          "output_type": "stream",
          "text": [
            "\tperson, 0.9988425970077515, [0.30546635 0.34895948 0.70397586 1.        ]\n",
            "\tperson, 0.9045943021774292, [0.41175395 0.00504532 0.69797724 0.2698176 ]\n",
            "\tperson, 0.8756132125854492, [0.675985   0.         0.87566304 0.28664762]\n",
            "Iter: 0. Controllo persona: \n",
            "Iter: 0. Persona trovata: \n",
            "Score: 0.9988426\n",
            "Iter: 0. Controllo borsa: \n",
            "Iter: 0. Controllo orologio: \n",
            "Iter: 1. Controllo persona: \n",
            "Iter: 1. Controllo borsa: \n",
            "Iter: 1. Controllo orologio: \n",
            "Iter: 2. Controllo persona: \n",
            "Iter: 2. Controllo borsa: \n",
            "Iter: 2. Controllo orologio: \n",
            "Immagine 102\n",
            "\t File: /content/drive/My Drive/universita/progetto ml/non_pub/2019-02-09_20-31-18_UTC.json\n"
          ],
          "name": "stdout"
        },
        {
          "output_type": "stream",
          "text": [
            "I0228 12:40:54.468103 140220390033280 yolo_model.py:59] time: 0.2534523010253906\n"
          ],
          "name": "stderr"
        },
        {
          "output_type": "stream",
          "text": [
            "\tperson, 0.9999207258224487, [0.00690779 0.         0.95685446 0.9995037 ]\n",
            "Iter: 0. Controllo persona: \n",
            "Iter: 0. Persona trovata: \n",
            "Score: 0.9999207\n",
            "Iter: 0. Controllo borsa: \n",
            "Iter: 0. Controllo orologio: \n",
            "Immagine 103\n",
            "\t File: /content/drive/My Drive/universita/progetto ml/non_pub/2019-02-10_11-05-29_UTC.json\n"
          ],
          "name": "stdout"
        },
        {
          "output_type": "stream",
          "text": [
            "I0228 12:41:01.979442 140220390033280 yolo_model.py:59] time: 0.23343968391418457\n"
          ],
          "name": "stderr"
        },
        {
          "output_type": "stream",
          "text": [
            "\tperson, 0.9998888969421387, [0.         0.00211275 0.9944024  0.9987674 ]\n",
            "Iter: 0. Controllo persona: \n",
            "Iter: 0. Persona trovata: \n",
            "Score: 0.9998889\n",
            "Iter: 0. Controllo borsa: \n",
            "Iter: 0. Controllo orologio: \n",
            "Immagine 104\n",
            "\t File: /content/drive/My Drive/universita/progetto ml/non_pub/2019-02-08_17-52-09_UTC.json\n"
          ],
          "name": "stdout"
        },
        {
          "output_type": "stream",
          "text": [
            "I0228 12:41:03.675742 140220390033280 yolo_model.py:59] time: 0.23594117164611816\n"
          ],
          "name": "stderr"
        },
        {
          "output_type": "stream",
          "text": [
            "\tperson, 0.6807423233985901, [0.06908345 0.09930763 0.6296098  0.9974983 ]\n",
            "\tcup, 0.6745094060897827, [0.3189122  0.14475012 0.6925946  0.4925335 ]\n",
            "Iter: 0. Controllo persona: \n",
            "Iter: 0. Persona trovata: \n",
            "Score: 0.6807423\n",
            "Iter: 0. Controllo borsa: \n",
            "Iter: 0. Controllo orologio: \n",
            "Iter: 1. Controllo persona: \n",
            "Iter: 1. Controllo borsa: \n",
            "Iter: 1. Controllo orologio: \n",
            "Immagine 105\n",
            "\t File: /content/drive/My Drive/universita/progetto ml/non_pub/2019-02-11_12-21-23_UTC.json\n"
          ],
          "name": "stdout"
        },
        {
          "output_type": "stream",
          "text": [
            "I0228 12:41:05.879928 140220390033280 yolo_model.py:59] time: 0.2443251609802246\n"
          ],
          "name": "stderr"
        },
        {
          "output_type": "stream",
          "text": [
            "\tperson, 0.9996827244758606, [0.07960525 0.00562513 0.8984002  0.9968784 ]\n",
            "Iter: 0. Controllo persona: \n",
            "Iter: 0. Persona trovata: \n",
            "Score: 0.9996827\n",
            "Iter: 0. Controllo borsa: \n",
            "Iter: 0. Controllo orologio: \n",
            "Immagine 106\n",
            "\t File: /content/drive/My Drive/universita/progetto ml/non_pub/2019-02-11_17-51-15_UTC.json\n"
          ],
          "name": "stdout"
        },
        {
          "output_type": "stream",
          "text": [
            "I0228 12:41:11.218737 140220390033280 yolo_model.py:59] time: 0.24852442741394043\n"
          ],
          "name": "stderr"
        },
        {
          "output_type": "stream",
          "text": [
            "\tperson, 0.9980029463768005, [0.3448476  0.04757011 1.         0.9815823 ]\n",
            "\tperson, 0.9753568768501282, [0.00775668 0.18466622 0.55248225 0.99854845]\n",
            "\tperson, 0.9145272374153137, [0.03001997 0.01169133 0.6903331  0.695511  ]\n",
            "Iter: 0. Controllo persona: \n",
            "Iter: 0. Persona trovata: \n",
            "Score: 0.99800295\n",
            "Iter: 0. Controllo borsa: \n",
            "Iter: 0. Controllo orologio: \n",
            "Iter: 1. Controllo persona: \n",
            "Iter: 1. Controllo borsa: \n",
            "Iter: 1. Controllo orologio: \n",
            "Iter: 2. Controllo persona: \n",
            "Iter: 2. Controllo borsa: \n",
            "Iter: 2. Controllo orologio: \n",
            "Immagine 107\n",
            "\t File: /content/drive/My Drive/universita/progetto ml/non_pub/2019-02-11_16-10-00_UTC.json\n"
          ],
          "name": "stdout"
        },
        {
          "output_type": "stream",
          "text": [
            "I0228 12:41:13.639454 140220390033280 yolo_model.py:59] time: 0.24964475631713867\n"
          ],
          "name": "stderr"
        },
        {
          "output_type": "stream",
          "text": [
            "\tperson, 0.9976763725280762, [0.30624318 0.37385568 0.59556496 0.9839858 ]\n",
            "Iter: 0. Controllo persona: \n",
            "Iter: 0. Persona trovata: \n",
            "Score: 0.9976764\n",
            "Iter: 0. Controllo borsa: \n",
            "Iter: 0. Controllo orologio: \n",
            "Immagine 108\n",
            "\t File: /content/drive/My Drive/universita/progetto ml/non_pub/2019-02-11_15-03-08_UTC.json\n"
          ],
          "name": "stdout"
        },
        {
          "output_type": "stream",
          "text": [
            "I0228 12:41:15.664935 140220390033280 yolo_model.py:59] time: 0.23144268989562988\n"
          ],
          "name": "stderr"
        },
        {
          "output_type": "stream",
          "text": [
            "\tperson, 0.9980723857879639, [0.11662504 0.03515136 0.9079853  0.99002004]\n",
            "\tdog, 0.9646504521369934, [0.38935685 0.28001353 0.8951292  1.        ]\n",
            "\tbottle, 0.9580483436584473, [0.81443506 0.3185338  0.85479766 0.42730734]\n",
            "\twine glass, 0.8934856057167053, [0.95646375 0.3296424  0.9988087  0.41637328]\n",
            "\tchair, 0.5617786645889282, [0.04935819 0.27255797 0.8226832  1.        ]\n",
            "\tpottedplant, 0.5521919131278992, [0.00146526 0.         0.26426175 0.2838158 ]\n",
            "Iter: 0. Controllo persona: \n",
            "Iter: 0. Persona trovata: \n",
            "Score: 0.9980724\n",
            "Iter: 0. Controllo borsa: \n",
            "Iter: 0. Controllo orologio: \n",
            "Iter: 1. Controllo persona: \n",
            "Iter: 1. Controllo borsa: \n",
            "Iter: 1. Controllo orologio: \n",
            "Iter: 2. Controllo persona: \n",
            "Iter: 2. Controllo borsa: \n",
            "Iter: 2. Controllo orologio: \n",
            "Iter: 3. Controllo persona: \n",
            "Iter: 3. Controllo borsa: \n",
            "Iter: 3. Controllo orologio: \n",
            "Iter: 4. Controllo persona: \n",
            "Iter: 4. Controllo borsa: \n",
            "Iter: 4. Controllo orologio: \n",
            "Iter: 5. Controllo persona: \n",
            "Iter: 5. Controllo borsa: \n",
            "Iter: 5. Controllo orologio: \n",
            "Immagine 109\n",
            "\t File: /content/drive/My Drive/universita/progetto ml/non_pub/2019-02-12_16-23-33_UTC.json\n"
          ],
          "name": "stdout"
        },
        {
          "output_type": "stream",
          "text": [
            "I0228 12:41:19.559392 140220390033280 yolo_model.py:59] time: 0.2371978759765625\n"
          ],
          "name": "stderr"
        },
        {
          "output_type": "stream",
          "text": [
            "\tperson, 0.9999078512191772, [0.09640887 0.27149394 0.9191512  0.91660047]\n",
            "\tpottedplant, 0.8482307195663452, [0.34681925 0.2677762  0.45911762 0.37771505]\n",
            "\tpottedplant, 0.7142388224601746, [0.42984736 0.25357512 0.55320334 0.34799942]\n",
            "Iter: 0. Controllo persona: \n",
            "Iter: 0. Persona trovata: \n",
            "Score: 0.99990785\n",
            "Iter: 0. Controllo borsa: \n",
            "Iter: 0. Controllo orologio: \n",
            "Iter: 1. Controllo persona: \n",
            "Iter: 1. Controllo borsa: \n",
            "Iter: 1. Controllo orologio: \n",
            "Iter: 2. Controllo persona: \n",
            "Iter: 2. Controllo borsa: \n",
            "Iter: 2. Controllo orologio: \n",
            "Immagine 110\n",
            "\t File: /content/drive/My Drive/universita/progetto ml/non_pub/2019-02-13_12-32-35_UTC.json\n"
          ],
          "name": "stdout"
        },
        {
          "output_type": "stream",
          "text": [
            "I0228 12:41:24.810720 140220390033280 yolo_model.py:59] time: 0.23036694526672363\n"
          ],
          "name": "stderr"
        },
        {
          "output_type": "stream",
          "text": [
            "\tperson, 0.9994024038314819, [0.03731966 0.02818403 0.96484685 0.96395075]\n",
            "Iter: 0. Controllo persona: \n",
            "Iter: 0. Persona trovata: \n",
            "Score: 0.9994024\n",
            "Iter: 0. Controllo borsa: \n",
            "Iter: 0. Controllo orologio: \n",
            "Immagine 111\n",
            "\t File: /content/drive/My Drive/universita/progetto ml/non_pub/2019-02-12_11-10-41_UTC.json\n"
          ],
          "name": "stdout"
        },
        {
          "output_type": "stream",
          "text": [
            "I0228 12:41:27.378616 140220390033280 yolo_model.py:59] time: 0.22585296630859375\n"
          ],
          "name": "stderr"
        },
        {
          "output_type": "stream",
          "text": [
            "\tperson, 0.9987313747406006, [0.01284558 0.5278513  0.50627846 0.9857902 ]\n",
            "\tperson, 0.9969339966773987, [0.5120818  0.55607456 0.9899859  1.        ]\n",
            "\tperson, 0.9946017861366272, [0.514547   0.02500121 0.8314704  0.49147505]\n",
            "\tperson, 0.9771897792816162, [0.0675526  0.05113579 0.4618707  0.4944868 ]\n",
            "\tperson, 0.8733795881271362, [0.61667323 0.01404282 1.         0.48758027]\n",
            "\trefrigerator, 0.5507396459579468, [0.4531447  0.5390965  0.8634902  0.97212493]\n",
            "Iter: 0. Controllo persona: \n",
            "Iter: 0. Persona trovata: \n",
            "Score: 0.9987314\n",
            "Iter: 0. Controllo borsa: \n",
            "Iter: 0. Controllo orologio: \n",
            "Iter: 1. Controllo persona: \n",
            "Iter: 1. Controllo borsa: \n",
            "Iter: 1. Controllo orologio: \n",
            "Iter: 2. Controllo persona: \n",
            "Iter: 2. Controllo borsa: \n",
            "Iter: 2. Controllo orologio: \n",
            "Iter: 3. Controllo persona: \n",
            "Iter: 3. Controllo borsa: \n",
            "Iter: 3. Controllo orologio: \n",
            "Iter: 4. Controllo persona: \n",
            "Iter: 4. Controllo borsa: \n",
            "Iter: 4. Controllo orologio: \n",
            "Iter: 5. Controllo persona: \n",
            "Iter: 5. Controllo borsa: \n",
            "Iter: 5. Controllo orologio: \n",
            "Immagine 112\n",
            "\t File: /content/drive/My Drive/universita/progetto ml/non_pub/2019-02-13_16-26-47_UTC.json\n"
          ],
          "name": "stdout"
        },
        {
          "output_type": "stream",
          "text": [
            "I0228 12:41:30.931439 140220390033280 yolo_model.py:59] time: 0.2286825180053711\n"
          ],
          "name": "stderr"
        },
        {
          "output_type": "stream",
          "text": [
            "\tperson, 0.9867663383483887, [0.03846046 0.05282414 0.8557128  0.8156469 ]\n",
            "\tsofa, 0.8185442686080933, [0.13566902 0.16029584 0.990571   0.96040046]\n",
            "Iter: 0. Controllo persona: \n",
            "Iter: 0. Persona trovata: \n",
            "Score: 0.98676634\n",
            "Iter: 0. Controllo borsa: \n",
            "Iter: 0. Controllo orologio: \n",
            "Iter: 1. Controllo persona: \n",
            "Iter: 1. Controllo borsa: \n",
            "Iter: 1. Controllo orologio: \n",
            "Immagine 113\n",
            "\t File: /content/drive/My Drive/universita/progetto ml/non_pub/2019-02-13_20-08-27_UTC.json\n"
          ],
          "name": "stdout"
        },
        {
          "output_type": "stream",
          "text": [
            "I0228 12:41:33.168957 140220390033280 yolo_model.py:59] time: 0.23130178451538086\n"
          ],
          "name": "stderr"
        },
        {
          "output_type": "stream",
          "text": [
            "\tperson, 0.9953832030296326, [0.27624613 0.03239888 1.         0.96222395]\n",
            "\tperson, 0.816516101360321, [0.11833502 0.06349689 0.5388585  0.7442144 ]\n",
            "\tchair, 0.7455775141716003, [0.0929386 0.0813874 0.5679656 0.6267498]\n",
            "Iter: 0. Controllo persona: \n",
            "Iter: 0. Persona trovata: \n",
            "Score: 0.9953832\n",
            "Iter: 0. Controllo borsa: \n",
            "Iter: 0. Controllo orologio: \n",
            "Iter: 1. Controllo persona: \n",
            "Iter: 1. Controllo borsa: \n",
            "Iter: 1. Controllo orologio: \n",
            "Iter: 2. Controllo persona: \n",
            "Iter: 2. Controllo borsa: \n",
            "Iter: 2. Controllo orologio: \n",
            "Immagine 114\n",
            "\t File: /content/drive/My Drive/universita/progetto ml/non_pub/2019-02-13_18-41-08_UTC.json\n"
          ],
          "name": "stdout"
        },
        {
          "output_type": "stream",
          "text": [
            "I0228 12:41:40.128313 140220390033280 yolo_model.py:59] time: 0.22809624671936035\n"
          ],
          "name": "stderr"
        },
        {
          "output_type": "stream",
          "text": [
            "\tperson, 0.8901359438896179, [0.29154557 0.04832056 0.83662695 0.94951904]\n",
            "\tteddy bear, 0.6182981729507446, [0.11023638 0.15445182 0.76328254 0.977219  ]\n",
            "Iter: 0. Controllo persona: \n",
            "Iter: 0. Persona trovata: \n",
            "Score: 0.89013594\n",
            "Iter: 0. Controllo borsa: \n",
            "Iter: 0. Controllo orologio: \n",
            "Iter: 1. Controllo persona: \n",
            "Iter: 1. Controllo borsa: \n",
            "Iter: 1. Controllo orologio: \n",
            "Immagine 115\n",
            "\t File: /content/drive/My Drive/universita/progetto ml/non_pub/2019-02-14_09-39-47_UTC.json\n"
          ],
          "name": "stdout"
        },
        {
          "output_type": "stream",
          "text": [
            "I0228 12:41:45.210144 140220390033280 yolo_model.py:59] time: 0.23090267181396484\n"
          ],
          "name": "stderr"
        },
        {
          "output_type": "stream",
          "text": [
            "\tperson, 0.988915205001831, [0.13448083 0.06139672 0.8944863  0.93137723]\n",
            "\tchair, 0.639121413230896, [0.08772042 0.01440027 0.9297854  0.6939119 ]\n",
            "Iter: 0. Controllo persona: \n",
            "Iter: 0. Persona trovata: \n",
            "Score: 0.9889152\n",
            "Iter: 0. Controllo borsa: \n",
            "Iter: 0. Controllo orologio: \n",
            "Iter: 1. Controllo persona: \n",
            "Iter: 1. Controllo borsa: \n",
            "Iter: 1. Controllo orologio: \n",
            "Immagine 116\n",
            "\t File: /content/drive/My Drive/universita/progetto ml/non_pub/2019-02-14_12-52-29_UTC.json\n"
          ],
          "name": "stdout"
        },
        {
          "output_type": "stream",
          "text": [
            "I0228 12:41:47.404766 140220390033280 yolo_model.py:59] time: 0.22420978546142578\n"
          ],
          "name": "stderr"
        },
        {
          "output_type": "stream",
          "text": [
            "\tperson, 0.850690484046936, [0.0922718  0.14290264 0.5984269  0.9719782 ]\n",
            "Iter: 0. Controllo persona: \n",
            "Iter: 0. Persona trovata: \n",
            "Score: 0.8506905\n",
            "Iter: 0. Controllo borsa: \n",
            "Iter: 0. Controllo orologio: \n",
            "Immagine 117\n",
            "\t File: /content/drive/My Drive/universita/progetto ml/non_pub/2019-02-14_16-21-59_UTC.json\n"
          ],
          "name": "stdout"
        },
        {
          "output_type": "stream",
          "text": [
            "I0228 12:41:50.567432 140220390033280 yolo_model.py:59] time: 0.2283473014831543\n"
          ],
          "name": "stderr"
        },
        {
          "output_type": "stream",
          "text": [
            "\tperson, 0.9979380965232849, [0.25322276 0.0589475  0.7421933  0.9410224 ]\n",
            "Iter: 0. Controllo persona: \n",
            "Iter: 0. Persona trovata: \n",
            "Score: 0.9979381\n",
            "Iter: 0. Controllo borsa: \n",
            "Iter: 0. Controllo orologio: \n",
            "Immagine 118\n",
            "\t File: /content/drive/My Drive/universita/progetto ml/non_pub/2019-02-14_16-21-59_UTC.json\n"
          ],
          "name": "stdout"
        },
        {
          "output_type": "stream",
          "text": [
            "I0228 12:41:52.255147 140220390033280 yolo_model.py:59] time: 0.23971986770629883\n"
          ],
          "name": "stderr"
        },
        {
          "output_type": "stream",
          "text": [
            "\tperson, 0.9994771480560303, [0.09018362 0.01462594 0.9733813  1.        ]\n",
            "Iter: 0. Controllo persona: \n",
            "Iter: 0. Persona trovata: \n",
            "Score: 0.99947715\n",
            "Iter: 0. Controllo borsa: \n",
            "Iter: 0. Controllo orologio: \n",
            "Immagine 119\n",
            "\t File: /content/drive/My Drive/universita/progetto ml/non_pub/2019-02-14_16-21-59_UTC.json\n"
          ],
          "name": "stdout"
        },
        {
          "output_type": "stream",
          "text": [
            "I0228 12:41:54.683664 140220390033280 yolo_model.py:59] time: 0.22771978378295898\n"
          ],
          "name": "stderr"
        },
        {
          "output_type": "stream",
          "text": [
            "\ttvmonitor, 0.985072672367096, [0.7938558  0.10942937 0.9996201  0.4554481 ]\n",
            "\tperson, 0.9614772796630859, [0.16560614 0.0632112  0.73491704 0.91197735]\n",
            "\tchair, 0.7842159271240234, [0.17684937 0.00952682 0.7783359  0.71228564]\n",
            "Iter: 0. Controllo persona: \n",
            "Iter: 0. Controllo borsa: \n",
            "Iter: 0. Controllo orologio: \n",
            "Iter: 1. Controllo persona: \n",
            "Iter: 1. Persona trovata: \n",
            "Score: 0.9614773\n",
            "Iter: 1. Controllo borsa: \n",
            "Iter: 1. Controllo orologio: \n",
            "Iter: 2. Controllo persona: \n",
            "Iter: 2. Controllo borsa: \n",
            "Iter: 2. Controllo orologio: \n",
            "Immagine 120\n",
            "\t File: /content/drive/My Drive/universita/progetto ml/non_pub/2019-02-14_16-21-59_UTC.json\n"
          ],
          "name": "stdout"
        },
        {
          "output_type": "stream",
          "text": [
            "I0228 12:41:56.543329 140220390033280 yolo_model.py:59] time: 0.2429494857788086\n"
          ],
          "name": "stderr"
        },
        {
          "output_type": "stream",
          "text": [
            "\tperson, 0.9989010691642761, [0.08191729 0.11161047 0.93731976 1.        ]\n",
            "\tcell phone, 0.636760413646698, [0.06581303 0.30471963 0.2648355  0.3730957 ]\n",
            "Iter: 0. Controllo persona: \n",
            "Iter: 0. Persona trovata: \n",
            "Score: 0.99890107\n",
            "Iter: 0. Controllo borsa: \n",
            "Iter: 0. Controllo orologio: \n",
            "Iter: 1. Controllo persona: \n",
            "Iter: 1. Controllo borsa: \n",
            "Iter: 1. Controllo orologio: \n",
            "Immagine 121\n",
            "\t File: /content/drive/My Drive/universita/progetto ml/non_pub/2019-02-14_18-57-20_UTC.json\n"
          ],
          "name": "stdout"
        },
        {
          "output_type": "stream",
          "text": [
            "I0228 12:41:59.774116 140220390033280 yolo_model.py:59] time: 0.2430431842803955\n"
          ],
          "name": "stderr"
        },
        {
          "output_type": "stream",
          "text": [
            "\tperson, 0.9980224967002869, [0.4533395  0.45370382 0.68883926 0.8863204 ]\n",
            "\tperson, 0.9894137382507324, [0.19339646 0.4500937  0.4892943  0.87897843]\n",
            "Iter: 0. Controllo persona: \n",
            "Iter: 0. Persona trovata: \n",
            "Score: 0.9980225\n",
            "Iter: 0. Controllo borsa: \n",
            "Iter: 0. Controllo orologio: \n",
            "Iter: 1. Controllo persona: \n",
            "Iter: 1. Controllo borsa: \n",
            "Iter: 1. Controllo orologio: \n",
            "Immagine 122\n",
            "\t File: /content/drive/My Drive/universita/progetto ml/non_pub/2019-02-14_20-10-32_UTC.json\n"
          ],
          "name": "stdout"
        },
        {
          "output_type": "stream",
          "text": [
            "I0228 12:42:02.836298 140220390033280 yolo_model.py:59] time: 0.27539920806884766\n"
          ],
          "name": "stderr"
        },
        {
          "output_type": "stream",
          "text": [
            "\tperson, 0.9629685282707214, [0.24538064 0.         0.89773154 1.        ]\n",
            "\tbed, 0.7778907418251038, [0.05681953 0.49279815 0.96296537 1.        ]\n",
            "\tchair, 0.7268513441085815, [0.14172208 0.         0.8924906  0.9173419 ]\n",
            "Iter: 0. Controllo persona: \n",
            "Iter: 0. Persona trovata: \n",
            "Score: 0.9629685\n",
            "Iter: 0. Controllo borsa: \n",
            "Iter: 0. Controllo orologio: \n",
            "Iter: 1. Controllo persona: \n",
            "Iter: 1. Controllo borsa: \n",
            "Iter: 1. Controllo orologio: \n",
            "Iter: 2. Controllo persona: \n",
            "Iter: 2. Controllo borsa: \n",
            "Iter: 2. Controllo orologio: \n",
            "Immagine 123\n",
            "\t File: /content/drive/My Drive/universita/progetto ml/non_pub/2019-02-15_10-35-09_UTC.json\n"
          ],
          "name": "stdout"
        },
        {
          "output_type": "stream",
          "text": [
            "I0228 12:42:06.488803 140220390033280 yolo_model.py:59] time: 0.25101661682128906\n"
          ],
          "name": "stderr"
        },
        {
          "output_type": "stream",
          "text": [
            "\tperson, 0.9999556541442871, [0.04606006 0.00341779 0.9560901  0.9874718 ]\n",
            "Iter: 0. Controllo persona: \n",
            "Iter: 0. Persona trovata: \n",
            "Score: 0.99995565\n",
            "Iter: 0. Controllo borsa: \n",
            "Iter: 0. Controllo orologio: \n",
            "Immagine 124\n",
            "\t File: /content/drive/My Drive/universita/progetto ml/non_pub/2019-02-15_10-35-09_UTC.json\n"
          ],
          "name": "stdout"
        },
        {
          "output_type": "stream",
          "text": [
            "I0228 12:42:09.163574 140220390033280 yolo_model.py:59] time: 0.23561406135559082\n"
          ],
          "name": "stderr"
        },
        {
          "output_type": "stream",
          "text": [
            "\tperson, 0.9998877048492432, [0.04676899 0.02663469 0.9322486  0.96174794]\n",
            "Iter: 0. Controllo persona: \n",
            "Iter: 0. Persona trovata: \n",
            "Score: 0.9998877\n",
            "Iter: 0. Controllo borsa: \n",
            "Iter: 0. Controllo orologio: \n",
            "Immagine 125\n",
            "\t File: /content/drive/My Drive/universita/progetto ml/non_pub/2019-02-15_15-01-13_UTC.json\n"
          ],
          "name": "stdout"
        },
        {
          "output_type": "stream",
          "text": [
            "I0228 12:42:12.023210 140220390033280 yolo_model.py:59] time: 0.23342347145080566\n"
          ],
          "name": "stderr"
        },
        {
          "output_type": "stream",
          "text": [
            "\tperson, 0.9900777339935303, [0.05723667 0.18393382 0.8078384  1.        ]\n",
            "\tperson, 0.9872735738754272, [0.32278076 0.00877938 1.         0.9933115 ]\n",
            "Iter: 0. Controllo persona: \n",
            "Iter: 0. Persona trovata: \n",
            "Score: 0.99007773\n",
            "Iter: 0. Controllo borsa: \n",
            "Iter: 0. Controllo orologio: \n",
            "Iter: 1. Controllo persona: \n",
            "Iter: 1. Controllo borsa: \n",
            "Iter: 1. Controllo orologio: \n",
            "Immagine 126\n",
            "\t File: /content/drive/My Drive/universita/progetto ml/non_pub/2019-02-15_10-35-09_UTC.json\n"
          ],
          "name": "stdout"
        },
        {
          "output_type": "stream",
          "text": [
            "I0228 12:42:13.750302 140220390033280 yolo_model.py:59] time: 0.23357725143432617\n"
          ],
          "name": "stderr"
        },
        {
          "output_type": "stream",
          "text": [
            "\tperson, 0.9999948740005493, [0.03245088 0.02563277 0.9636538  0.9574703 ]\n",
            "Iter: 0. Controllo persona: \n",
            "Iter: 0. Persona trovata: \n",
            "Score: 0.9999949\n",
            "Iter: 0. Controllo borsa: \n",
            "Iter: 0. Controllo orologio: \n",
            "Immagine 127\n",
            "\t File: /content/drive/My Drive/universita/progetto ml/non_pub/2019-02-15_18-07-18_UTC.json\n"
          ],
          "name": "stdout"
        },
        {
          "output_type": "stream",
          "text": [
            "I0228 12:42:17.343154 140220390033280 yolo_model.py:59] time: 0.22511768341064453\n"
          ],
          "name": "stderr"
        },
        {
          "output_type": "stream",
          "text": [
            "\tperson, 0.9991315007209778, [0.04655209 0.20431706 0.9270178  1.        ]\n",
            "Iter: 0. Controllo persona: \n",
            "Iter: 0. Persona trovata: \n",
            "Score: 0.9991315\n",
            "Iter: 0. Controllo borsa: \n",
            "Iter: 0. Controllo orologio: \n",
            "Immagine 128\n",
            "\t File: /content/drive/My Drive/universita/progetto ml/non_pub/2019-02-16_09-44-56_UTC.json\n"
          ],
          "name": "stdout"
        },
        {
          "output_type": "stream",
          "text": [
            "I0228 12:42:22.501955 140220390033280 yolo_model.py:59] time: 0.23137688636779785\n"
          ],
          "name": "stderr"
        },
        {
          "output_type": "stream",
          "text": [
            "\tperson, 0.9972192049026489, [0.12498039 0.02857721 0.909674   0.9924693 ]\n",
            "\tperson, 0.8271076679229736, [0.         0.03892621 0.20563677 0.65340066]\n",
            "\tcell phone, 0.5939084887504578, [0.6105161 0.6335482 0.709327  0.6830749]\n",
            "Iter: 0. Controllo persona: \n",
            "Iter: 0. Persona trovata: \n",
            "Score: 0.9972192\n",
            "Iter: 0. Controllo borsa: \n",
            "Iter: 0. Controllo orologio: \n",
            "Iter: 1. Controllo persona: \n",
            "Iter: 1. Controllo borsa: \n",
            "Iter: 1. Controllo orologio: \n",
            "Iter: 2. Controllo persona: \n",
            "Iter: 2. Controllo borsa: \n",
            "Iter: 2. Controllo orologio: \n",
            "Immagine 129\n",
            "\t File: /content/drive/My Drive/universita/progetto ml/non_pub/2019-02-16_20-33-41_UTC.json\n"
          ],
          "name": "stdout"
        },
        {
          "output_type": "stream",
          "text": [
            "I0228 12:42:27.301098 140220390033280 yolo_model.py:59] time: 0.23813390731811523\n"
          ],
          "name": "stderr"
        },
        {
          "output_type": "stream",
          "text": [
            "\tperson, 0.9989199042320251, [0.15410283 0.02302116 1.         1.        ]\n",
            "Iter: 0. Controllo persona: \n",
            "Iter: 0. Persona trovata: \n",
            "Score: 0.9989199\n",
            "Iter: 0. Controllo borsa: \n",
            "Iter: 0. Controllo orologio: \n",
            "Immagine 130\n",
            "\t File: /content/drive/My Drive/universita/progetto ml/non_pub/2019-02-16_17-33-20_UTC.json\n"
          ],
          "name": "stdout"
        },
        {
          "output_type": "stream",
          "text": [
            "I0228 12:42:30.447506 140220390033280 yolo_model.py:59] time: 0.286205530166626\n"
          ],
          "name": "stderr"
        },
        {
          "output_type": "stream",
          "text": [
            "\tperson, 0.9998841285705566, [0.0740535  0.         0.92473054 1.        ]\n",
            "\tcup, 0.9870365262031555, [0.03089562 0.6480921  0.11496018 0.7282365 ]\n",
            "\tbowl, 0.8536523580551147, [0.00253672 0.39899716 0.09039983 0.4988815 ]\n",
            "\tchair, 0.5528022646903992, [0.30763602 0.23476303 0.368652   0.33207422]\n",
            "\tchair, 0.5049368739128113, [0.82647556 0.41089404 0.99693936 0.77827954]\n",
            "\tdiningtable, 0.5030145049095154, [0.         0.46473452 0.25221503 0.9905324 ]\n",
            "Iter: 0. Controllo persona: \n",
            "Iter: 0. Persona trovata: \n",
            "Score: 0.9998841\n",
            "Iter: 0. Controllo borsa: \n",
            "Iter: 0. Controllo orologio: \n",
            "Iter: 1. Controllo persona: \n",
            "Iter: 1. Controllo borsa: \n",
            "Iter: 1. Controllo orologio: \n",
            "Iter: 2. Controllo persona: \n",
            "Iter: 2. Controllo borsa: \n",
            "Iter: 2. Controllo orologio: \n",
            "Iter: 3. Controllo persona: \n",
            "Iter: 3. Controllo borsa: \n",
            "Iter: 3. Controllo orologio: \n",
            "Iter: 4. Controllo persona: \n",
            "Iter: 4. Controllo borsa: \n",
            "Iter: 4. Controllo orologio: \n",
            "Iter: 5. Controllo persona: \n",
            "Iter: 5. Controllo borsa: \n",
            "Iter: 5. Controllo orologio: \n",
            "Immagine 131\n",
            "\t File: /content/drive/My Drive/universita/progetto ml/non_pub/2019-02-17_09-41-14_UTC.json\n"
          ],
          "name": "stdout"
        },
        {
          "output_type": "stream",
          "text": [
            "I0228 12:42:33.878384 140220390033280 yolo_model.py:59] time: 0.247344970703125\n"
          ],
          "name": "stderr"
        },
        {
          "output_type": "stream",
          "text": [
            "\tperson, 0.998415470123291, [0.39586303 0.01676112 1.         0.97736   ]\n",
            "\tperson, 0.9877667427062988, [0.         0.01697206 0.48550773 0.98801446]\n",
            "Iter: 0. Controllo persona: \n",
            "Iter: 0. Persona trovata: \n",
            "Score: 0.99841547\n",
            "Iter: 0. Controllo borsa: \n",
            "Iter: 0. Controllo orologio: \n",
            "Iter: 1. Controllo persona: \n",
            "Iter: 1. Controllo borsa: \n",
            "Iter: 1. Controllo orologio: \n",
            "Immagine 132\n",
            "\t File: /content/drive/My Drive/universita/progetto ml/non_pub/2019-02-17_16-58-53_UTC.json\n"
          ],
          "name": "stdout"
        },
        {
          "output_type": "stream",
          "text": [
            "I0228 12:42:36.301659 140220390033280 yolo_model.py:59] time: 0.22980451583862305\n"
          ],
          "name": "stderr"
        },
        {
          "output_type": "stream",
          "text": [
            "\tperson, 0.9996215105056763, [0.26933894 0.         0.59827423 0.88097405]\n",
            "\tperson, 0.9996010065078735, [0.46158206 0.         0.7911551  0.97940236]\n",
            "\tperson, 0.9880355000495911, [0.9271896  0.09065137 0.9672537  0.16214344]\n",
            "\tperson, 0.9313924908638, [0.9782271  0.08826527 0.9997875  0.16290623]\n",
            "\thandbag, 0.8726708292961121, [0.65479285 0.17036475 0.82863945 0.5662349 ]\n",
            "\tperson, 0.6733096837997437, [0.18565561 0.14318551 0.22333021 0.209805  ]\n",
            "\thandbag, 0.5882245302200317, [0.6519062  0.37462115 0.8333563  0.5313539 ]\n",
            "\tperson, 0.5757728815078735, [0.7998729  0.11178233 0.81020904 0.13090852]\n",
            "Iter: 0. Controllo persona: \n",
            "Iter: 0. Persona trovata: \n",
            "Score: 0.9996215\n",
            "Iter: 0. Controllo borsa: \n",
            "Iter: 0. Controllo orologio: \n",
            "Iter: 1. Controllo persona: \n",
            "Iter: 1. Controllo borsa: \n",
            "Iter: 1. Controllo orologio: \n",
            "Iter: 2. Controllo persona: \n",
            "Iter: 2. Controllo borsa: \n",
            "Iter: 2. Controllo orologio: \n",
            "Iter: 3. Controllo persona: \n",
            "Iter: 3. Controllo borsa: \n",
            "Iter: 3. Controllo orologio: \n",
            "Iter: 4. Controllo persona: \n",
            "Iter: 4. Controllo borsa: \n",
            "Iter: 4. Borsa trovata: \n",
            "Score: 0.8726708\n",
            "Iter: 4. Controllo orologio: \n",
            "Iter: 5. Controllo persona: \n",
            "Iter: 5. Controllo borsa: \n",
            "Iter: 5. Controllo orologio: \n",
            "Iter: 6. Controllo persona: \n",
            "Iter: 6. Controllo borsa: \n",
            "Iter: 6. Controllo orologio: \n",
            "Iter: 7. Controllo persona: \n",
            "Iter: 7. Controllo borsa: \n",
            "Iter: 7. Controllo orologio: \n",
            "Immagine 133\n",
            "\t File: /content/drive/My Drive/universita/progetto ml/non_pub/2019-02-17_13-47-58_UTC.json\n"
          ],
          "name": "stdout"
        },
        {
          "output_type": "stream",
          "text": [
            "I0228 12:42:40.549537 140220390033280 yolo_model.py:59] time: 0.2483527660369873\n"
          ],
          "name": "stderr"
        },
        {
          "output_type": "stream",
          "text": [
            "\tperson, 0.9996809363365173, [0.09305856 0.05300394 0.93295383 0.9843931 ]\n",
            "\tperson, 0.9979120492935181, [0.7348319  0.2664811  0.89763856 0.5627687 ]\n",
            "\tperson, 0.9965953826904297, [0.89875543 0.3040039  0.9978591  0.65746737]\n",
            "\tbottle, 0.9873881340026855, [0.9162895  0.6283374  0.9746415  0.79928184]\n",
            "\tperson, 0.9326363801956177, [0.         0.2864374  0.04637255 0.49971598]\n",
            "\tbottle, 0.6629639267921448, [0.89749295 0.5965774  0.9341734  0.6940143 ]\n",
            "\tperson, 0.5266861319541931, [0.71992385 0.315964   0.785655   0.42662963]\n",
            "Iter: 0. Controllo persona: \n",
            "Iter: 0. Persona trovata: \n",
            "Score: 0.99968094\n",
            "Iter: 0. Controllo borsa: \n",
            "Iter: 0. Controllo orologio: \n",
            "Iter: 1. Controllo persona: \n",
            "Iter: 1. Controllo borsa: \n",
            "Iter: 1. Controllo orologio: \n",
            "Iter: 2. Controllo persona: \n",
            "Iter: 2. Controllo borsa: \n",
            "Iter: 2. Controllo orologio: \n",
            "Iter: 3. Controllo persona: \n",
            "Iter: 3. Controllo borsa: \n",
            "Iter: 3. Controllo orologio: \n",
            "Iter: 4. Controllo persona: \n",
            "Iter: 4. Controllo borsa: \n",
            "Iter: 4. Controllo orologio: \n",
            "Iter: 5. Controllo persona: \n",
            "Iter: 5. Controllo borsa: \n",
            "Iter: 5. Controllo orologio: \n",
            "Iter: 6. Controllo persona: \n",
            "Iter: 6. Controllo borsa: \n",
            "Iter: 6. Controllo orologio: \n",
            "Immagine 134\n",
            "\t File: /content/drive/My Drive/universita/progetto ml/non_pub/2019-02-17_18-57-26_UTC.json\n"
          ],
          "name": "stdout"
        },
        {
          "output_type": "stream",
          "text": [
            "I0228 12:42:44.261250 140220390033280 yolo_model.py:59] time: 0.22670650482177734\n"
          ],
          "name": "stderr"
        },
        {
          "output_type": "stream",
          "text": [
            "\tperson, 0.9982922673225403, [0.01192334 0.12122622 0.98941076 1.        ]\n",
            "\tperson, 0.7304260730743408, [0.7720128  0.10528329 1.         1.        ]\n",
            "Iter: 0. Controllo persona: \n",
            "Iter: 0. Persona trovata: \n",
            "Score: 0.99829227\n",
            "Iter: 0. Controllo borsa: \n",
            "Iter: 0. Controllo orologio: \n",
            "Iter: 1. Controllo persona: \n",
            "Iter: 1. Controllo borsa: \n",
            "Iter: 1. Controllo orologio: \n",
            "Immagine 135\n",
            "\t File: /content/drive/My Drive/universita/progetto ml/non_pub/2019-02-18_12-51-26_UTC.json\n"
          ],
          "name": "stdout"
        },
        {
          "output_type": "stream",
          "text": [
            "I0228 12:42:46.966318 140220390033280 yolo_model.py:59] time: 0.23798298835754395\n"
          ],
          "name": "stderr"
        },
        {
          "output_type": "stream",
          "text": [
            "\tperson, 0.9981113076210022, [0.11680856 0.2441617  0.6895375  1.        ]\n",
            "\tperson, 0.7966766357421875, [0.06048831 0.33348653 0.9674201  0.85058665]\n",
            "\tperson, 0.7441539764404297, [0.98087513 0.7925752  0.99715996 0.8305785 ]\n",
            "\tperson, 0.6393045783042908, [0.7876808  0.7369737  0.80428094 0.773979  ]\n",
            "\tperson, 0.5045621991157532, [0.8083836  0.67797107 0.8273679  0.7183084 ]\n",
            "Iter: 0. Controllo persona: \n",
            "Iter: 0. Persona trovata: \n",
            "Score: 0.9981113\n",
            "Iter: 0. Controllo borsa: \n",
            "Iter: 0. Controllo orologio: \n",
            "Iter: 1. Controllo persona: \n",
            "Iter: 1. Controllo borsa: \n",
            "Iter: 1. Controllo orologio: \n",
            "Iter: 2. Controllo persona: \n",
            "Iter: 2. Controllo borsa: \n",
            "Iter: 2. Controllo orologio: \n",
            "Iter: 3. Controllo persona: \n",
            "Iter: 3. Controllo borsa: \n",
            "Iter: 3. Controllo orologio: \n",
            "Iter: 4. Controllo persona: \n",
            "Iter: 4. Controllo borsa: \n",
            "Iter: 4. Controllo orologio: \n",
            "Immagine 136\n",
            "\t File: /content/drive/My Drive/universita/progetto ml/non_pub/2019-02-18_14-31-17_UTC.json\n"
          ],
          "name": "stdout"
        },
        {
          "output_type": "stream",
          "text": [
            "I0228 12:42:49.270261 140220390033280 yolo_model.py:59] time: 0.2539196014404297\n"
          ],
          "name": "stderr"
        },
        {
          "output_type": "stream",
          "text": [
            "\tperson, 0.8866167664527893, [0.8332949  0.12098211 0.87678295 0.20746684]\n",
            "\tperson, 0.8581967353820801, [0.8807928  0.125334   0.9197729  0.20693612]\n",
            "\tperson, 0.8260101079940796, [0.12002209 0.04306328 0.8922677  0.9676155 ]\n",
            "Iter: 0. Controllo persona: \n",
            "Iter: 0. Persona trovata: \n",
            "Score: 0.88661677\n",
            "Iter: 0. Controllo borsa: \n",
            "Iter: 0. Controllo orologio: \n",
            "Iter: 1. Controllo persona: \n",
            "Iter: 1. Controllo borsa: \n",
            "Iter: 1. Controllo orologio: \n",
            "Iter: 2. Controllo persona: \n",
            "Iter: 2. Controllo borsa: \n",
            "Iter: 2. Controllo orologio: \n",
            "Immagine 137\n",
            "\t File: /content/drive/My Drive/universita/progetto ml/non_pub/2019-02-19_12-50-47_UTC.json\n"
          ],
          "name": "stdout"
        },
        {
          "output_type": "stream",
          "text": [
            "I0228 12:42:53.284408 140220390033280 yolo_model.py:59] time: 0.2534031867980957\n"
          ],
          "name": "stderr"
        },
        {
          "output_type": "stream",
          "text": [
            "\tperson, 0.99253249168396, [0.17227325 0.         0.9574318  0.8863845 ]\n",
            "\tperson, 0.9875536561012268, [0.4127304  0.3360206  0.8773251  0.96669936]\n",
            "Iter: 0. Controllo persona: \n",
            "Iter: 0. Persona trovata: \n",
            "Score: 0.9925325\n",
            "Iter: 0. Controllo borsa: \n",
            "Iter: 0. Controllo orologio: \n",
            "Iter: 1. Controllo persona: \n",
            "Iter: 1. Controllo borsa: \n",
            "Iter: 1. Controllo orologio: \n",
            "Immagine 138\n",
            "\t File: /content/drive/My Drive/universita/progetto ml/non_pub/2019-02-18_15-30-01_UTC.json\n"
          ],
          "name": "stdout"
        },
        {
          "output_type": "stream",
          "text": [
            "I0228 12:42:57.735342 140220390033280 yolo_model.py:59] time: 0.24913454055786133\n"
          ],
          "name": "stderr"
        },
        {
          "output_type": "stream",
          "text": [
            "\tperson, 0.9978325366973877, [0.18940556 0.         0.7971827  1.        ]\n",
            "\tcup, 0.9700227975845337, [0.90380466 0.3118843  0.9690782  0.43192527]\n",
            "\tcup, 0.9575725197792053, [0.80096316 0.37311053 0.8793056  0.4432143 ]\n",
            "\tbottle, 0.721490740776062, [0.7580503  0.22334975 0.8140284  0.36013114]\n",
            "\tdiningtable, 0.6682734489440918, [0.57741153 0.32024047 1.         0.54336834]\n",
            "\tbottle, 0.6270132660865784, [0.8893172  0.19253881 0.8983384  0.21720256]\n",
            "\tbottle, 0.6262384057044983, [0.9281521  0.18617249 0.9381232  0.21580356]\n",
            "\tbottle, 0.5756016373634338, [0.90943074 0.19140916 0.9194157  0.21724685]\n",
            "\tbottle, 0.5621589422225952, [0.87051725 0.1898345  0.88027346 0.21712261]\n",
            "\tchair, 0.5185019373893738, [0.09864891 0.113675   0.74982953 1.        ]\n",
            "Iter: 0. Controllo persona: \n",
            "Iter: 0. Persona trovata: \n",
            "Score: 0.99783254\n",
            "Iter: 0. Controllo borsa: \n",
            "Iter: 0. Controllo orologio: \n",
            "Iter: 1. Controllo persona: \n",
            "Iter: 1. Controllo borsa: \n",
            "Iter: 1. Controllo orologio: \n",
            "Iter: 2. Controllo persona: \n",
            "Iter: 2. Controllo borsa: \n",
            "Iter: 2. Controllo orologio: \n",
            "Iter: 3. Controllo persona: \n",
            "Iter: 3. Controllo borsa: \n",
            "Iter: 3. Controllo orologio: \n",
            "Iter: 4. Controllo persona: \n",
            "Iter: 4. Controllo borsa: \n",
            "Iter: 4. Controllo orologio: \n",
            "Iter: 5. Controllo persona: \n",
            "Iter: 5. Controllo borsa: \n",
            "Iter: 5. Controllo orologio: \n",
            "Iter: 6. Controllo persona: \n",
            "Iter: 6. Controllo borsa: \n",
            "Iter: 6. Controllo orologio: \n",
            "Iter: 7. Controllo persona: \n",
            "Iter: 7. Controllo borsa: \n",
            "Iter: 7. Controllo orologio: \n",
            "Iter: 8. Controllo persona: \n",
            "Iter: 8. Controllo borsa: \n",
            "Iter: 8. Controllo orologio: \n",
            "Iter: 9. Controllo persona: \n",
            "Iter: 9. Controllo borsa: \n",
            "Iter: 9. Controllo orologio: \n",
            "Immagine 139\n",
            "\t File: /content/drive/My Drive/universita/progetto ml/non_pub/2019-02-19_14-26-11_UTC.json\n"
          ],
          "name": "stdout"
        },
        {
          "output_type": "stream",
          "text": [
            "I0228 12:43:01.425924 140220390033280 yolo_model.py:59] time: 0.25955724716186523\n"
          ],
          "name": "stderr"
        },
        {
          "output_type": "stream",
          "text": [
            "\tperson, 0.9991955757141113, [0.0724434  0.02394286 0.9652885  0.9832245 ]\n",
            "Iter: 0. Controllo persona: \n",
            "Iter: 0. Persona trovata: \n",
            "Score: 0.9991956\n",
            "Iter: 0. Controllo borsa: \n",
            "Iter: 0. Controllo orologio: \n",
            "Immagine 140\n",
            "\t File: /content/drive/My Drive/universita/progetto ml/non_pub/2019-02-19_16-11-52_UTC.json\n"
          ],
          "name": "stdout"
        },
        {
          "output_type": "stream",
          "text": [
            "I0228 12:43:07.076462 140220390033280 yolo_model.py:59] time: 0.23137426376342773\n"
          ],
          "name": "stderr"
        },
        {
          "output_type": "stream",
          "text": [
            "\tperson, 0.9811877608299255, [0.24612807 0.27298224 0.56429386 0.70183706]\n",
            "\tperson, 0.9521039724349976, [0.26877865 0.04445317 1.         0.9779743 ]\n",
            "Iter: 0. Controllo persona: \n",
            "Iter: 0. Persona trovata: \n",
            "Score: 0.98118776\n",
            "Iter: 0. Controllo borsa: \n",
            "Iter: 0. Controllo orologio: \n",
            "Iter: 1. Controllo persona: \n",
            "Iter: 1. Controllo borsa: \n",
            "Iter: 1. Controllo orologio: \n",
            "Immagine 141\n",
            "\t File: /content/drive/My Drive/universita/progetto ml/non_pub/2019-02-20_16-42-12_UTC.json\n"
          ],
          "name": "stdout"
        },
        {
          "output_type": "stream",
          "text": [
            "I0228 12:43:10.146920 140220390033280 yolo_model.py:59] time: 0.2214798927307129\n"
          ],
          "name": "stderr"
        },
        {
          "output_type": "stream",
          "text": [
            "\tperson, 0.9987118244171143, [0.05894578 0.01650742 0.92687094 1.        ]\n",
            "\tperson, 0.9941422939300537, [0.         0.05222389 0.23867561 0.95240724]\n",
            "\tperson, 0.9695598483085632, [0.6156397  0.45550206 0.98243594 0.9989984 ]\n",
            "\tperson, 0.567588746547699, [0.74275154 0.21146631 0.9119533  0.4318009 ]\n",
            "Iter: 0. Controllo persona: \n",
            "Iter: 0. Persona trovata: \n",
            "Score: 0.9987118\n",
            "Iter: 0. Controllo borsa: \n",
            "Iter: 0. Controllo orologio: \n",
            "Iter: 1. Controllo persona: \n",
            "Iter: 1. Controllo borsa: \n",
            "Iter: 1. Controllo orologio: \n",
            "Iter: 2. Controllo persona: \n",
            "Iter: 2. Controllo borsa: \n",
            "Iter: 2. Controllo orologio: \n",
            "Iter: 3. Controllo persona: \n",
            "Iter: 3. Controllo borsa: \n",
            "Iter: 3. Controllo orologio: \n",
            "Immagine 142\n",
            "\t File: /content/drive/My Drive/universita/progetto ml/non_pub/2019-02-19_18-45-49_UTC.json\n"
          ],
          "name": "stdout"
        },
        {
          "output_type": "stream",
          "text": [
            "I0228 12:43:13.122265 140220390033280 yolo_model.py:59] time: 0.24500751495361328\n"
          ],
          "name": "stderr"
        },
        {
          "output_type": "stream",
          "text": [
            "\tperson, 0.9944484829902649, [0.01483709 0.03796995 0.859318   0.9416742 ]\n",
            "\tperson, 0.9703468084335327, [0.288238  0.2849765 1.        1.       ]\n",
            "Iter: 0. Controllo persona: \n",
            "Iter: 0. Persona trovata: \n",
            "Score: 0.9944485\n",
            "Iter: 0. Controllo borsa: \n",
            "Iter: 0. Controllo orologio: \n",
            "Iter: 1. Controllo persona: \n",
            "Iter: 1. Controllo borsa: \n",
            "Iter: 1. Controllo orologio: \n",
            "Immagine 143\n",
            "\t File: /content/drive/My Drive/universita/progetto ml/non_pub/2019-02-20_16-42-12_UTC.json\n"
          ],
          "name": "stdout"
        },
        {
          "output_type": "stream",
          "text": [
            "I0228 12:43:14.875174 140220390033280 yolo_model.py:59] time: 0.2339169979095459\n"
          ],
          "name": "stderr"
        },
        {
          "output_type": "stream",
          "text": [
            "\tperson, 0.9986573457717896, [0.23572111 0.         0.79199255 1.        ]\n",
            "\tcar, 0.8743194937705994, [0.73105896 0.31636485 0.8683014  0.4224675 ]\n",
            "\tcar, 0.6734247803688049, [0.00635882 0.3029427  0.187194   0.37512165]\n",
            "Iter: 0. Controllo persona: \n",
            "Iter: 0. Persona trovata: \n",
            "Score: 0.99865735\n",
            "Iter: 0. Controllo borsa: \n",
            "Iter: 0. Controllo orologio: \n",
            "Iter: 1. Controllo persona: \n",
            "Iter: 1. Controllo borsa: \n",
            "Iter: 1. Controllo orologio: \n",
            "Iter: 2. Controllo persona: \n",
            "Iter: 2. Controllo borsa: \n",
            "Iter: 2. Controllo orologio: \n",
            "Immagine 144\n",
            "\t File: /content/drive/My Drive/universita/progetto ml/non_pub/2019-02-20_19-40-50_UTC.json\n"
          ],
          "name": "stdout"
        },
        {
          "output_type": "stream",
          "text": [
            "I0228 12:43:17.635720 140220390033280 yolo_model.py:59] time: 0.25104379653930664\n"
          ],
          "name": "stderr"
        },
        {
          "output_type": "stream",
          "text": [
            "\tperson, 0.9988216757774353, [0.04563832 0.05649638 0.36132714 0.99315476]\n",
            "\tperson, 0.9984180331230164, [0.44213256 0.04821569 1.         0.9984327 ]\n",
            "\tperson, 0.9970566034317017, [0.30465484 0.03948525 0.6483463  0.99392414]\n",
            "\tperson, 0.8878939151763916, [0.21203052 0.02103382 0.37469488 0.2591124 ]\n",
            "\tbench, 0.6297937035560608, [0.4060755  0.28004816 1.         0.9987912 ]\n",
            "\tperson, 0.5308825969696045, [0.35126406 0.         0.5313866  0.13257834]\n",
            "\tperson, 0.5278422236442566, [0.44364423 0.00512421 0.71463567 0.24149747]\n",
            "Iter: 0. Controllo persona: \n",
            "Iter: 0. Persona trovata: \n",
            "Score: 0.9988217\n",
            "Iter: 0. Controllo borsa: \n",
            "Iter: 0. Controllo orologio: \n",
            "Iter: 1. Controllo persona: \n",
            "Iter: 1. Controllo borsa: \n",
            "Iter: 1. Controllo orologio: \n",
            "Iter: 2. Controllo persona: \n",
            "Iter: 2. Controllo borsa: \n",
            "Iter: 2. Controllo orologio: \n",
            "Iter: 3. Controllo persona: \n",
            "Iter: 3. Controllo borsa: \n",
            "Iter: 3. Controllo orologio: \n",
            "Iter: 4. Controllo persona: \n",
            "Iter: 4. Controllo borsa: \n",
            "Iter: 4. Controllo orologio: \n",
            "Iter: 5. Controllo persona: \n",
            "Iter: 5. Controllo borsa: \n",
            "Iter: 5. Controllo orologio: \n",
            "Iter: 6. Controllo persona: \n",
            "Iter: 6. Controllo borsa: \n",
            "Iter: 6. Controllo orologio: \n",
            "Immagine 145\n",
            "\t File: /content/drive/My Drive/universita/progetto ml/non_pub/2019-02-20_21-59-15_UTC.json\n"
          ],
          "name": "stdout"
        },
        {
          "output_type": "stream",
          "text": [
            "I0228 12:43:20.563820 140220390033280 yolo_model.py:59] time: 0.25790882110595703\n"
          ],
          "name": "stderr"
        },
        {
          "output_type": "stream",
          "text": [
            "\tperson, 0.9945977330207825, [0.64617324 0.12622096 1.         0.5431489 ]\n",
            "\tperson, 0.9805209040641785, [0.         0.13402304 0.18048704 0.4307131 ]\n",
            "\tperson, 0.9737017154693604, [0.19483203 0.01382262 0.77052915 0.83604646]\n",
            "\tperson, 0.967668354511261, [0.6535774  0.14784083 0.82125014 0.43429813]\n",
            "\tchair, 0.7205703258514404, [0.         0.3660851  0.57406723 0.9865907 ]\n",
            "\tbench, 0.7152477502822876, [0.         0.3660851  0.57406723 0.9865907 ]\n",
            "Iter: 0. Controllo persona: \n",
            "Iter: 0. Persona trovata: \n",
            "Score: 0.99459773\n",
            "Iter: 0. Controllo borsa: \n",
            "Iter: 0. Controllo orologio: \n",
            "Iter: 1. Controllo persona: \n",
            "Iter: 1. Controllo borsa: \n",
            "Iter: 1. Controllo orologio: \n",
            "Iter: 2. Controllo persona: \n",
            "Iter: 2. Controllo borsa: \n",
            "Iter: 2. Controllo orologio: \n",
            "Iter: 3. Controllo persona: \n",
            "Iter: 3. Controllo borsa: \n",
            "Iter: 3. Controllo orologio: \n",
            "Iter: 4. Controllo persona: \n",
            "Iter: 4. Controllo borsa: \n",
            "Iter: 4. Controllo orologio: \n",
            "Iter: 5. Controllo persona: \n",
            "Iter: 5. Controllo borsa: \n",
            "Iter: 5. Controllo orologio: \n",
            "Immagine 146\n",
            "\t File: /content/drive/My Drive/universita/progetto ml/non_pub/2019-02-21_18-25-47_UTC.json\n"
          ],
          "name": "stdout"
        },
        {
          "output_type": "stream",
          "text": [
            "I0228 12:43:24.793104 140220390033280 yolo_model.py:59] time: 0.2379319667816162\n"
          ],
          "name": "stderr"
        },
        {
          "output_type": "stream",
          "text": [
            "\tperson, 0.9984094500541687, [0.16364217 0.01926094 0.8153551  0.9957307 ]\n",
            "\tperson, 0.8823870420455933, [0.74202925 0.31531537 0.9968261  0.9728991 ]\n",
            "\tperson, 0.7295453548431396, [0.00109451 0.18969819 0.2601967  1.        ]\n",
            "Iter: 0. Controllo persona: \n",
            "Iter: 0. Persona trovata: \n",
            "Score: 0.99840945\n",
            "Iter: 0. Controllo borsa: \n",
            "Iter: 0. Controllo orologio: \n",
            "Iter: 1. Controllo persona: \n",
            "Iter: 1. Controllo borsa: \n",
            "Iter: 1. Controllo orologio: \n",
            "Iter: 2. Controllo persona: \n",
            "Iter: 2. Controllo borsa: \n",
            "Iter: 2. Controllo orologio: \n",
            "Immagine 147\n",
            "\t File: /content/drive/My Drive/universita/progetto ml/non_pub/2019-02-21_09-56-26_UTC.json\n"
          ],
          "name": "stdout"
        },
        {
          "output_type": "stream",
          "text": [
            "I0228 12:43:27.636709 140220390033280 yolo_model.py:59] time: 0.2279047966003418\n"
          ],
          "name": "stderr"
        },
        {
          "output_type": "stream",
          "text": [
            "\tperson, 0.9997404217720032, [0.         0.06554601 0.56530803 0.9279778 ]\n",
            "\tperson, 0.9976854920387268, [0.10749257 0.46378124 0.7765839  0.97161806]\n",
            "\tperson, 0.9969385862350464, [0.5175966  0.02694711 0.9999852  0.972597  ]\n",
            "\tchair, 0.55666583776474, [0.02303267 0.73594165 0.23561382 0.9918816 ]\n",
            "\tchair, 0.5178707838058472, [0.        0.5592594 0.8632734 1.       ]\n",
            "Iter: 0. Controllo persona: \n",
            "Iter: 0. Persona trovata: \n",
            "Score: 0.9997404\n",
            "Iter: 0. Controllo borsa: \n",
            "Iter: 0. Controllo orologio: \n",
            "Iter: 1. Controllo persona: \n",
            "Iter: 1. Controllo borsa: \n",
            "Iter: 1. Controllo orologio: \n",
            "Iter: 2. Controllo persona: \n",
            "Iter: 2. Controllo borsa: \n",
            "Iter: 2. Controllo orologio: \n",
            "Iter: 3. Controllo persona: \n",
            "Iter: 3. Controllo borsa: \n",
            "Iter: 3. Controllo orologio: \n",
            "Iter: 4. Controllo persona: \n",
            "Iter: 4. Controllo borsa: \n",
            "Iter: 4. Controllo orologio: \n",
            "Immagine 148\n",
            "\t File: /content/drive/My Drive/universita/progetto ml/non_pub/2019-02-21_09-56-26_UTC.json\n"
          ],
          "name": "stdout"
        },
        {
          "output_type": "stream",
          "text": [
            "I0228 12:43:29.756335 140220390033280 yolo_model.py:59] time: 0.25162553787231445\n"
          ],
          "name": "stderr"
        },
        {
          "output_type": "stream",
          "text": [
            "\tperson, 0.9975917935371399, [0.07511258 0.3469109  0.7764184  0.99770683]\n",
            "\tperson, 0.9972012639045715, [0.        0.        0.5132232 0.8834107]\n",
            "\tperson, 0.966255247592926, [0.43385878 0.05299473 1.         0.9642515 ]\n",
            "\tchair, 0.6868511438369751, [0.08668175 0.3978238  0.88996947 1.        ]\n",
            "Iter: 0. Controllo persona: \n",
            "Iter: 0. Persona trovata: \n",
            "Score: 0.9975918\n",
            "Iter: 0. Controllo borsa: \n",
            "Iter: 0. Controllo orologio: \n",
            "Iter: 1. Controllo persona: \n",
            "Iter: 1. Controllo borsa: \n",
            "Iter: 1. Controllo orologio: \n",
            "Iter: 2. Controllo persona: \n",
            "Iter: 2. Controllo borsa: \n",
            "Iter: 2. Controllo orologio: \n",
            "Iter: 3. Controllo persona: \n",
            "Iter: 3. Controllo borsa: \n",
            "Iter: 3. Controllo orologio: \n",
            "Immagine 149\n",
            "\t File: /content/drive/My Drive/universita/progetto ml/non_pub/2019-02-22_19-56-51_UTC.json\n"
          ],
          "name": "stdout"
        },
        {
          "output_type": "stream",
          "text": [
            "I0228 12:43:35.771455 140220390033280 yolo_model.py:59] time: 0.24065256118774414\n"
          ],
          "name": "stderr"
        },
        {
          "output_type": "stream",
          "text": [
            "\tperson, 0.9981027245521545, [0.0454264  0.09614605 0.7683635  0.99738663]\n",
            "\tperson, 0.9953613877296448, [0.2990824  0.01013401 1.         1.        ]\n",
            "Iter: 0. Controllo persona: \n",
            "Iter: 0. Persona trovata: \n",
            "Score: 0.9981027\n",
            "Iter: 0. Controllo borsa: \n",
            "Iter: 0. Controllo orologio: \n",
            "Iter: 1. Controllo persona: \n",
            "Iter: 1. Controllo borsa: \n",
            "Iter: 1. Controllo orologio: \n",
            "Immagine 150\n",
            "\t File: /content/drive/My Drive/universita/progetto ml/non_pub/2019-02-23_15-35-00_UTC.json\n"
          ],
          "name": "stdout"
        },
        {
          "output_type": "stream",
          "text": [
            "I0228 12:43:38.174695 140220390033280 yolo_model.py:59] time: 0.23239660263061523\n"
          ],
          "name": "stderr"
        },
        {
          "output_type": "stream",
          "text": [
            "\tperson, 0.9999221563339233, [0.23058371 0.2765107  0.5566351  1.        ]\n",
            "\tperson, 0.9987159371376038, [0.48847702 0.27859902 0.7607682  1.        ]\n",
            "\tcar, 0.9860566854476929, [0.07876606 0.45973402 0.20602173 0.5204899 ]\n",
            "\tcar, 0.805816113948822, [0.18002687 0.45808706 0.25646475 0.5084384 ]\n",
            "\ttraffic light, 0.5663626194000244, [0.250891   0.41799968 0.26407924 0.4383195 ]\n",
            "Iter: 0. Controllo persona: \n",
            "Iter: 0. Persona trovata: \n",
            "Score: 0.99992216\n",
            "Iter: 0. Controllo borsa: \n",
            "Iter: 0. Controllo orologio: \n",
            "Iter: 1. Controllo persona: \n",
            "Iter: 1. Controllo borsa: \n",
            "Iter: 1. Controllo orologio: \n",
            "Iter: 2. Controllo persona: \n",
            "Iter: 2. Controllo borsa: \n",
            "Iter: 2. Controllo orologio: \n",
            "Iter: 3. Controllo persona: \n",
            "Iter: 3. Controllo borsa: \n",
            "Iter: 3. Controllo orologio: \n",
            "Iter: 4. Controllo persona: \n",
            "Iter: 4. Controllo borsa: \n",
            "Iter: 4. Controllo orologio: \n",
            "Immagine 151\n",
            "\t File: /content/drive/My Drive/universita/progetto ml/non_pub/2019-02-24_15-23-44_UTC.json\n"
          ],
          "name": "stdout"
        },
        {
          "output_type": "stream",
          "text": [
            "I0228 12:43:41.667271 140220390033280 yolo_model.py:59] time: 0.23086237907409668\n"
          ],
          "name": "stderr"
        },
        {
          "output_type": "stream",
          "text": [
            "\tperson, 0.9978194236755371, [0.12818548 0.06069401 0.6093999  0.95219123]\n",
            "\tcell phone, 0.9891064763069153, [0.3874166  0.09737103 0.47737658 0.22708102]\n",
            "\tperson, 0.9443014860153198, [0.00156099 0.16007358 0.12515372 0.50851   ]\n",
            "Iter: 0. Controllo persona: \n",
            "Iter: 0. Persona trovata: \n",
            "Score: 0.9978194\n",
            "Iter: 0. Controllo borsa: \n",
            "Iter: 0. Controllo orologio: \n",
            "Iter: 1. Controllo persona: \n",
            "Iter: 1. Controllo borsa: \n",
            "Iter: 1. Controllo orologio: \n",
            "Iter: 2. Controllo persona: \n",
            "Iter: 2. Controllo borsa: \n",
            "Iter: 2. Controllo orologio: \n",
            "Immagine 152\n",
            "\t File: /content/drive/My Drive/universita/progetto ml/non_pub/2019-02-24_07-08-04_UTC.json\n"
          ],
          "name": "stdout"
        },
        {
          "output_type": "stream",
          "text": [
            "I0228 12:43:43.940625 140220390033280 yolo_model.py:59] time: 0.26118946075439453\n"
          ],
          "name": "stderr"
        },
        {
          "output_type": "stream",
          "text": [
            "\tperson, 0.9571635127067566, [0.05173439 0.07631636 0.91846985 0.9230996 ]\n",
            "Iter: 0. Controllo persona: \n",
            "Iter: 0. Persona trovata: \n",
            "Score: 0.9571635\n",
            "Iter: 0. Controllo borsa: \n",
            "Iter: 0. Controllo orologio: \n",
            "Immagine 153\n",
            "\t File: /content/drive/My Drive/universita/progetto ml/non_pub/2019-02-24_14-26-22_UTC.json\n"
          ],
          "name": "stdout"
        },
        {
          "output_type": "stream",
          "text": [
            "I0228 12:43:47.115878 140220390033280 yolo_model.py:59] time: 0.2501976490020752\n"
          ],
          "name": "stderr"
        },
        {
          "output_type": "stream",
          "text": [
            "\tperson, 0.9981445670127869, [0.00264916 0.04117391 0.66872144 0.96974075]\n",
            "\tperson, 0.995959997177124, [0.4850803 0.0103966 0.9950623 0.9908595]\n",
            "\tcup, 0.8525095582008362, [0.46306753 0.58837366 0.5218884  0.7743498 ]\n",
            "\tcup, 0.7213464379310608, [0.4759241 0.5909469 0.5310809 0.707386 ]\n",
            "Iter: 0. Controllo persona: \n",
            "Iter: 0. Persona trovata: \n",
            "Score: 0.99814457\n",
            "Iter: 0. Controllo borsa: \n",
            "Iter: 0. Controllo orologio: \n",
            "Iter: 1. Controllo persona: \n",
            "Iter: 1. Controllo borsa: \n",
            "Iter: 1. Controllo orologio: \n",
            "Iter: 2. Controllo persona: \n",
            "Iter: 2. Controllo borsa: \n",
            "Iter: 2. Controllo orologio: \n",
            "Iter: 3. Controllo persona: \n",
            "Iter: 3. Controllo borsa: \n",
            "Iter: 3. Controllo orologio: \n",
            "Immagine 154\n",
            "\t File: /content/drive/My Drive/universita/progetto ml/non_pub/2019-02-24_15-23-44_UTC.json\n"
          ],
          "name": "stdout"
        },
        {
          "output_type": "stream",
          "text": [
            "I0228 12:43:50.302168 140220390033280 yolo_model.py:59] time: 0.2580118179321289\n"
          ],
          "name": "stderr"
        },
        {
          "output_type": "stream",
          "text": [
            "\tperson, 0.997837483882904, [0.30417234 0.0139471  0.86747736 1.        ]\n",
            "Iter: 0. Controllo persona: \n",
            "Iter: 0. Persona trovata: \n",
            "Score: 0.9978375\n",
            "Iter: 0. Controllo borsa: \n",
            "Iter: 0. Controllo orologio: \n",
            "Immagine 155\n",
            "\t File: /content/drive/My Drive/universita/progetto ml/non_pub/2019-02-24_20-24-10_UTC.json\n"
          ],
          "name": "stdout"
        },
        {
          "output_type": "stream",
          "text": [
            "I0228 12:43:54.397331 140220390033280 yolo_model.py:59] time: 0.27662229537963867\n"
          ],
          "name": "stderr"
        },
        {
          "output_type": "stream",
          "text": [
            "\tperson, 0.999883770942688, [0.36652967 0.35699788 0.61042166 0.91984034]\n",
            "Iter: 0. Controllo persona: \n",
            "Iter: 0. Persona trovata: \n",
            "Score: 0.9998838\n",
            "Iter: 0. Controllo borsa: \n",
            "Iter: 0. Controllo orologio: \n",
            "Immagine 156\n",
            "\t File: /content/drive/My Drive/universita/progetto ml/non_pub/2019-02-25_15-16-13_UTC.json\n"
          ],
          "name": "stdout"
        },
        {
          "output_type": "stream",
          "text": [
            "I0228 12:43:57.070175 140220390033280 yolo_model.py:59] time: 0.23153185844421387\n"
          ],
          "name": "stderr"
        },
        {
          "output_type": "stream",
          "text": [
            "\tperson, 0.9885748028755188, [0.603755   0.03442609 0.8943726  0.8232389 ]\n",
            "\ttie, 0.7374058365821838, [0.6749214 0.1689662 0.7333559 0.3060108]\n",
            "Iter: 0. Controllo persona: \n",
            "Iter: 0. Persona trovata: \n",
            "Score: 0.9885748\n",
            "Iter: 0. Controllo borsa: \n",
            "Iter: 0. Controllo orologio: \n",
            "Iter: 1. Controllo persona: \n",
            "Iter: 1. Controllo borsa: \n",
            "Iter: 1. Controllo orologio: \n",
            "Immagine 157\n",
            "\t File: /content/drive/My Drive/universita/progetto ml/non_pub/2019-02-25_15-16-13_UTC.json\n"
          ],
          "name": "stdout"
        },
        {
          "output_type": "stream",
          "text": [
            "I0228 12:43:58.945872 140220390033280 yolo_model.py:59] time: 0.23519611358642578\n"
          ],
          "name": "stderr"
        },
        {
          "output_type": "stream",
          "text": [
            "\tperson, 0.9958405494689941, [0.6681596  0.28572744 0.84683526 0.6874225 ]\n",
            "Iter: 0. Controllo persona: \n",
            "Iter: 0. Persona trovata: \n",
            "Score: 0.99584055\n",
            "Iter: 0. Controllo borsa: \n",
            "Iter: 0. Controllo orologio: \n",
            "Immagine 158\n",
            "\t File: /content/drive/My Drive/universita/progetto ml/non_pub/2019-02-25_15-16-13_UTC.json\n"
          ],
          "name": "stdout"
        },
        {
          "output_type": "stream",
          "text": [
            "I0228 12:44:02.120473 140220390033280 yolo_model.py:59] time: 0.2349231243133545\n"
          ],
          "name": "stderr"
        },
        {
          "output_type": "stream",
          "text": [
            "\tperson, 0.9602910280227661, [0.01787424 0.03032172 0.83632064 0.9827466 ]\n",
            "\tperson, 0.8411046862602234, [0.38500914 0.09528169 0.94087636 0.9601275 ]\n",
            "\ttie, 0.6012778282165527, [0.5319045  0.38308895 0.64287204 0.4459296 ]\n",
            "\ttie, 0.5243618488311768, [0.5040774  0.34587225 0.6398466  0.45450774]\n",
            "Iter: 0. Controllo persona: \n",
            "Iter: 0. Persona trovata: \n",
            "Score: 0.960291\n",
            "Iter: 0. Controllo borsa: \n",
            "Iter: 0. Controllo orologio: \n",
            "Iter: 1. Controllo persona: \n",
            "Iter: 1. Controllo borsa: \n",
            "Iter: 1. Controllo orologio: \n",
            "Iter: 2. Controllo persona: \n",
            "Iter: 2. Controllo borsa: \n",
            "Iter: 2. Controllo orologio: \n",
            "Iter: 3. Controllo persona: \n",
            "Iter: 3. Controllo borsa: \n",
            "Iter: 3. Controllo orologio: \n",
            "Immagine 159\n",
            "\t File: /content/drive/My Drive/universita/progetto ml/non_pub/2019-02-25_07-40-21_UTC.json\n"
          ],
          "name": "stdout"
        },
        {
          "output_type": "stream",
          "text": [
            "I0228 12:44:07.436519 140220390033280 yolo_model.py:59] time: 0.23897099494934082\n"
          ],
          "name": "stderr"
        },
        {
          "output_type": "stream",
          "text": [
            "\tperson, 0.9507903456687927, [0.7023159  0.06367937 0.9447682  0.9706868 ]\n",
            "Iter: 0. Controllo persona: \n",
            "Iter: 0. Persona trovata: \n",
            "Score: 0.95079035\n",
            "Iter: 0. Controllo borsa: \n",
            "Iter: 0. Controllo orologio: \n",
            "Immagine 160\n",
            "\t File: /content/drive/My Drive/universita/progetto ml/non_pub/2019-02-25_07-40-21_UTC.json\n"
          ],
          "name": "stdout"
        },
        {
          "output_type": "stream",
          "text": [
            "I0228 12:44:09.198366 140220390033280 yolo_model.py:59] time: 0.22463512420654297\n"
          ],
          "name": "stderr"
        },
        {
          "output_type": "stream",
          "text": [
            "Immagine 161\n",
            "\t File: /content/drive/My Drive/universita/progetto ml/non_pub/2019-02-25_15-16-13_UTC.json\n"
          ],
          "name": "stdout"
        },
        {
          "output_type": "stream",
          "text": [
            "I0228 12:44:11.703471 140220390033280 yolo_model.py:59] time: 0.2651348114013672\n"
          ],
          "name": "stderr"
        },
        {
          "output_type": "stream",
          "text": [
            "\tperson, 0.9987043142318726, [0.19400786 0.0233638  0.56403345 1.        ]\n",
            "\tperson, 0.9343599677085876, [0.4778033  0.00740665 0.8191033  1.        ]\n",
            "\ttie, 0.8928423523902893, [0.35722926 0.19892725 0.43166104 0.23558596]\n",
            "Iter: 0. Controllo persona: \n",
            "Iter: 0. Persona trovata: \n",
            "Score: 0.9987043\n",
            "Iter: 0. Controllo borsa: \n",
            "Iter: 0. Controllo orologio: \n",
            "Iter: 1. Controllo persona: \n",
            "Iter: 1. Controllo borsa: \n",
            "Iter: 1. Controllo orologio: \n",
            "Iter: 2. Controllo persona: \n",
            "Iter: 2. Controllo borsa: \n",
            "Iter: 2. Controllo orologio: \n",
            "Immagine 162\n",
            "\t File: /content/drive/My Drive/universita/progetto ml/non_pub/2019-02-25_15-16-13_UTC.json\n"
          ],
          "name": "stdout"
        },
        {
          "output_type": "stream",
          "text": [
            "I0228 12:44:16.291156 140220390033280 yolo_model.py:59] time: 0.23094987869262695\n"
          ],
          "name": "stderr"
        },
        {
          "output_type": "stream",
          "text": [
            "\tperson, 0.998577892780304, [0.06533438 0.10984176 0.76687944 0.99473315]\n",
            "\tperson, 0.9969377517700195, [0.67219186 0.32302085 0.9778173  0.99172413]\n",
            "Iter: 0. Controllo persona: \n",
            "Iter: 0. Persona trovata: \n",
            "Score: 0.9985779\n",
            "Iter: 0. Controllo borsa: \n",
            "Iter: 0. Controllo orologio: \n",
            "Iter: 1. Controllo persona: \n",
            "Iter: 1. Controllo borsa: \n",
            "Iter: 1. Controllo orologio: \n",
            "Immagine 163\n",
            "\t File: /content/drive/My Drive/universita/progetto ml/non_pub/2019-02-26_16-52-40_UTC.json\n"
          ],
          "name": "stdout"
        },
        {
          "output_type": "stream",
          "text": [
            "I0228 12:44:18.738531 140220390033280 yolo_model.py:59] time: 0.2579681873321533\n"
          ],
          "name": "stderr"
        },
        {
          "output_type": "stream",
          "text": [
            "\tperson, 0.993682861328125, [0.00275091 0.26935726 0.09739412 0.44304782]\n",
            "\tperson, 0.9899016618728638, [0.02217482 0.26426575 0.47011316 1.        ]\n",
            "\tperson, 0.9007620215415955, [0.38086957 0.2976347  0.4783551  0.45229223]\n",
            "\tperson, 0.7549460530281067, [0.46355152 0.24642745 0.87997675 0.76944566]\n",
            "\tchair, 0.5888112783432007, [0.00375935 0.48619685 0.35411438 0.9869487 ]\n",
            "Iter: 0. Controllo persona: \n",
            "Iter: 0. Persona trovata: \n",
            "Score: 0.99368286\n",
            "Iter: 0. Controllo borsa: \n",
            "Iter: 0. Controllo orologio: \n",
            "Iter: 1. Controllo persona: \n",
            "Iter: 1. Controllo borsa: \n",
            "Iter: 1. Controllo orologio: \n",
            "Iter: 2. Controllo persona: \n",
            "Iter: 2. Controllo borsa: \n",
            "Iter: 2. Controllo orologio: \n",
            "Iter: 3. Controllo persona: \n",
            "Iter: 3. Controllo borsa: \n",
            "Iter: 3. Controllo orologio: \n",
            "Iter: 4. Controllo persona: \n",
            "Iter: 4. Controllo borsa: \n",
            "Iter: 4. Controllo orologio: \n",
            "Immagine 164\n",
            "\t File: /content/drive/My Drive/universita/progetto ml/non_pub/2019-02-25_17-29-56_UTC.json\n"
          ],
          "name": "stdout"
        },
        {
          "output_type": "stream",
          "text": [
            "I0228 12:44:22.287442 140220390033280 yolo_model.py:59] time: 0.23212766647338867\n"
          ],
          "name": "stderr"
        },
        {
          "output_type": "stream",
          "text": [
            "\tperson, 0.9999510049819946, [0.41848022 0.         0.8005052  1.        ]\n",
            "\tperson, 0.9999419450759888, [0.14795977 0.0072282  0.49919498 0.9677934 ]\n",
            "\tcar, 0.9789978265762329, [0.89696443 0.115854   0.99983287 0.20540452]\n",
            "\tcar, 0.9318513870239258, [0.66929084 0.10616063 0.74067324 0.15536551]\n",
            "\thandbag, 0.8714050650596619, [0.16598712 0.14255062 0.25976366 0.4547933 ]\n",
            "\tcar, 0.8694235682487488, [0.72940445 0.11349148 0.78128994 0.16758561]\n",
            "\tcell phone, 0.8300095200538635, [0.3279581  0.23350263 0.38530028 0.27740413]\n",
            "\tcar, 0.6030005812644958, [0.43770975 0.10324152 0.49864358 0.1403428 ]\n",
            "Iter: 0. Controllo persona: \n",
            "Iter: 0. Persona trovata: \n",
            "Score: 0.999951\n",
            "Iter: 0. Controllo borsa: \n",
            "Iter: 0. Controllo orologio: \n",
            "Iter: 1. Controllo persona: \n",
            "Iter: 1. Controllo borsa: \n",
            "Iter: 1. Controllo orologio: \n",
            "Iter: 2. Controllo persona: \n",
            "Iter: 2. Controllo borsa: \n",
            "Iter: 2. Controllo orologio: \n",
            "Iter: 3. Controllo persona: \n",
            "Iter: 3. Controllo borsa: \n",
            "Iter: 3. Controllo orologio: \n",
            "Iter: 4. Controllo persona: \n",
            "Iter: 4. Controllo borsa: \n",
            "Iter: 4. Borsa trovata: \n",
            "Score: 0.87140507\n",
            "Iter: 4. Controllo orologio: \n",
            "Iter: 5. Controllo persona: \n",
            "Iter: 5. Controllo borsa: \n",
            "Iter: 5. Controllo orologio: \n",
            "Iter: 6. Controllo persona: \n",
            "Iter: 6. Controllo borsa: \n",
            "Iter: 6. Controllo orologio: \n",
            "Iter: 7. Controllo persona: \n",
            "Iter: 7. Controllo borsa: \n",
            "Iter: 7. Controllo orologio: \n",
            "Immagine 165\n",
            "\t File: /content/drive/My Drive/universita/progetto ml/non_pub/2019-02-25_15-16-13_UTC.json\n"
          ],
          "name": "stdout"
        },
        {
          "output_type": "stream",
          "text": [
            "I0228 12:44:24.100517 140220390033280 yolo_model.py:59] time: 0.2269296646118164\n"
          ],
          "name": "stderr"
        },
        {
          "output_type": "stream",
          "text": [
            "\tperson, 0.9988247156143188, [0.5101905 0.        0.913779  1.       ]\n",
            "\tperson, 0.9746318459510803, [0.18666759 0.03449437 0.5460706  1.        ]\n",
            "\ttie, 0.9108840227127075, [0.67941403 0.19003493 0.7469064  0.22071895]\n",
            "Iter: 0. Controllo persona: \n",
            "Iter: 0. Persona trovata: \n",
            "Score: 0.9988247\n",
            "Iter: 0. Controllo borsa: \n",
            "Iter: 0. Controllo orologio: \n",
            "Iter: 1. Controllo persona: \n",
            "Iter: 1. Controllo borsa: \n",
            "Iter: 1. Controllo orologio: \n",
            "Iter: 2. Controllo persona: \n",
            "Iter: 2. Controllo borsa: \n",
            "Iter: 2. Controllo orologio: \n",
            "Immagine 166\n",
            "\t File: /content/drive/My Drive/universita/progetto ml/non_pub/2019-02-26_12-31-00_UTC.json\n"
          ],
          "name": "stdout"
        },
        {
          "output_type": "stream",
          "text": [
            "I0228 12:44:26.426129 140220390033280 yolo_model.py:59] time: 0.23953962326049805\n"
          ],
          "name": "stderr"
        },
        {
          "output_type": "stream",
          "text": [
            "\tperson, 0.9804397821426392, [0.06188831 0.04141647 0.9215021  0.9382772 ]\n",
            "Iter: 0. Controllo persona: \n",
            "Iter: 0. Persona trovata: \n",
            "Score: 0.9804398\n",
            "Iter: 0. Controllo borsa: \n",
            "Iter: 0. Controllo orologio: \n",
            "Immagine 167\n",
            "\t File: /content/drive/My Drive/universita/progetto ml/non_pub/2019-02-26_19-27-05_UTC.json\n"
          ],
          "name": "stdout"
        },
        {
          "output_type": "stream",
          "text": [
            "I0228 12:44:28.715612 140220390033280 yolo_model.py:59] time: 0.22412562370300293\n"
          ],
          "name": "stderr"
        },
        {
          "output_type": "stream",
          "text": [
            "\tperson, 0.9957008361816406, [0.06193763 0.01763469 0.94192547 0.960044  ]\n",
            "Iter: 0. Controllo persona: \n",
            "Iter: 0. Persona trovata: \n",
            "Score: 0.99570084\n",
            "Iter: 0. Controllo borsa: \n",
            "Iter: 0. Controllo orologio: \n",
            "Immagine 168\n",
            "\t File: /content/drive/My Drive/universita/progetto ml/non_pub/2019-09-01_18-00-10_UTC.json\n"
          ],
          "name": "stdout"
        },
        {
          "output_type": "stream",
          "text": [
            "I0228 12:44:34.379344 140220390033280 yolo_model.py:59] time: 0.23096036911010742\n"
          ],
          "name": "stderr"
        },
        {
          "output_type": "stream",
          "text": [
            "\tperson, 0.9996797442436218, [0.         0.19696859 0.6755915  0.9553615 ]\n",
            "\twine glass, 0.9965401291847229, [0.31176913 0.6218623  0.56013525 0.9682505 ]\n",
            "\tperson, 0.9821669459342957, [0.4587315  0.09391853 1.         0.99797344]\n",
            "\tperson, 0.9232945442199707, [0.01816519 0.08805548 0.08633377 0.15564033]\n",
            "\twine glass, 0.914155900478363, [0.07523699 0.6383946  0.3213014  0.95464134]\n",
            "\tperson, 0.9123817086219788, [0.09312072 0.09187274 0.14345902 0.14571585]\n",
            "\tperson, 0.8840615749359131, [0.34902692 0.06898634 0.39553457 0.18475299]\n",
            "\tchair, 0.7755751013755798, [0.35835674 0.1736502  0.4004129  0.23085812]\n",
            "\tchair, 0.6229143142700195, [0.         0.2774213  0.13123783 0.5136576 ]\n",
            "\tdiningtable, 0.5524003505706787, [0.00081266 0.2515883  0.13011011 0.4911714 ]\n",
            "Iter: 0. Controllo persona: \n",
            "Iter: 0. Persona trovata: \n",
            "Score: 0.99967974\n",
            "Iter: 0. Controllo borsa: \n",
            "Iter: 0. Controllo orologio: \n",
            "Iter: 1. Controllo persona: \n",
            "Iter: 1. Controllo borsa: \n",
            "Iter: 1. Controllo orologio: \n",
            "Iter: 2. Controllo persona: \n",
            "Iter: 2. Controllo borsa: \n",
            "Iter: 2. Controllo orologio: \n",
            "Iter: 3. Controllo persona: \n",
            "Iter: 3. Controllo borsa: \n",
            "Iter: 3. Controllo orologio: \n",
            "Iter: 4. Controllo persona: \n",
            "Iter: 4. Controllo borsa: \n",
            "Iter: 4. Controllo orologio: \n",
            "Iter: 5. Controllo persona: \n",
            "Iter: 5. Controllo borsa: \n",
            "Iter: 5. Controllo orologio: \n",
            "Iter: 6. Controllo persona: \n",
            "Iter: 6. Controllo borsa: \n",
            "Iter: 6. Controllo orologio: \n",
            "Iter: 7. Controllo persona: \n",
            "Iter: 7. Controllo borsa: \n",
            "Iter: 7. Controllo orologio: \n",
            "Iter: 8. Controllo persona: \n",
            "Iter: 8. Controllo borsa: \n",
            "Iter: 8. Controllo orologio: \n",
            "Iter: 9. Controllo persona: \n",
            "Iter: 9. Controllo borsa: \n",
            "Iter: 9. Controllo orologio: \n",
            "Immagine 169\n",
            "\t File: /content/drive/My Drive/universita/progetto ml/non_pub/2019-10-28_15-19-20_UTC.json\n",
            "Errore nell'apertura del file\n",
            "Immagine 170\n",
            "\t File: /content/drive/My Drive/universita/progetto ml/non_pub/2020-01-22_15-51-27_UTC.json\n"
          ],
          "name": "stdout"
        },
        {
          "output_type": "stream",
          "text": [
            "I0228 12:44:37.330974 140220390033280 yolo_model.py:59] time: 0.25316667556762695\n"
          ],
          "name": "stderr"
        },
        {
          "output_type": "stream",
          "text": [
            "\tperson, 0.9991050958633423, [0.2479656  0.1963301  0.7949052  0.91050255]\n",
            "\tcar, 0.6397507190704346, [0.20820805 0.25170752 0.77940905 0.44772527]\n",
            "\tcar, 0.6034313440322876, [0.08392048 0.27514574 0.62114775 0.5112159 ]\n",
            "\tperson, 0.5834916234016418, [0.03434142 0.28855315 0.10414614 0.3918353 ]\n",
            "Iter: 0. Controllo persona: \n",
            "Iter: 0. Persona trovata: \n",
            "Score: 0.9991051\n",
            "Iter: 0. Controllo borsa: \n",
            "Iter: 0. Controllo orologio: \n",
            "Iter: 1. Controllo persona: \n",
            "Iter: 1. Controllo borsa: \n",
            "Iter: 1. Controllo orologio: \n",
            "Iter: 2. Controllo persona: \n",
            "Iter: 2. Controllo borsa: \n",
            "Iter: 2. Controllo orologio: \n",
            "Iter: 3. Controllo persona: \n",
            "Iter: 3. Controllo borsa: \n",
            "Iter: 3. Controllo orologio: \n",
            "Immagine 171\n",
            "\t File: /content/drive/My Drive/universita/progetto ml/non_pub/2020-01-22_15-51-27_UTC.json\n"
          ],
          "name": "stdout"
        },
        {
          "output_type": "stream",
          "text": [
            "I0228 12:44:39.754971 140220390033280 yolo_model.py:59] time: 0.23676538467407227\n"
          ],
          "name": "stderr"
        },
        {
          "output_type": "stream",
          "text": [
            "\tcar, 0.9991939067840576, [0.5657362  0.27122456 0.92285156 0.42218643]\n",
            "\tperson, 0.9979382753372192, [0.2641555  0.15296444 0.591228   0.90819645]\n",
            "\tperson, 0.9387920498847961, [0.73185605 0.2438063  0.75456804 0.28361386]\n",
            "\tperson, 0.9364224672317505, [0.7545055  0.2500676  0.79137886 0.3080626 ]\n",
            "\tperson, 0.820855438709259, [0.6006391  0.23060156 0.64327645 0.26654747]\n",
            "Iter: 0. Controllo persona: \n",
            "Iter: 0. Controllo borsa: \n",
            "Iter: 0. Controllo orologio: \n",
            "Iter: 1. Controllo persona: \n",
            "Iter: 1. Persona trovata: \n",
            "Score: 0.9979383\n",
            "Iter: 1. Controllo borsa: \n",
            "Iter: 1. Controllo orologio: \n",
            "Iter: 2. Controllo persona: \n",
            "Iter: 2. Controllo borsa: \n",
            "Iter: 2. Controllo orologio: \n",
            "Iter: 3. Controllo persona: \n",
            "Iter: 3. Controllo borsa: \n",
            "Iter: 3. Controllo orologio: \n",
            "Iter: 4. Controllo persona: \n",
            "Iter: 4. Controllo borsa: \n",
            "Iter: 4. Controllo orologio: \n",
            "Immagine 172\n",
            "\t File: /content/drive/My Drive/universita/progetto ml/non_pub/2019-12-27_00-45-31_UTC.json\n"
          ],
          "name": "stdout"
        },
        {
          "output_type": "stream",
          "text": [
            "I0228 12:44:42.990022 140220390033280 yolo_model.py:59] time: 0.24433302879333496\n"
          ],
          "name": "stderr"
        },
        {
          "output_type": "stream",
          "text": [
            "\tbench, 0.9592985510826111, [0.10614526 0.23265517 0.9995048  0.93588185]\n",
            "\tperson, 0.9223619103431702, [0.06571764 0.07048512 0.7913771  0.9406308 ]\n",
            "Iter: 0. Controllo persona: \n",
            "Iter: 0. Controllo borsa: \n",
            "Iter: 0. Controllo orologio: \n",
            "Iter: 1. Controllo persona: \n",
            "Iter: 1. Persona trovata: \n",
            "Score: 0.9223619\n",
            "Iter: 1. Controllo borsa: \n",
            "Iter: 1. Controllo orologio: \n",
            "Immagine 173\n",
            "\t File: /content/drive/My Drive/universita/progetto ml/non_pub/2019-12-27_16-27-35_UTC.json\n",
            "Errore nell'apertura del file\n",
            "Immagine 174\n",
            "\t File: /content/drive/My Drive/universita/progetto ml/non_pub/2019-12-27_00-45-31_UTC.json\n"
          ],
          "name": "stdout"
        },
        {
          "output_type": "stream",
          "text": [
            "I0228 12:44:48.819472 140220390033280 yolo_model.py:59] time: 0.25096678733825684\n"
          ],
          "name": "stderr"
        },
        {
          "output_type": "stream",
          "text": [
            "\tperson, 0.9997400641441345, [0.22394106 0.         0.5591279  1.        ]\n",
            "\tbench, 0.7581606507301331, [0.20478424 0.43811327 0.982618   1.        ]\n",
            "Iter: 0. Controllo persona: \n",
            "Iter: 0. Persona trovata: \n",
            "Score: 0.99974006\n",
            "Iter: 0. Controllo borsa: \n",
            "Iter: 0. Controllo orologio: \n",
            "Iter: 1. Controllo persona: \n",
            "Iter: 1. Controllo borsa: \n",
            "Iter: 1. Controllo orologio: \n",
            "Immagine 175\n",
            "\t File: /content/drive/My Drive/universita/progetto ml/non_pub/2019-12-27_00-45-31_UTC.json\n"
          ],
          "name": "stdout"
        },
        {
          "output_type": "stream",
          "text": [
            "I0228 12:44:52.624288 140220390033280 yolo_model.py:59] time: 0.24220895767211914\n"
          ],
          "name": "stderr"
        },
        {
          "output_type": "stream",
          "text": [
            "\tperson, 0.9997223019599915, [0.03832659 0.33393627 0.68094087 1.        ]\n",
            "\tbench, 0.9325369596481323, [0.17242399 0.46823204 0.98054254 0.9965372 ]\n",
            "Iter: 0. Controllo persona: \n",
            "Iter: 0. Persona trovata: \n",
            "Score: 0.9997223\n",
            "Iter: 0. Controllo borsa: \n",
            "Iter: 0. Controllo orologio: \n",
            "Iter: 1. Controllo persona: \n",
            "Iter: 1. Controllo borsa: \n",
            "Iter: 1. Controllo orologio: \n",
            "Immagine 176\n",
            "\t File: /content/drive/My Drive/universita/progetto ml/non_pub/2014-01-02_20-22-51_UTC.json\n"
          ],
          "name": "stdout"
        },
        {
          "output_type": "stream",
          "text": [
            "I0228 12:44:54.830874 140220390033280 yolo_model.py:59] time: 0.23962879180908203\n"
          ],
          "name": "stderr"
        },
        {
          "output_type": "stream",
          "text": [
            "\tperson, 0.9992092847824097, [0.46916193 0.0174922  1.         0.9828026 ]\n",
            "\tperson, 0.9979730844497681, [0.06127954 0.15906736 0.78480613 1.        ]\n",
            "Iter: 0. Controllo persona: \n",
            "Iter: 0. Persona trovata: \n",
            "Score: 0.9992093\n",
            "Iter: 0. Controllo borsa: \n",
            "Iter: 0. Controllo orologio: \n",
            "Iter: 1. Controllo persona: \n",
            "Iter: 1. Controllo borsa: \n",
            "Iter: 1. Controllo orologio: \n",
            "Immagine 177\n",
            "\t File: /content/drive/My Drive/universita/progetto ml/non_pub/2020-02-11_05-16-03_UTC.json\n"
          ],
          "name": "stdout"
        },
        {
          "output_type": "stream",
          "text": [
            "I0228 12:44:57.275697 140220390033280 yolo_model.py:59] time: 0.24940872192382812\n"
          ],
          "name": "stderr"
        },
        {
          "output_type": "stream",
          "text": [
            "\tperson, 0.9765045642852783, [0.28099078 0.14217314 0.84755415 0.9713918 ]\n",
            "\tbench, 0.6917966604232788, [0.1806553  0.30782023 0.95733136 0.9903599 ]\n",
            "Iter: 0. Controllo persona: \n",
            "Iter: 0. Persona trovata: \n",
            "Score: 0.97650456\n",
            "Iter: 0. Controllo borsa: \n",
            "Iter: 0. Controllo orologio: \n",
            "Iter: 1. Controllo persona: \n",
            "Iter: 1. Controllo borsa: \n",
            "Iter: 1. Controllo orologio: \n",
            "Immagine 178\n",
            "\t File: /content/drive/My Drive/universita/progetto ml/non_pub/2020-02-11_05-16-03_UTC.json\n"
          ],
          "name": "stdout"
        },
        {
          "output_type": "stream",
          "text": [
            "I0228 12:44:59.424464 140220390033280 yolo_model.py:59] time: 0.23696541786193848\n"
          ],
          "name": "stderr"
        },
        {
          "output_type": "stream",
          "text": [
            "\tperson, 0.9986881017684937, [0.3016733  0.09512803 0.6983893  0.93066096]\n",
            "Iter: 0. Controllo persona: \n",
            "Iter: 0. Persona trovata: \n",
            "Score: 0.9986881\n",
            "Iter: 0. Controllo borsa: \n",
            "Iter: 0. Controllo orologio: \n",
            "Immagine 179\n",
            "\t File: /content/drive/My Drive/universita/progetto ml/non_pub/2014-01-02_19-10-02_UTC.json\n"
          ],
          "name": "stdout"
        },
        {
          "output_type": "stream",
          "text": [
            "I0228 12:45:02.955576 140220390033280 yolo_model.py:59] time: 0.2773261070251465\n"
          ],
          "name": "stderr"
        },
        {
          "output_type": "stream",
          "text": [
            "\tperson, 0.9996501207351685, [0.4365184  0.03928602 0.72208    1.        ]\n",
            "\tperson, 0.9992412328720093, [0.19689424 0.14802167 0.48355156 1.        ]\n",
            "Iter: 0. Controllo persona: \n",
            "Iter: 0. Persona trovata: \n",
            "Score: 0.9996501\n",
            "Iter: 0. Controllo borsa: \n",
            "Iter: 0. Controllo orologio: \n",
            "Iter: 1. Controllo persona: \n",
            "Iter: 1. Controllo borsa: \n",
            "Iter: 1. Controllo orologio: \n",
            "Immagine 180\n",
            "\t File: /content/drive/My Drive/universita/progetto ml/non_pub/2020-02-14_22-46-40_UTC.json\n"
          ],
          "name": "stdout"
        },
        {
          "output_type": "stream",
          "text": [
            "I0228 12:45:05.199863 140220390033280 yolo_model.py:59] time: 0.2775282859802246\n"
          ],
          "name": "stderr"
        },
        {
          "output_type": "stream",
          "text": [
            "\tperson, 0.9977658987045288, [0.01094672 0.14462265 0.9725404  1.        ]\n",
            "Iter: 0. Controllo persona: \n",
            "Iter: 0. Persona trovata: \n",
            "Score: 0.9977659\n",
            "Iter: 0. Controllo borsa: \n",
            "Iter: 0. Controllo orologio: \n",
            "Immagine 181\n",
            "\t File: /content/drive/My Drive/universita/progetto ml/non_pub/2014-01-03_16-06-11_UTC.json\n"
          ],
          "name": "stdout"
        },
        {
          "output_type": "stream",
          "text": [
            "I0228 12:45:14.672048 140220390033280 yolo_model.py:59] time: 0.26366543769836426\n"
          ],
          "name": "stderr"
        },
        {
          "output_type": "stream",
          "text": [
            "\tperson, 0.9858376979827881, [0.10672963 0.06786588 0.9160713  0.9668    ]\n",
            "Iter: 0. Controllo persona: \n",
            "Iter: 0. Persona trovata: \n",
            "Score: 0.9858377\n",
            "Iter: 0. Controllo borsa: \n",
            "Iter: 0. Controllo orologio: \n",
            "Immagine 182\n",
            "\t File: /content/drive/My Drive/universita/progetto ml/non_pub/2014-01-04_17-25-35_UTC.json\n"
          ],
          "name": "stdout"
        },
        {
          "output_type": "stream",
          "text": [
            "I0228 12:45:17.307131 140220390033280 yolo_model.py:59] time: 0.23137331008911133\n"
          ],
          "name": "stderr"
        },
        {
          "output_type": "stream",
          "text": [
            "\tperson, 0.9883670210838318, [0.28630215 0.09992301 1.         0.9048202 ]\n",
            "\tlaptop, 0.5646440386772156, [0.0016025  0.40421966 0.66718733 1.        ]\n",
            "Iter: 0. Controllo persona: \n",
            "Iter: 0. Persona trovata: \n",
            "Score: 0.988367\n",
            "Iter: 0. Controllo borsa: \n",
            "Iter: 0. Controllo orologio: \n",
            "Iter: 1. Controllo persona: \n",
            "Iter: 1. Controllo borsa: \n",
            "Iter: 1. Controllo orologio: \n",
            "Immagine 183\n",
            "\t File: /content/drive/My Drive/universita/progetto ml/non_pub/2014-01-04_12-23-41_UTC.json\n"
          ],
          "name": "stdout"
        },
        {
          "output_type": "stream",
          "text": [
            "I0228 12:45:19.926077 140220390033280 yolo_model.py:59] time: 0.23054218292236328\n"
          ],
          "name": "stderr"
        },
        {
          "output_type": "stream",
          "text": [
            "\tperson, 0.9995617866516113, [0.1276556  0.25936547 0.7460638  0.8852458 ]\n",
            "Iter: 0. Controllo persona: \n",
            "Iter: 0. Persona trovata: \n",
            "Score: 0.9995618\n",
            "Iter: 0. Controllo borsa: \n",
            "Iter: 0. Controllo orologio: \n",
            "Immagine 184\n",
            "\t File: /content/drive/My Drive/universita/progetto ml/non_pub/2014-01-05_12-46-45_UTC.json\n"
          ],
          "name": "stdout"
        },
        {
          "output_type": "stream",
          "text": [
            "I0228 12:45:21.904611 140220390033280 yolo_model.py:59] time: 0.25768542289733887\n"
          ],
          "name": "stderr"
        },
        {
          "output_type": "stream",
          "text": [
            "\tperson, 0.9889549016952515, [0.02520162 0.04327658 0.9628461  0.94837785]\n",
            "Iter: 0. Controllo persona: \n",
            "Iter: 0. Persona trovata: \n",
            "Score: 0.9889549\n",
            "Iter: 0. Controllo borsa: \n",
            "Iter: 0. Controllo orologio: \n",
            "Immagine 185\n",
            "\t File: /content/drive/My Drive/universita/progetto ml/non_pub/2014-01-05_19-36-37_UTC.json\n"
          ],
          "name": "stdout"
        },
        {
          "output_type": "stream",
          "text": [
            "I0228 12:45:26.822540 140220390033280 yolo_model.py:59] time: 0.24223995208740234\n"
          ],
          "name": "stderr"
        },
        {
          "output_type": "stream",
          "text": [
            "\tperson, 0.8099321722984314, [0.35924655 0.32198244 0.58116704 0.5561389 ]\n",
            "\tstop sign, 0.5164547562599182, [0.37349772 0.5261263  0.50719476 0.614147  ]\n",
            "Iter: 0. Controllo persona: \n",
            "Iter: 0. Persona trovata: \n",
            "Score: 0.8099322\n",
            "Iter: 0. Controllo borsa: \n",
            "Iter: 0. Controllo orologio: \n",
            "Iter: 1. Controllo persona: \n",
            "Iter: 1. Controllo borsa: \n",
            "Iter: 1. Controllo orologio: \n",
            "Immagine 186\n",
            "\t File: /content/drive/My Drive/universita/progetto ml/non_pub/2014-01-07_18-40-39_UTC.json\n"
          ],
          "name": "stdout"
        },
        {
          "output_type": "stream",
          "text": [
            "I0228 12:45:29.303553 140220390033280 yolo_model.py:59] time: 0.25836610794067383\n"
          ],
          "name": "stderr"
        },
        {
          "output_type": "stream",
          "text": [
            "\tperson, 0.9998575448989868, [0.02147374 0.08517161 0.943583   0.96019685]\n",
            "Iter: 0. Controllo persona: \n",
            "Iter: 0. Persona trovata: \n",
            "Score: 0.99985754\n",
            "Iter: 0. Controllo borsa: \n",
            "Iter: 0. Controllo orologio: \n",
            "Immagine 187\n",
            "\t File: /content/drive/My Drive/universita/progetto ml/non_pub/2014-01-06_08-09-15_UTC.json\n"
          ],
          "name": "stdout"
        },
        {
          "output_type": "stream",
          "text": [
            "I0228 12:45:31.941723 140220390033280 yolo_model.py:59] time: 0.25497913360595703\n"
          ],
          "name": "stderr"
        },
        {
          "output_type": "stream",
          "text": [
            "Immagine 188\n",
            "\t File: /content/drive/My Drive/universita/progetto ml/non_pub/2014-01-08_10-51-40_UTC.json\n"
          ],
          "name": "stdout"
        },
        {
          "output_type": "stream",
          "text": [
            "I0228 12:45:35.388114 140220390033280 yolo_model.py:59] time: 0.2362356185913086\n"
          ],
          "name": "stderr"
        },
        {
          "output_type": "stream",
          "text": [
            "\tperson, 0.9987820386886597, [0.32017982 0.08846605 0.9975915  1.        ]\n",
            "\tperson, 0.9987474679946899, [0.37069145 0.35472816 0.5253968  0.6912294 ]\n",
            "Iter: 0. Controllo persona: \n",
            "Iter: 0. Persona trovata: \n",
            "Score: 0.99878204\n",
            "Iter: 0. Controllo borsa: \n",
            "Iter: 0. Controllo orologio: \n",
            "Iter: 1. Controllo persona: \n",
            "Iter: 1. Controllo borsa: \n",
            "Iter: 1. Controllo orologio: \n",
            "Immagine 189\n",
            "\t File: /content/drive/My Drive/universita/progetto ml/non_pub/2014-01-09_13-03-27_UTC.json\n"
          ],
          "name": "stdout"
        },
        {
          "output_type": "stream",
          "text": [
            "I0228 12:45:37.911247 140220390033280 yolo_model.py:59] time: 0.23341655731201172\n"
          ],
          "name": "stderr"
        },
        {
          "output_type": "stream",
          "text": [
            "Immagine 190\n",
            "\t File: /content/drive/My Drive/universita/progetto ml/non_pub/2014-01-10_21-32-16_UTC.json\n"
          ],
          "name": "stdout"
        },
        {
          "output_type": "stream",
          "text": [
            "I0228 12:45:42.812708 140220390033280 yolo_model.py:59] time: 0.23925495147705078\n"
          ],
          "name": "stderr"
        },
        {
          "output_type": "stream",
          "text": [
            "\tperson, 0.9903810620307922, [0.6100057  0.15332226 0.82964855 0.41020167]\n",
            "\tperson, 0.9409380555152893, [0.34955546 0.         0.3910158  0.08920406]\n",
            "\tperson, 0.9253466129302979, [0.3899328  0.         0.43497193 0.09155776]\n",
            "\tperson, 0.8958039879798889, [0.45356277 0.         0.4996185  0.09447747]\n",
            "\tperson, 0.7695705890655518, [0.7261104  0.00326832 0.86644894 0.21415019]\n",
            "Iter: 0. Controllo persona: \n",
            "Iter: 0. Persona trovata: \n",
            "Score: 0.99038106\n",
            "Iter: 0. Controllo borsa: \n",
            "Iter: 0. Controllo orologio: \n",
            "Iter: 1. Controllo persona: \n",
            "Iter: 1. Controllo borsa: \n",
            "Iter: 1. Controllo orologio: \n",
            "Iter: 2. Controllo persona: \n",
            "Iter: 2. Controllo borsa: \n",
            "Iter: 2. Controllo orologio: \n",
            "Iter: 3. Controllo persona: \n",
            "Iter: 3. Controllo borsa: \n",
            "Iter: 3. Controllo orologio: \n",
            "Iter: 4. Controllo persona: \n",
            "Iter: 4. Controllo borsa: \n",
            "Iter: 4. Controllo orologio: \n",
            "Immagine 191\n",
            "\t File: /content/drive/My Drive/universita/progetto ml/non_pub/2014-01-09_23-32-53_UTC.json\n"
          ],
          "name": "stdout"
        },
        {
          "output_type": "stream",
          "text": [
            "I0228 12:45:45.115527 140220390033280 yolo_model.py:59] time: 0.2395944595336914\n"
          ],
          "name": "stderr"
        },
        {
          "output_type": "stream",
          "text": [
            "\tperson, 0.9998915195465088, [0.0932155  0.04048178 0.9429115  0.97734964]\n",
            "\ttie, 0.9907503724098206, [0.43942848 0.58975875 0.5277038  0.89636827]\n",
            "Iter: 0. Controllo persona: \n",
            "Iter: 0. Persona trovata: \n",
            "Score: 0.9998915\n",
            "Iter: 0. Controllo borsa: \n",
            "Iter: 0. Controllo orologio: \n",
            "Iter: 1. Controllo persona: \n",
            "Iter: 1. Controllo borsa: \n",
            "Iter: 1. Controllo orologio: \n",
            "Immagine 192\n",
            "\t File: /content/drive/My Drive/universita/progetto ml/non_pub/2014-01-11_15-04-21_UTC.json\n"
          ],
          "name": "stdout"
        },
        {
          "output_type": "stream",
          "text": [
            "I0228 12:45:49.273064 140220390033280 yolo_model.py:59] time: 0.23933768272399902\n"
          ],
          "name": "stderr"
        },
        {
          "output_type": "stream",
          "text": [
            "\tperson, 0.9996366500854492, [0.445966   0.02019161 0.67955613 1.        ]\n",
            "\tperson, 0.9956080317497253, [0.26426923 0.0455167  0.47784317 0.9482262 ]\n",
            "\tcar, 0.9948084354400635, [0.1048175  0.19943433 0.275302   0.39093864]\n",
            "\tcar, 0.9923768639564514, [0.6900859  0.16884668 0.7522949  0.22601436]\n",
            "\tcar, 0.9843122363090515, [0.566584   0.14893521 0.6939473  0.2622865 ]\n",
            "\tperson, 0.9397348165512085, [0.18218872 0.1580915  0.22448778 0.23984335]\n",
            "\tcar, 0.9080638885498047, [0.7468397  0.16679715 0.779633   0.18984832]\n",
            "\tperson, 0.9015541076660156, [0.15179187 0.16871618 0.1878308  0.2363184 ]\n",
            "\tcar, 0.8026958703994751, [0.8360438  0.16760865 0.91906303 0.24097964]\n",
            "\tcar, 0.6710524559020996, [0.82552886 0.16489252 0.85634804 0.18873075]\n",
            "\tcar, 0.6559407114982605, [0.8542142  0.23633483 0.9320278  0.6472956 ]\n",
            "\tcar, 0.5340515375137329, [0.8514614  0.20590627 0.9274106  0.3731985 ]\n",
            "Iter: 0. Controllo persona: \n",
            "Iter: 0. Persona trovata: \n",
            "Score: 0.99963665\n",
            "Iter: 0. Controllo borsa: \n",
            "Iter: 0. Controllo orologio: \n",
            "Iter: 1. Controllo persona: \n",
            "Iter: 1. Controllo borsa: \n",
            "Iter: 1. Controllo orologio: \n",
            "Iter: 2. Controllo persona: \n",
            "Iter: 2. Controllo borsa: \n",
            "Iter: 2. Controllo orologio: \n",
            "Iter: 3. Controllo persona: \n",
            "Iter: 3. Controllo borsa: \n",
            "Iter: 3. Controllo orologio: \n",
            "Iter: 4. Controllo persona: \n",
            "Iter: 4. Controllo borsa: \n",
            "Iter: 4. Controllo orologio: \n",
            "Iter: 5. Controllo persona: \n",
            "Iter: 5. Controllo borsa: \n",
            "Iter: 5. Controllo orologio: \n",
            "Iter: 6. Controllo persona: \n",
            "Iter: 6. Controllo borsa: \n",
            "Iter: 6. Controllo orologio: \n",
            "Iter: 7. Controllo persona: \n",
            "Iter: 7. Controllo borsa: \n",
            "Iter: 7. Controllo orologio: \n",
            "Iter: 8. Controllo persona: \n",
            "Iter: 8. Controllo borsa: \n",
            "Iter: 8. Controllo orologio: \n",
            "Iter: 9. Controllo persona: \n",
            "Iter: 9. Controllo borsa: \n",
            "Iter: 9. Controllo orologio: \n",
            "Iter: 10. Controllo persona: \n",
            "Iter: 10. Controllo borsa: \n",
            "Iter: 10. Controllo orologio: \n",
            "Iter: 11. Controllo persona: \n",
            "Iter: 11. Controllo borsa: \n",
            "Iter: 11. Controllo orologio: \n",
            "Immagine 193\n",
            "\t File: /content/drive/My Drive/universita/progetto ml/non_pub/2014-01-12_00-55-35_UTC.json\n"
          ],
          "name": "stdout"
        },
        {
          "output_type": "stream",
          "text": [
            "I0228 12:45:51.902973 140220390033280 yolo_model.py:59] time: 0.24526524543762207\n"
          ],
          "name": "stderr"
        },
        {
          "output_type": "stream",
          "text": [
            "\tperson, 0.9972869753837585, [0.0506762  0.23079622 0.34120795 0.62866944]\n",
            "\tperson, 0.9961811900138855, [0.5338965  0.2710554  0.67124397 0.5995933 ]\n",
            "\tperson, 0.9936146140098572, [0.32791233 0.28125548 0.5602046  0.6930771 ]\n",
            "\tperson, 0.9926578402519226, [0.25274378 0.48519754 0.5879923  0.87341833]\n",
            "\tperson, 0.9907350540161133, [0.62647533 0.15562284 0.82003736 0.5016604 ]\n",
            "\tperson, 0.990679144859314, [0.6470262  0.45523262 0.9757798  0.87712026]\n",
            "\tperson, 0.9904465675354004, [0.72876203 0.25507396 1.         0.6032036 ]\n",
            "\tperson, 0.9900764226913452, [0.         0.49387878 0.3679188  0.87188476]\n",
            "\tperson, 0.9896863698959351, [0.51517606 0.46981737 0.7725569  0.86538565]\n",
            "\tperson, 0.9225289225578308, [0.2279416  0.17440511 0.3610126  0.42514634]\n",
            "\tchair, 0.5975823998451233, [0.8791822 0.6362828 0.9928764 0.8785393]\n",
            "Iter: 0. Controllo persona: \n",
            "Iter: 0. Persona trovata: \n",
            "Score: 0.997287\n",
            "Iter: 0. Controllo borsa: \n",
            "Iter: 0. Controllo orologio: \n",
            "Iter: 1. Controllo persona: \n",
            "Iter: 1. Controllo borsa: \n",
            "Iter: 1. Controllo orologio: \n",
            "Iter: 2. Controllo persona: \n",
            "Iter: 2. Controllo borsa: \n",
            "Iter: 2. Controllo orologio: \n",
            "Iter: 3. Controllo persona: \n",
            "Iter: 3. Controllo borsa: \n",
            "Iter: 3. Controllo orologio: \n",
            "Iter: 4. Controllo persona: \n",
            "Iter: 4. Controllo borsa: \n",
            "Iter: 4. Controllo orologio: \n",
            "Iter: 5. Controllo persona: \n",
            "Iter: 5. Controllo borsa: \n",
            "Iter: 5. Controllo orologio: \n",
            "Iter: 6. Controllo persona: \n",
            "Iter: 6. Controllo borsa: \n",
            "Iter: 6. Controllo orologio: \n",
            "Iter: 7. Controllo persona: \n",
            "Iter: 7. Controllo borsa: \n",
            "Iter: 7. Controllo orologio: \n",
            "Iter: 8. Controllo persona: \n",
            "Iter: 8. Controllo borsa: \n",
            "Iter: 8. Controllo orologio: \n",
            "Iter: 9. Controllo persona: \n",
            "Iter: 9. Controllo borsa: \n",
            "Iter: 9. Controllo orologio: \n",
            "Iter: 10. Controllo persona: \n",
            "Iter: 10. Controllo borsa: \n",
            "Iter: 10. Controllo orologio: \n",
            "Immagine 194\n",
            "\t File: /content/drive/My Drive/universita/progetto ml/non_pub/2014-01-12_01-36-00_UTC.json\n"
          ],
          "name": "stdout"
        },
        {
          "output_type": "stream",
          "text": [
            "I0228 12:45:57.645654 140220390033280 yolo_model.py:59] time: 0.25349998474121094\n"
          ],
          "name": "stderr"
        },
        {
          "output_type": "stream",
          "text": [
            "\tperson, 0.9992488026618958, [0.3229474  0.22834796 0.71833324 0.82573885]\n",
            "\tperson, 0.9971172213554382, [0.         0.1776351  0.36492395 0.8773831 ]\n",
            "\tperson, 0.9939316511154175, [0.6485087  0.2483722  1.         0.85033536]\n",
            "Iter: 0. Controllo persona: \n",
            "Iter: 0. Persona trovata: \n",
            "Score: 0.9992488\n",
            "Iter: 0. Controllo borsa: \n",
            "Iter: 0. Controllo orologio: \n",
            "Iter: 1. Controllo persona: \n",
            "Iter: 1. Controllo borsa: \n",
            "Iter: 1. Controllo orologio: \n",
            "Iter: 2. Controllo persona: \n",
            "Iter: 2. Controllo borsa: \n",
            "Iter: 2. Controllo orologio: \n",
            "Immagine 195\n",
            "\t File: /content/drive/My Drive/universita/progetto ml/non_pub/2014-01-12_14-23-49_UTC.json\n"
          ],
          "name": "stdout"
        },
        {
          "output_type": "stream",
          "text": [
            "I0228 12:46:02.376240 140220390033280 yolo_model.py:59] time: 0.23770833015441895\n"
          ],
          "name": "stderr"
        },
        {
          "output_type": "stream",
          "text": [
            "\tperson, 0.9959667325019836, [0.00102493 0.11150372 0.516785   1.        ]\n",
            "\tperson, 0.9923593401908875, [0.41360974 0.08030856 1.         1.        ]\n",
            "Iter: 0. Controllo persona: \n",
            "Iter: 0. Persona trovata: \n",
            "Score: 0.99596673\n",
            "Iter: 0. Controllo borsa: \n",
            "Iter: 0. Controllo orologio: \n",
            "Iter: 1. Controllo persona: \n",
            "Iter: 1. Controllo borsa: \n",
            "Iter: 1. Controllo orologio: \n",
            "Immagine 196\n",
            "\t File: /content/drive/My Drive/universita/progetto ml/non_pub/2014-01-12_14-27-42_UTC.json\n"
          ],
          "name": "stdout"
        },
        {
          "output_type": "stream",
          "text": [
            "I0228 12:46:06.434072 140220390033280 yolo_model.py:59] time: 0.2674863338470459\n"
          ],
          "name": "stderr"
        },
        {
          "output_type": "stream",
          "text": [
            "\tperson, 0.9977599382400513, [0.         0.13036707 1.         0.99450064]\n",
            "Iter: 0. Controllo persona: \n",
            "Iter: 0. Persona trovata: \n",
            "Score: 0.99775994\n",
            "Iter: 0. Controllo borsa: \n",
            "Iter: 0. Controllo orologio: \n",
            "Immagine 197\n",
            "\t File: /content/drive/My Drive/universita/progetto ml/non_pub/2014-01-12_21-49-56_UTC.json\n"
          ],
          "name": "stdout"
        },
        {
          "output_type": "stream",
          "text": [
            "I0228 12:46:09.434601 140220390033280 yolo_model.py:59] time: 0.2434232234954834\n"
          ],
          "name": "stderr"
        },
        {
          "output_type": "stream",
          "text": [
            "\tperson, 0.9990933537483215, [0.22732481 0.03744167 0.67075837 0.96689373]\n",
            "Iter: 0. Controllo persona: \n",
            "Iter: 0. Persona trovata: \n",
            "Score: 0.99909335\n",
            "Iter: 0. Controllo borsa: \n",
            "Iter: 0. Controllo orologio: \n",
            "Immagine 198\n",
            "\t File: /content/drive/My Drive/universita/progetto ml/non_pub/2014-01-13_21-48-59_UTC.json\n"
          ],
          "name": "stdout"
        },
        {
          "output_type": "stream",
          "text": [
            "I0228 12:46:11.311356 140220390033280 yolo_model.py:59] time: 0.22986197471618652\n"
          ],
          "name": "stderr"
        },
        {
          "output_type": "stream",
          "text": [
            "\tperson, 0.9988062381744385, [0.24433362 0.0390963  0.4608261  1.        ]\n",
            "\tperson, 0.998635470867157, [0.42820522 0.09202942 0.63055897 0.9488262 ]\n",
            "\tperson, 0.9929568767547607, [0.54921144 0.04609299 0.80270153 0.97407055]\n",
            "\tperson, 0.9443662166595459, [0.16134526 0.03510103 0.28625393 0.93860877]\n",
            "\tperson, 0.9397300481796265, [0.7414501  0.12501031 0.8620285  0.76516086]\n",
            "Iter: 0. Controllo persona: \n",
            "Iter: 0. Persona trovata: \n",
            "Score: 0.99880624\n",
            "Iter: 0. Controllo borsa: \n",
            "Iter: 0. Controllo orologio: \n",
            "Iter: 1. Controllo persona: \n",
            "Iter: 1. Controllo borsa: \n",
            "Iter: 1. Controllo orologio: \n",
            "Iter: 2. Controllo persona: \n",
            "Iter: 2. Controllo borsa: \n",
            "Iter: 2. Controllo orologio: \n",
            "Iter: 3. Controllo persona: \n",
            "Iter: 3. Controllo borsa: \n",
            "Iter: 3. Controllo orologio: \n",
            "Iter: 4. Controllo persona: \n",
            "Iter: 4. Controllo borsa: \n",
            "Iter: 4. Controllo orologio: \n",
            "Immagine 199\n",
            "\t File: /content/drive/My Drive/universita/progetto ml/non_pub/2014-01-15_20-40-54_UTC.json\n"
          ],
          "name": "stdout"
        },
        {
          "output_type": "stream",
          "text": [
            "I0228 12:46:15.860528 140220390033280 yolo_model.py:59] time: 0.2481527328491211\n"
          ],
          "name": "stderr"
        },
        {
          "output_type": "stream",
          "text": [
            "File scritto in /content/drive/My Drive/universita/progetto ml/\n"
          ],
          "name": "stdout"
        }
      ]
    },
    {
      "cell_type": "markdown",
      "metadata": {
        "id": "c6ezH0GDBe8l",
        "colab_type": "text"
      },
      "source": [
        "\n",
        "# Classificatore completo\n",
        "Classifica un post di instagram dato in input\n",
        "\n",
        "Link al post di instagram:"
      ]
    },
    {
      "cell_type": "code",
      "metadata": {
        "id": "DKqARrk4Bx0v",
        "colab_type": "code",
        "colab": {}
      },
      "source": [
        "link = \"https://www.instagram.com/p/B4w3mo_oRIf/\""
      ],
      "execution_count": 0,
      "outputs": []
    },
    {
      "cell_type": "code",
      "metadata": {
        "id": "I4FdkDdnBkcR",
        "colab_type": "code",
        "outputId": "1df2d327-8055-4073-fbf2-9091063b8b9f",
        "colab": {
          "base_uri": "https://localhost:8080/",
          "height": 326
        }
      },
      "source": [
        "import instaloader\n",
        "from instaloader import Post\n",
        "import urllib.request\n",
        "import pickle\n",
        "import numpy as np\n",
        "\n",
        "L = instaloader.Instaloader()\n",
        "shortcode = link.split(\"/p/\")[1]\n",
        "if \"/\" in shortcode:\n",
        "  shortcode = shortcode.split(\"/\")[0]\n",
        "\n",
        "post = Post.from_shortcode(L.context,shortcode)\n",
        "name=\"test_\"+shortcode\n",
        "urllib.request.urlretrieve(post.url, name+\".jpg\")\n",
        "instaloader.save_structure_to_file(post, name+\".json\")\n",
        "\n",
        "vet = generatore.generaSingoloVettore(name+\".jpg\")\n",
        "filename = 'finalized_model.sav'\n",
        "loaded_model = pickle.load(open(filename, 'rb'))\n",
        "#result = loaded_model.score(X_test, y_test)\n",
        "#print(result)\n",
        "y=loaded_model.predict(np.reshape(np.array(vet),(1, -1)))\n",
        "if y==0.:\n",
        "  print(\"PUBBLICITARIO\")\n",
        "else:\n",
        "  print(\"NON PUBBLICITARIO\")\n"
      ],
      "execution_count": 0,
      "outputs": [
        {
          "output_type": "stream",
          "text": [
            "\t File: test_B4w3mo_oRIf.json\n"
          ],
          "name": "stdout"
        },
        {
          "output_type": "stream",
          "text": [
            "I0306 16:20:11.885532 139820141197184 yolo_model.py:72] time: 0.20812511444091797\n"
          ],
          "name": "stderr"
        },
        {
          "output_type": "stream",
          "text": [
            "\tperson, 0.9919697046279907, [0.16176334 0.31398118 0.5819495  1.        ]\n",
            "\tcell phone, 0.9552450180053711, [0.38951874 0.36312172 0.47208363 0.46887776]\n",
            "\ttoilet, 0.73255455493927, [0.21125177 0.7630384  0.28339767 0.9623383 ]\n",
            "Iter: 0. Controllo persona: \n",
            "Iter: 0. Persona trovata: \n",
            "Score: 0.9919697\n",
            "Iter: 0. Controllo borsa: \n",
            "Iter: 0. Controllo orologio: \n",
            "Iter: 1. Controllo persona: \n",
            "Iter: 1. Controllo borsa: \n",
            "Iter: 1. Controllo orologio: \n",
            "Iter: 2. Controllo persona: \n",
            "Iter: 2. Controllo borsa: \n",
            "Iter: 2. Controllo orologio: \n",
            "NON PUBBLICITARIO\n"
          ],
          "name": "stdout"
        }
      ]
    }
  ]
}